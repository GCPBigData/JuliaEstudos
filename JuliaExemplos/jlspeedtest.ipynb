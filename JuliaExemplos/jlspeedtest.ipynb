{
 "cells": [
  {
   "cell_type": "code",
   "execution_count": 47,
   "metadata": {},
   "outputs": [
    {
     "data": {
      "text/plain": [
       "LinearRegression (generic function with 1 method)"
      ]
     },
     "execution_count": 47,
     "metadata": {},
     "output_type": "execute_result"
    }
   ],
   "source": [
    "function LinearRegression(x,y)\n",
    "    # a = ((∑y)(∑x^2)-(∑x)(∑xy)) / (n(∑x^2) - (∑x)^2)\n",
    "    # b = (x(∑xy) - (∑x)(∑y)) / n(∑x^2) - (∑x)^2\n",
    "    if length(x) != length(y)\n",
    "        throw(ArgumentError(\"The array shape does not match!\"))\n",
    "    end\n",
    "    # Get our Summations:\n",
    "    Σx = sum(x)\n",
    "    Σy = sum(y)\n",
    "    # dot x and y\n",
    "    xy = x .* y\n",
    "    # ∑dot x and y\n",
    "    Σxy = sum(xy)\n",
    "    # dotsquare x\n",
    "    x2 = x .^ 2\n",
    "    # ∑ dotsquare x\n",
    "    Σx2 = sum(x2)\n",
    "    # n = sample size\n",
    "    n = length(x)\n",
    "    # Calculate a\n",
    "    a = (((Σy) * (Σx2)) - ((Σx * (Σxy)))) / ((n * (Σx2))-(Σx^2))\n",
    "    # Calculate b\n",
    "    b = ((n*(Σxy)) - (Σx * Σy)) / ((n * (Σx2)) - (Σx ^ 2))\n",
    "    # The part that is super struct:\n",
    "    predict(xt) = (xt = [i = a + (b * i) for i in xt])\n",
    "    (test)->(a;b;predict)\n",
    "end"
   ]
  },
  {
   "cell_type": "code",
   "execution_count": 48,
   "metadata": {},
   "outputs": [
    {
     "data": {
      "text/plain": [
       "RCLinearRegression (generic function with 1 method)"
      ]
     },
     "execution_count": 48,
     "metadata": {},
     "output_type": "execute_result"
    }
   ],
   "source": [
    "function RCLinearRegression(x,y)\n",
    "    # a = ((∑y)(∑x^2)-(∑x)(∑xy)) / (n(∑x^2) - (∑x)^2)\n",
    "    # b = (x(∑xy) - (∑x)(∑y)) / n(∑x^2) - (∑x)^2\n",
    "    if length(x) != length(y)\n",
    "        throw(ArgumentError(\"The array shape does not match!\"))\n",
    "    end\n",
    "    # Get our Summations:\n",
    "    Σx = sum(x)\n",
    "    Σy = sum(y)\n",
    "    # dot x and y\n",
    "    xy = x .* y\n",
    "    # ∑dot x and y\n",
    "    Σxy = sum(xy)\n",
    "    # dotsquare x\n",
    "    x2 = x .^ 2\n",
    "    # ∑ dotsquare x\n",
    "    Σx2 = sum(x2)\n",
    "    # n = sample size\n",
    "    n = length(x)\n",
    "    # Calculate a\n",
    "    a = (((Σy) * (Σx2)) - ((Σx * (Σxy)))) / ((n * (Σx2))-(Σx^2))\n",
    "    # Calculate b\n",
    "    b = ((n*(Σxy)) - (Σx * Σy)) / ((n * (Σx2)) - (Σx ^ 2))\n",
    "    # The part that is super struct:\n",
    "    predict(xt,position,ay,be) = recursify(xt,position,ay,be)\n",
    "    get_a() = a\n",
    "    get_b() = b\n",
    "    (test)->(a;b;predict;get_b;get_a)\n",
    "end"
   ]
  },
  {
   "cell_type": "code",
   "execution_count": 49,
   "metadata": {},
   "outputs": [
    {
     "data": {
      "text/plain": [
       "recursify (generic function with 1 method)"
      ]
     },
     "execution_count": 49,
     "metadata": {},
     "output_type": "execute_result"
    }
   ],
   "source": [
    "function recursify(xt,position,a,b)\n",
    "    if position < length(xt)\n",
    "        xt[position] = a + (b * xt[position])\n",
    "        position += 1\n",
    "        recursify(xt,position)\n",
    "    else\n",
    "        return(xt)\n",
    "    end\n",
    "    \n",
    "end"
   ]
  },
  {
   "cell_type": "code",
   "execution_count": 50,
   "metadata": {},
   "outputs": [
    {
     "data": {
      "text/plain": [
       "#50 (generic function with 1 method)"
      ]
     },
     "execution_count": 50,
     "metadata": {},
     "output_type": "execute_result"
    }
   ],
   "source": [
    "calc = RCLinearRegression([5,10,15],[5,10,15])"
   ]
  },
  {
   "cell_type": "code",
   "execution_count": 51,
   "metadata": {},
   "outputs": [
    {
     "ename": "MethodError",
     "evalue": "MethodError: no method matching recursify(::Array{Int64,1}, ::Int64)\nClosest candidates are:\n  recursify(::Any, ::Any, !Matched::Any, !Matched::Any) at In[49]:2",
     "output_type": "error",
     "traceback": [
      "MethodError: no method matching recursify(::Array{Int64,1}, ::Int64)\nClosest candidates are:\n  recursify(::Any, ::Any, !Matched::Any, !Matched::Any) at In[49]:2",
      "",
      "Stacktrace:",
      " [1] recursify(::Array{Int64,1}, ::Int64, ::Float64, ::Float64) at ./In[49]:5",
      " [2] (::getfield(Main, Symbol(\"#predict#51\")))(::Array{Int64,1}, ::Int64, ::Float64, ::Float64) at ./In[48]:25",
      " [3] top-level scope at In[51]:3"
     ]
    }
   ],
   "source": [
    "a = calc.get_a()\n",
    "b = calc.get_b()\n",
    "calc.predict([10,20,30],1,a,b)"
   ]
  },
  {
   "cell_type": "code",
   "execution_count": 52,
   "metadata": {},
   "outputs": [
    {
     "data": {
      "text/plain": [
       "0.0"
      ]
     },
     "execution_count": 52,
     "metadata": {},
     "output_type": "execute_result"
    }
   ],
   "source": [
    "calc.get_a()"
   ]
  },
  {
   "cell_type": "code",
   "execution_count": 53,
   "metadata": {},
   "outputs": [
    {
     "data": {
      "text/plain": [
       "1.0"
      ]
     },
     "execution_count": 53,
     "metadata": {},
     "output_type": "execute_result"
    }
   ],
   "source": [
    "calc.get_b()"
   ]
  },
  {
   "cell_type": "code",
   "execution_count": 55,
   "metadata": {},
   "outputs": [],
   "source": [
    "using CSV\n",
    "using DataFrames"
   ]
  },
  {
   "cell_type": "code",
   "execution_count": 70,
   "metadata": {},
   "outputs": [
    {
     "data": {
      "text/html": [
       "<table class=\"data-frame\"><thead><tr><th></th><th>X</th><th>Y</th></tr><tr><th></th><th>Float64</th><th>Float64</th></tr></thead><tbody><p>10,000,000 rows × 2 columns</p><tr><th>1</th><td>0.0340181</td><td>-0.170801</td></tr><tr><th>2</th><td>0.929581</td><td>-1.09391</td></tr><tr><th>3</th><td>2.17396</td><td>0.0456372</td></tr><tr><th>4</th><td>1.10463</td><td>0.552637</td></tr><tr><th>5</th><td>-0.159942</td><td>-2.01233</td></tr><tr><th>6</th><td>-1.0223</td><td>-0.878286</td></tr><tr><th>7</th><td>1.61433</td><td>-1.34478</td></tr><tr><th>8</th><td>0.46795</td><td>0.42404</td></tr><tr><th>9</th><td>-0.531166</td><td>-0.618704</td></tr><tr><th>10</th><td>1.50073</td><td>0.615128</td></tr><tr><th>11</th><td>-0.402542</td><td>-0.425086</td></tr><tr><th>12</th><td>1.15449</td><td>0.600352</td></tr><tr><th>13</th><td>0.137837</td><td>-0.0674021</td></tr><tr><th>14</th><td>-0.807183</td><td>0.432182</td></tr><tr><th>15</th><td>-1.5116</td><td>-0.983085</td></tr><tr><th>16</th><td>-1.04542</td><td>-0.243167</td></tr><tr><th>17</th><td>-0.395443</td><td>1.46988</td></tr><tr><th>18</th><td>0.0887799</td><td>0.044532</td></tr><tr><th>19</th><td>0.155352</td><td>0.111971</td></tr><tr><th>20</th><td>-0.533069</td><td>0.540631</td></tr><tr><th>21</th><td>0.343372</td><td>0.447721</td></tr><tr><th>22</th><td>0.289967</td><td>-0.429668</td></tr><tr><th>23</th><td>0.339728</td><td>0.0758211</td></tr><tr><th>24</th><td>-0.538713</td><td>1.63886</td></tr><tr><th>25</th><td>-0.0697116</td><td>0.101018</td></tr><tr><th>26</th><td>-0.910104</td><td>-1.38412</td></tr><tr><th>27</th><td>1.41152</td><td>0.00656986</td></tr><tr><th>28</th><td>-0.559786</td><td>0.27602</td></tr><tr><th>29</th><td>1.64579</td><td>0.803571</td></tr><tr><th>30</th><td>-0.440138</td><td>1.54265</td></tr><tr><th>&vellip;</th><td>&vellip;</td><td>&vellip;</td></tr></tbody></table>"
      ],
      "text/latex": [
       "\\begin{tabular}{r|cc}\n",
       "\t& X & Y\\\\\n",
       "\t\\hline\n",
       "\t& Float64 & Float64\\\\\n",
       "\t\\hline\n",
       "\t1 & 0.0340181 & -0.170801 \\\\\n",
       "\t2 & 0.929581 & -1.09391 \\\\\n",
       "\t3 & 2.17396 & 0.0456372 \\\\\n",
       "\t4 & 1.10463 & 0.552637 \\\\\n",
       "\t5 & -0.159942 & -2.01233 \\\\\n",
       "\t6 & -1.0223 & -0.878286 \\\\\n",
       "\t7 & 1.61433 & -1.34478 \\\\\n",
       "\t8 & 0.46795 & 0.42404 \\\\\n",
       "\t9 & -0.531166 & -0.618704 \\\\\n",
       "\t10 & 1.50073 & 0.615128 \\\\\n",
       "\t11 & -0.402542 & -0.425086 \\\\\n",
       "\t12 & 1.15449 & 0.600352 \\\\\n",
       "\t13 & 0.137837 & -0.0674021 \\\\\n",
       "\t14 & -0.807183 & 0.432182 \\\\\n",
       "\t15 & -1.5116 & -0.983085 \\\\\n",
       "\t16 & -1.04542 & -0.243167 \\\\\n",
       "\t17 & -0.395443 & 1.46988 \\\\\n",
       "\t18 & 0.0887799 & 0.044532 \\\\\n",
       "\t19 & 0.155352 & 0.111971 \\\\\n",
       "\t20 & -0.533069 & 0.540631 \\\\\n",
       "\t21 & 0.343372 & 0.447721 \\\\\n",
       "\t22 & 0.289967 & -0.429668 \\\\\n",
       "\t23 & 0.339728 & 0.0758211 \\\\\n",
       "\t24 & -0.538713 & 1.63886 \\\\\n",
       "\t25 & -0.0697116 & 0.101018 \\\\\n",
       "\t26 & -0.910104 & -1.38412 \\\\\n",
       "\t27 & 1.41152 & 0.00656986 \\\\\n",
       "\t28 & -0.559786 & 0.27602 \\\\\n",
       "\t29 & 1.64579 & 0.803571 \\\\\n",
       "\t30 & -0.440138 & 1.54265 \\\\\n",
       "\t$\\dots$ & $\\dots$ & $\\dots$ \\\\\n",
       "\\end{tabular}\n"
      ],
      "text/plain": [
       "10000000×2 DataFrame\n",
       "│ Row      │ X          │ Y         │\n",
       "│          │ \u001b[90mFloat64\u001b[39m    │ \u001b[90mFloat64\u001b[39m   │\n",
       "├──────────┼────────────┼───────────┤\n",
       "│ 1        │ 0.0340181  │ -0.170801 │\n",
       "│ 2        │ 0.929581   │ -1.09391  │\n",
       "│ 3        │ 2.17396    │ 0.0456372 │\n",
       "│ 4        │ 1.10463    │ 0.552637  │\n",
       "│ 5        │ -0.159942  │ -2.01233  │\n",
       "│ 6        │ -1.0223    │ -0.878286 │\n",
       "│ 7        │ 1.61433    │ -1.34478  │\n",
       "│ 8        │ 0.46795    │ 0.42404   │\n",
       "│ 9        │ -0.531166  │ -0.618704 │\n",
       "│ 10       │ 1.50073    │ 0.615128  │\n",
       "⋮\n",
       "│ 9999990  │ 1.35715    │ -1.63583  │\n",
       "│ 9999991  │ -0.137642  │ 0.167928  │\n",
       "│ 9999992  │ 0.120234   │ -0.520496 │\n",
       "│ 9999993  │ -0.674304  │ -1.01501  │\n",
       "│ 9999994  │ -0.609705  │ 1.49722   │\n",
       "│ 9999995  │ -1.78369   │ 1.58979   │\n",
       "│ 9999996  │ 2.7086     │ -2.39213  │\n",
       "│ 9999997  │ -0.314435  │ 1.79812   │\n",
       "│ 9999998  │ 0.375061   │ 1.64702   │\n",
       "│ 9999999  │ 0.00352786 │ 0.433624  │\n",
       "│ 10000000 │ -1.15646   │ -0.782503 │"
      ]
     },
     "execution_count": 70,
     "metadata": {},
     "output_type": "execute_result"
    }
   ],
   "source": [
    "df = DataFrame(:X => randn(10000000),:Y => randn(10000000))"
   ]
  },
  {
   "cell_type": "code",
   "execution_count": 71,
   "metadata": {},
   "outputs": [
    {
     "data": {
      "text/html": [
       "<table class=\"data-frame\"><thead><tr><th></th><th>X</th></tr><tr><th></th><th>Float64</th></tr></thead><tbody><p>10,000,000 rows × 1 columns</p><tr><th>1</th><td>-1.01618</td></tr><tr><th>2</th><td>-1.26021</td></tr><tr><th>3</th><td>-0.187418</td></tr><tr><th>4</th><td>0.36936</td></tr><tr><th>5</th><td>0.249911</td></tr><tr><th>6</th><td>-0.0603894</td></tr><tr><th>7</th><td>-1.6512</td></tr><tr><th>8</th><td>-0.328921</td></tr><tr><th>9</th><td>1.52105</td></tr><tr><th>10</th><td>1.64414</td></tr><tr><th>11</th><td>1.37069</td></tr><tr><th>12</th><td>1.14171</td></tr><tr><th>13</th><td>-0.0221588</td></tr><tr><th>14</th><td>-0.427682</td></tr><tr><th>15</th><td>-1.12189</td></tr><tr><th>16</th><td>2.65801</td></tr><tr><th>17</th><td>-0.446624</td></tr><tr><th>18</th><td>-0.230601</td></tr><tr><th>19</th><td>0.311864</td></tr><tr><th>20</th><td>0.840813</td></tr><tr><th>21</th><td>-1.192</td></tr><tr><th>22</th><td>-1.15116</td></tr><tr><th>23</th><td>1.6865</td></tr><tr><th>24</th><td>0.509286</td></tr><tr><th>25</th><td>-1.04694</td></tr><tr><th>26</th><td>-0.642265</td></tr><tr><th>27</th><td>1.04518</td></tr><tr><th>28</th><td>0.175494</td></tr><tr><th>29</th><td>1.73251</td></tr><tr><th>30</th><td>-0.267385</td></tr><tr><th>&vellip;</th><td>&vellip;</td></tr></tbody></table>"
      ],
      "text/latex": [
       "\\begin{tabular}{r|c}\n",
       "\t& X\\\\\n",
       "\t\\hline\n",
       "\t& Float64\\\\\n",
       "\t\\hline\n",
       "\t1 & -1.01618 \\\\\n",
       "\t2 & -1.26021 \\\\\n",
       "\t3 & -0.187418 \\\\\n",
       "\t4 & 0.36936 \\\\\n",
       "\t5 & 0.249911 \\\\\n",
       "\t6 & -0.0603894 \\\\\n",
       "\t7 & -1.6512 \\\\\n",
       "\t8 & -0.328921 \\\\\n",
       "\t9 & 1.52105 \\\\\n",
       "\t10 & 1.64414 \\\\\n",
       "\t11 & 1.37069 \\\\\n",
       "\t12 & 1.14171 \\\\\n",
       "\t13 & -0.0221588 \\\\\n",
       "\t14 & -0.427682 \\\\\n",
       "\t15 & -1.12189 \\\\\n",
       "\t16 & 2.65801 \\\\\n",
       "\t17 & -0.446624 \\\\\n",
       "\t18 & -0.230601 \\\\\n",
       "\t19 & 0.311864 \\\\\n",
       "\t20 & 0.840813 \\\\\n",
       "\t21 & -1.192 \\\\\n",
       "\t22 & -1.15116 \\\\\n",
       "\t23 & 1.6865 \\\\\n",
       "\t24 & 0.509286 \\\\\n",
       "\t25 & -1.04694 \\\\\n",
       "\t26 & -0.642265 \\\\\n",
       "\t27 & 1.04518 \\\\\n",
       "\t28 & 0.175494 \\\\\n",
       "\t29 & 1.73251 \\\\\n",
       "\t30 & -0.267385 \\\\\n",
       "\t$\\dots$ & $\\dots$ \\\\\n",
       "\\end{tabular}\n"
      ],
      "text/plain": [
       "10000000×1 DataFrame\n",
       "│ Row      │ X          │\n",
       "│          │ \u001b[90mFloat64\u001b[39m    │\n",
       "├──────────┼────────────┤\n",
       "│ 1        │ -1.01618   │\n",
       "│ 2        │ -1.26021   │\n",
       "│ 3        │ -0.187418  │\n",
       "│ 4        │ 0.36936    │\n",
       "│ 5        │ 0.249911   │\n",
       "│ 6        │ -0.0603894 │\n",
       "│ 7        │ -1.6512    │\n",
       "│ 8        │ -0.328921  │\n",
       "│ 9        │ 1.52105    │\n",
       "│ 10       │ 1.64414    │\n",
       "⋮\n",
       "│ 9999990  │ -0.665409  │\n",
       "│ 9999991  │ 2.17214    │\n",
       "│ 9999992  │ -0.185286  │\n",
       "│ 9999993  │ -1.5546    │\n",
       "│ 9999994  │ -0.463177  │\n",
       "│ 9999995  │ 0.463315   │\n",
       "│ 9999996  │ -0.0914522 │\n",
       "│ 9999997  │ 0.659086   │\n",
       "│ 9999998  │ 2.03477    │\n",
       "│ 9999999  │ 0.354308   │\n",
       "│ 10000000 │ 0.389628   │"
      ]
     },
     "execution_count": 71,
     "metadata": {},
     "output_type": "execute_result"
    }
   ],
   "source": [
    "testdf = DataFrame(:X => randn(10000000))"
   ]
  },
  {
   "cell_type": "code",
   "execution_count": 72,
   "metadata": {},
   "outputs": [
    {
     "data": {
      "text/plain": [
       "\"speedtest.csv\""
      ]
     },
     "execution_count": 72,
     "metadata": {},
     "output_type": "execute_result"
    }
   ],
   "source": [
    "CSV.write(\"speedtest.csv\",testdf)"
   ]
  },
  {
   "cell_type": "code",
   "execution_count": 73,
   "metadata": {},
   "outputs": [
    {
     "data": {
      "text/plain": [
       "\"speedtrain.csv\""
      ]
     },
     "execution_count": 73,
     "metadata": {},
     "output_type": "execute_result"
    }
   ],
   "source": [
    "CSV.write(\"speedtrain.csv\",df)"
   ]
  },
  {
   "cell_type": "code",
   "execution_count": 74,
   "metadata": {},
   "outputs": [
    {
     "name": "stderr",
     "output_type": "stream",
     "text": [
      "┌ Warning: `getindex(df::DataFrame, col_ind::ColumnIndex)` is deprecated, use `df[!, col_ind]` instead.\n",
      "│   caller = top-level scope at util.jl:156\n",
      "└ @ Core util.jl:156\n",
      "┌ Warning: `getindex(df::DataFrame, col_ind::ColumnIndex)` is deprecated, use `df[!, col_ind]` instead.\n",
      "│   caller = top-level scope at util.jl:156\n",
      "└ @ Core util.jl:156\n",
      "┌ Warning: `getindex(df::DataFrame, col_ind::ColumnIndex)` is deprecated, use `df[!, col_ind]` instead.\n",
      "│   caller = top-level scope at util.jl:156\n",
      "└ @ Core util.jl:156\n"
     ]
    },
    {
     "name": "stdout",
     "output_type": "stream",
     "text": [
      "  0.362333 seconds (615 allocations: 228.936 MiB, 51.08% gc time)\n"
     ]
    },
    {
     "data": {
      "text/plain": [
       "10000000-element Array{Float64,1}:\n",
       "  0.0006452215063312039 \n",
       "  0.0007257307425695239 \n",
       "  0.00037180925432239443\n",
       "  0.00018812492812266972\n",
       "  0.0002275320217730665 \n",
       "  0.000329901893168228  \n",
       "  0.0008547191371733195 \n",
       "  0.00041849192675475   \n",
       " -0.00019182474542347045\n",
       " -0.00023243140089096117\n",
       " -0.00014221880234496255\n",
       " -6.667683991688609e-5  \n",
       "  0.0003172893970224828 \n",
       "  ⋮                     \n",
       "  0.00051728792555612   \n",
       "  0.000529501651575311  \n",
       " -0.0004066230364729774 \n",
       "  0.0003711060410524574 \n",
       "  0.0008228505510034605 \n",
       "  0.0004627838127895181 \n",
       "  0.00015712877838218312\n",
       "  0.0003401496813540987 \n",
       "  9.2542742059262e-5    \n",
       " -0.00036130427801946103\n",
       "  0.0001930906147512076 \n",
       "  0.00018143833008427867"
      ]
     },
     "execution_count": 74,
     "metadata": {},
     "output_type": "execute_result"
    }
   ],
   "source": [
    "@time yhat = LinearRegression(df[:X],df[:Y]).predict(testdf[:X])"
   ]
  },
  {
   "cell_type": "code",
   "execution_count": null,
   "metadata": {},
   "outputs": [],
   "source": []
  }
 ],
 "metadata": {
  "kernelspec": {
   "display_name": "Julia 1.2.0",
   "language": "julia",
   "name": "julia-1.2"
  },
  "language_info": {
   "file_extension": ".jl",
   "mimetype": "application/julia",
   "name": "julia",
   "version": "1.2.0"
  }
 },
 "nbformat": 4,
 "nbformat_minor": 2
}
