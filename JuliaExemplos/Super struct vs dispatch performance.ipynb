{
 "cells": [
  {
   "cell_type": "code",
   "execution_count": 1,
   "metadata": {},
   "outputs": [
    {
     "name": "stderr",
     "output_type": "stream",
     "text": [
      "┌ Info: Recompiling stale cache file /home/emmett/.julia/compiled/v1.2/DataFrames/AR9oZ.ji for DataFrames [a93c6f00-e57d-5684-b7b6-d8193f3e46c0]\n",
      "└ @ Base loading.jl:1240\n",
      "┌ Info: Recompiling stale cache file /home/emmett/.julia/compiled/v1.2/CSV/HHBkp.ji for CSV [336ed68f-0bac-5ca0-87d4-7b16caf5d00b]\n",
      "└ @ Base loading.jl:1240\n"
     ]
    }
   ],
   "source": [
    "using DataFrames, CSV"
   ]
  },
  {
   "cell_type": "code",
   "execution_count": 2,
   "metadata": {},
   "outputs": [
    {
     "data": {
      "text/html": [
       "<table class=\"data-frame\"><thead><tr><th></th><th>Formatted Date</th><th>Summary</th><th>Precip Type</th><th>Temperature (C)</th><th>Apparent Temperature (C)</th></tr><tr><th></th><th>String</th><th>String</th><th>String</th><th>Float64</th><th>Float64</th></tr></thead><tbody><p>96,453 rows × 12 columns (omitted printing of 7 columns)</p><tr><th>1</th><td>2006-04-01 00:00:00.000 +0200</td><td>Partly Cloudy</td><td>rain</td><td>9.47222</td><td>7.38889</td></tr><tr><th>2</th><td>2006-04-01 01:00:00.000 +0200</td><td>Partly Cloudy</td><td>rain</td><td>9.35556</td><td>7.22778</td></tr><tr><th>3</th><td>2006-04-01 02:00:00.000 +0200</td><td>Mostly Cloudy</td><td>rain</td><td>9.37778</td><td>9.37778</td></tr><tr><th>4</th><td>2006-04-01 03:00:00.000 +0200</td><td>Partly Cloudy</td><td>rain</td><td>8.28889</td><td>5.94444</td></tr><tr><th>5</th><td>2006-04-01 04:00:00.000 +0200</td><td>Mostly Cloudy</td><td>rain</td><td>8.75556</td><td>6.97778</td></tr><tr><th>6</th><td>2006-04-01 05:00:00.000 +0200</td><td>Partly Cloudy</td><td>rain</td><td>9.22222</td><td>7.11111</td></tr><tr><th>7</th><td>2006-04-01 06:00:00.000 +0200</td><td>Partly Cloudy</td><td>rain</td><td>7.73333</td><td>5.52222</td></tr><tr><th>8</th><td>2006-04-01 07:00:00.000 +0200</td><td>Partly Cloudy</td><td>rain</td><td>8.77222</td><td>6.52778</td></tr><tr><th>9</th><td>2006-04-01 08:00:00.000 +0200</td><td>Partly Cloudy</td><td>rain</td><td>10.8222</td><td>10.8222</td></tr><tr><th>10</th><td>2006-04-01 09:00:00.000 +0200</td><td>Partly Cloudy</td><td>rain</td><td>13.7722</td><td>13.7722</td></tr><tr><th>11</th><td>2006-04-01 10:00:00.000 +0200</td><td>Partly Cloudy</td><td>rain</td><td>16.0167</td><td>16.0167</td></tr><tr><th>12</th><td>2006-04-01 11:00:00.000 +0200</td><td>Partly Cloudy</td><td>rain</td><td>17.1444</td><td>17.1444</td></tr><tr><th>13</th><td>2006-04-01 12:00:00.000 +0200</td><td>Partly Cloudy</td><td>rain</td><td>17.8</td><td>17.8</td></tr><tr><th>14</th><td>2006-04-01 13:00:00.000 +0200</td><td>Partly Cloudy</td><td>rain</td><td>17.3333</td><td>17.3333</td></tr><tr><th>15</th><td>2006-04-01 14:00:00.000 +0200</td><td>Partly Cloudy</td><td>rain</td><td>18.8778</td><td>18.8778</td></tr><tr><th>16</th><td>2006-04-01 15:00:00.000 +0200</td><td>Partly Cloudy</td><td>rain</td><td>18.9111</td><td>18.9111</td></tr><tr><th>17</th><td>2006-04-01 16:00:00.000 +0200</td><td>Partly Cloudy</td><td>rain</td><td>15.3889</td><td>15.3889</td></tr><tr><th>18</th><td>2006-04-01 17:00:00.000 +0200</td><td>Mostly Cloudy</td><td>rain</td><td>15.55</td><td>15.55</td></tr><tr><th>19</th><td>2006-04-01 18:00:00.000 +0200</td><td>Mostly Cloudy</td><td>rain</td><td>14.2556</td><td>14.2556</td></tr><tr><th>20</th><td>2006-04-01 19:00:00.000 +0200</td><td>Mostly Cloudy</td><td>rain</td><td>13.1444</td><td>13.1444</td></tr><tr><th>21</th><td>2006-04-01 20:00:00.000 +0200</td><td>Mostly Cloudy</td><td>rain</td><td>11.55</td><td>11.55</td></tr><tr><th>22</th><td>2006-04-01 21:00:00.000 +0200</td><td>Mostly Cloudy</td><td>rain</td><td>11.1833</td><td>11.1833</td></tr><tr><th>23</th><td>2006-04-01 22:00:00.000 +0200</td><td>Partly Cloudy</td><td>rain</td><td>10.1167</td><td>10.1167</td></tr><tr><th>24</th><td>2006-04-01 23:00:00.000 +0200</td><td>Mostly Cloudy</td><td>rain</td><td>10.2</td><td>10.2</td></tr><tr><th>25</th><td>2006-04-10 00:00:00.000 +0200</td><td>Partly Cloudy</td><td>rain</td><td>10.4222</td><td>10.4222</td></tr><tr><th>26</th><td>2006-04-10 01:00:00.000 +0200</td><td>Partly Cloudy</td><td>rain</td><td>9.91111</td><td>7.56667</td></tr><tr><th>27</th><td>2006-04-10 02:00:00.000 +0200</td><td>Mostly Cloudy</td><td>rain</td><td>11.1833</td><td>11.1833</td></tr><tr><th>28</th><td>2006-04-10 03:00:00.000 +0200</td><td>Partly Cloudy</td><td>rain</td><td>7.15556</td><td>5.04444</td></tr><tr><th>29</th><td>2006-04-10 04:00:00.000 +0200</td><td>Partly Cloudy</td><td>rain</td><td>6.11111</td><td>4.81667</td></tr><tr><th>30</th><td>2006-04-10 05:00:00.000 +0200</td><td>Partly Cloudy</td><td>rain</td><td>6.78889</td><td>4.27222</td></tr><tr><th>&vellip;</th><td>&vellip;</td><td>&vellip;</td><td>&vellip;</td><td>&vellip;</td><td>&vellip;</td></tr></tbody></table>"
      ],
      "text/latex": [
       "\\begin{tabular}{r|cccccc}\n",
       "\t& Formatted Date & Summary & Precip Type & Temperature (C) & Apparent Temperature (C) & \\\\\n",
       "\t\\hline\n",
       "\t& String & String & String & Float64 & Float64 & \\\\\n",
       "\t\\hline\n",
       "\t1 & 2006-04-01 00:00:00.000 +0200 & Partly Cloudy & rain & 9.47222 & 7.38889 & $\\dots$ \\\\\n",
       "\t2 & 2006-04-01 01:00:00.000 +0200 & Partly Cloudy & rain & 9.35556 & 7.22778 & $\\dots$ \\\\\n",
       "\t3 & 2006-04-01 02:00:00.000 +0200 & Mostly Cloudy & rain & 9.37778 & 9.37778 & $\\dots$ \\\\\n",
       "\t4 & 2006-04-01 03:00:00.000 +0200 & Partly Cloudy & rain & 8.28889 & 5.94444 & $\\dots$ \\\\\n",
       "\t5 & 2006-04-01 04:00:00.000 +0200 & Mostly Cloudy & rain & 8.75556 & 6.97778 & $\\dots$ \\\\\n",
       "\t6 & 2006-04-01 05:00:00.000 +0200 & Partly Cloudy & rain & 9.22222 & 7.11111 & $\\dots$ \\\\\n",
       "\t7 & 2006-04-01 06:00:00.000 +0200 & Partly Cloudy & rain & 7.73333 & 5.52222 & $\\dots$ \\\\\n",
       "\t8 & 2006-04-01 07:00:00.000 +0200 & Partly Cloudy & rain & 8.77222 & 6.52778 & $\\dots$ \\\\\n",
       "\t9 & 2006-04-01 08:00:00.000 +0200 & Partly Cloudy & rain & 10.8222 & 10.8222 & $\\dots$ \\\\\n",
       "\t10 & 2006-04-01 09:00:00.000 +0200 & Partly Cloudy & rain & 13.7722 & 13.7722 & $\\dots$ \\\\\n",
       "\t11 & 2006-04-01 10:00:00.000 +0200 & Partly Cloudy & rain & 16.0167 & 16.0167 & $\\dots$ \\\\\n",
       "\t12 & 2006-04-01 11:00:00.000 +0200 & Partly Cloudy & rain & 17.1444 & 17.1444 & $\\dots$ \\\\\n",
       "\t13 & 2006-04-01 12:00:00.000 +0200 & Partly Cloudy & rain & 17.8 & 17.8 & $\\dots$ \\\\\n",
       "\t14 & 2006-04-01 13:00:00.000 +0200 & Partly Cloudy & rain & 17.3333 & 17.3333 & $\\dots$ \\\\\n",
       "\t15 & 2006-04-01 14:00:00.000 +0200 & Partly Cloudy & rain & 18.8778 & 18.8778 & $\\dots$ \\\\\n",
       "\t16 & 2006-04-01 15:00:00.000 +0200 & Partly Cloudy & rain & 18.9111 & 18.9111 & $\\dots$ \\\\\n",
       "\t17 & 2006-04-01 16:00:00.000 +0200 & Partly Cloudy & rain & 15.3889 & 15.3889 & $\\dots$ \\\\\n",
       "\t18 & 2006-04-01 17:00:00.000 +0200 & Mostly Cloudy & rain & 15.55 & 15.55 & $\\dots$ \\\\\n",
       "\t19 & 2006-04-01 18:00:00.000 +0200 & Mostly Cloudy & rain & 14.2556 & 14.2556 & $\\dots$ \\\\\n",
       "\t20 & 2006-04-01 19:00:00.000 +0200 & Mostly Cloudy & rain & 13.1444 & 13.1444 & $\\dots$ \\\\\n",
       "\t21 & 2006-04-01 20:00:00.000 +0200 & Mostly Cloudy & rain & 11.55 & 11.55 & $\\dots$ \\\\\n",
       "\t22 & 2006-04-01 21:00:00.000 +0200 & Mostly Cloudy & rain & 11.1833 & 11.1833 & $\\dots$ \\\\\n",
       "\t23 & 2006-04-01 22:00:00.000 +0200 & Partly Cloudy & rain & 10.1167 & 10.1167 & $\\dots$ \\\\\n",
       "\t24 & 2006-04-01 23:00:00.000 +0200 & Mostly Cloudy & rain & 10.2 & 10.2 & $\\dots$ \\\\\n",
       "\t25 & 2006-04-10 00:00:00.000 +0200 & Partly Cloudy & rain & 10.4222 & 10.4222 & $\\dots$ \\\\\n",
       "\t26 & 2006-04-10 01:00:00.000 +0200 & Partly Cloudy & rain & 9.91111 & 7.56667 & $\\dots$ \\\\\n",
       "\t27 & 2006-04-10 02:00:00.000 +0200 & Mostly Cloudy & rain & 11.1833 & 11.1833 & $\\dots$ \\\\\n",
       "\t28 & 2006-04-10 03:00:00.000 +0200 & Partly Cloudy & rain & 7.15556 & 5.04444 & $\\dots$ \\\\\n",
       "\t29 & 2006-04-10 04:00:00.000 +0200 & Partly Cloudy & rain & 6.11111 & 4.81667 & $\\dots$ \\\\\n",
       "\t30 & 2006-04-10 05:00:00.000 +0200 & Partly Cloudy & rain & 6.78889 & 4.27222 & $\\dots$ \\\\\n",
       "\t$\\dots$ & $\\dots$ & $\\dots$ & $\\dots$ & $\\dots$ & $\\dots$ &  \\\\\n",
       "\\end{tabular}\n"
      ],
      "text/plain": [
       "96453×12 DataFrame. Omitted printing of 9 columns\n",
       "│ Row   │ Formatted Date                │ Summary       │ Precip Type │\n",
       "│       │ \u001b[90mString\u001b[39m                        │ \u001b[90mString\u001b[39m        │ \u001b[90mString\u001b[39m      │\n",
       "├───────┼───────────────────────────────┼───────────────┼─────────────┤\n",
       "│ 1     │ 2006-04-01 00:00:00.000 +0200 │ Partly Cloudy │ rain        │\n",
       "│ 2     │ 2006-04-01 01:00:00.000 +0200 │ Partly Cloudy │ rain        │\n",
       "│ 3     │ 2006-04-01 02:00:00.000 +0200 │ Mostly Cloudy │ rain        │\n",
       "│ 4     │ 2006-04-01 03:00:00.000 +0200 │ Partly Cloudy │ rain        │\n",
       "│ 5     │ 2006-04-01 04:00:00.000 +0200 │ Mostly Cloudy │ rain        │\n",
       "│ 6     │ 2006-04-01 05:00:00.000 +0200 │ Partly Cloudy │ rain        │\n",
       "│ 7     │ 2006-04-01 06:00:00.000 +0200 │ Partly Cloudy │ rain        │\n",
       "│ 8     │ 2006-04-01 07:00:00.000 +0200 │ Partly Cloudy │ rain        │\n",
       "│ 9     │ 2006-04-01 08:00:00.000 +0200 │ Partly Cloudy │ rain        │\n",
       "│ 10    │ 2006-04-01 09:00:00.000 +0200 │ Partly Cloudy │ rain        │\n",
       "⋮\n",
       "│ 96443 │ 2016-09-09 13:00:00.000 +0200 │ Partly Cloudy │ rain        │\n",
       "│ 96444 │ 2016-09-09 14:00:00.000 +0200 │ Partly Cloudy │ rain        │\n",
       "│ 96445 │ 2016-09-09 15:00:00.000 +0200 │ Partly Cloudy │ rain        │\n",
       "│ 96446 │ 2016-09-09 16:00:00.000 +0200 │ Partly Cloudy │ rain        │\n",
       "│ 96447 │ 2016-09-09 17:00:00.000 +0200 │ Partly Cloudy │ rain        │\n",
       "│ 96448 │ 2016-09-09 18:00:00.000 +0200 │ Partly Cloudy │ rain        │\n",
       "│ 96449 │ 2016-09-09 19:00:00.000 +0200 │ Partly Cloudy │ rain        │\n",
       "│ 96450 │ 2016-09-09 20:00:00.000 +0200 │ Partly Cloudy │ rain        │\n",
       "│ 96451 │ 2016-09-09 21:00:00.000 +0200 │ Partly Cloudy │ rain        │\n",
       "│ 96452 │ 2016-09-09 22:00:00.000 +0200 │ Partly Cloudy │ rain        │\n",
       "│ 96453 │ 2016-09-09 23:00:00.000 +0200 │ Partly Cloudy │ rain        │"
      ]
     },
     "execution_count": 2,
     "metadata": {},
     "output_type": "execute_result"
    }
   ],
   "source": [
    "df = CSV.read(\"weatherHistory.csv\")"
   ]
  },
  {
   "cell_type": "code",
   "execution_count": 3,
   "metadata": {},
   "outputs": [
    {
     "name": "stdout",
     "output_type": "stream",
     "text": [
      "96453×12 DataFrame\n",
      "│ Row   │ Formatted Date                │ Summary       │ Precip Type │\n",
      "│       │ \u001b[90mString\u001b[39m                        │ \u001b[90mString\u001b[39m        │ \u001b[90mString\u001b[39m      │\n",
      "├───────┼───────────────────────────────┼───────────────┼─────────────┤\n",
      "│ 1     │ 2006-04-01 00:00:00.000 +0200 │ Partly Cloudy │ rain        │\n",
      "│ 2     │ 2006-04-01 01:00:00.000 +0200 │ Partly Cloudy │ rain        │\n",
      "│ 3     │ 2006-04-01 02:00:00.000 +0200 │ Mostly Cloudy │ rain        │\n",
      "│ 4     │ 2006-04-01 03:00:00.000 +0200 │ Partly Cloudy │ rain        │\n",
      "│ 5     │ 2006-04-01 04:00:00.000 +0200 │ Mostly Cloudy │ rain        │\n",
      "│ 6     │ 2006-04-01 05:00:00.000 +0200 │ Partly Cloudy │ rain        │\n",
      "│ 7     │ 2006-04-01 06:00:00.000 +0200 │ Partly Cloudy │ rain        │\n",
      "│ 8     │ 2006-04-01 07:00:00.000 +0200 │ Partly Cloudy │ rain        │\n",
      "│ 9     │ 2006-04-01 08:00:00.000 +0200 │ Partly Cloudy │ rain        │\n",
      "│ 10    │ 2006-04-01 09:00:00.000 +0200 │ Partly Cloudy │ rain        │\n",
      "⋮\n",
      "│ 96443 │ 2016-09-09 13:00:00.000 +0200 │ Partly Cloudy │ rain        │\n",
      "│ 96444 │ 2016-09-09 14:00:00.000 +0200 │ Partly Cloudy │ rain        │\n",
      "│ 96445 │ 2016-09-09 15:00:00.000 +0200 │ Partly Cloudy │ rain        │\n",
      "│ 96446 │ 2016-09-09 16:00:00.000 +0200 │ Partly Cloudy │ rain        │\n",
      "│ 96447 │ 2016-09-09 17:00:00.000 +0200 │ Partly Cloudy │ rain        │\n",
      "│ 96448 │ 2016-09-09 18:00:00.000 +0200 │ Partly Cloudy │ rain        │\n",
      "│ 96449 │ 2016-09-09 19:00:00.000 +0200 │ Partly Cloudy │ rain        │\n",
      "│ 96450 │ 2016-09-09 20:00:00.000 +0200 │ Partly Cloudy │ rain        │\n",
      "│ 96451 │ 2016-09-09 21:00:00.000 +0200 │ Partly Cloudy │ rain        │\n",
      "│ 96452 │ 2016-09-09 22:00:00.000 +0200 │ Partly Cloudy │ rain        │\n",
      "│ 96453 │ 2016-09-09 23:00:00.000 +0200 │ Partly Cloudy │ rain        │\n",
      "\n",
      "│ Row   │ Temperature (C) │ Apparent Temperature (C) │ Humidity │\n",
      "│       │ \u001b[90mFloat64\u001b[39m         │ \u001b[90mFloat64\u001b[39m                  │ \u001b[90mFloat64\u001b[39m  │\n",
      "├───────┼─────────────────┼──────────────────────────┼──────────┤\n",
      "│ 1     │ 9.47222         │ 7.38889                  │ 0.89     │\n",
      "│ 2     │ 9.35556         │ 7.22778                  │ 0.86     │\n",
      "│ 3     │ 9.37778         │ 9.37778                  │ 0.89     │\n",
      "│ 4     │ 8.28889         │ 5.94444                  │ 0.83     │\n",
      "│ 5     │ 8.75556         │ 6.97778                  │ 0.83     │\n",
      "│ 6     │ 9.22222         │ 7.11111                  │ 0.85     │\n",
      "│ 7     │ 7.73333         │ 5.52222                  │ 0.95     │\n",
      "│ 8     │ 8.77222         │ 6.52778                  │ 0.89     │\n",
      "│ 9     │ 10.8222         │ 10.8222                  │ 0.82     │\n",
      "│ 10    │ 13.7722         │ 13.7722                  │ 0.72     │\n",
      "⋮\n",
      "│ 96443 │ 30.9944         │ 29.9722                  │ 0.33     │\n",
      "│ 96444 │ 30.8944         │ 29.45                    │ 0.28     │\n",
      "│ 96445 │ 31.0833         │ 29.6167                  │ 0.28     │\n",
      "│ 96446 │ 31.0833         │ 29.6111                  │ 0.28     │\n",
      "│ 96447 │ 30.7667         │ 29.3111                  │ 0.28     │\n",
      "│ 96448 │ 28.8389         │ 27.85                    │ 0.32     │\n",
      "│ 96449 │ 26.0167         │ 26.0167                  │ 0.43     │\n",
      "│ 96450 │ 24.5833         │ 24.5833                  │ 0.48     │\n",
      "│ 96451 │ 22.0389         │ 22.0389                  │ 0.56     │\n",
      "│ 96452 │ 21.5222         │ 21.5222                  │ 0.6      │\n",
      "│ 96453 │ 20.4389         │ 20.4389                  │ 0.61     │\n",
      "\n",
      "│ Row   │ Wind Speed (km/h) │ Wind Bearing (degrees) │ Visibility (km) │\n",
      "│       │ \u001b[90mFloat64\u001b[39m           │ \u001b[90mFloat64\u001b[39m                │ \u001b[90mFloat64\u001b[39m         │\n",
      "├───────┼───────────────────┼────────────────────────┼─────────────────┤\n",
      "│ 1     │ 14.1197           │ 251.0                  │ 15.8263         │\n",
      "│ 2     │ 14.2646           │ 259.0                  │ 15.8263         │\n",
      "│ 3     │ 3.9284            │ 204.0                  │ 14.9569         │\n",
      "│ 4     │ 14.1036           │ 269.0                  │ 15.8263         │\n",
      "│ 5     │ 11.0446           │ 259.0                  │ 15.8263         │\n",
      "│ 6     │ 13.9587           │ 258.0                  │ 14.9569         │\n",
      "│ 7     │ 12.3648           │ 259.0                  │ 9.982           │\n",
      "│ 8     │ 14.1519           │ 260.0                  │ 9.982           │\n",
      "│ 9     │ 11.3183           │ 259.0                  │ 9.982           │\n",
      "│ 10    │ 12.5258           │ 279.0                  │ 9.982           │\n",
      "⋮\n",
      "│ 96443 │ 15.617            │ 70.0                   │ 16.1            │\n",
      "│ 96444 │ 14.7798           │ 43.0                   │ 15.5526         │\n",
      "│ 96445 │ 15.5043           │ 40.0                   │ 16.1            │\n",
      "│ 96446 │ 13.8943           │ 40.0                   │ 16.1            │\n",
      "│ 96447 │ 14.2163           │ 24.0                   │ 15.5526         │\n",
      "│ 96448 │ 12.2038           │ 21.0                   │ 16.1            │\n",
      "│ 96449 │ 10.9963           │ 31.0                   │ 16.1            │\n",
      "│ 96450 │ 10.0947           │ 20.0                   │ 15.5526         │\n",
      "│ 96451 │ 8.9838            │ 30.0                   │ 16.1            │\n",
      "│ 96452 │ 10.5294           │ 20.0                   │ 16.1            │\n",
      "│ 96453 │ 5.8765            │ 39.0                   │ 15.5204         │\n",
      "\n",
      "│ Row   │ Loud Cover │ Pressure (millibars) │\n",
      "│       │ \u001b[90mFloat64\u001b[39m    │ \u001b[90mFloat64\u001b[39m              │\n",
      "├───────┼────────────┼──────────────────────┤\n",
      "│ 1     │ 0.0        │ 1015.13              │\n",
      "│ 2     │ 0.0        │ 1015.63              │\n",
      "│ 3     │ 0.0        │ 1015.94              │\n",
      "│ 4     │ 0.0        │ 1016.41              │\n",
      "│ 5     │ 0.0        │ 1016.51              │\n",
      "│ 6     │ 0.0        │ 1016.66              │\n",
      "│ 7     │ 0.0        │ 1016.72              │\n",
      "│ 8     │ 0.0        │ 1016.84              │\n",
      "│ 9     │ 0.0        │ 1017.37              │\n",
      "│ 10    │ 0.0        │ 1017.22              │\n",
      "⋮\n",
      "│ 96443 │ 0.0        │ 1014.86              │\n",
      "│ 96444 │ 0.0        │ 1014.66              │\n",
      "│ 96445 │ 0.0        │ 1014.17              │\n",
      "│ 96446 │ 0.0        │ 1013.97              │\n",
      "│ 96447 │ 0.0        │ 1013.83              │\n",
      "│ 96448 │ 0.0        │ 1014.07              │\n",
      "│ 96449 │ 0.0        │ 1014.36              │\n",
      "│ 96450 │ 0.0        │ 1015.16              │\n",
      "│ 96451 │ 0.0        │ 1015.66              │\n",
      "│ 96452 │ 0.0        │ 1015.95              │\n",
      "│ 96453 │ 0.0        │ 1016.16              │\n",
      "\n",
      "│ Row   │ Daily Summary                          │\n",
      "│       │ \u001b[90mString\u001b[39m                                 │\n",
      "├───────┼────────────────────────────────────────┤\n",
      "│ 1     │ Partly cloudy throughout the day.      │\n",
      "│ 2     │ Partly cloudy throughout the day.      │\n",
      "│ 3     │ Partly cloudy throughout the day.      │\n",
      "│ 4     │ Partly cloudy throughout the day.      │\n",
      "│ 5     │ Partly cloudy throughout the day.      │\n",
      "│ 6     │ Partly cloudy throughout the day.      │\n",
      "│ 7     │ Partly cloudy throughout the day.      │\n",
      "│ 8     │ Partly cloudy throughout the day.      │\n",
      "│ 9     │ Partly cloudy throughout the day.      │\n",
      "│ 10    │ Partly cloudy throughout the day.      │\n",
      "⋮\n",
      "│ 96443 │ Partly cloudy starting in the morning. │\n",
      "│ 96444 │ Partly cloudy starting in the morning. │\n",
      "│ 96445 │ Partly cloudy starting in the morning. │\n",
      "│ 96446 │ Partly cloudy starting in the morning. │\n",
      "│ 96447 │ Partly cloudy starting in the morning. │\n",
      "│ 96448 │ Partly cloudy starting in the morning. │\n",
      "│ 96449 │ Partly cloudy starting in the morning. │\n",
      "│ 96450 │ Partly cloudy starting in the morning. │\n",
      "│ 96451 │ Partly cloudy starting in the morning. │\n",
      "│ 96452 │ Partly cloudy starting in the morning. │\n",
      "│ 96453 │ Partly cloudy starting in the morning. │"
     ]
    }
   ],
   "source": [
    "show(df,allcols=true)"
   ]
  },
  {
   "cell_type": "code",
   "execution_count": 4,
   "metadata": {},
   "outputs": [
    {
     "name": "stderr",
     "output_type": "stream",
     "text": [
      "┌ Warning: `getindex(df::DataFrame, col_ind::ColumnIndex)` is deprecated, use `df[!, col_ind]` instead.\n",
      "│   caller = top-level scope at In[4]:1\n",
      "└ @ Core In[4]:1\n",
      "┌ Warning: `getindex(df::DataFrame, col_ind::ColumnIndex)` is deprecated, use `df[!, col_ind]` instead.\n",
      "│   caller = top-level scope at In[4]:1\n",
      "└ @ Core In[4]:1\n"
     ]
    },
    {
     "data": {
      "text/html": [
       "<table class=\"data-frame\"><thead><tr><th></th><th>Temp</th><th>Humidity</th></tr><tr><th></th><th>Float64</th><th>Float64</th></tr></thead><tbody><p>96,453 rows × 2 columns</p><tr><th>1</th><td>9.47222</td><td>0.89</td></tr><tr><th>2</th><td>9.35556</td><td>0.86</td></tr><tr><th>3</th><td>9.37778</td><td>0.89</td></tr><tr><th>4</th><td>8.28889</td><td>0.83</td></tr><tr><th>5</th><td>8.75556</td><td>0.83</td></tr><tr><th>6</th><td>9.22222</td><td>0.85</td></tr><tr><th>7</th><td>7.73333</td><td>0.95</td></tr><tr><th>8</th><td>8.77222</td><td>0.89</td></tr><tr><th>9</th><td>10.8222</td><td>0.82</td></tr><tr><th>10</th><td>13.7722</td><td>0.72</td></tr><tr><th>11</th><td>16.0167</td><td>0.67</td></tr><tr><th>12</th><td>17.1444</td><td>0.54</td></tr><tr><th>13</th><td>17.8</td><td>0.55</td></tr><tr><th>14</th><td>17.3333</td><td>0.51</td></tr><tr><th>15</th><td>18.8778</td><td>0.47</td></tr><tr><th>16</th><td>18.9111</td><td>0.46</td></tr><tr><th>17</th><td>15.3889</td><td>0.6</td></tr><tr><th>18</th><td>15.55</td><td>0.63</td></tr><tr><th>19</th><td>14.2556</td><td>0.69</td></tr><tr><th>20</th><td>13.1444</td><td>0.7</td></tr><tr><th>21</th><td>11.55</td><td>0.77</td></tr><tr><th>22</th><td>11.1833</td><td>0.76</td></tr><tr><th>23</th><td>10.1167</td><td>0.79</td></tr><tr><th>24</th><td>10.2</td><td>0.77</td></tr><tr><th>25</th><td>10.4222</td><td>0.62</td></tr><tr><th>26</th><td>9.91111</td><td>0.66</td></tr><tr><th>27</th><td>11.1833</td><td>0.8</td></tr><tr><th>28</th><td>7.15556</td><td>0.79</td></tr><tr><th>29</th><td>6.11111</td><td>0.82</td></tr><tr><th>30</th><td>6.78889</td><td>0.83</td></tr><tr><th>&vellip;</th><td>&vellip;</td><td>&vellip;</td></tr></tbody></table>"
      ],
      "text/latex": [
       "\\begin{tabular}{r|cc}\n",
       "\t& Temp & Humidity\\\\\n",
       "\t\\hline\n",
       "\t& Float64 & Float64\\\\\n",
       "\t\\hline\n",
       "\t1 & 9.47222 & 0.89 \\\\\n",
       "\t2 & 9.35556 & 0.86 \\\\\n",
       "\t3 & 9.37778 & 0.89 \\\\\n",
       "\t4 & 8.28889 & 0.83 \\\\\n",
       "\t5 & 8.75556 & 0.83 \\\\\n",
       "\t6 & 9.22222 & 0.85 \\\\\n",
       "\t7 & 7.73333 & 0.95 \\\\\n",
       "\t8 & 8.77222 & 0.89 \\\\\n",
       "\t9 & 10.8222 & 0.82 \\\\\n",
       "\t10 & 13.7722 & 0.72 \\\\\n",
       "\t11 & 16.0167 & 0.67 \\\\\n",
       "\t12 & 17.1444 & 0.54 \\\\\n",
       "\t13 & 17.8 & 0.55 \\\\\n",
       "\t14 & 17.3333 & 0.51 \\\\\n",
       "\t15 & 18.8778 & 0.47 \\\\\n",
       "\t16 & 18.9111 & 0.46 \\\\\n",
       "\t17 & 15.3889 & 0.6 \\\\\n",
       "\t18 & 15.55 & 0.63 \\\\\n",
       "\t19 & 14.2556 & 0.69 \\\\\n",
       "\t20 & 13.1444 & 0.7 \\\\\n",
       "\t21 & 11.55 & 0.77 \\\\\n",
       "\t22 & 11.1833 & 0.76 \\\\\n",
       "\t23 & 10.1167 & 0.79 \\\\\n",
       "\t24 & 10.2 & 0.77 \\\\\n",
       "\t25 & 10.4222 & 0.62 \\\\\n",
       "\t26 & 9.91111 & 0.66 \\\\\n",
       "\t27 & 11.1833 & 0.8 \\\\\n",
       "\t28 & 7.15556 & 0.79 \\\\\n",
       "\t29 & 6.11111 & 0.82 \\\\\n",
       "\t30 & 6.78889 & 0.83 \\\\\n",
       "\t$\\dots$ & $\\dots$ & $\\dots$ \\\\\n",
       "\\end{tabular}\n"
      ],
      "text/plain": [
       "96453×2 DataFrame\n",
       "│ Row   │ Temp    │ Humidity │\n",
       "│       │ \u001b[90mFloat64\u001b[39m │ \u001b[90mFloat64\u001b[39m  │\n",
       "├───────┼─────────┼──────────┤\n",
       "│ 1     │ 9.47222 │ 0.89     │\n",
       "│ 2     │ 9.35556 │ 0.86     │\n",
       "│ 3     │ 9.37778 │ 0.89     │\n",
       "│ 4     │ 8.28889 │ 0.83     │\n",
       "│ 5     │ 8.75556 │ 0.83     │\n",
       "│ 6     │ 9.22222 │ 0.85     │\n",
       "│ 7     │ 7.73333 │ 0.95     │\n",
       "│ 8     │ 8.77222 │ 0.89     │\n",
       "│ 9     │ 10.8222 │ 0.82     │\n",
       "│ 10    │ 13.7722 │ 0.72     │\n",
       "⋮\n",
       "│ 96443 │ 30.9944 │ 0.33     │\n",
       "│ 96444 │ 30.8944 │ 0.28     │\n",
       "│ 96445 │ 31.0833 │ 0.28     │\n",
       "│ 96446 │ 31.0833 │ 0.28     │\n",
       "│ 96447 │ 30.7667 │ 0.28     │\n",
       "│ 96448 │ 28.8389 │ 0.32     │\n",
       "│ 96449 │ 26.0167 │ 0.43     │\n",
       "│ 96450 │ 24.5833 │ 0.48     │\n",
       "│ 96451 │ 22.0389 │ 0.56     │\n",
       "│ 96452 │ 21.5222 │ 0.6      │\n",
       "│ 96453 │ 20.4389 │ 0.61     │"
      ]
     },
     "execution_count": 4,
     "metadata": {},
     "output_type": "execute_result"
    }
   ],
   "source": [
    "df = DataFrame(:Temp => df[Symbol(\"Temperature (C)\")], :Humidity => df[:Humidity])"
   ]
  },
  {
   "cell_type": "code",
   "execution_count": 5,
   "metadata": {},
   "outputs": [
    {
     "data": {
      "text/plain": [
       ":Humidity"
      ]
     },
     "execution_count": 5,
     "metadata": {},
     "output_type": "execute_result"
    }
   ],
   "source": [
    "target = :Temp\n",
    "Feature = :Humidity"
   ]
  },
  {
   "cell_type": "code",
   "execution_count": 8,
   "metadata": {},
   "outputs": [],
   "source": [
    "using Lathe.preprocess: TrainTestSplit"
   ]
  },
  {
   "cell_type": "code",
   "execution_count": 9,
   "metadata": {},
   "outputs": [
    {
     "data": {
      "text/plain": [
       "(72290×2 DataFrame\n",
       "│ Row   │ Temp    │ Humidity │\n",
       "│       │ \u001b[90mFloat64\u001b[39m │ \u001b[90mFloat64\u001b[39m  │\n",
       "├───────┼─────────┼──────────┤\n",
       "│ 1     │ 9.47222 │ 0.89     │\n",
       "│ 2     │ 9.37778 │ 0.89     │\n",
       "│ 3     │ 8.28889 │ 0.83     │\n",
       "│ 4     │ 8.75556 │ 0.83     │\n",
       "│ 5     │ 9.22222 │ 0.85     │\n",
       "│ 6     │ 7.73333 │ 0.95     │\n",
       "│ 7     │ 8.77222 │ 0.89     │\n",
       "│ 8     │ 10.8222 │ 0.82     │\n",
       "│ 9     │ 13.7722 │ 0.72     │\n",
       "│ 10    │ 16.0167 │ 0.67     │\n",
       "⋮\n",
       "│ 72280 │ 28.8667 │ 0.37     │\n",
       "│ 72281 │ 30.9944 │ 0.33     │\n",
       "│ 72282 │ 30.8944 │ 0.28     │\n",
       "│ 72283 │ 31.0833 │ 0.28     │\n",
       "│ 72284 │ 31.0833 │ 0.28     │\n",
       "│ 72285 │ 30.7667 │ 0.28     │\n",
       "│ 72286 │ 26.0167 │ 0.43     │\n",
       "│ 72287 │ 24.5833 │ 0.48     │\n",
       "│ 72288 │ 22.0389 │ 0.56     │\n",
       "│ 72289 │ 21.5222 │ 0.6      │\n",
       "│ 72290 │ 20.4389 │ 0.61     │, 24163×2 DataFrame\n",
       "│ Row   │ Temp    │ Humidity │\n",
       "│       │ \u001b[90mFloat64\u001b[39m │ \u001b[90mFloat64\u001b[39m  │\n",
       "├───────┼─────────┼──────────┤\n",
       "│ 1     │ 9.35556 │ 0.86     │\n",
       "│ 2     │ 11.1833 │ 0.76     │\n",
       "│ 3     │ 9.91111 │ 0.66     │\n",
       "│ 4     │ 7.15556 │ 0.79     │\n",
       "│ 5     │ 20.0444 │ 0.4      │\n",
       "│ 6     │ 21.05   │ 0.4      │\n",
       "│ 7     │ 20.1167 │ 0.4      │\n",
       "│ 8     │ 20.0    │ 0.43     │\n",
       "│ 9     │ 16.0611 │ 0.53     │\n",
       "│ 10    │ 13.7722 │ 0.6      │\n",
       "⋮\n",
       "│ 24153 │ 16.15   │ 0.93     │\n",
       "│ 24154 │ 16.9889 │ 0.88     │\n",
       "│ 24155 │ 17.6167 │ 0.85     │\n",
       "│ 24156 │ 24.8833 │ 0.55     │\n",
       "│ 24157 │ 27.6111 │ 0.45     │\n",
       "│ 24158 │ 30.6056 │ 0.24     │\n",
       "│ 24159 │ 28.8444 │ 0.27     │\n",
       "│ 24160 │ 27.8    │ 0.32     │\n",
       "│ 24161 │ 24.9056 │ 0.51     │\n",
       "│ 24162 │ 21.0167 │ 0.64     │\n",
       "│ 24163 │ 28.8389 │ 0.32     │)"
      ]
     },
     "execution_count": 9,
     "metadata": {},
     "output_type": "execute_result"
    }
   ],
   "source": [
    "train, test = TrainTestSplit(df)"
   ]
  },
  {
   "cell_type": "code",
   "execution_count": 10,
   "metadata": {},
   "outputs": [
    {
     "name": "stderr",
     "output_type": "stream",
     "text": [
      "┌ Warning: `getindex(df::DataFrame, col_ind::ColumnIndex)` is deprecated, use `df[!, col_ind]` instead.\n",
      "│   caller = top-level scope at In[10]:1\n",
      "└ @ Core In[10]:1\n",
      "┌ Warning: `getindex(df::DataFrame, col_ind::ColumnIndex)` is deprecated, use `df[!, col_ind]` instead.\n",
      "│   caller = top-level scope at In[10]:2\n",
      "└ @ Core In[10]:2\n",
      "┌ Warning: `getindex(df::DataFrame, col_ind::ColumnIndex)` is deprecated, use `df[!, col_ind]` instead.\n",
      "│   caller = top-level scope at In[10]:3\n",
      "└ @ Core In[10]:3\n",
      "┌ Warning: `getindex(df::DataFrame, col_ind::ColumnIndex)` is deprecated, use `df[!, col_ind]` instead.\n",
      "│   caller = top-level scope at In[10]:4\n",
      "└ @ Core In[10]:4\n"
     ]
    },
    {
     "data": {
      "text/plain": [
       "24163-element Array{Float64,1}:\n",
       "  9.355555555555558\n",
       " 11.183333333333334\n",
       "  9.911111111111113\n",
       "  7.155555555555556\n",
       " 20.04444444444444 \n",
       " 21.049999999999997\n",
       " 20.11666666666666 \n",
       " 20.0              \n",
       " 16.06111111111111 \n",
       " 13.77222222222222 \n",
       " 13.283333333333331\n",
       " 12.166666666666666\n",
       " 12.755555555555556\n",
       "  ⋮                \n",
       " 27.17222222222222 \n",
       " 16.15             \n",
       " 16.988888888888887\n",
       " 17.616666666666667\n",
       " 24.88333333333334 \n",
       " 27.61111111111111 \n",
       " 30.60555555555556 \n",
       " 28.84444444444445 \n",
       " 27.800000000000004\n",
       " 24.90555555555555 \n",
       " 21.016666666666666\n",
       " 28.838888888888885"
      ]
     },
     "execution_count": 10,
     "metadata": {},
     "output_type": "execute_result"
    }
   ],
   "source": [
    "trainx = train[Feature]\n",
    "trainy = train[target]\n",
    "testx = test[Feature]\n",
    "testy = test[target]"
   ]
  },
  {
   "cell_type": "code",
   "execution_count": 11,
   "metadata": {},
   "outputs": [],
   "source": [
    "using Lathe.models: predict, LinearRegression"
   ]
  },
  {
   "cell_type": "code",
   "execution_count": 13,
   "metadata": {},
   "outputs": [
    {
     "name": "stdout",
     "output_type": "stream",
     "text": [
      "  0.001045 seconds (40 allocations: 1.288 MiB)\n"
     ]
    },
    {
     "data": {
      "text/plain": [
       "24163-element Array{Float64,1}:\n",
       "  8.065297374899941\n",
       " 11.152214205059735\n",
       " 14.239131035219529\n",
       " 10.226139156011797\n",
       " 22.265114793634996\n",
       " 22.265114793634996\n",
       " 22.265114793634996\n",
       " 21.33903974458706 \n",
       " 18.252122914427265\n",
       " 16.09128113331541 \n",
       " 15.16520608426747 \n",
       "  9.300064106963863\n",
       " 10.226139156011797\n",
       "  ⋮                \n",
       " 21.03034806157108 \n",
       "  5.904455593788086\n",
       "  7.447914008867983\n",
       "  8.37398905791592 \n",
       " 17.634739548395306\n",
       " 20.7216563785551  \n",
       " 27.20418172189067 \n",
       " 26.278106672842732\n",
       " 24.734648257762835\n",
       " 18.869506280459223\n",
       " 14.856514401251491\n",
       " 24.734648257762835"
      ]
     },
     "execution_count": 13,
     "metadata": {},
     "output_type": "execute_result"
    }
   ],
   "source": [
    "@time yhat = predict(LinearRegression(trainx,trainy),testx)"
   ]
  },
  {
   "cell_type": "code",
   "execution_count": null,
   "metadata": {},
   "outputs": [],
   "source": [
    " 0.000878 seconds\n",
    "0.001045 seconds"
   ]
  },
  {
   "cell_type": "code",
   "execution_count": 18,
   "metadata": {},
   "outputs": [
    {
     "data": {
      "text/plain": [
       "LinearRegression"
      ]
     },
     "execution_count": 18,
     "metadata": {},
     "output_type": "execute_result"
    }
   ],
   "source": [
    "function LinearRegression(x,y)\n",
    "    if length(x) != length(y)\n",
    "        throw(ArgumentError(\"The array shape does not match!\"))\n",
    "    end\n",
    "    # Get our Summations:\n",
    "    Σx = sum(x)\n",
    "    Σy = sum(y)\n",
    "    # dot x and y\n",
    "    xy = x .* y\n",
    "    # ∑dot x and y\n",
    "    Σxy = sum(xy)\n",
    "    # dotsquare x\n",
    "    x2 = x .^ 2\n",
    "    # ∑ dotsquare x\n",
    "    Σx2 = sum(x2)\n",
    "    # n = sample size\n",
    "    n = length(x)\n",
    "    # Calculate a\n",
    "    a = (((Σy) * (Σx2)) - ((Σx * (Σxy)))) / ((n * (Σx2))-(Σx^2))\n",
    "    # Calculate b\n",
    "    b = ((n*(Σxy)) - (Σx * Σy)) / ((n * (Σx2)) - (Σx ^ 2))\n",
    "    # The part that is super struct:\n",
    "    predict(xt) = (xt = [i = a + (b * i) for i in xt])\n",
    "    (test)->(a;b;predict)\n",
    "end"
   ]
  },
  {
   "cell_type": "code",
   "execution_count": 20,
   "metadata": {},
   "outputs": [
    {
     "name": "stdout",
     "output_type": "stream",
     "text": [
      "  0.000878 seconds (13 allocations: 1.288 MiB)\n"
     ]
    },
    {
     "data": {
      "text/plain": [
       "24163-element Array{Float64,1}:\n",
       "  8.065297374899941\n",
       " 11.152214205059735\n",
       " 14.239131035219529\n",
       " 10.226139156011797\n",
       " 22.265114793634996\n",
       " 22.265114793634996\n",
       " 22.265114793634996\n",
       " 21.33903974458706 \n",
       " 18.252122914427265\n",
       " 16.09128113331541 \n",
       " 15.16520608426747 \n",
       "  9.300064106963863\n",
       " 10.226139156011797\n",
       "  ⋮                \n",
       " 21.03034806157108 \n",
       "  5.904455593788086\n",
       "  7.447914008867983\n",
       "  8.37398905791592 \n",
       " 17.634739548395306\n",
       " 20.7216563785551  \n",
       " 27.20418172189067 \n",
       " 26.278106672842732\n",
       " 24.734648257762835\n",
       " 18.869506280459223\n",
       " 14.856514401251491\n",
       " 24.734648257762835"
      ]
     },
     "execution_count": 20,
     "metadata": {},
     "output_type": "execute_result"
    }
   ],
   "source": [
    "@time yhat = LinearRegression(trainx,trainy).predict(testx)"
   ]
  },
  {
   "cell_type": "code",
   "execution_count": null,
   "metadata": {},
   "outputs": [],
   "source": []
  }
 ],
 "metadata": {
  "kernelspec": {
   "display_name": "Julia 1.2.0",
   "language": "julia",
   "name": "julia-1.2"
  },
  "language_info": {
   "file_extension": ".jl",
   "mimetype": "application/julia",
   "name": "julia",
   "version": "1.2.0"
  }
 },
 "nbformat": 4,
 "nbformat_minor": 2
}
