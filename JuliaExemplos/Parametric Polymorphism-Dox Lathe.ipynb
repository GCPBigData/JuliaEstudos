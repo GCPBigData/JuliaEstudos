{
 "cells": [
  {
   "cell_type": "code",
   "execution_count": 10,
   "metadata": {},
   "outputs": [],
   "source": [
    "using Lathe.models: predict"
   ]
  },
  {
   "cell_type": "code",
   "execution_count": 2,
   "metadata": {},
   "outputs": [],
   "source": [
    "mutable struct Emmett\n",
    "    height\n",
    "    weight\n",
    "end"
   ]
  },
  {
   "cell_type": "code",
   "execution_count": 3,
   "metadata": {},
   "outputs": [
    {
     "data": {
      "text/plain": [
       "Emmett(6.4, 140)"
      ]
     },
     "execution_count": 3,
     "metadata": {},
     "output_type": "execute_result"
    }
   ],
   "source": [
    "emdawg = Emmett(6.4,140)"
   ]
  },
  {
   "cell_type": "code",
   "execution_count": 4,
   "metadata": {},
   "outputs": [
    {
     "name": "stdout",
     "output_type": "stream",
     "text": [
      "6.4\n"
     ]
    }
   ],
   "source": [
    "println(emdawg.height)"
   ]
  },
  {
   "cell_type": "code",
   "execution_count": 6,
   "metadata": {},
   "outputs": [
    {
     "data": {
      "text/plain": [
       "calc_bmi (generic function with 1 method)"
      ]
     },
     "execution_count": 6,
     "metadata": {},
     "output_type": "execute_result"
    }
   ],
   "source": [
    "function calc_bmi(me)\n",
    "   height = me.height * 12\n",
    "    bmi = 703 * me.weight / height ^ 2\n",
    "    return(bmi)\n",
    "end"
   ]
  },
  {
   "cell_type": "code",
   "execution_count": 11,
   "metadata": {},
   "outputs": [
    {
     "ename": "ErrorException",
     "evalue": "error in method definition: function models.predict must be explicitly imported to be extended",
     "output_type": "error",
     "traceback": [
      "error in method definition: function models.predict must be explicitly imported to be extended",
      "",
      "Stacktrace:",
      " [1] top-level scope at In[11]:1"
     ]
    }
   ],
   "source": [
    "predict(m::Emmett) = calc_bmi(m)"
   ]
  },
  {
   "cell_type": "code",
   "execution_count": 12,
   "metadata": {},
   "outputs": [],
   "source": [
    "import Lathe.models: predict"
   ]
  },
  {
   "cell_type": "code",
   "execution_count": 13,
   "metadata": {},
   "outputs": [
    {
     "data": {
      "text/plain": [
       "predict (generic function with 10 methods)"
      ]
     },
     "execution_count": 13,
     "metadata": {},
     "output_type": "execute_result"
    }
   ],
   "source": [
    "predict(m::Emmett) = calc_bmi(m)"
   ]
  },
  {
   "cell_type": "code",
   "execution_count": 14,
   "metadata": {},
   "outputs": [
    {
     "data": {
      "text/plain": [
       "16.686333550347218"
      ]
     },
     "execution_count": 14,
     "metadata": {},
     "output_type": "execute_result"
    }
   ],
   "source": [
    "bmi = predict(emdawg)"
   ]
  },
  {
   "cell_type": "code",
   "execution_count": 17,
   "metadata": {},
   "outputs": [],
   "source": [
    "using Lathe"
   ]
  },
  {
   "cell_type": "code",
   "execution_count": 18,
   "metadata": {},
   "outputs": [
    {
     "name": "stdout",
     "output_type": "stream",
     "text": [
      "search: \u001b[0m\u001b[1mL\u001b[22m\u001b[0m\u001b[1ma\u001b[22m\u001b[0m\u001b[1mt\u001b[22m\u001b[0m\u001b[1mh\u001b[22m\u001b[0m\u001b[1me\u001b[22m re\u001b[0m\u001b[1ml\u001b[22mp\u001b[0m\u001b[1ma\u001b[22m\u001b[0m\u001b[1mt\u001b[22m\u001b[0m\u001b[1mh\u001b[22m rea\u001b[0m\u001b[1ml\u001b[22mp\u001b[0m\u001b[1ma\u001b[22m\u001b[0m\u001b[1mt\u001b[22m\u001b[0m\u001b[1mh\u001b[22m \u001b[0m\u001b[1mL\u001b[22mO\u001b[0m\u001b[1mA\u001b[22mD_PA\u001b[0m\u001b[1mT\u001b[22m\u001b[0m\u001b[1mH\u001b[22m\n",
      "\n"
     ]
    },
    {
     "data": {
      "text/latex": [
       "|====== Lathe - Easily ML =====\n",
       "\n",
       "|= = = = = v. 0.0.8 = = = = = |\n",
       "\n",
       "|==============================\n",
       "\n",
       "|\\_\\_\\_\\_\\_\\_\\_\\_\\_\\_Lathe.stats\n",
       "\n",
       "|\\_\\_\\_\\_\\_\\_\\_\\_\\_\\_Lathe.validate\n",
       "\n",
       "|\\_\\_\\_\\_\\_\\_\\_\\_\\_\\_Lathe.preprocess\n",
       "\n",
       "|\\_\\_\\_\\_\\_\\_\\_\\_\\_\\_Lathe.models\n",
       "\n",
       "|\\_\\_\\_\\_\\_\\_\\_\\_\\_\\_\\_\\_\\_\\_\\_\\_\\_\\_\\_\\_\\_\\_\\_\\_\\_\\_\\_\\_\\_\\_\n",
       "\n",
       "Use ?(Lathe.package) for information!\n",
       "\n",
       "[uuid]\n",
       "\n",
       "38d8eb38-e7b1-11e9-0012-376b6c802672\n",
       "\n",
       "[deps]\n",
       "\n",
       "DataFrames.jl\n",
       "\n",
       "Random.jl\n",
       "\n",
       "\\begin{verbatim}\n",
       "\n",
       "\\end{verbatim}\n"
      ],
      "text/markdown": [
       "|====== Lathe - Easily ML =====\n",
       "\n",
       "|= = = = = v. 0.0.8 = = = = = |\n",
       "\n",
       "|==============================\n",
       "\n",
       "|__________Lathe.stats\n",
       "\n",
       "|__________Lathe.validate\n",
       "\n",
       "|__________Lathe.preprocess\n",
       "\n",
       "|__________Lathe.models\n",
       "\n",
       "|______________________________\n",
       "\n",
       "Use ?(Lathe.package) for information!\n",
       "\n",
       "[uuid]\n",
       "\n",
       "38d8eb38-e7b1-11e9-0012-376b6c802672\n",
       "\n",
       "[deps]\n",
       "\n",
       "DataFrames.jl\n",
       "\n",
       "Random.jl\n",
       "\n",
       "```\n",
       "\n",
       "```\n"
      ],
      "text/plain": [
       "  |====== Lathe - Easily ML =====\n",
       "\n",
       "  |= = = = = v. 0.0.8 = = = = = |\n",
       "\n",
       "  |==============================\n",
       "\n",
       "  |__________Lathe.stats\n",
       "\n",
       "  |__________Lathe.validate\n",
       "\n",
       "  |__________Lathe.preprocess\n",
       "\n",
       "  |__________Lathe.models\n",
       "\n",
       "  |______________________________\n",
       "\n",
       "  Use ?(Lathe.package) for information!\n",
       "\n",
       "  [uuid]\n",
       "\n",
       "  38d8eb38-e7b1-11e9-0012-376b6c802672\n",
       "\n",
       "  [deps]\n",
       "\n",
       "  DataFrames.jl\n",
       "\n",
       "  Random.jl\n",
       "\n",
       "\u001b[36m  \u001b[39m"
      ]
     },
     "execution_count": 18,
     "metadata": {},
     "output_type": "execute_result"
    }
   ],
   "source": [
    "?(Lathe)"
   ]
  },
  {
   "cell_type": "code",
   "execution_count": 19,
   "metadata": {},
   "outputs": [
    {
     "data": {
      "text/latex": [
       "|====== Lathe.models =====\n",
       "\n",
       "|\\_\\_\\_\\_\\_\\_\\_\\_\\_\\_\\_\\_/ Accessories \\_\\_\\_\\_\\_\\_\\_\\_\\_\\_\\_\n",
       "\n",
       "|\\_\\_\\_\\_\\_models.predict(m,xt)\n",
       "\n",
       "|\\_\\_\\_\\_\\_models.Pipeline([steps],model)\n",
       "\n",
       "|\\_\\_\\_\\_\\_\\_\\_\\_\\_\\_\\_\\_/ Continuous models \\_\\_\\_\\_\\_\\_\\_\\_\\_\\_\\_\n",
       "\n",
       "|\\_\\_\\_\\_\\_models.meanBaseline(y)\n",
       "\n",
       "|\\_\\_\\_\\_\\_models.RegressionTree(x,y,n\\_divisions)\n",
       "\n",
       "|\\_\\_\\_\\_\\_models.FourSquare(x,y)\n",
       "\n",
       "|\\_\\_\\_\\_\\_models.IsotonicRegression(x,y)\n",
       "\n",
       "|\\_\\_\\_\\_\\_models.MultipleLinearRegression([x],y)\n",
       "\n",
       "|\\_\\_\\_\\_\\_models.RidgeRegression(x,y)\n",
       "\n",
       "|\\_\\_\\_\\_\\_models.LinearRegression(x,y)\n",
       "\n",
       "|\\_\\_\\_\\_\\_models.LinearLeastSquare(x,y,Type)\n",
       "\n",
       "|\\_\\_\\_\\_\\_\\_\\_\\_\\_\\_\\_\\_/ Categorical Models \\_\\_\\_\\_\\_\\_\\_\\_\\_\\_\\_\n",
       "\n",
       "|\\_\\_\\_\\_\\_models.LogisticRegression(x,y)\n",
       "\n",
       "|\\_\\_\\_\\_\\_models.majBaseline\n",
       "\n",
       "\\begin{verbatim}\n",
       "\n",
       "\\end{verbatim}\n"
      ],
      "text/markdown": [
       "|====== Lathe.models =====\n",
       "\n",
       "|____________/ Accessories ___________\n",
       "\n",
       "|_____models.predict(m,xt)\n",
       "\n",
       "|_____models.Pipeline([steps],model)\n",
       "\n",
       "|____________/ Continuous models ___________\n",
       "\n",
       "|_____models.meanBaseline(y)\n",
       "\n",
       "|_____models.RegressionTree(x,y,n_divisions)\n",
       "\n",
       "|_____models.FourSquare(x,y)\n",
       "\n",
       "|_____models.IsotonicRegression(x,y)\n",
       "\n",
       "|_____models.MultipleLinearRegression([x],y)\n",
       "\n",
       "|_____models.RidgeRegression(x,y)\n",
       "\n",
       "|_____models.LinearRegression(x,y)\n",
       "\n",
       "|_____models.LinearLeastSquare(x,y,Type)\n",
       "\n",
       "|____________/ Categorical Models ___________\n",
       "\n",
       "|_____models.LogisticRegression(x,y)\n",
       "\n",
       "|_____models.majBaseline\n",
       "\n",
       "```\n",
       "\n",
       "```\n"
      ],
      "text/plain": [
       "  |====== Lathe.models =====\n",
       "\n",
       "  |____________/ Accessories ___________\n",
       "\n",
       "  |_____models.predict(m,xt)\n",
       "\n",
       "  |_____models.Pipeline([steps],model)\n",
       "\n",
       "  |____________/ Continuous models ___________\n",
       "\n",
       "  |_____models.meanBaseline(y)\n",
       "\n",
       "  |_____models.RegressionTree(x,y,n_divisions)\n",
       "\n",
       "  |_____models.FourSquare(x,y)\n",
       "\n",
       "  |_____models.IsotonicRegression(x,y)\n",
       "\n",
       "  |_____models.MultipleLinearRegression([x],y)\n",
       "\n",
       "  |_____models.RidgeRegression(x,y)\n",
       "\n",
       "  |_____models.LinearRegression(x,y)\n",
       "\n",
       "  |_____models.LinearLeastSquare(x,y,Type)\n",
       "\n",
       "  |____________/ Categorical Models ___________\n",
       "\n",
       "  |_____models.LogisticRegression(x,y)\n",
       "\n",
       "  |_____models.majBaseline\n",
       "\n",
       "\u001b[36m  \u001b[39m"
      ]
     },
     "execution_count": 19,
     "metadata": {},
     "output_type": "execute_result"
    }
   ],
   "source": [
    "?(Lathe.models)"
   ]
  },
  {
   "cell_type": "code",
   "execution_count": 20,
   "metadata": {},
   "outputs": [
    {
     "data": {
      "text/latex": [
       "Linear Least Square (LLSQ) is ideal for predicting continous features. Many models use LLSQ as a base to build off of.\n",
       "\n",
       "\\rule{\\textwidth}{1pt}\n",
       "x = [7,6,5,6,5]\n",
       "\n",
       "y  = [3.4.5.6.3]\n",
       "\n",
       "xtrain = [7,5,4,5,3,5,7,8]\n",
       "\n",
       "Type = :REG model = Lathe.models.LinearLeastSquare(x,y,Type)\n",
       "\n",
       "y\\_pred = Lathe.models.predict(model,xtrain)\n",
       "\n",
       "\\rule{\\textwidth}{1pt}\n",
       "HYPER PARAMETERS\n",
       "\n",
       "Type:: Type determines which Linear Least Square algorithm to use, :REG, :OLS, :WLS, and :GLS are the three options.\n",
       "\n",
       "\\begin{itemize}\n",
       "\\item :REG = LLSQ Regression\n",
       "\n",
       "\n",
       "\\item :OLS = Ordinary Least Squares\n",
       "\n",
       "\n",
       "\\item :WLS = Weighted Least Squares\n",
       "\n",
       "\n",
       "\\item :GLS = General Least Squares\n",
       "\n",
       "\\end{itemize}\n",
       "\\begin{verbatim}\n",
       "\n",
       "\\end{verbatim}\n"
      ],
      "text/markdown": [
       "Linear Least Square (LLSQ) is ideal for predicting continous features. Many models use LLSQ as a base to build off of.\n",
       "\n",
       "---\n",
       "\n",
       "x = [7,6,5,6,5]\n",
       "\n",
       "y  = [3.4.5.6.3]\n",
       "\n",
       "xtrain = [7,5,4,5,3,5,7,8]\n",
       "\n",
       "Type = :REG model = Lathe.models.LinearLeastSquare(x,y,Type)\n",
       "\n",
       "y_pred = Lathe.models.predict(model,xtrain)\n",
       "\n",
       "---\n",
       "\n",
       "HYPER PARAMETERS\n",
       "\n",
       "Type:: Type determines which Linear Least Square algorithm to use, :REG, :OLS, :WLS, and :GLS are the three options.\n",
       "\n",
       "  * :REG = LLSQ Regression\n",
       "  * :OLS = Ordinary Least Squares\n",
       "  * :WLS = Weighted Least Squares\n",
       "  * :GLS = General Least Squares\n",
       "\n",
       "```\n",
       "\n",
       "```\n"
      ],
      "text/plain": [
       "  Linear Least Square (LLSQ) is ideal for predicting continous features. Many\n",
       "  models use LLSQ as a base to build off of.\n",
       "\n",
       "  ────────────────────────────────────────────────────────────────────────────\n",
       "\n",
       "  x = [7,6,5,6,5]\n",
       "\n",
       "  y = [3.4.5.6.3]\n",
       "\n",
       "  xtrain = [7,5,4,5,3,5,7,8]\n",
       "\n",
       "  Type = :REG model = Lathe.models.LinearLeastSquare(x,y,Type)\n",
       "\n",
       "  y_pred = Lathe.models.predict(model,xtrain)\n",
       "\n",
       "  ────────────────────────────────────────────────────────────────────────────\n",
       "\n",
       "  HYPER PARAMETERS\n",
       "\n",
       "  Type:: Type determines which Linear Least Square algorithm to use, :REG,\n",
       "  :OLS, :WLS, and :GLS are the three options.\n",
       "\n",
       "    •    :REG = LLSQ Regression\n",
       "\n",
       "    •    :OLS = Ordinary Least Squares\n",
       "\n",
       "    •    :WLS = Weighted Least Squares\n",
       "\n",
       "    •    :GLS = General Least Squares\n",
       "\n",
       "\u001b[36m  \u001b[39m"
      ]
     },
     "execution_count": 20,
     "metadata": {},
     "output_type": "execute_result"
    }
   ],
   "source": [
    "?(Lathe.models.LinearLeastSquare)"
   ]
  },
  {
   "cell_type": "code",
   "execution_count": null,
   "metadata": {},
   "outputs": [],
   "source": []
  }
 ],
 "metadata": {
  "kernelspec": {
   "display_name": "Julia 1.0.3",
   "language": "julia",
   "name": "julia-1.0"
  },
  "language_info": {
   "file_extension": ".jl",
   "mimetype": "application/julia",
   "name": "julia",
   "version": "1.0.4"
  }
 },
 "nbformat": 4,
 "nbformat_minor": 2
}
