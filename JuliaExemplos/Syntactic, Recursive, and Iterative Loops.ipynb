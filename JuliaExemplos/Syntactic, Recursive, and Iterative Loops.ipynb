{
 "cells": [
  {
   "cell_type": "markdown",
   "metadata": {},
   "source": [
    "# Syntactic, Iterative, and Recursive Looping\n",
    "The age-old computer science saying is \" Don't ever use Recursion in the real world, **Especially not functional recursion**. However, in my opinion this entire idealogy comes from the power of old computers versus the power of new computers. I decided to put all kinds of modificational loops to the test with Linear Regression."
   ]
  },
  {
   "cell_type": "markdown",
   "metadata": {},
   "source": [
    "## Quick preprocessing"
   ]
  },
  {
   "cell_type": "code",
   "execution_count": null,
   "metadata": {},
   "outputs": [],
   "source": [
    "using CSV\n",
    "df = CSV.read(\"bottle.csv\")"
   ]
  },
  {
   "cell_type": "code",
   "execution_count": null,
   "metadata": {},
   "outputs": [],
   "source": [
    "using DataFrames\n",
    "df = DataFrame(:TempC => df.T_degC, :Salinity => df.R_SALINITY, :Depth => df.Depthm)"
   ]
  },
  {
   "cell_type": "code",
   "execution_count": null,
   "metadata": {},
   "outputs": [],
   "source": [
    "df = dropmissing(df)\n",
    "using Lathe.preprocess: TrainTestSplit\n",
    "train,test = TrainTestSplit(df)"
   ]
  },
  {
   "cell_type": "code",
   "execution_count": null,
   "metadata": {},
   "outputs": [],
   "source": [
    "trainX = train.TempC\n",
    "trainy = train.Depth\n",
    "testX = test.TempC\n",
    "testy = test.Depth"
   ]
  },
  {
   "cell_type": "markdown",
   "metadata": {},
   "source": [
    "## Iterative"
   ]
  },
  {
   "cell_type": "code",
   "execution_count": null,
   "metadata": {},
   "outputs": [],
   "source": [
    "using Lathe.models: LinearRegression,predict"
   ]
  },
  {
   "cell_type": "code",
   "execution_count": null,
   "metadata": {},
   "outputs": [],
   "source": [
    "m = LinearRegression(trainX,trainy)"
   ]
  },
  {
   "cell_type": "code",
   "execution_count": null,
   "metadata": {},
   "outputs": [],
   "source": [
    "@time ypr = predict(m,testX)"
   ]
  },
  {
   "cell_type": "markdown",
   "metadata": {},
   "source": [
    "## Recursive"
   ]
  },
  {
   "cell_type": "code",
   "execution_count": null,
   "metadata": {},
   "outputs": [],
   "source": [
    "function pred_LinearRegression(m,xt)\n",
    "    # a = ((∑y)(∑x^2)-(∑x)(∑xy)) / (n(∑x^2) - (∑x)^2)\n",
    "    # b = (x(∑xy) - (∑x)(∑y)) / n(∑x^2) - (∑x)^2\n",
    "    # Get our Summatations:\n",
    "    x = m.x\n",
    "    y = m.y\n",
    "    Σx = sum(x)\n",
    "    Σy = sum(y)\n",
    "    # dot x and y\n",
    "    xy = x .* y\n",
    "    # ∑dot x and y\n",
    "    Σxy = sum(xy)\n",
    "    # dotsquare x\n",
    "    x2 = x .^ 2\n",
    "    # ∑ dotsquare x\n",
    "    Σx2 = sum(x2)\n",
    "    # n = sample size\n",
    "    n = length(x)\n",
    "    # Calculate a\n",
    "    a = (((Σy) * (Σx2)) - ((Σx * (Σxy)))) / ((n * (Σx2))-(Σx^2))\n",
    "    # Calculate b\n",
    "    b = ((n*(Σxy)) - (Σx * Σy)) / ((n * (Σx2)) - (Σx ^ 2))\n",
    "    [i = a+(b*i) for i in xt]\n",
    "    return(xt)\n",
    "end"
   ]
  },
  {
   "cell_type": "code",
   "execution_count": null,
   "metadata": {},
   "outputs": [],
   "source": [
    "@time ypr = pred_LinearRegression(m,testX)"
   ]
  },
  {
   "cell_type": "markdown",
   "metadata": {},
   "source": [
    "## Syntactical"
   ]
  },
  {
   "cell_type": "code",
   "execution_count": null,
   "metadata": {},
   "outputs": [],
   "source": [
    "function pred_LinearRegression(m,xt)\n",
    "    # a = ((∑y)(∑x^2)-(∑x)(∑xy)) / (n(∑x^2) - (∑x)^2)\n",
    "    # b = (x(∑xy) - (∑x)(∑y)) / n(∑x^2) - (∑x)^2\n",
    "    # Get our Summatations:\n",
    "    x = m.x\n",
    "    y = m.y\n",
    "    Σx = sum(x)\n",
    "    Σy = sum(y)\n",
    "    # dot x and y\n",
    "    xy = x .* y\n",
    "    # ∑dot x and y\n",
    "    Σxy = sum(xy)\n",
    "    # dotsquare x\n",
    "    x2 = x .^ 2\n",
    "    # ∑ dotsquare x\n",
    "    Σx2 = sum(x2)\n",
    "    # n = sample size\n",
    "    n = length(x)\n",
    "    # Calculate a\n",
    "    a = (((Σy) * (Σx2)) - ((Σx * (Σxy)))) / ((n * (Σx2))-(Σx^2))\n",
    "    # Calculate b\n",
    "    b = ((n*(Σxy)) - (Σx * Σy)) / ((n * (Σx2)) - (Σx ^ 2))\n",
    "    f(X) = a.+b.*X\n",
    "    ypred = f(xt)\n",
    "    return(ypred)\n",
    "end"
   ]
  },
  {
   "cell_type": "code",
   "execution_count": null,
   "metadata": {},
   "outputs": [],
   "source": [
    "@time ypr = pred_LinearRegression(m,testX)"
   ]
  },
  {
   "cell_type": "code",
   "execution_count": null,
   "metadata": {},
   "outputs": [],
   "source": []
  }
 ],
 "metadata": {
  "kernelspec": {
   "display_name": "Julia 1.0.4",
   "language": "julia",
   "name": "julia-1.0"
  },
  "language_info": {
   "file_extension": ".jl",
   "mimetype": "application/julia",
   "name": "julia",
   "version": "1.0.4"
  }
 },
 "nbformat": 4,
 "nbformat_minor": 2
}
