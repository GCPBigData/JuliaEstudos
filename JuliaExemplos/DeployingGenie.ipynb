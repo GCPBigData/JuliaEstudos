{
 "cells": [
  {
   "cell_type": "code",
   "execution_count": 1,
   "metadata": {},
   "outputs": [],
   "source": [
    "using CSV"
   ]
  },
  {
   "cell_type": "code",
   "execution_count": 2,
   "metadata": {},
   "outputs": [
    {
     "data": {
      "text/html": [
       "<table class=\"data-frame\"><thead><tr><th></th><th>Car_Name</th><th>Year</th><th>Selling_Price</th><th>Present_Price</th><th>Kms_Driven</th><th>Fuel_Type</th><th>Seller_Type</th></tr><tr><th></th><th>String</th><th>Int64</th><th>Float64</th><th>Float64</th><th>Int64</th><th>String</th><th>String</th></tr></thead><tbody><p>301 rows × 9 columns (omitted printing of 2 columns)</p><tr><th>1</th><td>ritz</td><td>2014</td><td>3.35</td><td>5.59</td><td>27000</td><td>Petrol</td><td>Dealer</td></tr><tr><th>2</th><td>sx4</td><td>2013</td><td>4.75</td><td>9.54</td><td>43000</td><td>Diesel</td><td>Dealer</td></tr><tr><th>3</th><td>ciaz</td><td>2017</td><td>7.25</td><td>9.85</td><td>6900</td><td>Petrol</td><td>Dealer</td></tr><tr><th>4</th><td>wagon r</td><td>2011</td><td>2.85</td><td>4.15</td><td>5200</td><td>Petrol</td><td>Dealer</td></tr><tr><th>5</th><td>swift</td><td>2014</td><td>4.6</td><td>6.87</td><td>42450</td><td>Diesel</td><td>Dealer</td></tr><tr><th>6</th><td>vitara brezza</td><td>2018</td><td>9.25</td><td>9.83</td><td>2071</td><td>Diesel</td><td>Dealer</td></tr><tr><th>7</th><td>ciaz</td><td>2015</td><td>6.75</td><td>8.12</td><td>18796</td><td>Petrol</td><td>Dealer</td></tr><tr><th>8</th><td>s cross</td><td>2015</td><td>6.5</td><td>8.61</td><td>33429</td><td>Diesel</td><td>Dealer</td></tr><tr><th>9</th><td>ciaz</td><td>2016</td><td>8.75</td><td>8.89</td><td>20273</td><td>Diesel</td><td>Dealer</td></tr><tr><th>10</th><td>ciaz</td><td>2015</td><td>7.45</td><td>8.92</td><td>42367</td><td>Diesel</td><td>Dealer</td></tr><tr><th>11</th><td>alto 800</td><td>2017</td><td>2.85</td><td>3.6</td><td>2135</td><td>Petrol</td><td>Dealer</td></tr><tr><th>12</th><td>ciaz</td><td>2015</td><td>6.85</td><td>10.38</td><td>51000</td><td>Diesel</td><td>Dealer</td></tr><tr><th>13</th><td>ciaz</td><td>2015</td><td>7.5</td><td>9.94</td><td>15000</td><td>Petrol</td><td>Dealer</td></tr><tr><th>14</th><td>ertiga</td><td>2015</td><td>6.1</td><td>7.71</td><td>26000</td><td>Petrol</td><td>Dealer</td></tr><tr><th>15</th><td>dzire</td><td>2009</td><td>2.25</td><td>7.21</td><td>77427</td><td>Petrol</td><td>Dealer</td></tr><tr><th>16</th><td>ertiga</td><td>2016</td><td>7.75</td><td>10.79</td><td>43000</td><td>Diesel</td><td>Dealer</td></tr><tr><th>17</th><td>ertiga</td><td>2015</td><td>7.25</td><td>10.79</td><td>41678</td><td>Diesel</td><td>Dealer</td></tr><tr><th>18</th><td>ertiga</td><td>2016</td><td>7.75</td><td>10.79</td><td>43000</td><td>Diesel</td><td>Dealer</td></tr><tr><th>19</th><td>wagon r</td><td>2015</td><td>3.25</td><td>5.09</td><td>35500</td><td>CNG</td><td>Dealer</td></tr><tr><th>20</th><td>sx4</td><td>2010</td><td>2.65</td><td>7.98</td><td>41442</td><td>Petrol</td><td>Dealer</td></tr><tr><th>21</th><td>alto k10</td><td>2016</td><td>2.85</td><td>3.95</td><td>25000</td><td>Petrol</td><td>Dealer</td></tr><tr><th>22</th><td>ignis</td><td>2017</td><td>4.9</td><td>5.71</td><td>2400</td><td>Petrol</td><td>Dealer</td></tr><tr><th>23</th><td>sx4</td><td>2011</td><td>4.4</td><td>8.01</td><td>50000</td><td>Petrol</td><td>Dealer</td></tr><tr><th>24</th><td>alto k10</td><td>2014</td><td>2.5</td><td>3.46</td><td>45280</td><td>Petrol</td><td>Dealer</td></tr><tr><th>25</th><td>wagon r</td><td>2013</td><td>2.9</td><td>4.41</td><td>56879</td><td>Petrol</td><td>Dealer</td></tr><tr><th>26</th><td>swift</td><td>2011</td><td>3.0</td><td>4.99</td><td>20000</td><td>Petrol</td><td>Dealer</td></tr><tr><th>27</th><td>swift</td><td>2013</td><td>4.15</td><td>5.87</td><td>55138</td><td>Petrol</td><td>Dealer</td></tr><tr><th>28</th><td>swift</td><td>2017</td><td>6.0</td><td>6.49</td><td>16200</td><td>Petrol</td><td>Individual</td></tr><tr><th>29</th><td>alto k10</td><td>2010</td><td>1.95</td><td>3.95</td><td>44542</td><td>Petrol</td><td>Dealer</td></tr><tr><th>30</th><td>ciaz</td><td>2015</td><td>7.45</td><td>10.38</td><td>45000</td><td>Diesel</td><td>Dealer</td></tr><tr><th>&vellip;</th><td>&vellip;</td><td>&vellip;</td><td>&vellip;</td><td>&vellip;</td><td>&vellip;</td><td>&vellip;</td><td>&vellip;</td></tr></tbody></table>"
      ],
      "text/latex": [
       "\\begin{tabular}{r|cccccccc}\n",
       "\t& Car\\_Name & Year & Selling\\_Price & Present\\_Price & Kms\\_Driven & Fuel\\_Type & Seller\\_Type & \\\\\n",
       "\t\\hline\n",
       "\t& String & Int64 & Float64 & Float64 & Int64 & String & String & \\\\\n",
       "\t\\hline\n",
       "\t1 & ritz & 2014 & 3.35 & 5.59 & 27000 & Petrol & Dealer & $\\dots$ \\\\\n",
       "\t2 & sx4 & 2013 & 4.75 & 9.54 & 43000 & Diesel & Dealer & $\\dots$ \\\\\n",
       "\t3 & ciaz & 2017 & 7.25 & 9.85 & 6900 & Petrol & Dealer & $\\dots$ \\\\\n",
       "\t4 & wagon r & 2011 & 2.85 & 4.15 & 5200 & Petrol & Dealer & $\\dots$ \\\\\n",
       "\t5 & swift & 2014 & 4.6 & 6.87 & 42450 & Diesel & Dealer & $\\dots$ \\\\\n",
       "\t6 & vitara brezza & 2018 & 9.25 & 9.83 & 2071 & Diesel & Dealer & $\\dots$ \\\\\n",
       "\t7 & ciaz & 2015 & 6.75 & 8.12 & 18796 & Petrol & Dealer & $\\dots$ \\\\\n",
       "\t8 & s cross & 2015 & 6.5 & 8.61 & 33429 & Diesel & Dealer & $\\dots$ \\\\\n",
       "\t9 & ciaz & 2016 & 8.75 & 8.89 & 20273 & Diesel & Dealer & $\\dots$ \\\\\n",
       "\t10 & ciaz & 2015 & 7.45 & 8.92 & 42367 & Diesel & Dealer & $\\dots$ \\\\\n",
       "\t11 & alto 800 & 2017 & 2.85 & 3.6 & 2135 & Petrol & Dealer & $\\dots$ \\\\\n",
       "\t12 & ciaz & 2015 & 6.85 & 10.38 & 51000 & Diesel & Dealer & $\\dots$ \\\\\n",
       "\t13 & ciaz & 2015 & 7.5 & 9.94 & 15000 & Petrol & Dealer & $\\dots$ \\\\\n",
       "\t14 & ertiga & 2015 & 6.1 & 7.71 & 26000 & Petrol & Dealer & $\\dots$ \\\\\n",
       "\t15 & dzire & 2009 & 2.25 & 7.21 & 77427 & Petrol & Dealer & $\\dots$ \\\\\n",
       "\t16 & ertiga & 2016 & 7.75 & 10.79 & 43000 & Diesel & Dealer & $\\dots$ \\\\\n",
       "\t17 & ertiga & 2015 & 7.25 & 10.79 & 41678 & Diesel & Dealer & $\\dots$ \\\\\n",
       "\t18 & ertiga & 2016 & 7.75 & 10.79 & 43000 & Diesel & Dealer & $\\dots$ \\\\\n",
       "\t19 & wagon r & 2015 & 3.25 & 5.09 & 35500 & CNG & Dealer & $\\dots$ \\\\\n",
       "\t20 & sx4 & 2010 & 2.65 & 7.98 & 41442 & Petrol & Dealer & $\\dots$ \\\\\n",
       "\t21 & alto k10 & 2016 & 2.85 & 3.95 & 25000 & Petrol & Dealer & $\\dots$ \\\\\n",
       "\t22 & ignis & 2017 & 4.9 & 5.71 & 2400 & Petrol & Dealer & $\\dots$ \\\\\n",
       "\t23 & sx4 & 2011 & 4.4 & 8.01 & 50000 & Petrol & Dealer & $\\dots$ \\\\\n",
       "\t24 & alto k10 & 2014 & 2.5 & 3.46 & 45280 & Petrol & Dealer & $\\dots$ \\\\\n",
       "\t25 & wagon r & 2013 & 2.9 & 4.41 & 56879 & Petrol & Dealer & $\\dots$ \\\\\n",
       "\t26 & swift & 2011 & 3.0 & 4.99 & 20000 & Petrol & Dealer & $\\dots$ \\\\\n",
       "\t27 & swift & 2013 & 4.15 & 5.87 & 55138 & Petrol & Dealer & $\\dots$ \\\\\n",
       "\t28 & swift & 2017 & 6.0 & 6.49 & 16200 & Petrol & Individual & $\\dots$ \\\\\n",
       "\t29 & alto k10 & 2010 & 1.95 & 3.95 & 44542 & Petrol & Dealer & $\\dots$ \\\\\n",
       "\t30 & ciaz & 2015 & 7.45 & 10.38 & 45000 & Diesel & Dealer & $\\dots$ \\\\\n",
       "\t$\\dots$ & $\\dots$ & $\\dots$ & $\\dots$ & $\\dots$ & $\\dots$ & $\\dots$ & $\\dots$ &  \\\\\n",
       "\\end{tabular}\n"
      ],
      "text/plain": [
       "301×9 DataFrames.DataFrame. Omitted printing of 4 columns\n",
       "│ Row │ Car_Name      │ Year  │ Selling_Price │ Present_Price │ Kms_Driven │\n",
       "│     │ \u001b[90mString\u001b[39m        │ \u001b[90mInt64\u001b[39m │ \u001b[90mFloat64\u001b[39m       │ \u001b[90mFloat64\u001b[39m       │ \u001b[90mInt64\u001b[39m      │\n",
       "├─────┼───────────────┼───────┼───────────────┼───────────────┼────────────┤\n",
       "│ 1   │ ritz          │ 2014  │ 3.35          │ 5.59          │ 27000      │\n",
       "│ 2   │ sx4           │ 2013  │ 4.75          │ 9.54          │ 43000      │\n",
       "│ 3   │ ciaz          │ 2017  │ 7.25          │ 9.85          │ 6900       │\n",
       "│ 4   │ wagon r       │ 2011  │ 2.85          │ 4.15          │ 5200       │\n",
       "│ 5   │ swift         │ 2014  │ 4.6           │ 6.87          │ 42450      │\n",
       "│ 6   │ vitara brezza │ 2018  │ 9.25          │ 9.83          │ 2071       │\n",
       "│ 7   │ ciaz          │ 2015  │ 6.75          │ 8.12          │ 18796      │\n",
       "│ 8   │ s cross       │ 2015  │ 6.5           │ 8.61          │ 33429      │\n",
       "│ 9   │ ciaz          │ 2016  │ 8.75          │ 8.89          │ 20273      │\n",
       "│ 10  │ ciaz          │ 2015  │ 7.45          │ 8.92          │ 42367      │\n",
       "⋮\n",
       "│ 291 │ amaze         │ 2014  │ 4.5           │ 6.4           │ 19000      │\n",
       "│ 292 │ brio          │ 2015  │ 5.4           │ 6.1           │ 31427      │\n",
       "│ 293 │ jazz          │ 2016  │ 6.4           │ 8.4           │ 12000      │\n",
       "│ 294 │ city          │ 2010  │ 3.25          │ 9.9           │ 38000      │\n",
       "│ 295 │ amaze         │ 2014  │ 3.75          │ 6.8           │ 33019      │\n",
       "│ 296 │ city          │ 2015  │ 8.55          │ 13.09         │ 60076      │\n",
       "│ 297 │ city          │ 2016  │ 9.5           │ 11.6          │ 33988      │\n",
       "│ 298 │ brio          │ 2015  │ 4.0           │ 5.9           │ 60000      │\n",
       "│ 299 │ city          │ 2009  │ 3.35          │ 11.0          │ 87934      │\n",
       "│ 300 │ city          │ 2017  │ 11.5          │ 12.5          │ 9000       │\n",
       "│ 301 │ brio          │ 2016  │ 5.3           │ 5.9           │ 5464       │"
      ]
     },
     "execution_count": 2,
     "metadata": {},
     "output_type": "execute_result"
    }
   ],
   "source": [
    "df = CSV.read(\"car data.csv\")"
   ]
  },
  {
   "cell_type": "code",
   "execution_count": 3,
   "metadata": {},
   "outputs": [],
   "source": [
    "using DataFrames"
   ]
  },
  {
   "cell_type": "code",
   "execution_count": 4,
   "metadata": {},
   "outputs": [
    {
     "data": {
      "text/plain": [
       "301-element Array{DataFrameRow{DataFrame,DataFrames.Index},1}:\n",
       " DataFrameRow. Omitted printing of 4 columns\n",
       "│ Row │ Car_Name │ Year  │ Selling_Price │ Present_Price │ Kms_Driven │\n",
       "│     │ \u001b[90mString\u001b[39m   │ \u001b[90mInt64\u001b[39m │ \u001b[90mFloat64\u001b[39m       │ \u001b[90mFloat64\u001b[39m       │ \u001b[90mInt64\u001b[39m      │\n",
       "├─────┼──────────┼───────┼───────────────┼───────────────┼────────────┤\n",
       "│ 1   │ ritz     │ 2014  │ 3.35          │ 5.59          │ 27000      │\n",
       " DataFrameRow. Omitted printing of 4 columns\n",
       "│ Row │ Car_Name │ Year  │ Selling_Price │ Present_Price │ Kms_Driven │\n",
       "│     │ \u001b[90mString\u001b[39m   │ \u001b[90mInt64\u001b[39m │ \u001b[90mFloat64\u001b[39m       │ \u001b[90mFloat64\u001b[39m       │ \u001b[90mInt64\u001b[39m      │\n",
       "├─────┼──────────┼───────┼───────────────┼───────────────┼────────────┤\n",
       "│ 2   │ sx4      │ 2013  │ 4.75          │ 9.54          │ 43000      │\n",
       " DataFrameRow. Omitted printing of 4 columns\n",
       "│ Row │ Car_Name │ Year  │ Selling_Price │ Present_Price │ Kms_Driven │\n",
       "│     │ \u001b[90mString\u001b[39m   │ \u001b[90mInt64\u001b[39m │ \u001b[90mFloat64\u001b[39m       │ \u001b[90mFloat64\u001b[39m       │ \u001b[90mInt64\u001b[39m      │\n",
       "├─────┼──────────┼───────┼───────────────┼───────────────┼────────────┤\n",
       "│ 3   │ ciaz     │ 2017  │ 7.25          │ 9.85          │ 6900       │\n",
       " DataFrameRow. Omitted printing of 4 columns\n",
       "│ Row │ Car_Name │ Year  │ Selling_Price │ Present_Price │ Kms_Driven │\n",
       "│     │ \u001b[90mString\u001b[39m   │ \u001b[90mInt64\u001b[39m │ \u001b[90mFloat64\u001b[39m       │ \u001b[90mFloat64\u001b[39m       │ \u001b[90mInt64\u001b[39m      │\n",
       "├─────┼──────────┼───────┼───────────────┼───────────────┼────────────┤\n",
       "│ 4   │ wagon r  │ 2011  │ 2.85          │ 4.15          │ 5200       │\n",
       " DataFrameRow. Omitted printing of 4 columns\n",
       "│ Row │ Car_Name │ Year  │ Selling_Price │ Present_Price │ Kms_Driven │\n",
       "│     │ \u001b[90mString\u001b[39m   │ \u001b[90mInt64\u001b[39m │ \u001b[90mFloat64\u001b[39m       │ \u001b[90mFloat64\u001b[39m       │ \u001b[90mInt64\u001b[39m      │\n",
       "├─────┼──────────┼───────┼───────────────┼───────────────┼────────────┤\n",
       "│ 5   │ swift    │ 2014  │ 4.6           │ 6.87          │ 42450      │\n",
       " DataFrameRow. Omitted printing of 4 columns\n",
       "│ Row │ Car_Name      │ Year  │ Selling_Price │ Present_Price │ Kms_Driven │\n",
       "│     │ \u001b[90mString\u001b[39m        │ \u001b[90mInt64\u001b[39m │ \u001b[90mFloat64\u001b[39m       │ \u001b[90mFloat64\u001b[39m       │ \u001b[90mInt64\u001b[39m      │\n",
       "├─────┼───────────────┼───────┼───────────────┼───────────────┼────────────┤\n",
       "│ 6   │ vitara brezza │ 2018  │ 9.25          │ 9.83          │ 2071       │\n",
       " DataFrameRow. Omitted printing of 4 columns\n",
       "│ Row │ Car_Name │ Year  │ Selling_Price │ Present_Price │ Kms_Driven │\n",
       "│     │ \u001b[90mString\u001b[39m   │ \u001b[90mInt64\u001b[39m │ \u001b[90mFloat64\u001b[39m       │ \u001b[90mFloat64\u001b[39m       │ \u001b[90mInt64\u001b[39m      │\n",
       "├─────┼──────────┼───────┼───────────────┼───────────────┼────────────┤\n",
       "│ 7   │ ciaz     │ 2015  │ 6.75          │ 8.12          │ 18796      │\n",
       " DataFrameRow. Omitted printing of 4 columns\n",
       "│ Row │ Car_Name │ Year  │ Selling_Price │ Present_Price │ Kms_Driven │\n",
       "│     │ \u001b[90mString\u001b[39m   │ \u001b[90mInt64\u001b[39m │ \u001b[90mFloat64\u001b[39m       │ \u001b[90mFloat64\u001b[39m       │ \u001b[90mInt64\u001b[39m      │\n",
       "├─────┼──────────┼───────┼───────────────┼───────────────┼────────────┤\n",
       "│ 8   │ s cross  │ 2015  │ 6.5           │ 8.61          │ 33429      │\n",
       " DataFrameRow. Omitted printing of 4 columns\n",
       "│ Row │ Car_Name │ Year  │ Selling_Price │ Present_Price │ Kms_Driven │\n",
       "│     │ \u001b[90mString\u001b[39m   │ \u001b[90mInt64\u001b[39m │ \u001b[90mFloat64\u001b[39m       │ \u001b[90mFloat64\u001b[39m       │ \u001b[90mInt64\u001b[39m      │\n",
       "├─────┼──────────┼───────┼───────────────┼───────────────┼────────────┤\n",
       "│ 9   │ ciaz     │ 2016  │ 8.75          │ 8.89          │ 20273      │\n",
       " DataFrameRow. Omitted printing of 4 columns\n",
       "│ Row │ Car_Name │ Year  │ Selling_Price │ Present_Price │ Kms_Driven │\n",
       "│     │ \u001b[90mString\u001b[39m   │ \u001b[90mInt64\u001b[39m │ \u001b[90mFloat64\u001b[39m       │ \u001b[90mFloat64\u001b[39m       │ \u001b[90mInt64\u001b[39m      │\n",
       "├─────┼──────────┼───────┼───────────────┼───────────────┼────────────┤\n",
       "│ 10  │ ciaz     │ 2015  │ 7.45          │ 8.92          │ 42367      │\n",
       " DataFrameRow. Omitted printing of 4 columns\n",
       "│ Row │ Car_Name │ Year  │ Selling_Price │ Present_Price │ Kms_Driven │\n",
       "│     │ \u001b[90mString\u001b[39m   │ \u001b[90mInt64\u001b[39m │ \u001b[90mFloat64\u001b[39m       │ \u001b[90mFloat64\u001b[39m       │ \u001b[90mInt64\u001b[39m      │\n",
       "├─────┼──────────┼───────┼───────────────┼───────────────┼────────────┤\n",
       "│ 11  │ alto 800 │ 2017  │ 2.85          │ 3.6           │ 2135       │\n",
       " DataFrameRow. Omitted printing of 4 columns\n",
       "│ Row │ Car_Name │ Year  │ Selling_Price │ Present_Price │ Kms_Driven │\n",
       "│     │ \u001b[90mString\u001b[39m   │ \u001b[90mInt64\u001b[39m │ \u001b[90mFloat64\u001b[39m       │ \u001b[90mFloat64\u001b[39m       │ \u001b[90mInt64\u001b[39m      │\n",
       "├─────┼──────────┼───────┼───────────────┼───────────────┼────────────┤\n",
       "│ 12  │ ciaz     │ 2015  │ 6.85          │ 10.38         │ 51000      │\n",
       " DataFrameRow. Omitted printing of 4 columns\n",
       "│ Row │ Car_Name │ Year  │ Selling_Price │ Present_Price │ Kms_Driven │\n",
       "│     │ \u001b[90mString\u001b[39m   │ \u001b[90mInt64\u001b[39m │ \u001b[90mFloat64\u001b[39m       │ \u001b[90mFloat64\u001b[39m       │ \u001b[90mInt64\u001b[39m      │\n",
       "├─────┼──────────┼───────┼───────────────┼───────────────┼────────────┤\n",
       "│ 13  │ ciaz     │ 2015  │ 7.5           │ 9.94          │ 15000      │\n",
       " ⋮\n",
       " DataFrameRow. Omitted printing of 4 columns\n",
       "│ Row │ Car_Name │ Year  │ Selling_Price │ Present_Price │ Kms_Driven │\n",
       "│     │ \u001b[90mString\u001b[39m   │ \u001b[90mInt64\u001b[39m │ \u001b[90mFloat64\u001b[39m       │ \u001b[90mFloat64\u001b[39m       │ \u001b[90mInt64\u001b[39m      │\n",
       "├─────┼──────────┼───────┼───────────────┼───────────────┼────────────┤\n",
       "│ 290 │ city     │ 2016  │ 10.11         │ 13.6          │ 10980      │\n",
       " DataFrameRow. Omitted printing of 4 columns\n",
       "│ Row │ Car_Name │ Year  │ Selling_Price │ Present_Price │ Kms_Driven │\n",
       "│     │ \u001b[90mString\u001b[39m   │ \u001b[90mInt64\u001b[39m │ \u001b[90mFloat64\u001b[39m       │ \u001b[90mFloat64\u001b[39m       │ \u001b[90mInt64\u001b[39m      │\n",
       "├─────┼──────────┼───────┼───────────────┼───────────────┼────────────┤\n",
       "│ 291 │ amaze    │ 2014  │ 4.5           │ 6.4           │ 19000      │\n",
       " DataFrameRow. Omitted printing of 4 columns\n",
       "│ Row │ Car_Name │ Year  │ Selling_Price │ Present_Price │ Kms_Driven │\n",
       "│     │ \u001b[90mString\u001b[39m   │ \u001b[90mInt64\u001b[39m │ \u001b[90mFloat64\u001b[39m       │ \u001b[90mFloat64\u001b[39m       │ \u001b[90mInt64\u001b[39m      │\n",
       "├─────┼──────────┼───────┼───────────────┼───────────────┼────────────┤\n",
       "│ 292 │ brio     │ 2015  │ 5.4           │ 6.1           │ 31427      │\n",
       " DataFrameRow. Omitted printing of 4 columns\n",
       "│ Row │ Car_Name │ Year  │ Selling_Price │ Present_Price │ Kms_Driven │\n",
       "│     │ \u001b[90mString\u001b[39m   │ \u001b[90mInt64\u001b[39m │ \u001b[90mFloat64\u001b[39m       │ \u001b[90mFloat64\u001b[39m       │ \u001b[90mInt64\u001b[39m      │\n",
       "├─────┼──────────┼───────┼───────────────┼───────────────┼────────────┤\n",
       "│ 293 │ jazz     │ 2016  │ 6.4           │ 8.4           │ 12000      │\n",
       " DataFrameRow. Omitted printing of 4 columns\n",
       "│ Row │ Car_Name │ Year  │ Selling_Price │ Present_Price │ Kms_Driven │\n",
       "│     │ \u001b[90mString\u001b[39m   │ \u001b[90mInt64\u001b[39m │ \u001b[90mFloat64\u001b[39m       │ \u001b[90mFloat64\u001b[39m       │ \u001b[90mInt64\u001b[39m      │\n",
       "├─────┼──────────┼───────┼───────────────┼───────────────┼────────────┤\n",
       "│ 294 │ city     │ 2010  │ 3.25          │ 9.9           │ 38000      │\n",
       " DataFrameRow. Omitted printing of 4 columns\n",
       "│ Row │ Car_Name │ Year  │ Selling_Price │ Present_Price │ Kms_Driven │\n",
       "│     │ \u001b[90mString\u001b[39m   │ \u001b[90mInt64\u001b[39m │ \u001b[90mFloat64\u001b[39m       │ \u001b[90mFloat64\u001b[39m       │ \u001b[90mInt64\u001b[39m      │\n",
       "├─────┼──────────┼───────┼───────────────┼───────────────┼────────────┤\n",
       "│ 295 │ amaze    │ 2014  │ 3.75          │ 6.8           │ 33019      │\n",
       " DataFrameRow. Omitted printing of 4 columns\n",
       "│ Row │ Car_Name │ Year  │ Selling_Price │ Present_Price │ Kms_Driven │\n",
       "│     │ \u001b[90mString\u001b[39m   │ \u001b[90mInt64\u001b[39m │ \u001b[90mFloat64\u001b[39m       │ \u001b[90mFloat64\u001b[39m       │ \u001b[90mInt64\u001b[39m      │\n",
       "├─────┼──────────┼───────┼───────────────┼───────────────┼────────────┤\n",
       "│ 296 │ city     │ 2015  │ 8.55          │ 13.09         │ 60076      │\n",
       " DataFrameRow. Omitted printing of 4 columns\n",
       "│ Row │ Car_Name │ Year  │ Selling_Price │ Present_Price │ Kms_Driven │\n",
       "│     │ \u001b[90mString\u001b[39m   │ \u001b[90mInt64\u001b[39m │ \u001b[90mFloat64\u001b[39m       │ \u001b[90mFloat64\u001b[39m       │ \u001b[90mInt64\u001b[39m      │\n",
       "├─────┼──────────┼───────┼───────────────┼───────────────┼────────────┤\n",
       "│ 297 │ city     │ 2016  │ 9.5           │ 11.6          │ 33988      │\n",
       " DataFrameRow. Omitted printing of 4 columns\n",
       "│ Row │ Car_Name │ Year  │ Selling_Price │ Present_Price │ Kms_Driven │\n",
       "│     │ \u001b[90mString\u001b[39m   │ \u001b[90mInt64\u001b[39m │ \u001b[90mFloat64\u001b[39m       │ \u001b[90mFloat64\u001b[39m       │ \u001b[90mInt64\u001b[39m      │\n",
       "├─────┼──────────┼───────┼───────────────┼───────────────┼────────────┤\n",
       "│ 298 │ brio     │ 2015  │ 4.0           │ 5.9           │ 60000      │\n",
       " DataFrameRow. Omitted printing of 4 columns\n",
       "│ Row │ Car_Name │ Year  │ Selling_Price │ Present_Price │ Kms_Driven │\n",
       "│     │ \u001b[90mString\u001b[39m   │ \u001b[90mInt64\u001b[39m │ \u001b[90mFloat64\u001b[39m       │ \u001b[90mFloat64\u001b[39m       │ \u001b[90mInt64\u001b[39m      │\n",
       "├─────┼──────────┼───────┼───────────────┼───────────────┼────────────┤\n",
       "│ 299 │ city     │ 2009  │ 3.35          │ 11.0          │ 87934      │\n",
       " DataFrameRow. Omitted printing of 4 columns\n",
       "│ Row │ Car_Name │ Year  │ Selling_Price │ Present_Price │ Kms_Driven │\n",
       "│     │ \u001b[90mString\u001b[39m   │ \u001b[90mInt64\u001b[39m │ \u001b[90mFloat64\u001b[39m       │ \u001b[90mFloat64\u001b[39m       │ \u001b[90mInt64\u001b[39m      │\n",
       "├─────┼──────────┼───────┼───────────────┼───────────────┼────────────┤\n",
       "│ 300 │ city     │ 2017  │ 11.5          │ 12.5          │ 9000       │\n",
       " DataFrameRow. Omitted printing of 4 columns\n",
       "│ Row │ Car_Name │ Year  │ Selling_Price │ Present_Price │ Kms_Driven │\n",
       "│     │ \u001b[90mString\u001b[39m   │ \u001b[90mInt64\u001b[39m │ \u001b[90mFloat64\u001b[39m       │ \u001b[90mFloat64\u001b[39m       │ \u001b[90mInt64\u001b[39m      │\n",
       "├─────┼──────────┼───────┼───────────────┼───────────────┼────────────┤\n",
       "│ 301 │ brio     │ 2016  │ 5.3           │ 5.9           │ 5464       │"
      ]
     },
     "execution_count": 4,
     "metadata": {},
     "output_type": "execute_result"
    }
   ],
   "source": [
    "df = collect(skipmissing(eachrow(df)))"
   ]
  },
  {
   "cell_type": "code",
   "execution_count": 5,
   "metadata": {},
   "outputs": [
    {
     "data": {
      "text/plain": [
       "Array{DataFrameRow{DataFrame,DataFrames.Index},1}"
      ]
     },
     "execution_count": 5,
     "metadata": {},
     "output_type": "execute_result"
    }
   ],
   "source": [
    "typeof(df)"
   ]
  },
  {
   "cell_type": "code",
   "execution_count": 6,
   "metadata": {},
   "outputs": [
    {
     "data": {
      "text/html": [
       "<table class=\"data-frame\"><thead><tr><th></th><th>Car_Name</th><th>Year</th><th>Selling_Price</th><th>Present_Price</th><th>Kms_Driven</th><th>Fuel_Type</th><th>Seller_Type</th></tr><tr><th></th><th>String</th><th>Int64</th><th>Float64</th><th>Float64</th><th>Int64</th><th>String</th><th>String</th></tr></thead><tbody><p>301 rows × 9 columns (omitted printing of 2 columns)</p><tr><th>1</th><td>ritz</td><td>2014</td><td>3.35</td><td>5.59</td><td>27000</td><td>Petrol</td><td>Dealer</td></tr><tr><th>2</th><td>sx4</td><td>2013</td><td>4.75</td><td>9.54</td><td>43000</td><td>Diesel</td><td>Dealer</td></tr><tr><th>3</th><td>ciaz</td><td>2017</td><td>7.25</td><td>9.85</td><td>6900</td><td>Petrol</td><td>Dealer</td></tr><tr><th>4</th><td>wagon r</td><td>2011</td><td>2.85</td><td>4.15</td><td>5200</td><td>Petrol</td><td>Dealer</td></tr><tr><th>5</th><td>swift</td><td>2014</td><td>4.6</td><td>6.87</td><td>42450</td><td>Diesel</td><td>Dealer</td></tr><tr><th>6</th><td>vitara brezza</td><td>2018</td><td>9.25</td><td>9.83</td><td>2071</td><td>Diesel</td><td>Dealer</td></tr><tr><th>7</th><td>ciaz</td><td>2015</td><td>6.75</td><td>8.12</td><td>18796</td><td>Petrol</td><td>Dealer</td></tr><tr><th>8</th><td>s cross</td><td>2015</td><td>6.5</td><td>8.61</td><td>33429</td><td>Diesel</td><td>Dealer</td></tr><tr><th>9</th><td>ciaz</td><td>2016</td><td>8.75</td><td>8.89</td><td>20273</td><td>Diesel</td><td>Dealer</td></tr><tr><th>10</th><td>ciaz</td><td>2015</td><td>7.45</td><td>8.92</td><td>42367</td><td>Diesel</td><td>Dealer</td></tr><tr><th>11</th><td>alto 800</td><td>2017</td><td>2.85</td><td>3.6</td><td>2135</td><td>Petrol</td><td>Dealer</td></tr><tr><th>12</th><td>ciaz</td><td>2015</td><td>6.85</td><td>10.38</td><td>51000</td><td>Diesel</td><td>Dealer</td></tr><tr><th>13</th><td>ciaz</td><td>2015</td><td>7.5</td><td>9.94</td><td>15000</td><td>Petrol</td><td>Dealer</td></tr><tr><th>14</th><td>ertiga</td><td>2015</td><td>6.1</td><td>7.71</td><td>26000</td><td>Petrol</td><td>Dealer</td></tr><tr><th>15</th><td>dzire</td><td>2009</td><td>2.25</td><td>7.21</td><td>77427</td><td>Petrol</td><td>Dealer</td></tr><tr><th>16</th><td>ertiga</td><td>2016</td><td>7.75</td><td>10.79</td><td>43000</td><td>Diesel</td><td>Dealer</td></tr><tr><th>17</th><td>ertiga</td><td>2015</td><td>7.25</td><td>10.79</td><td>41678</td><td>Diesel</td><td>Dealer</td></tr><tr><th>18</th><td>ertiga</td><td>2016</td><td>7.75</td><td>10.79</td><td>43000</td><td>Diesel</td><td>Dealer</td></tr><tr><th>19</th><td>wagon r</td><td>2015</td><td>3.25</td><td>5.09</td><td>35500</td><td>CNG</td><td>Dealer</td></tr><tr><th>20</th><td>sx4</td><td>2010</td><td>2.65</td><td>7.98</td><td>41442</td><td>Petrol</td><td>Dealer</td></tr><tr><th>21</th><td>alto k10</td><td>2016</td><td>2.85</td><td>3.95</td><td>25000</td><td>Petrol</td><td>Dealer</td></tr><tr><th>22</th><td>ignis</td><td>2017</td><td>4.9</td><td>5.71</td><td>2400</td><td>Petrol</td><td>Dealer</td></tr><tr><th>23</th><td>sx4</td><td>2011</td><td>4.4</td><td>8.01</td><td>50000</td><td>Petrol</td><td>Dealer</td></tr><tr><th>24</th><td>alto k10</td><td>2014</td><td>2.5</td><td>3.46</td><td>45280</td><td>Petrol</td><td>Dealer</td></tr><tr><th>25</th><td>wagon r</td><td>2013</td><td>2.9</td><td>4.41</td><td>56879</td><td>Petrol</td><td>Dealer</td></tr><tr><th>26</th><td>swift</td><td>2011</td><td>3.0</td><td>4.99</td><td>20000</td><td>Petrol</td><td>Dealer</td></tr><tr><th>27</th><td>swift</td><td>2013</td><td>4.15</td><td>5.87</td><td>55138</td><td>Petrol</td><td>Dealer</td></tr><tr><th>28</th><td>swift</td><td>2017</td><td>6.0</td><td>6.49</td><td>16200</td><td>Petrol</td><td>Individual</td></tr><tr><th>29</th><td>alto k10</td><td>2010</td><td>1.95</td><td>3.95</td><td>44542</td><td>Petrol</td><td>Dealer</td></tr><tr><th>30</th><td>ciaz</td><td>2015</td><td>7.45</td><td>10.38</td><td>45000</td><td>Diesel</td><td>Dealer</td></tr><tr><th>&vellip;</th><td>&vellip;</td><td>&vellip;</td><td>&vellip;</td><td>&vellip;</td><td>&vellip;</td><td>&vellip;</td><td>&vellip;</td></tr></tbody></table>"
      ],
      "text/latex": [
       "\\begin{tabular}{r|cccccccc}\n",
       "\t& Car\\_Name & Year & Selling\\_Price & Present\\_Price & Kms\\_Driven & Fuel\\_Type & Seller\\_Type & \\\\\n",
       "\t\\hline\n",
       "\t& String & Int64 & Float64 & Float64 & Int64 & String & String & \\\\\n",
       "\t\\hline\n",
       "\t1 & ritz & 2014 & 3.35 & 5.59 & 27000 & Petrol & Dealer & $\\dots$ \\\\\n",
       "\t2 & sx4 & 2013 & 4.75 & 9.54 & 43000 & Diesel & Dealer & $\\dots$ \\\\\n",
       "\t3 & ciaz & 2017 & 7.25 & 9.85 & 6900 & Petrol & Dealer & $\\dots$ \\\\\n",
       "\t4 & wagon r & 2011 & 2.85 & 4.15 & 5200 & Petrol & Dealer & $\\dots$ \\\\\n",
       "\t5 & swift & 2014 & 4.6 & 6.87 & 42450 & Diesel & Dealer & $\\dots$ \\\\\n",
       "\t6 & vitara brezza & 2018 & 9.25 & 9.83 & 2071 & Diesel & Dealer & $\\dots$ \\\\\n",
       "\t7 & ciaz & 2015 & 6.75 & 8.12 & 18796 & Petrol & Dealer & $\\dots$ \\\\\n",
       "\t8 & s cross & 2015 & 6.5 & 8.61 & 33429 & Diesel & Dealer & $\\dots$ \\\\\n",
       "\t9 & ciaz & 2016 & 8.75 & 8.89 & 20273 & Diesel & Dealer & $\\dots$ \\\\\n",
       "\t10 & ciaz & 2015 & 7.45 & 8.92 & 42367 & Diesel & Dealer & $\\dots$ \\\\\n",
       "\t11 & alto 800 & 2017 & 2.85 & 3.6 & 2135 & Petrol & Dealer & $\\dots$ \\\\\n",
       "\t12 & ciaz & 2015 & 6.85 & 10.38 & 51000 & Diesel & Dealer & $\\dots$ \\\\\n",
       "\t13 & ciaz & 2015 & 7.5 & 9.94 & 15000 & Petrol & Dealer & $\\dots$ \\\\\n",
       "\t14 & ertiga & 2015 & 6.1 & 7.71 & 26000 & Petrol & Dealer & $\\dots$ \\\\\n",
       "\t15 & dzire & 2009 & 2.25 & 7.21 & 77427 & Petrol & Dealer & $\\dots$ \\\\\n",
       "\t16 & ertiga & 2016 & 7.75 & 10.79 & 43000 & Diesel & Dealer & $\\dots$ \\\\\n",
       "\t17 & ertiga & 2015 & 7.25 & 10.79 & 41678 & Diesel & Dealer & $\\dots$ \\\\\n",
       "\t18 & ertiga & 2016 & 7.75 & 10.79 & 43000 & Diesel & Dealer & $\\dots$ \\\\\n",
       "\t19 & wagon r & 2015 & 3.25 & 5.09 & 35500 & CNG & Dealer & $\\dots$ \\\\\n",
       "\t20 & sx4 & 2010 & 2.65 & 7.98 & 41442 & Petrol & Dealer & $\\dots$ \\\\\n",
       "\t21 & alto k10 & 2016 & 2.85 & 3.95 & 25000 & Petrol & Dealer & $\\dots$ \\\\\n",
       "\t22 & ignis & 2017 & 4.9 & 5.71 & 2400 & Petrol & Dealer & $\\dots$ \\\\\n",
       "\t23 & sx4 & 2011 & 4.4 & 8.01 & 50000 & Petrol & Dealer & $\\dots$ \\\\\n",
       "\t24 & alto k10 & 2014 & 2.5 & 3.46 & 45280 & Petrol & Dealer & $\\dots$ \\\\\n",
       "\t25 & wagon r & 2013 & 2.9 & 4.41 & 56879 & Petrol & Dealer & $\\dots$ \\\\\n",
       "\t26 & swift & 2011 & 3.0 & 4.99 & 20000 & Petrol & Dealer & $\\dots$ \\\\\n",
       "\t27 & swift & 2013 & 4.15 & 5.87 & 55138 & Petrol & Dealer & $\\dots$ \\\\\n",
       "\t28 & swift & 2017 & 6.0 & 6.49 & 16200 & Petrol & Individual & $\\dots$ \\\\\n",
       "\t29 & alto k10 & 2010 & 1.95 & 3.95 & 44542 & Petrol & Dealer & $\\dots$ \\\\\n",
       "\t30 & ciaz & 2015 & 7.45 & 10.38 & 45000 & Diesel & Dealer & $\\dots$ \\\\\n",
       "\t$\\dots$ & $\\dots$ & $\\dots$ & $\\dots$ & $\\dots$ & $\\dots$ & $\\dots$ & $\\dots$ &  \\\\\n",
       "\\end{tabular}\n"
      ],
      "text/plain": [
       "301×9 DataFrame. Omitted printing of 4 columns\n",
       "│ Row │ Car_Name      │ Year  │ Selling_Price │ Present_Price │ Kms_Driven │\n",
       "│     │ \u001b[90mString\u001b[39m        │ \u001b[90mInt64\u001b[39m │ \u001b[90mFloat64\u001b[39m       │ \u001b[90mFloat64\u001b[39m       │ \u001b[90mInt64\u001b[39m      │\n",
       "├─────┼───────────────┼───────┼───────────────┼───────────────┼────────────┤\n",
       "│ 1   │ ritz          │ 2014  │ 3.35          │ 5.59          │ 27000      │\n",
       "│ 2   │ sx4           │ 2013  │ 4.75          │ 9.54          │ 43000      │\n",
       "│ 3   │ ciaz          │ 2017  │ 7.25          │ 9.85          │ 6900       │\n",
       "│ 4   │ wagon r       │ 2011  │ 2.85          │ 4.15          │ 5200       │\n",
       "│ 5   │ swift         │ 2014  │ 4.6           │ 6.87          │ 42450      │\n",
       "│ 6   │ vitara brezza │ 2018  │ 9.25          │ 9.83          │ 2071       │\n",
       "│ 7   │ ciaz          │ 2015  │ 6.75          │ 8.12          │ 18796      │\n",
       "│ 8   │ s cross       │ 2015  │ 6.5           │ 8.61          │ 33429      │\n",
       "│ 9   │ ciaz          │ 2016  │ 8.75          │ 8.89          │ 20273      │\n",
       "│ 10  │ ciaz          │ 2015  │ 7.45          │ 8.92          │ 42367      │\n",
       "⋮\n",
       "│ 291 │ amaze         │ 2014  │ 4.5           │ 6.4           │ 19000      │\n",
       "│ 292 │ brio          │ 2015  │ 5.4           │ 6.1           │ 31427      │\n",
       "│ 293 │ jazz          │ 2016  │ 6.4           │ 8.4           │ 12000      │\n",
       "│ 294 │ city          │ 2010  │ 3.25          │ 9.9           │ 38000      │\n",
       "│ 295 │ amaze         │ 2014  │ 3.75          │ 6.8           │ 33019      │\n",
       "│ 296 │ city          │ 2015  │ 8.55          │ 13.09         │ 60076      │\n",
       "│ 297 │ city          │ 2016  │ 9.5           │ 11.6          │ 33988      │\n",
       "│ 298 │ brio          │ 2015  │ 4.0           │ 5.9           │ 60000      │\n",
       "│ 299 │ city          │ 2009  │ 3.35          │ 11.0          │ 87934      │\n",
       "│ 300 │ city          │ 2017  │ 11.5          │ 12.5          │ 9000       │\n",
       "│ 301 │ brio          │ 2016  │ 5.3           │ 5.9           │ 5464       │"
      ]
     },
     "execution_count": 6,
     "metadata": {},
     "output_type": "execute_result"
    }
   ],
   "source": [
    "df = DataFrame(df)"
   ]
  },
  {
   "cell_type": "code",
   "execution_count": 7,
   "metadata": {},
   "outputs": [
    {
     "data": {
      "text/plain": [
       "(220×9 DataFrame. Omitted printing of 4 columns\n",
       "│ Row │ Car_Name      │ Year  │ Selling_Price │ Present_Price │ Kms_Driven │\n",
       "│     │ \u001b[90mString\u001b[39m        │ \u001b[90mInt64\u001b[39m │ \u001b[90mFloat64\u001b[39m       │ \u001b[90mFloat64\u001b[39m       │ \u001b[90mInt64\u001b[39m      │\n",
       "├─────┼───────────────┼───────┼───────────────┼───────────────┼────────────┤\n",
       "│ 1   │ ritz          │ 2014  │ 3.35          │ 5.59          │ 27000      │\n",
       "│ 2   │ sx4           │ 2013  │ 4.75          │ 9.54          │ 43000      │\n",
       "│ 3   │ ciaz          │ 2017  │ 7.25          │ 9.85          │ 6900       │\n",
       "│ 4   │ swift         │ 2014  │ 4.6           │ 6.87          │ 42450      │\n",
       "│ 5   │ vitara brezza │ 2018  │ 9.25          │ 9.83          │ 2071       │\n",
       "│ 6   │ ciaz          │ 2015  │ 6.75          │ 8.12          │ 18796      │\n",
       "│ 7   │ s cross       │ 2015  │ 6.5           │ 8.61          │ 33429      │\n",
       "│ 8   │ ciaz          │ 2016  │ 8.75          │ 8.89          │ 20273      │\n",
       "│ 9   │ alto 800      │ 2017  │ 2.85          │ 3.6           │ 2135       │\n",
       "│ 10  │ ciaz          │ 2015  │ 6.85          │ 10.38         │ 51000      │\n",
       "⋮\n",
       "│ 210 │ amaze         │ 2015  │ 5.75          │ 7.5           │ 44000      │\n",
       "│ 211 │ city          │ 2015  │ 8.4           │ 13.6          │ 34000      │\n",
       "│ 212 │ city          │ 2016  │ 10.11         │ 13.6          │ 10980      │\n",
       "│ 213 │ amaze         │ 2014  │ 4.5           │ 6.4           │ 19000      │\n",
       "│ 214 │ brio          │ 2015  │ 5.4           │ 6.1           │ 31427      │\n",
       "│ 215 │ jazz          │ 2016  │ 6.4           │ 8.4           │ 12000      │\n",
       "│ 216 │ amaze         │ 2014  │ 3.75          │ 6.8           │ 33019      │\n",
       "│ 217 │ city          │ 2016  │ 9.5           │ 11.6          │ 33988      │\n",
       "│ 218 │ brio          │ 2015  │ 4.0           │ 5.9           │ 60000      │\n",
       "│ 219 │ city          │ 2009  │ 3.35          │ 11.0          │ 87934      │\n",
       "│ 220 │ brio          │ 2016  │ 5.3           │ 5.9           │ 5464       │, 81×9 DataFrame. Omitted printing of 4 columns\n",
       "│ Row │ Car_Name │ Year  │ Selling_Price │ Present_Price │ Kms_Driven │\n",
       "│     │ \u001b[90mString\u001b[39m   │ \u001b[90mInt64\u001b[39m │ \u001b[90mFloat64\u001b[39m       │ \u001b[90mFloat64\u001b[39m       │ \u001b[90mInt64\u001b[39m      │\n",
       "├─────┼──────────┼───────┼───────────────┼───────────────┼────────────┤\n",
       "│ 1   │ wagon r  │ 2011  │ 2.85          │ 4.15          │ 5200       │\n",
       "│ 2   │ ciaz     │ 2015  │ 7.45          │ 8.92          │ 42367      │\n",
       "│ 3   │ ertiga   │ 2015  │ 6.1           │ 7.71          │ 26000      │\n",
       "│ 4   │ sx4      │ 2010  │ 2.65          │ 7.98          │ 41442      │\n",
       "│ 5   │ alto k10 │ 2016  │ 2.85          │ 3.95          │ 25000      │\n",
       "│ 6   │ sx4      │ 2011  │ 4.4           │ 8.01          │ 50000      │\n",
       "│ 7   │ wagon r  │ 2013  │ 2.9           │ 4.41          │ 56879      │\n",
       "│ 8   │ sx4      │ 2011  │ 2.95          │ 7.74          │ 49998      │\n",
       "│ 9   │ sx4      │ 2008  │ 1.95          │ 7.15          │ 58000      │\n",
       "│ 10  │ dzire    │ 2014  │ 5.5           │ 8.06          │ 45780      │\n",
       "⋮\n",
       "│ 71  │ creta    │ 2016  │ 12.9          │ 13.6          │ 35934      │\n",
       "│ 72  │ brio     │ 2016  │ 5.5           │ 5.97          │ 5600       │\n",
       "│ 73  │ amaze    │ 2015  │ 4.0           │ 5.8           │ 40023      │\n",
       "│ 74  │ jazz     │ 2016  │ 6.6           │ 7.7           │ 16002      │\n",
       "│ 75  │ brio     │ 2017  │ 4.8           │ 5.8           │ 19000      │\n",
       "│ 76  │ city     │ 2015  │ 6.7           │ 10.0          │ 18828      │\n",
       "│ 77  │ city     │ 2009  │ 3.0           │ 10.0          │ 69562      │\n",
       "│ 78  │ brio     │ 2013  │ 3.5           │ 5.9           │ 9800       │\n",
       "│ 79  │ city     │ 2010  │ 3.25          │ 9.9           │ 38000      │\n",
       "│ 80  │ city     │ 2015  │ 8.55          │ 13.09         │ 60076      │\n",
       "│ 81  │ city     │ 2017  │ 11.5          │ 12.5          │ 9000       │)"
      ]
     },
     "execution_count": 7,
     "metadata": {},
     "output_type": "execute_result"
    }
   ],
   "source": [
    "using Lathe.preprocess\n",
    "train, test = TrainTestSplit(df, .75)"
   ]
  },
  {
   "cell_type": "code",
   "execution_count": 8,
   "metadata": {},
   "outputs": [
    {
     "data": {
      "text/plain": [
       ":Kms_Driven"
      ]
     },
     "execution_count": 8,
     "metadata": {},
     "output_type": "execute_result"
    }
   ],
   "source": [
    "target = :Present_Price\n",
    "feature1 = :Year\n",
    "feature2 = :Kms_Driven"
   ]
  },
  {
   "cell_type": "code",
   "execution_count": 9,
   "metadata": {},
   "outputs": [
    {
     "data": {
      "text/plain": [
       "81-element Array{Int64,1}:\n",
       "  5200\n",
       " 42367\n",
       " 26000\n",
       " 41442\n",
       " 25000\n",
       " 50000\n",
       " 56879\n",
       " 49998\n",
       " 58000\n",
       " 45780\n",
       " 65000\n",
       " 25870\n",
       " 15000\n",
       "     ⋮\n",
       " 17000\n",
       " 35934\n",
       "  5600\n",
       " 40023\n",
       " 16002\n",
       " 19000\n",
       " 18828\n",
       " 69562\n",
       "  9800\n",
       " 38000\n",
       " 60076\n",
       "  9000"
      ]
     },
     "execution_count": 9,
     "metadata": {},
     "output_type": "execute_result"
    }
   ],
   "source": [
    "trainy = train[!,target]\n",
    "testy = test[!,target]\n",
    "trainX1 = train[!,feature1]\n",
    "trainX2 = train[!,feature2]\n",
    "testX1 = test[!,feature1]\n",
    "testX2 = test[!,feature2]"
   ]
  },
  {
   "cell_type": "code",
   "execution_count": 10,
   "metadata": {},
   "outputs": [
    {
     "data": {
      "text/plain": [
       "#7 (generic function with 1 method)"
      ]
     },
     "execution_count": 10,
     "metadata": {},
     "output_type": "execute_result"
    }
   ],
   "source": [
    "using Lathe.models\n",
    "model1 = LinearRegression(trainX1,trainy)\n",
    "model2 = LinearRegression(trainX2,trainy)"
   ]
  },
  {
   "cell_type": "code",
   "execution_count": 11,
   "metadata": {},
   "outputs": [
    {
     "data": {
      "text/plain": [
       "81-element Array{Float64,1}:\n",
       " 7.561405561332165\n",
       " 7.750725745455426\n",
       " 7.750725745455426\n",
       " 7.514075515301357\n",
       " 7.7980557914862345\n",
       " 7.561405561332165\n",
       " 7.656065653393796\n",
       " 7.561405561332165\n",
       " 7.419415423239727\n",
       " 7.703395699424604\n",
       " 7.324755331178096\n",
       " 7.750725745455426\n",
       " 7.845385837517043\n",
       " ⋮\n",
       " 7.7980557914862345\n",
       " 7.7980557914862345\n",
       " 7.7980557914862345\n",
       " 7.750725745455426\n",
       " 7.7980557914862345\n",
       " 7.845385837517043\n",
       " 7.750725745455426\n",
       " 7.466745469270535\n",
       " 7.656065653393796\n",
       " 7.514075515301357\n",
       " 7.750725745455426\n",
       " 7.845385837517043"
      ]
     },
     "execution_count": 11,
     "metadata": {},
     "output_type": "execute_result"
    }
   ],
   "source": [
    "yhat1 = model1.predict(testX1)"
   ]
  },
  {
   "cell_type": "code",
   "execution_count": 12,
   "metadata": {},
   "outputs": [
    {
     "data": {
      "text/plain": [
       "81-element Array{Float64,1}:\n",
       "  5.389545369065091\n",
       "  8.185717015118849\n",
       "  6.9543843455205\n",
       "  8.116126820252443\n",
       "  6.879151702421682\n",
       "  8.759967779892126\n",
       "  9.277493131768892\n",
       "  8.759817314605927\n",
       "  9.361828924682666\n",
       "  8.442486026015114\n",
       "  9.88845742637439\n",
       "  6.944604101917653\n",
       "  6.126825271433505\n",
       "  ⋮\n",
       "  6.27729055763114\n",
       "  7.701745422064155\n",
       "  5.419638426304618\n",
       "  8.00937169969522\n",
       "  6.20220837981852\n",
       "  6.427755843828776\n",
       "  6.4148158292157795\n",
       " 10.231668744191197\n",
       "  5.735615527319653\n",
       "  7.857176062706312\n",
       "  9.518011891755812\n",
       "  5.675429412840598"
      ]
     },
     "execution_count": 12,
     "metadata": {},
     "output_type": "execute_result"
    }
   ],
   "source": [
    "yhat2 = model2.predict(testX2)"
   ]
  },
  {
   "cell_type": "code",
   "execution_count": 13,
   "metadata": {},
   "outputs": [
    {
     "name": "stdout",
     "output_type": "stream",
     "text": [
      "Model one accuracy: 0.2129770421056951\n",
      "Model two accuracy: 0.5555487329675662\n"
     ]
    }
   ],
   "source": [
    "using Lathe.stats\n",
    "println(\"Model one accuracy: \", mae(yhat1,testy))\n",
    "println(\"Model two accuracy: \", mae(yhat2,testy))"
   ]
  },
  {
   "cell_type": "code",
   "execution_count": 14,
   "metadata": {},
   "outputs": [
    {
     "name": "stdout",
     "output_type": "stream",
     "text": [
      "7.474641975308641\n"
     ]
    }
   ],
   "source": [
    "println(mean(testy))"
   ]
  },
  {
   "cell_type": "code",
   "execution_count": 16,
   "metadata": {},
   "outputs": [
    {
     "data": {
      "text/plain": [
       "81-element Array{Float64,1}:\n",
       " 6.475475465198628\n",
       " 7.968221380287138\n",
       " 7.352555045487963\n",
       " 7.8151011677769\n",
       " 7.338603746953958\n",
       " 8.160686670612145\n",
       " 8.466779392581344\n",
       " 8.160611437969045\n",
       " 8.390622173961196\n",
       " 8.07294086271986\n",
       " 8.606606378776243\n",
       " 7.34766492368654\n",
       " 6.986105554475274\n",
       " ⋮\n",
       " 7.037673174558687\n",
       " 7.749900606775195\n",
       " 6.608847108895427\n",
       " 7.8800487225753235\n",
       " 7.000132085652377\n",
       " 7.13657084067291\n",
       " 7.082770787335603\n",
       " 8.849207106730866\n",
       " 6.695840590356724\n",
       " 7.685625789003835\n",
       " 8.634368818605619\n",
       " 6.7604076251788205"
      ]
     },
     "execution_count": 16,
     "metadata": {},
     "output_type": "execute_result"
    }
   ],
   "source": [
    "yhati = [mean([pred1,pred2]) for (pred1,pred2) in zip(yhat1,yhat2)]"
   ]
  },
  {
   "cell_type": "code",
   "execution_count": 17,
   "metadata": {},
   "outputs": [
    {
     "name": "stdout",
     "output_type": "stream",
     "text": [
      "Model one accuracy: 0.2129770421056951\n",
      "Model two accuracy: 0.5555487329675662\n",
      "Combined accuracy: 0.384262887536631\n"
     ]
    }
   ],
   "source": [
    "println(\"Model one accuracy: \", mae(yhat1,testy))\n",
    "println(\"Model two accuracy: \", mae(yhat2,testy))\n",
    "println(\"Combined accuracy: \", mae(yhati,testy))"
   ]
  },
  {
   "cell_type": "code",
   "execution_count": 18,
   "metadata": {},
   "outputs": [
    {
     "name": "stderr",
     "output_type": "stream",
     "text": [
      "┌ Info: Precompiling JLD2 [033835bb-8acc-5ee8-8aae-3f567f8a3819]\n",
      "└ @ Base loading.jl:1260\n"
     ]
    }
   ],
   "source": [
    "using JLD2"
   ]
  },
  {
   "cell_type": "code",
   "execution_count": 19,
   "metadata": {},
   "outputs": [],
   "source": [
    "@save \"mdl.jld2\" model1"
   ]
  },
  {
   "cell_type": "code",
   "execution_count": null,
   "metadata": {},
   "outputs": [],
   "source": []
  }
 ],
 "metadata": {
  "@webio": {
   "lastCommId": null,
   "lastKernelId": null
  },
  "kernelspec": {
   "display_name": "Julia 1.2.0",
   "language": "julia",
   "name": "julia-1.2"
  },
  "language_info": {
   "file_extension": ".jl",
   "mimetype": "application/julia",
   "name": "julia",
   "version": "1.4.1"
  }
 },
 "nbformat": 4,
 "nbformat_minor": 2
}
