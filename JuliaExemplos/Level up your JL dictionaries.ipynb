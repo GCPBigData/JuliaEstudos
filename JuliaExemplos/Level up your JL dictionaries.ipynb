{
 "cells": [
  {
   "cell_type": "code",
   "execution_count": null,
   "metadata": {},
   "outputs": [],
   "source": []
  },
  {
   "cell_type": "code",
   "execution_count": 7,
   "metadata": {},
   "outputs": [
    {
     "data": {
      "text/plain": [
       "Dict{Symbol,Int64} with 3 entries:\n",
       "  :a => 5\n",
       "  :b => 7\n",
       "  :c => 8"
      ]
     },
     "execution_count": 7,
     "metadata": {},
     "output_type": "execute_result"
    }
   ],
   "source": [
    "exampdict = Dict(:a => 5,:b => 7,:c => 8)"
   ]
  },
  {
   "cell_type": "code",
   "execution_count": 9,
   "metadata": {},
   "outputs": [
    {
     "name": "stdout",
     "output_type": "stream",
     "text": [
      "5\n",
      "7\n",
      "8\n",
      "0\n"
     ]
    }
   ],
   "source": [
    "a = get(exampdict, :a, 0)\n",
    "b = get(exampdict, :b, 0)\n",
    "c = get(exampdict, :c, 0)\n",
    "d = get(exampdict, :d, 0)\n",
    "println(a)\n",
    "println(b)\n",
    "println(c)\n",
    "println(d)"
   ]
  },
  {
   "cell_type": "code",
   "execution_count": 12,
   "metadata": {},
   "outputs": [
    {
     "data": {
      "text/plain": [
       "false"
      ]
     },
     "execution_count": 12,
     "metadata": {},
     "output_type": "execute_result"
    }
   ],
   "source": [
    "in((:b => 8), exampdict)"
   ]
  },
  {
   "cell_type": "code",
   "execution_count": 13,
   "metadata": {},
   "outputs": [
    {
     "data": {
      "text/plain": [
       "true"
      ]
     },
     "execution_count": 13,
     "metadata": {},
     "output_type": "execute_result"
    }
   ],
   "source": [
    "in((:b => 7), exampdict)"
   ]
  },
  {
   "cell_type": "code",
   "execution_count": 15,
   "metadata": {},
   "outputs": [
    {
     "ename": "MethodError",
     "evalue": "MethodError: objects of type Symbol are not callable",
     "output_type": "error",
     "traceback": [
      "MethodError: objects of type Symbol are not callable",
      "",
      "Stacktrace:",
      " [1] iterate at ./generator.jl:47 [inlined]",
      " [2] _collect(::Array{Symbol,1}, ::Base.Generator{Array{Symbol,1},Symbol}, ::Base.EltypeUnknown, ::Base.HasShape{1}) at ./array.jl:678",
      " [3] collect_similar at ./array.jl:607 [inlined]",
      " [4] map(::Symbol, ::Array{Symbol,1}) at ./abstractarray.jl:2072",
      " [5] top-level scope at In[15]:1"
     ]
    }
   ],
   "source": [
    "map(:a, collect(keys(exampdict)))"
   ]
  },
  {
   "cell_type": "code",
   "execution_count": 28,
   "metadata": {},
   "outputs": [
    {
     "data": {
      "text/plain": [
       "Dict{String,Int64} with 3 entries:\n",
       "  \"Kayak\"  => 5\n",
       "  \"Orange\" => 3\n",
       "  \"Kiwi\"   => 2"
      ]
     },
     "execution_count": 28,
     "metadata": {},
     "output_type": "execute_result"
    }
   ],
   "source": [
    "strdict = Dict(\"Orange\" => 3, \"Kiwi\" => 2, \"Kayak\" => 5)"
   ]
  },
  {
   "cell_type": "code",
   "execution_count": 29,
   "metadata": {},
   "outputs": [
    {
     "data": {
      "text/plain": [
       "1-element Array{Pair{String,Int64},1}:\n",
       " \"Kiwi\" => 2"
      ]
     },
     "execution_count": 29,
     "metadata": {},
     "output_type": "execute_result"
    }
   ],
   "source": [
    "filter(tuple -> startswith(first(tuple), \"K\") && last(tuple) < 4, collect(strdict))"
   ]
  },
  {
   "cell_type": "code",
   "execution_count": null,
   "metadata": {},
   "outputs": [],
   "source": []
  }
 ],
 "metadata": {
  "kernelspec": {
   "display_name": "Julia 1.2.0",
   "language": "julia",
   "name": "julia-1.2"
  },
  "language_info": {
   "file_extension": ".jl",
   "mimetype": "application/julia",
   "name": "julia",
   "version": "1.4.1"
  }
 },
 "nbformat": 4,
 "nbformat_minor": 2
}
