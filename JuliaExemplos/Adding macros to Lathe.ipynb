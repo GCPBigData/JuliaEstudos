{
 "cells": [
  {
   "cell_type": "code",
   "execution_count": 1,
   "metadata": {},
   "outputs": [
    {
     "name": "stderr",
     "output_type": "stream",
     "text": [
      "┌ Info: Precompiling Lathe [38d8eb38-e7b1-11e9-0012-376b6c802672]\n",
      "└ @ Base loading.jl:1260\n"
     ]
    }
   ],
   "source": [
    "using Lathe: stats"
   ]
  },
  {
   "cell_type": "code",
   "execution_count": 2,
   "metadata": {},
   "outputs": [
    {
     "name": "stdout",
     "output_type": "stream",
     "text": [
      "search: \u001b[0m\u001b[1ms\u001b[22m\u001b[0m\u001b[1mt\u001b[22m\u001b[0m\u001b[1ma\u001b[22mr\u001b[0m\u001b[1mt\u001b[22m\u001b[0m\u001b[1ms\u001b[22mwith Ab\u001b[0m\u001b[1ms\u001b[22m\u001b[0m\u001b[1mt\u001b[22mr\u001b[0m\u001b[1ma\u001b[22mc\u001b[0m\u001b[1mt\u001b[22m\u001b[0m\u001b[1mS\u001b[22met Ab\u001b[0m\u001b[1ms\u001b[22m\u001b[0m\u001b[1mt\u001b[22mr\u001b[0m\u001b[1ma\u001b[22mc\u001b[0m\u001b[1mt\u001b[22m\u001b[0m\u001b[1mS\u001b[22mtring ignore\u001b[0m\u001b[1ms\u001b[22m\u001b[0m\u001b[1mt\u001b[22m\u001b[0m\u001b[1ma\u001b[22m\u001b[0m\u001b[1mt\u001b[22mu\u001b[0m\u001b[1ms\u001b[22m MathCon\u001b[0m\u001b[1ms\u001b[22m\u001b[0m\u001b[1mt\u001b[22m\u001b[0m\u001b[1ma\u001b[22mn\u001b[0m\u001b[1mt\u001b[22m\u001b[0m\u001b[1ms\u001b[22m\n",
      "\n"
     ]
    },
    {
     "data": {
      "text/latex": [
       "|====== Lathe.stats ======\n",
       "\n",
       "| {\\textasciitilde}{\\textasciitilde}{\\textasciitilde}{\\textasciitilde}{\\textasciitilde}{\\textasciitilde}{\\textasciitilde}{\\textasciitilde}{\\textasciitilde}{\\textasciitilde} Base {\\textasciitilde}{\\textasciitilde}{\\textasciitilde}{\\textasciitilde}{\\textasciitilde}{\\textasciitilde}{\\textasciitilde}{\\textasciitilde}{\\textasciitilde}{\\textasciitilde}{\\textasciitilde}\n",
       "\n",
       "|\\_\\_\\_\\_\\_stats.mean(array)\n",
       "\n",
       "|\\_\\_\\_\\_\\_stats.mode(array)\n",
       "\n",
       "|\\_\\_\\_\\_\\_stats.variance(array)\n",
       "\n",
       "|\\_\\_\\_\\_\\_stats.confiints(data,confidence = .95)\n",
       "\n",
       "|\\_\\_\\_\\_\\_stats.standarderror(array)\n",
       "\n",
       "|\\_\\_\\_\\_\\_stats.std(data)\n",
       "\n",
       "|\\_\\_\\_\\_\\_stats.correlationcoeff(x,y)\n",
       "\n",
       "|\\_\\_\\_\\_\\_stats.z(array)\n",
       "\n",
       "|\\_\\_\\_\\_\\_stats.firstquar(array)\n",
       "\n",
       "|\\_\\_\\_\\_\\_stats.secondquar(array)\n",
       "\n",
       "|\\_\\_\\_\\_\\_stats.thirdquar(array)\n",
       "\n",
       "| {\\textasciitilde}{\\textasciitilde}{\\textasciitilde}{\\textasciitilde}{\\textasciitilde}{\\textasciitilde}{\\textasciitilde}{\\textasciitilde}{\\textasciitilde}{\\textasciitilde} Inferential {\\textasciitilde}{\\textasciitilde}{\\textasciitilde}{\\textasciitilde}{\\textasciitilde}{\\textasciitilde}{\\textasciitilde}{\\textasciitilde}{\\textasciitilde}{\\textasciitilde}{\\textasciitilde}\n",
       "\n",
       "|\\_\\_\\_\\_\\_stats.independent\\_t(sample,general)\n",
       "\n",
       "|\\_\\_\\_\\_\\_stats.spearman(var1,var2)\n",
       "\n",
       "|\\_\\_\\_\\_\\_stats.pearson(x,y)\n",
       "\n",
       "|\\_\\_\\_\\_\\_stats.chisqu(array)\n",
       "\n",
       "|\\_\\_\\_\\_\\_stats.sign(array)\n",
       "\n",
       "|\\_\\_\\_\\_\\_stats.f\\_test(sample,general)\n",
       "\n",
       "| {\\textasciitilde}{\\textasciitilde}{\\textasciitilde}{\\textasciitilde}{\\textasciitilde}{\\textasciitilde}{\\textasciitilde}{\\textasciitilde}{\\textasciitilde}{\\textasciitilde} Bayesian {\\textasciitilde}{\\textasciitilde}{\\textasciitilde}{\\textasciitilde}{\\textasciitilde}{\\textasciitilde}{\\textasciitilde}{\\textasciitilde}{\\textasciitilde}{\\textasciitilde}{\\textasciitilde}\n",
       "\n",
       "|\\_\\_\\_\\_\\_stats.bay\\_ther(p,a,b)\n",
       "\n",
       "|\\_\\_\\_\\_\\_stats.cond\\_prob(p,a,b)\n",
       "\n",
       "| {\\textasciitilde}{\\textasciitilde}{\\textasciitilde}{\\textasciitilde}{\\textasciitilde}{\\textasciitilde}{\\textasciitilde}{\\textasciitilde}{\\textasciitilde}{\\textasciitilde} Distributions {\\textasciitilde}{\\textasciitilde}{\\textasciitilde}{\\textasciitilde}{\\textasciitilde}{\\textasciitilde}{\\textasciitilde}{\\textasciitilde}{\\textasciitilde}{\\textasciitilde}{\\textasciitilde}\n",
       "\n",
       "|====== validate ======\n",
       "\n",
       "|\\_\\_\\_\\_\\_\\_\\_\\_\\_\\_\\_\\_/ Metrics \\_\\_\\_\\_\\_\\_\\_\\_\\_\\_\\_\n",
       "\n",
       "|\\_\\_\\_\\_\\_validate.mae(actual,pred)\n",
       "\n",
       "|\\_\\_\\_\\_\\_validate.r2(actual,pred)\n",
       "\n",
       "\\begin{verbatim}\n",
       "\n",
       "\\end{verbatim}\n"
      ],
      "text/markdown": [
       "|====== Lathe.stats ======\n",
       "\n",
       "| ~~~~~~~~~~ Base ~~~~~~~~~~~\n",
       "\n",
       "|_____stats.mean(array)\n",
       "\n",
       "|_____stats.mode(array)\n",
       "\n",
       "|_____stats.variance(array)\n",
       "\n",
       "|_____stats.confiints(data,confidence = .95)\n",
       "\n",
       "|_____stats.standarderror(array)\n",
       "\n",
       "|_____stats.std(data)\n",
       "\n",
       "|_____stats.correlationcoeff(x,y)\n",
       "\n",
       "|_____stats.z(array)\n",
       "\n",
       "|_____stats.firstquar(array)\n",
       "\n",
       "|_____stats.secondquar(array)\n",
       "\n",
       "|_____stats.thirdquar(array)\n",
       "\n",
       "| ~~~~~~~~~~ Inferential ~~~~~~~~~~~\n",
       "\n",
       "|_____stats.independent_t(sample,general)\n",
       "\n",
       "|_____stats.spearman(var1,var2)\n",
       "\n",
       "|_____stats.pearson(x,y)\n",
       "\n",
       "|_____stats.chisqu(array)\n",
       "\n",
       "|_____stats.sign(array)\n",
       "\n",
       "|_____stats.f_test(sample,general)\n",
       "\n",
       "| ~~~~~~~~~~ Bayesian ~~~~~~~~~~~\n",
       "\n",
       "|_____stats.bay_ther(p,a,b)\n",
       "\n",
       "|_____stats.cond_prob(p,a,b)\n",
       "\n",
       "| ~~~~~~~~~~ Distributions ~~~~~~~~~~~\n",
       "\n",
       "|====== validate ======\n",
       "\n",
       "|____________/ Metrics ___________\n",
       "\n",
       "|_____validate.mae(actual,pred)\n",
       "\n",
       "|_____validate.r2(actual,pred)\n",
       "\n",
       "```\n",
       "\n",
       "```\n"
      ],
      "text/plain": [
       "  |====== Lathe.stats ======\n",
       "\n",
       "  | ~~~~~~~~~~ Base ~~~~~~~~~~~\n",
       "\n",
       "  |_____stats.mean(array)\n",
       "\n",
       "  |_____stats.mode(array)\n",
       "\n",
       "  |_____stats.variance(array)\n",
       "\n",
       "  |_____stats.confiints(data,confidence = .95)\n",
       "\n",
       "  |_____stats.standarderror(array)\n",
       "\n",
       "  |_____stats.std(data)\n",
       "\n",
       "  |_____stats.correlationcoeff(x,y)\n",
       "\n",
       "  |_____stats.z(array)\n",
       "\n",
       "  |_____stats.firstquar(array)\n",
       "\n",
       "  |_____stats.secondquar(array)\n",
       "\n",
       "  |_____stats.thirdquar(array)\n",
       "\n",
       "  | ~~~~~~~~~~ Inferential ~~~~~~~~~~~\n",
       "\n",
       "  |_____stats.independent_t(sample,general)\n",
       "\n",
       "  |_____stats.spearman(var1,var2)\n",
       "\n",
       "  |_____stats.pearson(x,y)\n",
       "\n",
       "  |_____stats.chisqu(array)\n",
       "\n",
       "  |_____stats.sign(array)\n",
       "\n",
       "  |_____stats.f_test(sample,general)\n",
       "\n",
       "  | ~~~~~~~~~~ Bayesian ~~~~~~~~~~~\n",
       "\n",
       "  |_____stats.bay_ther(p,a,b)\n",
       "\n",
       "  |_____stats.cond_prob(p,a,b)\n",
       "\n",
       "  | ~~~~~~~~~~ Distributions ~~~~~~~~~~~\n",
       "\n",
       "  |====== validate ======\n",
       "\n",
       "  |____________/ Metrics ___________\n",
       "\n",
       "  |_____validate.mae(actual,pred)\n",
       "\n",
       "  |_____validate.r2(actual,pred)\n",
       "\n",
       "\u001b[36m  \u001b[39m"
      ]
     },
     "execution_count": 2,
     "metadata": {},
     "output_type": "execute_result"
    }
   ],
   "source": [
    "?(stats)"
   ]
  },
  {
   "cell_type": "code",
   "execution_count": 3,
   "metadata": {},
   "outputs": [
    {
     "data": {
      "text/plain": [
       "10.0"
      ]
     },
     "execution_count": 3,
     "metadata": {},
     "output_type": "execute_result"
    }
   ],
   "source": [
    "using Lathe.stats\n",
    "mean([5,10,15])"
   ]
  },
  {
   "cell_type": "code",
   "execution_count": 4,
   "metadata": {},
   "outputs": [
    {
     "data": {
      "text/plain": [
       "@mu (macro with 1 method)"
      ]
     },
     "execution_count": 4,
     "metadata": {},
     "output_type": "execute_result"
    }
   ],
   "source": [
    "macro mu(x)\n",
    "    x = eval(x)\n",
    "    mean(x)\n",
    "end"
   ]
  },
  {
   "cell_type": "code",
   "execution_count": 5,
   "metadata": {},
   "outputs": [
    {
     "data": {
      "text/plain": [
       "@sigma (macro with 1 method)"
      ]
     },
     "execution_count": 5,
     "metadata": {},
     "output_type": "execute_result"
    }
   ],
   "source": [
    "macro sigma(x)\n",
    "    x = eval(x)\n",
    "    std(x)\n",
    "end"
   ]
  },
  {
   "cell_type": "code",
   "execution_count": 6,
   "metadata": {},
   "outputs": [
    {
     "data": {
      "text/plain": [
       "@r (macro with 1 method)"
      ]
     },
     "execution_count": 6,
     "metadata": {},
     "output_type": "execute_result"
    }
   ],
   "source": [
    "macro r(x,y)\n",
    "    x = eval(x)\n",
    "    y = eval(y)\n",
    "    correlationcoeff(x,y)\n",
    "end"
   ]
  },
  {
   "cell_type": "code",
   "execution_count": 7,
   "metadata": {},
   "outputs": [
    {
     "data": {
      "text/plain": [
       "@t (macro with 1 method)"
      ]
     },
     "execution_count": 7,
     "metadata": {},
     "output_type": "execute_result"
    }
   ],
   "source": [
    "macro t(samp,gen)\n",
    "    samp = eval(samp)\n",
    "    gen = eval(gen)\n",
    "    independent_t(samp,gen)\n",
    "end"
   ]
  },
  {
   "cell_type": "code",
   "execution_count": 8,
   "metadata": {},
   "outputs": [
    {
     "data": {
      "text/plain": [
       "4-element Array{Int64,1}:\n",
       "  5\n",
       " 20\n",
       " 30\n",
       " 40"
      ]
     },
     "execution_count": 8,
     "metadata": {},
     "output_type": "execute_result"
    }
   ],
   "source": [
    "one = [5,10,15,20]\n",
    "two = [5,20,30,40]"
   ]
  },
  {
   "cell_type": "code",
   "execution_count": 9,
   "metadata": {},
   "outputs": [
    {
     "data": {
      "text/plain": [
       "-4.616902584383194"
      ]
     },
     "execution_count": 9,
     "metadata": {},
     "output_type": "execute_result"
    }
   ],
   "source": [
    "@t one two"
   ]
  },
  {
   "cell_type": "code",
   "execution_count": 10,
   "metadata": {},
   "outputs": [
    {
     "data": {
      "text/plain": [
       "12.5"
      ]
     },
     "execution_count": 10,
     "metadata": {},
     "output_type": "execute_result"
    }
   ],
   "source": [
    "@mu one"
   ]
  },
  {
   "cell_type": "code",
   "execution_count": 11,
   "metadata": {},
   "outputs": [
    {
     "data": {
      "text/plain": [
       "0.994376712684369"
      ]
     },
     "execution_count": 11,
     "metadata": {},
     "output_type": "execute_result"
    }
   ],
   "source": [
    "@r one two"
   ]
  },
  {
   "cell_type": "code",
   "execution_count": 12,
   "metadata": {},
   "outputs": [
    {
     "name": "stdout",
     "output_type": "stream",
     "text": [
      "search: \u001b[0m\u001b[1ms\u001b[22m\u001b[0m\u001b[1mt\u001b[22m\u001b[0m\u001b[1ma\u001b[22m\u001b[0m\u001b[1mt\u001b[22m\u001b[0m\u001b[1ms\u001b[22m \u001b[0m\u001b[1ms\u001b[22m\u001b[0m\u001b[1mt\u001b[22m\u001b[0m\u001b[1ma\u001b[22mr\u001b[0m\u001b[1mt\u001b[22m\u001b[0m\u001b[1ms\u001b[22mwith Ab\u001b[0m\u001b[1ms\u001b[22m\u001b[0m\u001b[1mt\u001b[22mr\u001b[0m\u001b[1ma\u001b[22mc\u001b[0m\u001b[1mt\u001b[22m\u001b[0m\u001b[1mS\u001b[22met Ab\u001b[0m\u001b[1ms\u001b[22m\u001b[0m\u001b[1mt\u001b[22mr\u001b[0m\u001b[1ma\u001b[22mc\u001b[0m\u001b[1mt\u001b[22m\u001b[0m\u001b[1mS\u001b[22mtring ignore\u001b[0m\u001b[1ms\u001b[22m\u001b[0m\u001b[1mt\u001b[22m\u001b[0m\u001b[1ma\u001b[22m\u001b[0m\u001b[1mt\u001b[22mu\u001b[0m\u001b[1ms\u001b[22m MathCon\u001b[0m\u001b[1ms\u001b[22m\u001b[0m\u001b[1mt\u001b[22m\u001b[0m\u001b[1ma\u001b[22mn\u001b[0m\u001b[1mt\u001b[22m\u001b[0m\u001b[1ms\u001b[22m\n",
      "\n"
     ]
    },
    {
     "data": {
      "text/latex": [
       "|====== Lathe.stats ======\n",
       "\n",
       "| {\\textasciitilde}{\\textasciitilde}{\\textasciitilde}{\\textasciitilde}{\\textasciitilde}{\\textasciitilde}{\\textasciitilde}{\\textasciitilde}{\\textasciitilde}{\\textasciitilde} Base {\\textasciitilde}{\\textasciitilde}{\\textasciitilde}{\\textasciitilde}{\\textasciitilde}{\\textasciitilde}{\\textasciitilde}{\\textasciitilde}{\\textasciitilde}{\\textasciitilde}{\\textasciitilde}\n",
       "\n",
       "|\\_\\_\\_\\_\\_stats.mean(array)\n",
       "\n",
       "|\\_\\_\\_\\_\\_stats.mode(array)\n",
       "\n",
       "|\\_\\_\\_\\_\\_stats.variance(array)\n",
       "\n",
       "|\\_\\_\\_\\_\\_stats.confiints(data,confidence = .95)\n",
       "\n",
       "|\\_\\_\\_\\_\\_stats.standarderror(array)\n",
       "\n",
       "|\\_\\_\\_\\_\\_stats.std(data)\n",
       "\n",
       "|\\_\\_\\_\\_\\_stats.correlationcoeff(x,y)\n",
       "\n",
       "|\\_\\_\\_\\_\\_stats.z(array)\n",
       "\n",
       "|\\_\\_\\_\\_\\_stats.firstquar(array)\n",
       "\n",
       "|\\_\\_\\_\\_\\_stats.secondquar(array)\n",
       "\n",
       "|\\_\\_\\_\\_\\_stats.thirdquar(array)\n",
       "\n",
       "| {\\textasciitilde}{\\textasciitilde}{\\textasciitilde}{\\textasciitilde}{\\textasciitilde}{\\textasciitilde}{\\textasciitilde}{\\textasciitilde}{\\textasciitilde}{\\textasciitilde} Inferential {\\textasciitilde}{\\textasciitilde}{\\textasciitilde}{\\textasciitilde}{\\textasciitilde}{\\textasciitilde}{\\textasciitilde}{\\textasciitilde}{\\textasciitilde}{\\textasciitilde}{\\textasciitilde}\n",
       "\n",
       "|\\_\\_\\_\\_\\_stats.independent\\_t(sample,general)\n",
       "\n",
       "|\\_\\_\\_\\_\\_stats.spearman(var1,var2)\n",
       "\n",
       "|\\_\\_\\_\\_\\_stats.pearson(x,y)\n",
       "\n",
       "|\\_\\_\\_\\_\\_stats.chisqu(array)\n",
       "\n",
       "|\\_\\_\\_\\_\\_stats.sign(array)\n",
       "\n",
       "|\\_\\_\\_\\_\\_stats.f\\_test(sample,general)\n",
       "\n",
       "| {\\textasciitilde}{\\textasciitilde}{\\textasciitilde}{\\textasciitilde}{\\textasciitilde}{\\textasciitilde}{\\textasciitilde}{\\textasciitilde}{\\textasciitilde}{\\textasciitilde} Bayesian {\\textasciitilde}{\\textasciitilde}{\\textasciitilde}{\\textasciitilde}{\\textasciitilde}{\\textasciitilde}{\\textasciitilde}{\\textasciitilde}{\\textasciitilde}{\\textasciitilde}{\\textasciitilde}\n",
       "\n",
       "|\\_\\_\\_\\_\\_stats.bay\\_ther(p,a,b)\n",
       "\n",
       "|\\_\\_\\_\\_\\_stats.cond\\_prob(p,a,b)\n",
       "\n",
       "| {\\textasciitilde}{\\textasciitilde}{\\textasciitilde}{\\textasciitilde}{\\textasciitilde}{\\textasciitilde}{\\textasciitilde}{\\textasciitilde}{\\textasciitilde}{\\textasciitilde} Distributions {\\textasciitilde}{\\textasciitilde}{\\textasciitilde}{\\textasciitilde}{\\textasciitilde}{\\textasciitilde}{\\textasciitilde}{\\textasciitilde}{\\textasciitilde}{\\textasciitilde}{\\textasciitilde}\n",
       "\n",
       "|====== validate ======\n",
       "\n",
       "|\\_\\_\\_\\_\\_\\_\\_\\_\\_\\_\\_\\_/ Metrics \\_\\_\\_\\_\\_\\_\\_\\_\\_\\_\\_\n",
       "\n",
       "|\\_\\_\\_\\_\\_validate.mae(actual,pred)\n",
       "\n",
       "|\\_\\_\\_\\_\\_validate.r2(actual,pred)\n",
       "\n",
       "\\begin{verbatim}\n",
       "\n",
       "\\end{verbatim}\n"
      ],
      "text/markdown": [
       "|====== Lathe.stats ======\n",
       "\n",
       "| ~~~~~~~~~~ Base ~~~~~~~~~~~\n",
       "\n",
       "|_____stats.mean(array)\n",
       "\n",
       "|_____stats.mode(array)\n",
       "\n",
       "|_____stats.variance(array)\n",
       "\n",
       "|_____stats.confiints(data,confidence = .95)\n",
       "\n",
       "|_____stats.standarderror(array)\n",
       "\n",
       "|_____stats.std(data)\n",
       "\n",
       "|_____stats.correlationcoeff(x,y)\n",
       "\n",
       "|_____stats.z(array)\n",
       "\n",
       "|_____stats.firstquar(array)\n",
       "\n",
       "|_____stats.secondquar(array)\n",
       "\n",
       "|_____stats.thirdquar(array)\n",
       "\n",
       "| ~~~~~~~~~~ Inferential ~~~~~~~~~~~\n",
       "\n",
       "|_____stats.independent_t(sample,general)\n",
       "\n",
       "|_____stats.spearman(var1,var2)\n",
       "\n",
       "|_____stats.pearson(x,y)\n",
       "\n",
       "|_____stats.chisqu(array)\n",
       "\n",
       "|_____stats.sign(array)\n",
       "\n",
       "|_____stats.f_test(sample,general)\n",
       "\n",
       "| ~~~~~~~~~~ Bayesian ~~~~~~~~~~~\n",
       "\n",
       "|_____stats.bay_ther(p,a,b)\n",
       "\n",
       "|_____stats.cond_prob(p,a,b)\n",
       "\n",
       "| ~~~~~~~~~~ Distributions ~~~~~~~~~~~\n",
       "\n",
       "|====== validate ======\n",
       "\n",
       "|____________/ Metrics ___________\n",
       "\n",
       "|_____validate.mae(actual,pred)\n",
       "\n",
       "|_____validate.r2(actual,pred)\n",
       "\n",
       "```\n",
       "\n",
       "```\n"
      ],
      "text/plain": [
       "  |====== Lathe.stats ======\n",
       "\n",
       "  | ~~~~~~~~~~ Base ~~~~~~~~~~~\n",
       "\n",
       "  |_____stats.mean(array)\n",
       "\n",
       "  |_____stats.mode(array)\n",
       "\n",
       "  |_____stats.variance(array)\n",
       "\n",
       "  |_____stats.confiints(data,confidence = .95)\n",
       "\n",
       "  |_____stats.standarderror(array)\n",
       "\n",
       "  |_____stats.std(data)\n",
       "\n",
       "  |_____stats.correlationcoeff(x,y)\n",
       "\n",
       "  |_____stats.z(array)\n",
       "\n",
       "  |_____stats.firstquar(array)\n",
       "\n",
       "  |_____stats.secondquar(array)\n",
       "\n",
       "  |_____stats.thirdquar(array)\n",
       "\n",
       "  | ~~~~~~~~~~ Inferential ~~~~~~~~~~~\n",
       "\n",
       "  |_____stats.independent_t(sample,general)\n",
       "\n",
       "  |_____stats.spearman(var1,var2)\n",
       "\n",
       "  |_____stats.pearson(x,y)\n",
       "\n",
       "  |_____stats.chisqu(array)\n",
       "\n",
       "  |_____stats.sign(array)\n",
       "\n",
       "  |_____stats.f_test(sample,general)\n",
       "\n",
       "  | ~~~~~~~~~~ Bayesian ~~~~~~~~~~~\n",
       "\n",
       "  |_____stats.bay_ther(p,a,b)\n",
       "\n",
       "  |_____stats.cond_prob(p,a,b)\n",
       "\n",
       "  | ~~~~~~~~~~ Distributions ~~~~~~~~~~~\n",
       "\n",
       "  |====== validate ======\n",
       "\n",
       "  |____________/ Metrics ___________\n",
       "\n",
       "  |_____validate.mae(actual,pred)\n",
       "\n",
       "  |_____validate.r2(actual,pred)\n",
       "\n",
       "\u001b[36m  \u001b[39m"
      ]
     },
     "execution_count": 12,
     "metadata": {},
     "output_type": "execute_result"
    }
   ],
   "source": [
    "?(stats)"
   ]
  },
  {
   "cell_type": "code",
   "execution_count": 13,
   "metadata": {},
   "outputs": [
    {
     "data": {
      "text/plain": [
       "@f (macro with 1 method)"
      ]
     },
     "execution_count": 13,
     "metadata": {},
     "output_type": "execute_result"
    }
   ],
   "source": [
    "macro f(samp,gen)\n",
    "    samp = eval(samp)\n",
    "    gen = eval(gen)\n",
    "    f_test(samp,gen)\n",
    "end"
   ]
  },
  {
   "cell_type": "code",
   "execution_count": 14,
   "metadata": {},
   "outputs": [
    {
     "name": "stdout",
     "output_type": "stream",
     "text": [
      "search: \u001b[0m\u001b[1ms\u001b[22m\u001b[0m\u001b[1mi\u001b[22m\u001b[0m\u001b[1mg\u001b[22m\u001b[0m\u001b[1mn\u001b[22m \u001b[0m\u001b[1ms\u001b[22m\u001b[0m\u001b[1mi\u001b[22m\u001b[0m\u001b[1mg\u001b[22m\u001b[0m\u001b[1mn\u001b[22med \u001b[0m\u001b[1mS\u001b[22m\u001b[0m\u001b[1mi\u001b[22m\u001b[0m\u001b[1mg\u001b[22m\u001b[0m\u001b[1mn\u001b[22med \u001b[0m\u001b[1ms\u001b[22m\u001b[0m\u001b[1mi\u001b[22m\u001b[0m\u001b[1mg\u001b[22m\u001b[0m\u001b[1mn\u001b[22mbit \u001b[0m\u001b[1ms\u001b[22m\u001b[0m\u001b[1mi\u001b[22m\u001b[0m\u001b[1mg\u001b[22m\u001b[0m\u001b[1mn\u001b[22mificand Un\u001b[0m\u001b[1ms\u001b[22m\u001b[0m\u001b[1mi\u001b[22m\u001b[0m\u001b[1mg\u001b[22m\u001b[0m\u001b[1mn\u001b[22med un\u001b[0m\u001b[1ms\u001b[22m\u001b[0m\u001b[1mi\u001b[22m\u001b[0m\u001b[1mg\u001b[22m\u001b[0m\u001b[1mn\u001b[22med flip\u001b[0m\u001b[1ms\u001b[22m\u001b[0m\u001b[1mi\u001b[22m\u001b[0m\u001b[1mg\u001b[22m\u001b[0m\u001b[1mn\u001b[22m\n",
      "\n",
      "Couldn't find "
     ]
    },
    {
     "name": "stderr",
     "output_type": "stream",
     "text": [
      "WARNING: both stats and Base export \"sign\"; uses of it in module Main must be qualified\n"
     ]
    },
    {
     "name": "stdout",
     "output_type": "stream",
     "text": [
      "\u001b[36msign\u001b[39m\n",
      "Perhaps you meant sign, sin, signed, sinc, sind, sinh, size, asin, big or in\n"
     ]
    },
    {
     "data": {
      "text/latex": [
       "No documentation found.\n",
       "\n",
       "Binding \\texttt{sign} does not exist.\n",
       "\n"
      ],
      "text/markdown": [
       "No documentation found.\n",
       "\n",
       "Binding `sign` does not exist.\n"
      ],
      "text/plain": [
       "  No documentation found.\n",
       "\n",
       "  Binding \u001b[36msign\u001b[39m does not exist."
      ]
     },
     "execution_count": 14,
     "metadata": {},
     "output_type": "execute_result"
    }
   ],
   "source": [
    "?(sign)"
   ]
  },
  {
   "cell_type": "code",
   "execution_count": 15,
   "metadata": {},
   "outputs": [
    {
     "data": {
      "text/plain": [
       "@- (macro with 1 method)"
      ]
     },
     "execution_count": 15,
     "metadata": {},
     "output_type": "execute_result"
    }
   ],
   "source": [
    "using Lathe.stats: sign\n",
    "macro -(samp,gen)\n",
    "    samp = eval(samp)\n",
    "    gen = eval(gen)\n",
    "    sign(samp,gen)\n",
    "end"
   ]
  },
  {
   "cell_type": "code",
   "execution_count": 16,
   "metadata": {},
   "outputs": [
    {
     "data": {
      "text/plain": [
       "3.0"
      ]
     },
     "execution_count": 16,
     "metadata": {},
     "output_type": "execute_result"
    }
   ],
   "source": [
    "@- [5,10,15] [8,9,10]"
   ]
  },
  {
   "cell_type": "code",
   "execution_count": 17,
   "metadata": {},
   "outputs": [
    {
     "data": {
      "text/plain": [
       "@chi (macro with 1 method)"
      ]
     },
     "execution_count": 17,
     "metadata": {},
     "output_type": "execute_result"
    }
   ],
   "source": [
    "macro chi(samp,gen)\n",
    "    samp = eval(samp)\n",
    "    gen = eval(gen)\n",
    "    chisq(samp,gen)\n",
    "end"
   ]
  },
  {
   "cell_type": "code",
   "execution_count": 18,
   "metadata": {},
   "outputs": [
    {
     "name": "stdout",
     "output_type": "stream",
     "text": [
      "search: \u001b[0m\u001b[1ms\u001b[22m\u001b[0m\u001b[1mt\u001b[22m\u001b[0m\u001b[1ma\u001b[22m\u001b[0m\u001b[1mt\u001b[22m\u001b[0m\u001b[1ms\u001b[22m \u001b[0m\u001b[1ms\u001b[22m\u001b[0m\u001b[1mt\u001b[22m\u001b[0m\u001b[1ma\u001b[22mr\u001b[0m\u001b[1mt\u001b[22m\u001b[0m\u001b[1ms\u001b[22mwith Ab\u001b[0m\u001b[1ms\u001b[22m\u001b[0m\u001b[1mt\u001b[22mr\u001b[0m\u001b[1ma\u001b[22mc\u001b[0m\u001b[1mt\u001b[22m\u001b[0m\u001b[1mS\u001b[22met Ab\u001b[0m\u001b[1ms\u001b[22m\u001b[0m\u001b[1mt\u001b[22mr\u001b[0m\u001b[1ma\u001b[22mc\u001b[0m\u001b[1mt\u001b[22m\u001b[0m\u001b[1mS\u001b[22mtring ignore\u001b[0m\u001b[1ms\u001b[22m\u001b[0m\u001b[1mt\u001b[22m\u001b[0m\u001b[1ma\u001b[22m\u001b[0m\u001b[1mt\u001b[22mu\u001b[0m\u001b[1ms\u001b[22m MathCon\u001b[0m\u001b[1ms\u001b[22m\u001b[0m\u001b[1mt\u001b[22m\u001b[0m\u001b[1ma\u001b[22mn\u001b[0m\u001b[1mt\u001b[22m\u001b[0m\u001b[1ms\u001b[22m\n",
      "\n"
     ]
    },
    {
     "data": {
      "text/latex": [
       "|====== Lathe.stats ======\n",
       "\n",
       "| {\\textasciitilde}{\\textasciitilde}{\\textasciitilde}{\\textasciitilde}{\\textasciitilde}{\\textasciitilde}{\\textasciitilde}{\\textasciitilde}{\\textasciitilde}{\\textasciitilde} Base {\\textasciitilde}{\\textasciitilde}{\\textasciitilde}{\\textasciitilde}{\\textasciitilde}{\\textasciitilde}{\\textasciitilde}{\\textasciitilde}{\\textasciitilde}{\\textasciitilde}{\\textasciitilde}\n",
       "\n",
       "|\\_\\_\\_\\_\\_stats.mean(array)\n",
       "\n",
       "|\\_\\_\\_\\_\\_stats.mode(array)\n",
       "\n",
       "|\\_\\_\\_\\_\\_stats.variance(array)\n",
       "\n",
       "|\\_\\_\\_\\_\\_stats.confiints(data,confidence = .95)\n",
       "\n",
       "|\\_\\_\\_\\_\\_stats.standarderror(array)\n",
       "\n",
       "|\\_\\_\\_\\_\\_stats.std(data)\n",
       "\n",
       "|\\_\\_\\_\\_\\_stats.correlationcoeff(x,y)\n",
       "\n",
       "|\\_\\_\\_\\_\\_stats.z(array)\n",
       "\n",
       "|\\_\\_\\_\\_\\_stats.firstquar(array)\n",
       "\n",
       "|\\_\\_\\_\\_\\_stats.secondquar(array)\n",
       "\n",
       "|\\_\\_\\_\\_\\_stats.thirdquar(array)\n",
       "\n",
       "| {\\textasciitilde}{\\textasciitilde}{\\textasciitilde}{\\textasciitilde}{\\textasciitilde}{\\textasciitilde}{\\textasciitilde}{\\textasciitilde}{\\textasciitilde}{\\textasciitilde} Inferential {\\textasciitilde}{\\textasciitilde}{\\textasciitilde}{\\textasciitilde}{\\textasciitilde}{\\textasciitilde}{\\textasciitilde}{\\textasciitilde}{\\textasciitilde}{\\textasciitilde}{\\textasciitilde}\n",
       "\n",
       "|\\_\\_\\_\\_\\_stats.independent\\_t(sample,general)\n",
       "\n",
       "|\\_\\_\\_\\_\\_stats.spearman(var1,var2)\n",
       "\n",
       "|\\_\\_\\_\\_\\_stats.pearson(x,y)\n",
       "\n",
       "|\\_\\_\\_\\_\\_stats.chisqu(array)\n",
       "\n",
       "|\\_\\_\\_\\_\\_stats.sign(array)\n",
       "\n",
       "|\\_\\_\\_\\_\\_stats.f\\_test(sample,general)\n",
       "\n",
       "| {\\textasciitilde}{\\textasciitilde}{\\textasciitilde}{\\textasciitilde}{\\textasciitilde}{\\textasciitilde}{\\textasciitilde}{\\textasciitilde}{\\textasciitilde}{\\textasciitilde} Bayesian {\\textasciitilde}{\\textasciitilde}{\\textasciitilde}{\\textasciitilde}{\\textasciitilde}{\\textasciitilde}{\\textasciitilde}{\\textasciitilde}{\\textasciitilde}{\\textasciitilde}{\\textasciitilde}\n",
       "\n",
       "|\\_\\_\\_\\_\\_stats.bay\\_ther(p,a,b)\n",
       "\n",
       "|\\_\\_\\_\\_\\_stats.cond\\_prob(p,a,b)\n",
       "\n",
       "| {\\textasciitilde}{\\textasciitilde}{\\textasciitilde}{\\textasciitilde}{\\textasciitilde}{\\textasciitilde}{\\textasciitilde}{\\textasciitilde}{\\textasciitilde}{\\textasciitilde} Distributions {\\textasciitilde}{\\textasciitilde}{\\textasciitilde}{\\textasciitilde}{\\textasciitilde}{\\textasciitilde}{\\textasciitilde}{\\textasciitilde}{\\textasciitilde}{\\textasciitilde}{\\textasciitilde}\n",
       "\n",
       "|====== validate ======\n",
       "\n",
       "|\\_\\_\\_\\_\\_\\_\\_\\_\\_\\_\\_\\_/ Metrics \\_\\_\\_\\_\\_\\_\\_\\_\\_\\_\\_\n",
       "\n",
       "|\\_\\_\\_\\_\\_validate.mae(actual,pred)\n",
       "\n",
       "|\\_\\_\\_\\_\\_validate.r2(actual,pred)\n",
       "\n",
       "\\begin{verbatim}\n",
       "\n",
       "\\end{verbatim}\n"
      ],
      "text/markdown": [
       "|====== Lathe.stats ======\n",
       "\n",
       "| ~~~~~~~~~~ Base ~~~~~~~~~~~\n",
       "\n",
       "|_____stats.mean(array)\n",
       "\n",
       "|_____stats.mode(array)\n",
       "\n",
       "|_____stats.variance(array)\n",
       "\n",
       "|_____stats.confiints(data,confidence = .95)\n",
       "\n",
       "|_____stats.standarderror(array)\n",
       "\n",
       "|_____stats.std(data)\n",
       "\n",
       "|_____stats.correlationcoeff(x,y)\n",
       "\n",
       "|_____stats.z(array)\n",
       "\n",
       "|_____stats.firstquar(array)\n",
       "\n",
       "|_____stats.secondquar(array)\n",
       "\n",
       "|_____stats.thirdquar(array)\n",
       "\n",
       "| ~~~~~~~~~~ Inferential ~~~~~~~~~~~\n",
       "\n",
       "|_____stats.independent_t(sample,general)\n",
       "\n",
       "|_____stats.spearman(var1,var2)\n",
       "\n",
       "|_____stats.pearson(x,y)\n",
       "\n",
       "|_____stats.chisqu(array)\n",
       "\n",
       "|_____stats.sign(array)\n",
       "\n",
       "|_____stats.f_test(sample,general)\n",
       "\n",
       "| ~~~~~~~~~~ Bayesian ~~~~~~~~~~~\n",
       "\n",
       "|_____stats.bay_ther(p,a,b)\n",
       "\n",
       "|_____stats.cond_prob(p,a,b)\n",
       "\n",
       "| ~~~~~~~~~~ Distributions ~~~~~~~~~~~\n",
       "\n",
       "|====== validate ======\n",
       "\n",
       "|____________/ Metrics ___________\n",
       "\n",
       "|_____validate.mae(actual,pred)\n",
       "\n",
       "|_____validate.r2(actual,pred)\n",
       "\n",
       "```\n",
       "\n",
       "```\n"
      ],
      "text/plain": [
       "  |====== Lathe.stats ======\n",
       "\n",
       "  | ~~~~~~~~~~ Base ~~~~~~~~~~~\n",
       "\n",
       "  |_____stats.mean(array)\n",
       "\n",
       "  |_____stats.mode(array)\n",
       "\n",
       "  |_____stats.variance(array)\n",
       "\n",
       "  |_____stats.confiints(data,confidence = .95)\n",
       "\n",
       "  |_____stats.standarderror(array)\n",
       "\n",
       "  |_____stats.std(data)\n",
       "\n",
       "  |_____stats.correlationcoeff(x,y)\n",
       "\n",
       "  |_____stats.z(array)\n",
       "\n",
       "  |_____stats.firstquar(array)\n",
       "\n",
       "  |_____stats.secondquar(array)\n",
       "\n",
       "  |_____stats.thirdquar(array)\n",
       "\n",
       "  | ~~~~~~~~~~ Inferential ~~~~~~~~~~~\n",
       "\n",
       "  |_____stats.independent_t(sample,general)\n",
       "\n",
       "  |_____stats.spearman(var1,var2)\n",
       "\n",
       "  |_____stats.pearson(x,y)\n",
       "\n",
       "  |_____stats.chisqu(array)\n",
       "\n",
       "  |_____stats.sign(array)\n",
       "\n",
       "  |_____stats.f_test(sample,general)\n",
       "\n",
       "  | ~~~~~~~~~~ Bayesian ~~~~~~~~~~~\n",
       "\n",
       "  |_____stats.bay_ther(p,a,b)\n",
       "\n",
       "  |_____stats.cond_prob(p,a,b)\n",
       "\n",
       "  | ~~~~~~~~~~ Distributions ~~~~~~~~~~~\n",
       "\n",
       "  |====== validate ======\n",
       "\n",
       "  |____________/ Metrics ___________\n",
       "\n",
       "  |_____validate.mae(actual,pred)\n",
       "\n",
       "  |_____validate.r2(actual,pred)\n",
       "\n",
       "\u001b[36m  \u001b[39m"
      ]
     },
     "execution_count": 18,
     "metadata": {},
     "output_type": "execute_result"
    }
   ],
   "source": [
    "?(stats)"
   ]
  },
  {
   "cell_type": "code",
   "execution_count": 19,
   "metadata": {},
   "outputs": [
    {
     "data": {
      "text/plain": [
       "@p (macro with 1 method)"
      ]
     },
     "execution_count": 19,
     "metadata": {},
     "output_type": "execute_result"
    }
   ],
   "source": [
    "macro p(p,a,b)\n",
    "    bay_ther(p,a,b)\n",
    "end"
   ]
  },
  {
   "cell_type": "code",
   "execution_count": 23,
   "metadata": {},
   "outputs": [],
   "source": [
    "using Lathe.preprocess"
   ]
  },
  {
   "cell_type": "code",
   "execution_count": 108,
   "metadata": {},
   "outputs": [
    {
     "ename": "UndefVarError",
     "evalue": "UndefVarError: catacc not defined",
     "output_type": "error",
     "traceback": [
      "UndefVarError: catacc not defined",
      "",
      "Stacktrace:",
      " [1] top-level scope at In[108]:1"
     ]
    }
   ],
   "source": [
    "using Lathe.stats: catacc\n",
    "macro acc(yhat,ytest)\n",
    "    yhat = eval(yhat)\n",
    "    ytest = eval(ytest)\n",
    "    tp = yhat[1]\n",
    "    if typeof(tp) == String\n",
    "        catacc(ytest,yhat)\n",
    "        print(\"we predicted acc\")\n",
    "    else\n",
    "        sample, general = TrainTestSplit(yhat,.5)\n",
    "        corr = @r sample general\n",
    "        if length(unique(yhat)) == 2\n",
    "            catacc(ytest,yhat)\n",
    "            print(\"we predicted acc\")\n",
    "        else\n",
    "            r2(ytest,yhat)\n",
    "        end\n",
    "    end\n",
    "            \n",
    "end"
   ]
  },
  {
   "cell_type": "code",
   "execution_count": 95,
   "metadata": {},
   "outputs": [
    {
     "data": {
      "text/plain": [
       "4-element Array{Int64,1}:\n",
       " 85\n",
       " 20\n",
       " 25\n",
       " 30"
      ]
     },
     "execution_count": 95,
     "metadata": {},
     "output_type": "execute_result"
    }
   ],
   "source": [
    "arr = [5,10,15,20]\n",
    "arr2 = [85,20,25,30]"
   ]
  },
  {
   "cell_type": "code",
   "execution_count": 96,
   "metadata": {},
   "outputs": [
    {
     "data": {
      "text/plain": [
       "([1, 4], [2, 3])"
      ]
     },
     "execution_count": 96,
     "metadata": {},
     "output_type": "execute_result"
    }
   ],
   "source": [
    "sample, general = TrainTestSplit(arr,.5)"
   ]
  },
  {
   "cell_type": "code",
   "execution_count": 97,
   "metadata": {},
   "outputs": [
    {
     "data": {
      "text/plain": [
       "0.0"
      ]
     },
     "execution_count": 97,
     "metadata": {},
     "output_type": "execute_result"
    }
   ],
   "source": [
    "@t sample general"
   ]
  },
  {
   "cell_type": "code",
   "execution_count": 103,
   "metadata": {},
   "outputs": [
    {
     "data": {
      "text/plain": [
       "2-element Array{String,1}:\n",
       " \"one\"\n",
       " \"two\""
      ]
     },
     "execution_count": 103,
     "metadata": {},
     "output_type": "execute_result"
    }
   ],
   "source": [
    "arr = [82,34,38,24,54]\n",
    "arr2 = [25, 35, 48, 57, 90]\n",
    "catarr = [\"one\",\"one\"]\n",
    "catarr2 = [\"one\",\"two\"]"
   ]
  },
  {
   "cell_type": "code",
   "execution_count": 104,
   "metadata": {},
   "outputs": [
    {
     "ename": "LoadError",
     "evalue": "MethodError: no method matching +(::String, ::String)\nClosest candidates are:\n  +(::Any, ::Any, !Matched::Any, !Matched::Any...) at operators.jl:529",
     "output_type": "error",
     "traceback": [
      "MethodError: no method matching +(::String, ::String)\nClosest candidates are:\n  +(::Any, ::Any, !Matched::Any, !Matched::Any...) at operators.jl:529",
      "",
      "Stacktrace:",
      " [1] add_sum(::String, ::String) at ./reduce.jl:21",
      " [2] _mapreduce at ./reduce.jl:400 [inlined]",
      " [3] _mapreduce_dim at ./reducedim.jl:312 [inlined]",
      " [4] #mapreduce#580 at ./reducedim.jl:307 [inlined]",
      " [5] mapreduce at ./reducedim.jl:307 [inlined]",
      " [6] _sum at ./reducedim.jl:657 [inlined]",
      " [7] _sum at ./reducedim.jl:656 [inlined]",
      " [8] #sum#583 at ./reducedim.jl:652 [inlined]",
      " [9] sum at ./reducedim.jl:652 [inlined]",
      " [10] correlationcoeff(::Array{String,1}, ::Array{String,1}) at /home/emmett/.julia/packages/Lathe/ku6uU/src/stats/inferential.jl:16",
      " [11] @r(::LineNumberNode, ::Module, ::Any, ::Any) at ./In[6]:4"
     ]
    }
   ],
   "source": [
    "@r catarr catarr2"
   ]
  },
  {
   "cell_type": "code",
   "execution_count": 105,
   "metadata": {},
   "outputs": [
    {
     "data": {
      "text/plain": [
       "-0.23855775487900863"
      ]
     },
     "execution_count": 105,
     "metadata": {},
     "output_type": "execute_result"
    }
   ],
   "source": [
    "@r arr arr2"
   ]
  },
  {
   "cell_type": "code",
   "execution_count": 106,
   "metadata": {},
   "outputs": [
    {
     "data": {
      "text/plain": [
       "5.690980241291316"
      ]
     },
     "execution_count": 106,
     "metadata": {},
     "output_type": "execute_result"
    }
   ],
   "source": [
    "@acc arr arr2"
   ]
  },
  {
   "cell_type": "code",
   "execution_count": 107,
   "metadata": {},
   "outputs": [
    {
     "ename": "LoadError",
     "evalue": "UndefVarError: catacc not defined",
     "output_type": "error",
     "traceback": [
      "UndefVarError: catacc not defined",
      "",
      "Stacktrace:",
      " [1] @acc(::LineNumberNode, ::Module, ::Any, ::Any) at ./In[94]:7"
     ]
    }
   ],
   "source": [
    "@acc catarr catarr2"
   ]
  },
  {
   "cell_type": "code",
   "execution_count": 109,
   "metadata": {},
   "outputs": [
    {
     "name": "stdout",
     "output_type": "stream",
     "text": [
      "search: \u001b[0m\u001b[1mp\u001b[22m\u001b[0m\u001b[1mr\u001b[22m\u001b[0m\u001b[1me\u001b[22m\u001b[0m\u001b[1mp\u001b[22m\u001b[0m\u001b[1mr\u001b[22m\u001b[0m\u001b[1mo\u001b[22m\u001b[0m\u001b[1mc\u001b[22m\u001b[0m\u001b[1me\u001b[22m\u001b[0m\u001b[1ms\u001b[22m\u001b[0m\u001b[1ms\u001b[22m\n",
      "\n"
     ]
    },
    {
     "data": {
      "text/latex": [
       "|====== Lathe.preprocess =====\n",
       "\n",
       "|\\_\\_\\_\\_\\_\\_\\_\\_\\_\\_\\_\\_/ Generalized Processing \\_\\_\\_\\_\\_\\_\\_\\_\\_\\_\\_\n",
       "\n",
       "|\\_\\_\\_\\_\\_preprocess.TrainTestSplit(array)\n",
       "\n",
       "|\\_\\_\\_\\_\\_preprocess.SortSplit(array)\n",
       "\n",
       "|\\_\\_\\_\\_\\_preprocess.UniformSplit(array)\n",
       "\n",
       "|\\_\\_\\_\\_\\_\\_\\_\\_\\_\\_\\_\\_/ Feature Scaling \\_\\_\\_\\_\\_\\_\\_\\_\\_\\_\\_\n",
       "\n",
       "|\\_\\_\\_\\_\\_preprocess.Rescalar(array)\n",
       "\n",
       "|\\_\\_\\_\\_\\_preprocess.ArbitraryRescale(array)\n",
       "\n",
       "|\\_\\_\\_\\_\\_preprocess.MeanNormalization(array)\n",
       "\n",
       "|\\_\\_\\_\\_\\_preprocess.StandardScalar(array)\n",
       "\n",
       "|\\_\\_\\_\\_\\_\\_\\_\\_\\_\\_\\_\\_/ Categorical Encoding \\_\\_\\_\\_\\_\\_\\_\\_\\_\\_\\_\n",
       "\n",
       "|\\_\\_\\_\\_\\_preprocess.OneHotEncode(array)\n",
       "\n",
       "\\begin{verbatim}\n",
       "\n",
       "\\end{verbatim}\n"
      ],
      "text/markdown": [
       "|====== Lathe.preprocess =====\n",
       "\n",
       "|____________/ Generalized Processing ___________\n",
       "\n",
       "|_____preprocess.TrainTestSplit(array)\n",
       "\n",
       "|_____preprocess.SortSplit(array)\n",
       "\n",
       "|_____preprocess.UniformSplit(array)\n",
       "\n",
       "|____________/ Feature Scaling ___________\n",
       "\n",
       "|_____preprocess.Rescalar(array)\n",
       "\n",
       "|_____preprocess.ArbitraryRescale(array)\n",
       "\n",
       "|_____preprocess.MeanNormalization(array)\n",
       "\n",
       "|_____preprocess.StandardScalar(array)\n",
       "\n",
       "|____________/ Categorical Encoding ___________\n",
       "\n",
       "|_____preprocess.OneHotEncode(array)\n",
       "\n",
       "```\n",
       "\n",
       "```\n"
      ],
      "text/plain": [
       "  |====== Lathe.preprocess =====\n",
       "\n",
       "  |____________/ Generalized Processing ___________\n",
       "\n",
       "  |_____preprocess.TrainTestSplit(array)\n",
       "\n",
       "  |_____preprocess.SortSplit(array)\n",
       "\n",
       "  |_____preprocess.UniformSplit(array)\n",
       "\n",
       "  |____________/ Feature Scaling ___________\n",
       "\n",
       "  |_____preprocess.Rescalar(array)\n",
       "\n",
       "  |_____preprocess.ArbitraryRescale(array)\n",
       "\n",
       "  |_____preprocess.MeanNormalization(array)\n",
       "\n",
       "  |_____preprocess.StandardScalar(array)\n",
       "\n",
       "  |____________/ Categorical Encoding ___________\n",
       "\n",
       "  |_____preprocess.OneHotEncode(array)\n",
       "\n",
       "\u001b[36m  \u001b[39m"
      ]
     },
     "execution_count": 109,
     "metadata": {},
     "output_type": "execute_result"
    }
   ],
   "source": [
    "?(preprocess)"
   ]
  },
  {
   "cell_type": "code",
   "execution_count": 112,
   "metadata": {},
   "outputs": [
    {
     "data": {
      "text/plain": [
       "@tts (macro with 2 methods)"
      ]
     },
     "execution_count": 112,
     "metadata": {},
     "output_type": "execute_result"
    }
   ],
   "source": [
    "macro tts(x,y,at=.75)\n",
    "    x = eval(x)\n",
    "    y = eval(y)\n",
    "    TrainTestSplit(x,y,at)\n",
    "end"
   ]
  },
  {
   "cell_type": "code",
   "execution_count": 113,
   "metadata": {},
   "outputs": [
    {
     "ename": "LoadError",
     "evalue": "MethodError: no method matching @split(::LineNumberNode, ::Module, ::Expr)\nClosest candidates are:\n  @split(::LineNumberNode, ::Module, ::Any, !Matched::Any) at In[110]:2\n  @split(::LineNumberNode, ::Module, ::Any, !Matched::Any, !Matched::Any) at In[110]:2",
     "output_type": "error",
     "traceback": [
      "MethodError: no method matching @split(::LineNumberNode, ::Module, ::Expr)\nClosest candidates are:\n  @split(::LineNumberNode, ::Module, ::Any, !Matched::Any) at In[110]:2\n  @split(::LineNumberNode, ::Module, ::Any, !Matched::Any, !Matched::Any) at In[110]:2",
      ""
     ]
    }
   ],
   "source": [
    "macro n(x)\n",
    "    x = eval(x)\n",
    "    length(x)\n",
    "end"
   ]
  },
  {
   "cell_type": "code",
   "execution_count": 114,
   "metadata": {},
   "outputs": [
    {
     "name": "stdout",
     "output_type": "stream",
     "text": [
      "search: \u001b[0m\u001b[1mO\u001b[22m\u001b[0m\u001b[1mn\u001b[22m\u001b[0m\u001b[1me\u001b[22m\u001b[0m\u001b[1mH\u001b[22m\u001b[0m\u001b[1mo\u001b[22m\u001b[0m\u001b[1mt\u001b[22m\u001b[0m\u001b[1mE\u001b[22m\u001b[0m\u001b[1mn\u001b[22m\u001b[0m\u001b[1mc\u001b[22m\u001b[0m\u001b[1mo\u001b[22m\u001b[0m\u001b[1md\u001b[22m\u001b[0m\u001b[1me\u001b[22m\n",
      "\n"
     ]
    },
    {
     "data": {
      "text/latex": [
       "One hot encoder replaces a single feature with sub arrays containing boolean values (1 or 0) for each individual category.\n",
       "\n",
       "\\rule{\\textwidth}{1pt}\n",
       "df = DataFrame(:A => ['w','b','w'], :B => [5, 10, 15])\n",
       "\n",
       "scaled\\_feature = Lathe.preprocess.OneHotEncode(df,:A)\n",
       "\n",
       "\\begin{verbatim}\n",
       "\n",
       "\\end{verbatim}\n"
      ],
      "text/markdown": [
       "One hot encoder replaces a single feature with sub arrays containing boolean values (1 or 0) for each individual category.\n",
       "\n",
       "---\n",
       "\n",
       "df = DataFrame(:A => ['w','b','w'], :B => [5, 10, 15])\n",
       "\n",
       "scaled_feature = Lathe.preprocess.OneHotEncode(df,:A)\n",
       "\n",
       "```\n",
       "\n",
       "```\n"
      ],
      "text/plain": [
       "  One hot encoder replaces a single feature with sub arrays containing boolean\n",
       "  values (1 or 0) for each individual category.\n",
       "\n",
       "  ────────────────────────────────────────────────────────────────────────────\n",
       "\n",
       "  df = DataFrame(:A => ['w','b','w'], :B => [5, 10, 15])\n",
       "\n",
       "  scaled_feature = Lathe.preprocess.OneHotEncode(df,:A)\n",
       "\n",
       "\u001b[36m  \u001b[39m"
      ]
     },
     "execution_count": 114,
     "metadata": {},
     "output_type": "execute_result"
    }
   ],
   "source": [
    "?(OneHotEncode)"
   ]
  },
  {
   "cell_type": "code",
   "execution_count": null,
   "metadata": {},
   "outputs": [],
   "source": [
    "macro onehot(df,symb)\n",
    "    OneHotEncode(df,symb)\n",
    "end"
   ]
  },
  {
   "cell_type": "code",
   "execution_count": 117,
   "metadata": {},
   "outputs": [
    {
     "data": {
      "text/plain": [
       "@norm (macro with 1 method)"
      ]
     },
     "execution_count": 117,
     "metadata": {},
     "output_type": "execute_result"
    }
   ],
   "source": [
    "macro norm(x)\n",
    "    x = eval(x)\n",
    "    Normalizer(x).predict(x)\n",
    "end"
   ]
  },
  {
   "cell_type": "code",
   "execution_count": 118,
   "metadata": {},
   "outputs": [
    {
     "data": {
      "text/plain": [
       "3-element Array{Complex{Float64},1}:\n",
       " -1.5811388300841898 + 0.0im\n",
       "                 0.0 - 0.0im\n",
       "  1.5811388300841898 - 0.0im"
      ]
     },
     "execution_count": 118,
     "metadata": {},
     "output_type": "execute_result"
    }
   ],
   "source": [
    "@norm [5,10,15]"
   ]
  },
  {
   "cell_type": "code",
   "execution_count": 119,
   "metadata": {},
   "outputs": [
    {
     "data": {
      "text/plain": [
       "@predict (macro with 1 method)"
      ]
     },
     "execution_count": 119,
     "metadata": {},
     "output_type": "execute_result"
    }
   ],
   "source": [
    "macro predict(m,trainx,trainy,xt)\n",
    "    expression = string(m,\"(\", trainx, \",\", trainy, \")\")\n",
    "    exp = Meta.parse(expression)\n",
    "    model = eval(exp)\n",
    "    xt = eval(xt)\n",
    "    pred = model.predict(xt)\n",
    "end"
   ]
  },
  {
   "cell_type": "code",
   "execution_count": null,
   "metadata": {},
   "outputs": [],
   "source": []
  }
 ],
 "metadata": {
  "@webio": {
   "lastCommId": null,
   "lastKernelId": null
  },
  "kernelspec": {
   "display_name": "Julia 1.2.0",
   "language": "julia",
   "name": "julia-1.2"
  },
  "language_info": {
   "file_extension": ".jl",
   "mimetype": "application/julia",
   "name": "julia",
   "version": "1.4.1"
  }
 },
 "nbformat": 4,
 "nbformat_minor": 2
}
