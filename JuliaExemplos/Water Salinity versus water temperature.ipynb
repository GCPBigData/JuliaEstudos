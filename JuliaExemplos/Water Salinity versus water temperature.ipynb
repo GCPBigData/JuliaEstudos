{
 "cells": [
  {
   "cell_type": "markdown",
   "metadata": {},
   "source": [
    "# Correlations in water properties.\n",
    "Today I found this enormous dataset... Let's play with it. We're going to start of course by getting a good look at the features, choosing which ones I like, and we will go from there."
   ]
  },
  {
   "cell_type": "code",
   "execution_count": 1,
   "metadata": {},
   "outputs": [
    {
     "data": {
      "text/html": [
       "<table class=\"data-frame\"><thead><tr><th></th><th>Cst_Cnt</th><th>Btl_Cnt</th><th>Sta_ID</th><th>Depth_ID</th><th>Depthm</th><th>T_degC</th></tr><tr><th></th><th>Int64</th><th>Int64</th><th>String</th><th>String</th><th>Int64</th><th>Float64⍰</th></tr></thead><tbody><p>864,863 rows × 74 columns (omitted printing of 68 columns)</p><tr><th>1</th><td>1</td><td>1</td><td>054.0 056.0</td><td>19-4903CR-HY-060-0930-05400560-0000A-3</td><td>0</td><td>10.5</td></tr><tr><th>2</th><td>1</td><td>2</td><td>054.0 056.0</td><td>19-4903CR-HY-060-0930-05400560-0008A-3</td><td>8</td><td>10.46</td></tr><tr><th>3</th><td>1</td><td>3</td><td>054.0 056.0</td><td>19-4903CR-HY-060-0930-05400560-0010A-7</td><td>10</td><td>10.46</td></tr><tr><th>4</th><td>1</td><td>4</td><td>054.0 056.0</td><td>19-4903CR-HY-060-0930-05400560-0019A-3</td><td>19</td><td>10.45</td></tr><tr><th>5</th><td>1</td><td>5</td><td>054.0 056.0</td><td>19-4903CR-HY-060-0930-05400560-0020A-7</td><td>20</td><td>10.45</td></tr><tr><th>6</th><td>1</td><td>6</td><td>054.0 056.0</td><td>19-4903CR-HY-060-0930-05400560-0030A-7</td><td>30</td><td>10.45</td></tr><tr><th>7</th><td>1</td><td>7</td><td>054.0 056.0</td><td>19-4903CR-HY-060-0930-05400560-0039A-3</td><td>39</td><td>10.45</td></tr><tr><th>8</th><td>1</td><td>8</td><td>054.0 056.0</td><td>19-4903CR-HY-060-0930-05400560-0050A-7</td><td>50</td><td>10.24</td></tr><tr><th>9</th><td>1</td><td>9</td><td>054.0 056.0</td><td>19-4903CR-HY-060-0930-05400560-0058A-3</td><td>58</td><td>10.06</td></tr><tr><th>10</th><td>1</td><td>10</td><td>054.0 056.0</td><td>19-4903CR-HY-060-0930-05400560-0075A-7</td><td>75</td><td>9.86</td></tr><tr><th>11</th><td>1</td><td>11</td><td>054.0 056.0</td><td>19-4903CR-HY-060-0930-05400560-0078A-3</td><td>78</td><td>9.83</td></tr><tr><th>12</th><td>1</td><td>12</td><td>054.0 056.0</td><td>19-4903CR-HY-060-0930-05400560-0100A-7</td><td>100</td><td>9.67</td></tr><tr><th>13</th><td>1</td><td>13</td><td>054.0 056.0</td><td>19-4903CR-HY-060-0930-05400560-0117A-3</td><td>117</td><td>9.5</td></tr><tr><th>14</th><td>1</td><td>14</td><td>054.0 056.0</td><td>19-4903CR-HY-060-0930-05400560-0125A-7</td><td>125</td><td>9.32</td></tr><tr><th>15</th><td>1</td><td>15</td><td>054.0 056.0</td><td>19-4903CR-HY-060-0930-05400560-0150A-7</td><td>150</td><td>8.76</td></tr><tr><th>16</th><td>1</td><td>16</td><td>054.0 056.0</td><td>19-4903CR-HY-060-0930-05400560-0152A-3</td><td>152</td><td>8.71</td></tr><tr><th>17</th><td>1</td><td>17</td><td>054.0 056.0</td><td>19-4903CR-HY-060-0930-05400560-0200A-7</td><td>200</td><td>8.53</td></tr><tr><th>18</th><td>1</td><td>18</td><td>054.0 056.0</td><td>19-4903CR-HY-060-0930-05400560-0221A-3</td><td>221</td><td>8.45</td></tr><tr><th>19</th><td>1</td><td>19</td><td>054.0 056.0</td><td>19-4903CR-HY-060-0930-05400560-0250A-7</td><td>250</td><td>8.26</td></tr><tr><th>20</th><td>1</td><td>20</td><td>054.0 056.0</td><td>19-4903CR-HY-060-0930-05400560-0285A-3</td><td>285</td><td>7.96</td></tr><tr><th>21</th><td>1</td><td>21</td><td>054.0 056.0</td><td>19-4903CR-HY-060-0930-05400560-0300A-7</td><td>300</td><td>7.77</td></tr><tr><th>22</th><td>1</td><td>22</td><td>054.0 056.0</td><td>19-4903CR-HY-060-0930-05400560-0373A-3</td><td>373</td><td>6.8</td></tr><tr><th>23</th><td>1</td><td>23</td><td>054.0 056.0</td><td>19-4903CR-HY-060-0930-05400560-0400A-7</td><td>400</td><td>6.55</td></tr><tr><th>24</th><td>1</td><td>24</td><td>054.0 056.0</td><td>19-4903CR-HY-060-0930-05400560-0500A-7</td><td>500</td><td>5.78</td></tr><tr><th>25</th><td>1</td><td>25</td><td>054.0 056.0</td><td>19-4903CR-HY-060-0930-05400560-0598A-3</td><td>598</td><td>5.3</td></tr><tr><th>26</th><td>1</td><td>26</td><td>054.0 056.0</td><td>19-4903CR-HY-060-0930-05400560-0600A-7</td><td>600</td><td>5.29</td></tr><tr><th>27</th><td>1</td><td>27</td><td>054.0 056.0</td><td>19-4903CR-HY-060-0930-05400560-0700A-7</td><td>700</td><td>5.01</td></tr><tr><th>28</th><td>1</td><td>28</td><td>054.0 056.0</td><td>19-4903CR-HY-060-0930-05400560-0800A-7</td><td>800</td><td>4.72</td></tr><tr><th>29</th><td>1</td><td>29</td><td>054.0 056.0</td><td>19-4903CR-HY-060-0930-05400560-0896A-3</td><td>896</td><td>4.44</td></tr><tr><th>30</th><td>2</td><td>30</td><td>052.0 075.0</td><td>19-4903CR-HY-060-2112-05200750-0000B-3</td><td>0</td><td>10.1</td></tr><tr><th>&vellip;</th><td>&vellip;</td><td>&vellip;</td><td>&vellip;</td><td>&vellip;</td><td>&vellip;</td><td>&vellip;</td></tr></tbody></table>"
      ],
      "text/latex": [
       "\\begin{tabular}{r|ccccccc}\n",
       "\t& Cst\\_Cnt & Btl\\_Cnt & Sta\\_ID & Depth\\_ID & Depthm & T\\_degC & \\\\\n",
       "\t\\hline\n",
       "\t& Int64 & Int64 & String & String & Int64 & Float64⍰ & \\\\\n",
       "\t\\hline\n",
       "\t1 & 1 & 1 & 054.0 056.0 & 19-4903CR-HY-060-0930-05400560-0000A-3 & 0 & 10.5 & $\\dots$ \\\\\n",
       "\t2 & 1 & 2 & 054.0 056.0 & 19-4903CR-HY-060-0930-05400560-0008A-3 & 8 & 10.46 & $\\dots$ \\\\\n",
       "\t3 & 1 & 3 & 054.0 056.0 & 19-4903CR-HY-060-0930-05400560-0010A-7 & 10 & 10.46 & $\\dots$ \\\\\n",
       "\t4 & 1 & 4 & 054.0 056.0 & 19-4903CR-HY-060-0930-05400560-0019A-3 & 19 & 10.45 & $\\dots$ \\\\\n",
       "\t5 & 1 & 5 & 054.0 056.0 & 19-4903CR-HY-060-0930-05400560-0020A-7 & 20 & 10.45 & $\\dots$ \\\\\n",
       "\t6 & 1 & 6 & 054.0 056.0 & 19-4903CR-HY-060-0930-05400560-0030A-7 & 30 & 10.45 & $\\dots$ \\\\\n",
       "\t7 & 1 & 7 & 054.0 056.0 & 19-4903CR-HY-060-0930-05400560-0039A-3 & 39 & 10.45 & $\\dots$ \\\\\n",
       "\t8 & 1 & 8 & 054.0 056.0 & 19-4903CR-HY-060-0930-05400560-0050A-7 & 50 & 10.24 & $\\dots$ \\\\\n",
       "\t9 & 1 & 9 & 054.0 056.0 & 19-4903CR-HY-060-0930-05400560-0058A-3 & 58 & 10.06 & $\\dots$ \\\\\n",
       "\t10 & 1 & 10 & 054.0 056.0 & 19-4903CR-HY-060-0930-05400560-0075A-7 & 75 & 9.86 & $\\dots$ \\\\\n",
       "\t11 & 1 & 11 & 054.0 056.0 & 19-4903CR-HY-060-0930-05400560-0078A-3 & 78 & 9.83 & $\\dots$ \\\\\n",
       "\t12 & 1 & 12 & 054.0 056.0 & 19-4903CR-HY-060-0930-05400560-0100A-7 & 100 & 9.67 & $\\dots$ \\\\\n",
       "\t13 & 1 & 13 & 054.0 056.0 & 19-4903CR-HY-060-0930-05400560-0117A-3 & 117 & 9.5 & $\\dots$ \\\\\n",
       "\t14 & 1 & 14 & 054.0 056.0 & 19-4903CR-HY-060-0930-05400560-0125A-7 & 125 & 9.32 & $\\dots$ \\\\\n",
       "\t15 & 1 & 15 & 054.0 056.0 & 19-4903CR-HY-060-0930-05400560-0150A-7 & 150 & 8.76 & $\\dots$ \\\\\n",
       "\t16 & 1 & 16 & 054.0 056.0 & 19-4903CR-HY-060-0930-05400560-0152A-3 & 152 & 8.71 & $\\dots$ \\\\\n",
       "\t17 & 1 & 17 & 054.0 056.0 & 19-4903CR-HY-060-0930-05400560-0200A-7 & 200 & 8.53 & $\\dots$ \\\\\n",
       "\t18 & 1 & 18 & 054.0 056.0 & 19-4903CR-HY-060-0930-05400560-0221A-3 & 221 & 8.45 & $\\dots$ \\\\\n",
       "\t19 & 1 & 19 & 054.0 056.0 & 19-4903CR-HY-060-0930-05400560-0250A-7 & 250 & 8.26 & $\\dots$ \\\\\n",
       "\t20 & 1 & 20 & 054.0 056.0 & 19-4903CR-HY-060-0930-05400560-0285A-3 & 285 & 7.96 & $\\dots$ \\\\\n",
       "\t21 & 1 & 21 & 054.0 056.0 & 19-4903CR-HY-060-0930-05400560-0300A-7 & 300 & 7.77 & $\\dots$ \\\\\n",
       "\t22 & 1 & 22 & 054.0 056.0 & 19-4903CR-HY-060-0930-05400560-0373A-3 & 373 & 6.8 & $\\dots$ \\\\\n",
       "\t23 & 1 & 23 & 054.0 056.0 & 19-4903CR-HY-060-0930-05400560-0400A-7 & 400 & 6.55 & $\\dots$ \\\\\n",
       "\t24 & 1 & 24 & 054.0 056.0 & 19-4903CR-HY-060-0930-05400560-0500A-7 & 500 & 5.78 & $\\dots$ \\\\\n",
       "\t25 & 1 & 25 & 054.0 056.0 & 19-4903CR-HY-060-0930-05400560-0598A-3 & 598 & 5.3 & $\\dots$ \\\\\n",
       "\t26 & 1 & 26 & 054.0 056.0 & 19-4903CR-HY-060-0930-05400560-0600A-7 & 600 & 5.29 & $\\dots$ \\\\\n",
       "\t27 & 1 & 27 & 054.0 056.0 & 19-4903CR-HY-060-0930-05400560-0700A-7 & 700 & 5.01 & $\\dots$ \\\\\n",
       "\t28 & 1 & 28 & 054.0 056.0 & 19-4903CR-HY-060-0930-05400560-0800A-7 & 800 & 4.72 & $\\dots$ \\\\\n",
       "\t29 & 1 & 29 & 054.0 056.0 & 19-4903CR-HY-060-0930-05400560-0896A-3 & 896 & 4.44 & $\\dots$ \\\\\n",
       "\t30 & 2 & 30 & 052.0 075.0 & 19-4903CR-HY-060-2112-05200750-0000B-3 & 0 & 10.1 & $\\dots$ \\\\\n",
       "\t$\\dots$ & $\\dots$ & $\\dots$ & $\\dots$ & $\\dots$ & $\\dots$ & $\\dots$ &  \\\\\n",
       "\\end{tabular}\n"
      ],
      "text/plain": [
       "864863×74 DataFrames.DataFrame. Omitted printing of 71 columns\n",
       "│ Row    │ Cst_Cnt │ Btl_Cnt │ Sta_ID      │\n",
       "│        │ \u001b[90mInt64\u001b[39m   │ \u001b[90mInt64\u001b[39m   │ \u001b[90mString\u001b[39m      │\n",
       "├────────┼─────────┼─────────┼─────────────┤\n",
       "│ 1      │ 1       │ 1       │ 054.0 056.0 │\n",
       "│ 2      │ 1       │ 2       │ 054.0 056.0 │\n",
       "│ 3      │ 1       │ 3       │ 054.0 056.0 │\n",
       "│ 4      │ 1       │ 4       │ 054.0 056.0 │\n",
       "│ 5      │ 1       │ 5       │ 054.0 056.0 │\n",
       "│ 6      │ 1       │ 6       │ 054.0 056.0 │\n",
       "│ 7      │ 1       │ 7       │ 054.0 056.0 │\n",
       "│ 8      │ 1       │ 8       │ 054.0 056.0 │\n",
       "│ 9      │ 1       │ 9       │ 054.0 056.0 │\n",
       "│ 10     │ 1       │ 10      │ 054.0 056.0 │\n",
       "⋮\n",
       "│ 864853 │ 34403   │ 864853  │ 093.3 120.0 │\n",
       "│ 864854 │ 34403   │ 864854  │ 093.3 120.0 │\n",
       "│ 864855 │ 34403   │ 864855  │ 093.3 120.0 │\n",
       "│ 864856 │ 34403   │ 864856  │ 093.3 120.0 │\n",
       "│ 864857 │ 34403   │ 864857  │ 093.3 120.0 │\n",
       "│ 864858 │ 34403   │ 864858  │ 093.3 120.0 │\n",
       "│ 864859 │ 34404   │ 864859  │ 093.4 026.4 │\n",
       "│ 864860 │ 34404   │ 864860  │ 093.4 026.4 │\n",
       "│ 864861 │ 34404   │ 864861  │ 093.4 026.4 │\n",
       "│ 864862 │ 34404   │ 864862  │ 093.4 026.4 │\n",
       "│ 864863 │ 34404   │ 864863  │ 093.4 026.4 │"
      ]
     },
     "execution_count": 1,
     "metadata": {},
     "output_type": "execute_result"
    }
   ],
   "source": [
    "# Read in our data!\n",
    "using CSV\n",
    "df = CSV.read(\"bottle.csv\")\n",
    "# That's a lot of observations, which is good, but way too many features.\n",
    "#    I really hope DataFrames.JL is improved in the future, because this whole\n",
    "# \"omitted printing\" thing is probably the biggest downside."
   ]
  },
  {
   "cell_type": "code",
   "execution_count": 2,
   "metadata": {},
   "outputs": [
    {
     "name": "stdout",
     "output_type": "stream",
     "text": [
      "864863×74 DataFrames.DataFrame\n",
      "│ Row    │ Cst_Cnt │ Btl_Cnt │ Sta_ID      │\n",
      "│        │ \u001b[90mInt64\u001b[39m   │ \u001b[90mInt64\u001b[39m   │ \u001b[90mString\u001b[39m      │\n",
      "├────────┼─────────┼─────────┼─────────────┤\n",
      "│ 1      │ 1       │ 1       │ 054.0 056.0 │\n",
      "│ 2      │ 1       │ 2       │ 054.0 056.0 │\n",
      "│ 3      │ 1       │ 3       │ 054.0 056.0 │\n",
      "│ 4      │ 1       │ 4       │ 054.0 056.0 │\n",
      "│ 5      │ 1       │ 5       │ 054.0 056.0 │\n",
      "│ 6      │ 1       │ 6       │ 054.0 056.0 │\n",
      "│ 7      │ 1       │ 7       │ 054.0 056.0 │\n",
      "│ 8      │ 1       │ 8       │ 054.0 056.0 │\n",
      "│ 9      │ 1       │ 9       │ 054.0 056.0 │\n",
      "│ 10     │ 1       │ 10      │ 054.0 056.0 │\n",
      "⋮\n",
      "│ 864853 │ 34403   │ 864853  │ 093.3 120.0 │\n",
      "│ 864854 │ 34403   │ 864854  │ 093.3 120.0 │\n",
      "│ 864855 │ 34403   │ 864855  │ 093.3 120.0 │\n",
      "│ 864856 │ 34403   │ 864856  │ 093.3 120.0 │\n",
      "│ 864857 │ 34403   │ 864857  │ 093.3 120.0 │\n",
      "│ 864858 │ 34403   │ 864858  │ 093.3 120.0 │\n",
      "│ 864859 │ 34404   │ 864859  │ 093.4 026.4 │\n",
      "│ 864860 │ 34404   │ 864860  │ 093.4 026.4 │\n",
      "│ 864861 │ 34404   │ 864861  │ 093.4 026.4 │\n",
      "│ 864862 │ 34404   │ 864862  │ 093.4 026.4 │\n",
      "│ 864863 │ 34404   │ 864863  │ 093.4 026.4 │\n",
      "\n",
      "│ Row    │ Depth_ID                               │ Depthm │ T_degC   │\n",
      "│        │ \u001b[90mString\u001b[39m                                 │ \u001b[90mInt64\u001b[39m  │ \u001b[90mFloat64⍰\u001b[39m │\n",
      "├────────┼────────────────────────────────────────┼────────┼──────────┤\n",
      "│ 1      │ 19-4903CR-HY-060-0930-05400560-0000A-3 │ 0      │ 10.5     │\n",
      "│ 2      │ 19-4903CR-HY-060-0930-05400560-0008A-3 │ 8      │ 10.46    │\n",
      "│ 3      │ 19-4903CR-HY-060-0930-05400560-0010A-7 │ 10     │ 10.46    │\n",
      "│ 4      │ 19-4903CR-HY-060-0930-05400560-0019A-3 │ 19     │ 10.45    │\n",
      "│ 5      │ 19-4903CR-HY-060-0930-05400560-0020A-7 │ 20     │ 10.45    │\n",
      "│ 6      │ 19-4903CR-HY-060-0930-05400560-0030A-7 │ 30     │ 10.45    │\n",
      "│ 7      │ 19-4903CR-HY-060-0930-05400560-0039A-3 │ 39     │ 10.45    │\n",
      "│ 8      │ 19-4903CR-HY-060-0930-05400560-0050A-7 │ 50     │ 10.24    │\n",
      "│ 9      │ 19-4903CR-HY-060-0930-05400560-0058A-3 │ 58     │ 10.06    │\n",
      "│ 10     │ 19-4903CR-HY-060-0930-05400560-0075A-7 │ 75     │ 9.86     │\n",
      "⋮\n",
      "│ 864853 │ 20-1611SR-MX-313-2053-09331200-0321A-3 │ 321    │ 7.538    │\n",
      "│ 864854 │ 20-1611SR-MX-313-2053-09331200-0381A-3 │ 381    │ 6.943    │\n",
      "│ 864855 │ 20-1611SR-MX-313-2053-09331200-0400A-7 │ 400    │ 6.694    │\n",
      "│ 864856 │ 20-1611SR-MX-313-2053-09331200-0440A-3 │ 440    │ 6.312    │\n",
      "│ 864857 │ 20-1611SR-MX-313-2053-09331200-0500A-7 │ 500    │ 5.993    │\n",
      "│ 864858 │ 20-1611SR-MX-313-2053-09331200-0521A-3 │ 521    │ 5.818    │\n",
      "│ 864859 │ 20-1611SR-MX-310-2239-09340264-0000A-7 │ 0      │ 18.744   │\n",
      "│ 864860 │ 20-1611SR-MX-310-2239-09340264-0002A-3 │ 2      │ 18.744   │\n",
      "│ 864861 │ 20-1611SR-MX-310-2239-09340264-0005A-3 │ 5      │ 18.692   │\n",
      "│ 864862 │ 20-1611SR-MX-310-2239-09340264-0010A-3 │ 10     │ 18.161   │\n",
      "│ 864863 │ 20-1611SR-MX-310-2239-09340264-0015A-3 │ 15     │ 17.533   │\n",
      "\n",
      "│ Row    │ Salnty   │ O2ml_L   │ STheta   │ O2Sat    │ Oxy_µmol/Kg │ BtlNum  │\n",
      "│        │ \u001b[90mFloat64⍰\u001b[39m │ \u001b[90mFloat64⍰\u001b[39m │ \u001b[90mFloat64⍰\u001b[39m │ \u001b[90mFloat64⍰\u001b[39m │ \u001b[90mFloat64⍰\u001b[39m    │ \u001b[90mInt64⍰\u001b[39m  │\n",
      "├────────┼──────────┼──────────┼──────────┼──────────┼─────────────┼─────────┤\n",
      "│ 1      │ 33.44    │ \u001b[90mmissing\u001b[39m  │ 25.649   │ \u001b[90mmissing\u001b[39m  │ \u001b[90mmissing\u001b[39m     │ \u001b[90mmissing\u001b[39m │\n",
      "│ 2      │ 33.44    │ \u001b[90mmissing\u001b[39m  │ 25.656   │ \u001b[90mmissing\u001b[39m  │ \u001b[90mmissing\u001b[39m     │ \u001b[90mmissing\u001b[39m │\n",
      "│ 3      │ 33.437   │ \u001b[90mmissing\u001b[39m  │ 25.654   │ \u001b[90mmissing\u001b[39m  │ \u001b[90mmissing\u001b[39m     │ \u001b[90mmissing\u001b[39m │\n",
      "│ 4      │ 33.42    │ \u001b[90mmissing\u001b[39m  │ 25.643   │ \u001b[90mmissing\u001b[39m  │ \u001b[90mmissing\u001b[39m     │ \u001b[90mmissing\u001b[39m │\n",
      "│ 5      │ 33.421   │ \u001b[90mmissing\u001b[39m  │ 25.643   │ \u001b[90mmissing\u001b[39m  │ \u001b[90mmissing\u001b[39m     │ \u001b[90mmissing\u001b[39m │\n",
      "│ 6      │ 33.431   │ \u001b[90mmissing\u001b[39m  │ 25.651   │ \u001b[90mmissing\u001b[39m  │ \u001b[90mmissing\u001b[39m     │ \u001b[90mmissing\u001b[39m │\n",
      "│ 7      │ 33.44    │ \u001b[90mmissing\u001b[39m  │ 25.658   │ \u001b[90mmissing\u001b[39m  │ \u001b[90mmissing\u001b[39m     │ \u001b[90mmissing\u001b[39m │\n",
      "│ 8      │ 33.424   │ \u001b[90mmissing\u001b[39m  │ 25.682   │ \u001b[90mmissing\u001b[39m  │ \u001b[90mmissing\u001b[39m     │ \u001b[90mmissing\u001b[39m │\n",
      "│ 9      │ 33.42    │ \u001b[90mmissing\u001b[39m  │ 25.71    │ \u001b[90mmissing\u001b[39m  │ \u001b[90mmissing\u001b[39m     │ \u001b[90mmissing\u001b[39m │\n",
      "│ 10     │ 33.494   │ \u001b[90mmissing\u001b[39m  │ 25.801   │ \u001b[90mmissing\u001b[39m  │ \u001b[90mmissing\u001b[39m     │ \u001b[90mmissing\u001b[39m │\n",
      "⋮\n",
      "│ 864853 │ 34.042   │ 1.984    │ 26.5979  │ 29.5     │ 86.56       │ 4       │\n",
      "│ 864854 │ 34.1104  │ 1.108    │ 26.7357  │ 16.26    │ 48.35       │ 3       │\n",
      "│ 864855 │ 34.1101  │ 1.096    │ 26.7693  │ 15.99    │ 47.67       │ \u001b[90mmissing\u001b[39m │\n",
      "│ 864856 │ 34.1563  │ 0.718    │ 26.8564  │ 10.38    │ 31.34       │ 2       │\n",
      "│ 864857 │ 34.216   │ 0.456    │ 26.9452  │ 6.55     │ 19.83       │ \u001b[90mmissing\u001b[39m │\n",
      "│ 864858 │ 34.2382  │ 0.366    │ 26.9848  │ 5.23     │ 15.95       │ 1       │\n",
      "│ 864859 │ 33.4083  │ 5.805    │ 23.8706  │ 108.74   │ 253.47      │ \u001b[90mmissing\u001b[39m │\n",
      "│ 864860 │ 33.4083  │ 5.805    │ 23.8707  │ 108.74   │ 253.47      │ 4       │\n",
      "│ 864861 │ 33.415   │ 5.796    │ 23.8891  │ 108.46   │ 253.06      │ 3       │\n",
      "│ 864862 │ 33.4062  │ 5.816    │ 24.0143  │ 107.74   │ 253.92      │ 2       │\n",
      "│ 864863 │ 33.388   │ 5.774    │ 24.153   │ 105.66   │ 252.08      │ 1       │\n",
      "\n",
      "│ Row    │ RecInd │ T_prec │ T_qual  │ S_prec │ S_qual  │ P_qual  │ O_qual  │\n",
      "│        │ \u001b[90mInt64\u001b[39m  │ \u001b[90mInt64⍰\u001b[39m │ \u001b[90mInt64⍰\u001b[39m  │ \u001b[90mInt64⍰\u001b[39m │ \u001b[90mInt64⍰\u001b[39m  │ \u001b[90mInt64⍰\u001b[39m  │ \u001b[90mInt64⍰\u001b[39m  │\n",
      "├────────┼────────┼────────┼─────────┼────────┼─────────┼─────────┼─────────┤\n",
      "│ 1      │ 3      │ 1      │ \u001b[90mmissing\u001b[39m │ 2      │ \u001b[90mmissing\u001b[39m │ 9       │ 9       │\n",
      "│ 2      │ 3      │ 2      │ \u001b[90mmissing\u001b[39m │ 2      │ \u001b[90mmissing\u001b[39m │ 9       │ 9       │\n",
      "│ 3      │ 7      │ 2      │ \u001b[90mmissing\u001b[39m │ 3      │ \u001b[90mmissing\u001b[39m │ 9       │ 9       │\n",
      "│ 4      │ 3      │ 2      │ \u001b[90mmissing\u001b[39m │ 2      │ \u001b[90mmissing\u001b[39m │ 9       │ 9       │\n",
      "│ 5      │ 7      │ 2      │ \u001b[90mmissing\u001b[39m │ 3      │ \u001b[90mmissing\u001b[39m │ 9       │ 9       │\n",
      "│ 6      │ 7      │ 2      │ \u001b[90mmissing\u001b[39m │ 3      │ \u001b[90mmissing\u001b[39m │ 9       │ 9       │\n",
      "│ 7      │ 3      │ 2      │ \u001b[90mmissing\u001b[39m │ 2      │ \u001b[90mmissing\u001b[39m │ 9       │ 9       │\n",
      "│ 8      │ 7      │ 2      │ \u001b[90mmissing\u001b[39m │ 3      │ \u001b[90mmissing\u001b[39m │ 9       │ 9       │\n",
      "│ 9      │ 3      │ 2      │ \u001b[90mmissing\u001b[39m │ 2      │ \u001b[90mmissing\u001b[39m │ 9       │ 9       │\n",
      "│ 10     │ 7      │ 2      │ \u001b[90mmissing\u001b[39m │ 3      │ \u001b[90mmissing\u001b[39m │ 9       │ 9       │\n",
      "⋮\n",
      "│ 864853 │ 3      │ 2      │ \u001b[90mmissing\u001b[39m │ 3      │ \u001b[90mmissing\u001b[39m │ \u001b[90mmissing\u001b[39m │ \u001b[90mmissing\u001b[39m │\n",
      "│ 864854 │ 3      │ 2      │ \u001b[90mmissing\u001b[39m │ 3      │ \u001b[90mmissing\u001b[39m │ \u001b[90mmissing\u001b[39m │ \u001b[90mmissing\u001b[39m │\n",
      "│ 864855 │ 7      │ 2      │ \u001b[90mmissing\u001b[39m │ 3      │ 6       │ \u001b[90mmissing\u001b[39m │ 6       │\n",
      "│ 864856 │ 3      │ 2      │ \u001b[90mmissing\u001b[39m │ 3      │ \u001b[90mmissing\u001b[39m │ \u001b[90mmissing\u001b[39m │ \u001b[90mmissing\u001b[39m │\n",
      "│ 864857 │ 7      │ 2      │ \u001b[90mmissing\u001b[39m │ 3      │ 6       │ \u001b[90mmissing\u001b[39m │ 6       │\n",
      "│ 864858 │ 3      │ 2      │ \u001b[90mmissing\u001b[39m │ 3      │ \u001b[90mmissing\u001b[39m │ \u001b[90mmissing\u001b[39m │ \u001b[90mmissing\u001b[39m │\n",
      "│ 864859 │ 7      │ 2      │ \u001b[90mmissing\u001b[39m │ 3      │ \u001b[90mmissing\u001b[39m │ \u001b[90mmissing\u001b[39m │ \u001b[90mmissing\u001b[39m │\n",
      "│ 864860 │ 3      │ 2      │ \u001b[90mmissing\u001b[39m │ 3      │ \u001b[90mmissing\u001b[39m │ \u001b[90mmissing\u001b[39m │ \u001b[90mmissing\u001b[39m │\n",
      "│ 864861 │ 3      │ 2      │ \u001b[90mmissing\u001b[39m │ 3      │ \u001b[90mmissing\u001b[39m │ \u001b[90mmissing\u001b[39m │ \u001b[90mmissing\u001b[39m │\n",
      "│ 864862 │ 3      │ 2      │ \u001b[90mmissing\u001b[39m │ 3      │ \u001b[90mmissing\u001b[39m │ \u001b[90mmissing\u001b[39m │ \u001b[90mmissing\u001b[39m │\n",
      "│ 864863 │ 3      │ 2      │ \u001b[90mmissing\u001b[39m │ 3      │ \u001b[90mmissing\u001b[39m │ \u001b[90mmissing\u001b[39m │ \u001b[90mmissing\u001b[39m │\n",
      "\n",
      "│ Row    │ SThtaq  │ O2Satq  │ ChlorA   │ Chlqua  │ Phaeop   │ Phaqua  │\n",
      "│        │ \u001b[90mInt64⍰\u001b[39m  │ \u001b[90mInt64⍰\u001b[39m  │ \u001b[90mFloat64⍰\u001b[39m │ \u001b[90mInt64⍰\u001b[39m  │ \u001b[90mFloat64⍰\u001b[39m │ \u001b[90mInt64⍰\u001b[39m  │\n",
      "├────────┼─────────┼─────────┼──────────┼─────────┼──────────┼─────────┤\n",
      "│ 1      │ \u001b[90mmissing\u001b[39m │ 9       │ \u001b[90mmissing\u001b[39m  │ 9       │ \u001b[90mmissing\u001b[39m  │ 9       │\n",
      "│ 2      │ \u001b[90mmissing\u001b[39m │ 9       │ \u001b[90mmissing\u001b[39m  │ 9       │ \u001b[90mmissing\u001b[39m  │ 9       │\n",
      "│ 3      │ \u001b[90mmissing\u001b[39m │ 9       │ \u001b[90mmissing\u001b[39m  │ 9       │ \u001b[90mmissing\u001b[39m  │ 9       │\n",
      "│ 4      │ \u001b[90mmissing\u001b[39m │ 9       │ \u001b[90mmissing\u001b[39m  │ 9       │ \u001b[90mmissing\u001b[39m  │ 9       │\n",
      "│ 5      │ \u001b[90mmissing\u001b[39m │ 9       │ \u001b[90mmissing\u001b[39m  │ 9       │ \u001b[90mmissing\u001b[39m  │ 9       │\n",
      "│ 6      │ \u001b[90mmissing\u001b[39m │ 9       │ \u001b[90mmissing\u001b[39m  │ 9       │ \u001b[90mmissing\u001b[39m  │ 9       │\n",
      "│ 7      │ \u001b[90mmissing\u001b[39m │ 9       │ \u001b[90mmissing\u001b[39m  │ 9       │ \u001b[90mmissing\u001b[39m  │ 9       │\n",
      "│ 8      │ \u001b[90mmissing\u001b[39m │ 9       │ \u001b[90mmissing\u001b[39m  │ 9       │ \u001b[90mmissing\u001b[39m  │ 9       │\n",
      "│ 9      │ \u001b[90mmissing\u001b[39m │ 9       │ \u001b[90mmissing\u001b[39m  │ 9       │ \u001b[90mmissing\u001b[39m  │ 9       │\n",
      "│ 10     │ \u001b[90mmissing\u001b[39m │ 9       │ \u001b[90mmissing\u001b[39m  │ 9       │ \u001b[90mmissing\u001b[39m  │ 9       │\n",
      "⋮\n",
      "│ 864853 │ \u001b[90mmissing\u001b[39m │ \u001b[90mmissing\u001b[39m │ \u001b[90mmissing\u001b[39m  │ 9       │ \u001b[90mmissing\u001b[39m  │ 9       │\n",
      "│ 864854 │ \u001b[90mmissing\u001b[39m │ \u001b[90mmissing\u001b[39m │ \u001b[90mmissing\u001b[39m  │ 9       │ \u001b[90mmissing\u001b[39m  │ 9       │\n",
      "│ 864855 │ 6       │ 6       │ \u001b[90mmissing\u001b[39m  │ 9       │ \u001b[90mmissing\u001b[39m  │ 9       │\n",
      "│ 864856 │ \u001b[90mmissing\u001b[39m │ \u001b[90mmissing\u001b[39m │ \u001b[90mmissing\u001b[39m  │ 9       │ \u001b[90mmissing\u001b[39m  │ 9       │\n",
      "│ 864857 │ 6       │ 6       │ \u001b[90mmissing\u001b[39m  │ 9       │ \u001b[90mmissing\u001b[39m  │ 9       │\n",
      "│ 864858 │ \u001b[90mmissing\u001b[39m │ \u001b[90mmissing\u001b[39m │ \u001b[90mmissing\u001b[39m  │ 9       │ \u001b[90mmissing\u001b[39m  │ 9       │\n",
      "│ 864859 │ \u001b[90mmissing\u001b[39m │ \u001b[90mmissing\u001b[39m │ 0.905    │ \u001b[90mmissing\u001b[39m │ 0.176    │ \u001b[90mmissing\u001b[39m │\n",
      "│ 864860 │ \u001b[90mmissing\u001b[39m │ \u001b[90mmissing\u001b[39m │ 0.905    │ \u001b[90mmissing\u001b[39m │ 0.176    │ \u001b[90mmissing\u001b[39m │\n",
      "│ 864861 │ \u001b[90mmissing\u001b[39m │ \u001b[90mmissing\u001b[39m │ 0.915    │ \u001b[90mmissing\u001b[39m │ 0.182    │ \u001b[90mmissing\u001b[39m │\n",
      "│ 864862 │ \u001b[90mmissing\u001b[39m │ \u001b[90mmissing\u001b[39m │ 1.078    │ \u001b[90mmissing\u001b[39m │ 0.313    │ \u001b[90mmissing\u001b[39m │\n",
      "│ 864863 │ \u001b[90mmissing\u001b[39m │ \u001b[90mmissing\u001b[39m │ 2.118    │ \u001b[90mmissing\u001b[39m │ 0.614    │ \u001b[90mmissing\u001b[39m │\n",
      "\n",
      "│ Row    │ PO4uM    │ PO4q    │ SiO3uM   │ SiO3qu  │ NO2uM    │ NO2q    │\n",
      "│        │ \u001b[90mFloat64⍰\u001b[39m │ \u001b[90mInt64⍰\u001b[39m  │ \u001b[90mFloat64⍰\u001b[39m │ \u001b[90mInt64⍰\u001b[39m  │ \u001b[90mFloat64⍰\u001b[39m │ \u001b[90mInt64⍰\u001b[39m  │\n",
      "├────────┼──────────┼─────────┼──────────┼─────────┼──────────┼─────────┤\n",
      "│ 1      │ \u001b[90mmissing\u001b[39m  │ 9       │ \u001b[90mmissing\u001b[39m  │ 9       │ \u001b[90mmissing\u001b[39m  │ 9       │\n",
      "│ 2      │ \u001b[90mmissing\u001b[39m  │ 9       │ \u001b[90mmissing\u001b[39m  │ 9       │ \u001b[90mmissing\u001b[39m  │ 9       │\n",
      "│ 3      │ \u001b[90mmissing\u001b[39m  │ 9       │ \u001b[90mmissing\u001b[39m  │ 9       │ \u001b[90mmissing\u001b[39m  │ 9       │\n",
      "│ 4      │ \u001b[90mmissing\u001b[39m  │ 9       │ \u001b[90mmissing\u001b[39m  │ 9       │ \u001b[90mmissing\u001b[39m  │ 9       │\n",
      "│ 5      │ \u001b[90mmissing\u001b[39m  │ 9       │ \u001b[90mmissing\u001b[39m  │ 9       │ \u001b[90mmissing\u001b[39m  │ 9       │\n",
      "│ 6      │ \u001b[90mmissing\u001b[39m  │ 9       │ \u001b[90mmissing\u001b[39m  │ 9       │ \u001b[90mmissing\u001b[39m  │ 9       │\n",
      "│ 7      │ \u001b[90mmissing\u001b[39m  │ 9       │ \u001b[90mmissing\u001b[39m  │ 9       │ \u001b[90mmissing\u001b[39m  │ 9       │\n",
      "│ 8      │ \u001b[90mmissing\u001b[39m  │ 9       │ \u001b[90mmissing\u001b[39m  │ 9       │ \u001b[90mmissing\u001b[39m  │ 9       │\n",
      "│ 9      │ \u001b[90mmissing\u001b[39m  │ 9       │ \u001b[90mmissing\u001b[39m  │ 9       │ \u001b[90mmissing\u001b[39m  │ 9       │\n",
      "│ 10     │ \u001b[90mmissing\u001b[39m  │ 9       │ \u001b[90mmissing\u001b[39m  │ 9       │ \u001b[90mmissing\u001b[39m  │ 9       │\n",
      "⋮\n",
      "│ 864853 │ 2.31     │ \u001b[90mmissing\u001b[39m │ 43.35    │ \u001b[90mmissing\u001b[39m │ 0.0      │ 8       │\n",
      "│ 864854 │ 2.67     │ \u001b[90mmissing\u001b[39m │ 55.78    │ \u001b[90mmissing\u001b[39m │ 0.0      │ 8       │\n",
      "│ 864855 │ 2.74     │ \u001b[90mmissing\u001b[39m │ 59.0     │ \u001b[90mmissing\u001b[39m │ 0.01     │ \u001b[90mmissing\u001b[39m │\n",
      "│ 864856 │ 2.88     │ \u001b[90mmissing\u001b[39m │ 65.77    │ \u001b[90mmissing\u001b[39m │ 0.0      │ 8       │\n",
      "│ 864857 │ 3.04     │ \u001b[90mmissing\u001b[39m │ 74.52    │ \u001b[90mmissing\u001b[39m │ 0.01     │ \u001b[90mmissing\u001b[39m │\n",
      "│ 864858 │ 3.09     │ \u001b[90mmissing\u001b[39m │ 77.58    │ \u001b[90mmissing\u001b[39m │ 0.0      │ 8       │\n",
      "│ 864859 │ 0.22     │ \u001b[90mmissing\u001b[39m │ 1.77     │ \u001b[90mmissing\u001b[39m │ 0.029    │ \u001b[90mmissing\u001b[39m │\n",
      "│ 864860 │ 0.22     │ \u001b[90mmissing\u001b[39m │ 1.77     │ \u001b[90mmissing\u001b[39m │ 0.029    │ \u001b[90mmissing\u001b[39m │\n",
      "│ 864861 │ 0.2      │ \u001b[90mmissing\u001b[39m │ 1.75     │ \u001b[90mmissing\u001b[39m │ 0.027    │ \u001b[90mmissing\u001b[39m │\n",
      "│ 864862 │ 0.25     │ \u001b[90mmissing\u001b[39m │ 1.99     │ \u001b[90mmissing\u001b[39m │ 0.03     │ \u001b[90mmissing\u001b[39m │\n",
      "│ 864863 │ 0.31     │ \u001b[90mmissing\u001b[39m │ 2.58     │ \u001b[90mmissing\u001b[39m │ 0.054    │ \u001b[90mmissing\u001b[39m │\n",
      "\n",
      "│ Row    │ NO3uM    │ NO3q    │ NH3uM    │ NH3q    │ C14As1   │ C14A1p  │\n",
      "│        │ \u001b[90mFloat64⍰\u001b[39m │ \u001b[90mInt64⍰\u001b[39m  │ \u001b[90mFloat64⍰\u001b[39m │ \u001b[90mInt64⍰\u001b[39m  │ \u001b[90mFloat64⍰\u001b[39m │ \u001b[90mInt64⍰\u001b[39m  │\n",
      "├────────┼──────────┼─────────┼──────────┼─────────┼──────────┼─────────┤\n",
      "│ 1      │ \u001b[90mmissing\u001b[39m  │ 9       │ \u001b[90mmissing\u001b[39m  │ 9       │ \u001b[90mmissing\u001b[39m  │ \u001b[90mmissing\u001b[39m │\n",
      "│ 2      │ \u001b[90mmissing\u001b[39m  │ 9       │ \u001b[90mmissing\u001b[39m  │ 9       │ \u001b[90mmissing\u001b[39m  │ \u001b[90mmissing\u001b[39m │\n",
      "│ 3      │ \u001b[90mmissing\u001b[39m  │ 9       │ \u001b[90mmissing\u001b[39m  │ 9       │ \u001b[90mmissing\u001b[39m  │ \u001b[90mmissing\u001b[39m │\n",
      "│ 4      │ \u001b[90mmissing\u001b[39m  │ 9       │ \u001b[90mmissing\u001b[39m  │ 9       │ \u001b[90mmissing\u001b[39m  │ \u001b[90mmissing\u001b[39m │\n",
      "│ 5      │ \u001b[90mmissing\u001b[39m  │ 9       │ \u001b[90mmissing\u001b[39m  │ 9       │ \u001b[90mmissing\u001b[39m  │ \u001b[90mmissing\u001b[39m │\n",
      "│ 6      │ \u001b[90mmissing\u001b[39m  │ 9       │ \u001b[90mmissing\u001b[39m  │ 9       │ \u001b[90mmissing\u001b[39m  │ \u001b[90mmissing\u001b[39m │\n",
      "│ 7      │ \u001b[90mmissing\u001b[39m  │ 9       │ \u001b[90mmissing\u001b[39m  │ 9       │ \u001b[90mmissing\u001b[39m  │ \u001b[90mmissing\u001b[39m │\n",
      "│ 8      │ \u001b[90mmissing\u001b[39m  │ 9       │ \u001b[90mmissing\u001b[39m  │ 9       │ \u001b[90mmissing\u001b[39m  │ \u001b[90mmissing\u001b[39m │\n",
      "│ 9      │ \u001b[90mmissing\u001b[39m  │ 9       │ \u001b[90mmissing\u001b[39m  │ 9       │ \u001b[90mmissing\u001b[39m  │ \u001b[90mmissing\u001b[39m │\n",
      "│ 10     │ \u001b[90mmissing\u001b[39m  │ 9       │ \u001b[90mmissing\u001b[39m  │ 9       │ \u001b[90mmissing\u001b[39m  │ \u001b[90mmissing\u001b[39m │\n",
      "⋮\n",
      "│ 864853 │ 31.86    │ \u001b[90mmissing\u001b[39m │ 0.0      │ 4       │ \u001b[90mmissing\u001b[39m  │ \u001b[90mmissing\u001b[39m │\n"
     ]
    },
    {
     "name": "stdout",
     "output_type": "stream",
     "text": [
      "│ 864854 │ 36.1     │ \u001b[90mmissing\u001b[39m │ 0.0      │ 4       │ \u001b[90mmissing\u001b[39m  │ \u001b[90mmissing\u001b[39m │\n",
      "│ 864855 │ 36.9     │ \u001b[90mmissing\u001b[39m │ 0.0      │ 4       │ \u001b[90mmissing\u001b[39m  │ \u001b[90mmissing\u001b[39m │\n",
      "│ 864856 │ 38.72    │ \u001b[90mmissing\u001b[39m │ 0.0      │ 4       │ \u001b[90mmissing\u001b[39m  │ \u001b[90mmissing\u001b[39m │\n",
      "│ 864857 │ 40.4     │ \u001b[90mmissing\u001b[39m │ 0.0      │ 4       │ \u001b[90mmissing\u001b[39m  │ \u001b[90mmissing\u001b[39m │\n",
      "│ 864858 │ 40.98    │ \u001b[90mmissing\u001b[39m │ 0.0      │ 4       │ \u001b[90mmissing\u001b[39m  │ \u001b[90mmissing\u001b[39m │\n",
      "│ 864859 │ 0.1      │ \u001b[90mmissing\u001b[39m │ 0.02     │ \u001b[90mmissing\u001b[39m │ \u001b[90mmissing\u001b[39m  │ \u001b[90mmissing\u001b[39m │\n",
      "│ 864860 │ 0.1      │ \u001b[90mmissing\u001b[39m │ 0.0      │ 4       │ \u001b[90mmissing\u001b[39m  │ \u001b[90mmissing\u001b[39m │\n",
      "│ 864861 │ 0.09     │ \u001b[90mmissing\u001b[39m │ 0.0      │ 4       │ \u001b[90mmissing\u001b[39m  │ \u001b[90mmissing\u001b[39m │\n",
      "│ 864862 │ 0.11     │ \u001b[90mmissing\u001b[39m │ 0.12     │ \u001b[90mmissing\u001b[39m │ \u001b[90mmissing\u001b[39m  │ \u001b[90mmissing\u001b[39m │\n",
      "│ 864863 │ 0.14     │ \u001b[90mmissing\u001b[39m │ 0.07     │ \u001b[90mmissing\u001b[39m │ \u001b[90mmissing\u001b[39m  │ \u001b[90mmissing\u001b[39m │\n",
      "\n",
      "│ Row    │ C14A1q │ C14As2   │ C14A2p  │ C14A2q │ DarkAs   │ DarkAp  │ DarkAq │\n",
      "│        │ \u001b[90mInt64⍰\u001b[39m │ \u001b[90mFloat64⍰\u001b[39m │ \u001b[90mInt64⍰\u001b[39m  │ \u001b[90mInt64⍰\u001b[39m │ \u001b[90mFloat64⍰\u001b[39m │ \u001b[90mInt64⍰\u001b[39m  │ \u001b[90mInt64⍰\u001b[39m │\n",
      "├────────┼────────┼──────────┼─────────┼────────┼──────────┼─────────┼────────┤\n",
      "│ 1      │ 9      │ \u001b[90mmissing\u001b[39m  │ \u001b[90mmissing\u001b[39m │ 9      │ \u001b[90mmissing\u001b[39m  │ \u001b[90mmissing\u001b[39m │ 9      │\n",
      "│ 2      │ 9      │ \u001b[90mmissing\u001b[39m  │ \u001b[90mmissing\u001b[39m │ 9      │ \u001b[90mmissing\u001b[39m  │ \u001b[90mmissing\u001b[39m │ 9      │\n",
      "│ 3      │ 9      │ \u001b[90mmissing\u001b[39m  │ \u001b[90mmissing\u001b[39m │ 9      │ \u001b[90mmissing\u001b[39m  │ \u001b[90mmissing\u001b[39m │ 9      │\n",
      "│ 4      │ 9      │ \u001b[90mmissing\u001b[39m  │ \u001b[90mmissing\u001b[39m │ 9      │ \u001b[90mmissing\u001b[39m  │ \u001b[90mmissing\u001b[39m │ 9      │\n",
      "│ 5      │ 9      │ \u001b[90mmissing\u001b[39m  │ \u001b[90mmissing\u001b[39m │ 9      │ \u001b[90mmissing\u001b[39m  │ \u001b[90mmissing\u001b[39m │ 9      │\n",
      "│ 6      │ 9      │ \u001b[90mmissing\u001b[39m  │ \u001b[90mmissing\u001b[39m │ 9      │ \u001b[90mmissing\u001b[39m  │ \u001b[90mmissing\u001b[39m │ 9      │\n",
      "│ 7      │ 9      │ \u001b[90mmissing\u001b[39m  │ \u001b[90mmissing\u001b[39m │ 9      │ \u001b[90mmissing\u001b[39m  │ \u001b[90mmissing\u001b[39m │ 9      │\n",
      "│ 8      │ 9      │ \u001b[90mmissing\u001b[39m  │ \u001b[90mmissing\u001b[39m │ 9      │ \u001b[90mmissing\u001b[39m  │ \u001b[90mmissing\u001b[39m │ 9      │\n",
      "│ 9      │ 9      │ \u001b[90mmissing\u001b[39m  │ \u001b[90mmissing\u001b[39m │ 9      │ \u001b[90mmissing\u001b[39m  │ \u001b[90mmissing\u001b[39m │ 9      │\n",
      "│ 10     │ 9      │ \u001b[90mmissing\u001b[39m  │ \u001b[90mmissing\u001b[39m │ 9      │ \u001b[90mmissing\u001b[39m  │ \u001b[90mmissing\u001b[39m │ 9      │\n",
      "⋮\n",
      "│ 864853 │ 9      │ \u001b[90mmissing\u001b[39m  │ \u001b[90mmissing\u001b[39m │ 9      │ \u001b[90mmissing\u001b[39m  │ \u001b[90mmissing\u001b[39m │ 9      │\n",
      "│ 864854 │ 9      │ \u001b[90mmissing\u001b[39m  │ \u001b[90mmissing\u001b[39m │ 9      │ \u001b[90mmissing\u001b[39m  │ \u001b[90mmissing\u001b[39m │ 9      │\n",
      "│ 864855 │ 9      │ \u001b[90mmissing\u001b[39m  │ \u001b[90mmissing\u001b[39m │ 9      │ \u001b[90mmissing\u001b[39m  │ \u001b[90mmissing\u001b[39m │ 9      │\n",
      "│ 864856 │ 9      │ \u001b[90mmissing\u001b[39m  │ \u001b[90mmissing\u001b[39m │ 9      │ \u001b[90mmissing\u001b[39m  │ \u001b[90mmissing\u001b[39m │ 9      │\n",
      "│ 864857 │ 9      │ \u001b[90mmissing\u001b[39m  │ \u001b[90mmissing\u001b[39m │ 9      │ \u001b[90mmissing\u001b[39m  │ \u001b[90mmissing\u001b[39m │ 9      │\n",
      "│ 864858 │ 9      │ \u001b[90mmissing\u001b[39m  │ \u001b[90mmissing\u001b[39m │ 9      │ \u001b[90mmissing\u001b[39m  │ \u001b[90mmissing\u001b[39m │ 9      │\n",
      "│ 864859 │ 9      │ \u001b[90mmissing\u001b[39m  │ \u001b[90mmissing\u001b[39m │ 9      │ \u001b[90mmissing\u001b[39m  │ \u001b[90mmissing\u001b[39m │ 9      │\n",
      "│ 864860 │ 9      │ \u001b[90mmissing\u001b[39m  │ \u001b[90mmissing\u001b[39m │ 9      │ \u001b[90mmissing\u001b[39m  │ \u001b[90mmissing\u001b[39m │ 9      │\n",
      "│ 864861 │ 9      │ \u001b[90mmissing\u001b[39m  │ \u001b[90mmissing\u001b[39m │ 9      │ \u001b[90mmissing\u001b[39m  │ \u001b[90mmissing\u001b[39m │ 9      │\n",
      "│ 864862 │ 9      │ \u001b[90mmissing\u001b[39m  │ \u001b[90mmissing\u001b[39m │ 9      │ \u001b[90mmissing\u001b[39m  │ \u001b[90mmissing\u001b[39m │ 9      │\n",
      "│ 864863 │ 9      │ \u001b[90mmissing\u001b[39m  │ \u001b[90mmissing\u001b[39m │ 9      │ \u001b[90mmissing\u001b[39m  │ \u001b[90mmissing\u001b[39m │ 9      │\n",
      "\n",
      "│ Row    │ MeanAs   │ MeanAp  │ MeanAq │ IncTim  │ LightP   │ R_Depth │\n",
      "│        │ \u001b[90mFloat64⍰\u001b[39m │ \u001b[90mInt64⍰\u001b[39m  │ \u001b[90mInt64⍰\u001b[39m │ \u001b[90mString⍰\u001b[39m │ \u001b[90mFloat64⍰\u001b[39m │ \u001b[90mFloat64\u001b[39m │\n",
      "├────────┼──────────┼─────────┼────────┼─────────┼──────────┼─────────┤\n",
      "│ 1      │ \u001b[90mmissing\u001b[39m  │ \u001b[90mmissing\u001b[39m │ 9      │ \u001b[90mmissing\u001b[39m │ \u001b[90mmissing\u001b[39m  │ 0.0     │\n",
      "│ 2      │ \u001b[90mmissing\u001b[39m  │ \u001b[90mmissing\u001b[39m │ 9      │ \u001b[90mmissing\u001b[39m │ \u001b[90mmissing\u001b[39m  │ 8.0     │\n",
      "│ 3      │ \u001b[90mmissing\u001b[39m  │ \u001b[90mmissing\u001b[39m │ 9      │ \u001b[90mmissing\u001b[39m │ \u001b[90mmissing\u001b[39m  │ 10.0    │\n",
      "│ 4      │ \u001b[90mmissing\u001b[39m  │ \u001b[90mmissing\u001b[39m │ 9      │ \u001b[90mmissing\u001b[39m │ \u001b[90mmissing\u001b[39m  │ 19.0    │\n",
      "│ 5      │ \u001b[90mmissing\u001b[39m  │ \u001b[90mmissing\u001b[39m │ 9      │ \u001b[90mmissing\u001b[39m │ \u001b[90mmissing\u001b[39m  │ 20.0    │\n",
      "│ 6      │ \u001b[90mmissing\u001b[39m  │ \u001b[90mmissing\u001b[39m │ 9      │ \u001b[90mmissing\u001b[39m │ \u001b[90mmissing\u001b[39m  │ 30.0    │\n",
      "│ 7      │ \u001b[90mmissing\u001b[39m  │ \u001b[90mmissing\u001b[39m │ 9      │ \u001b[90mmissing\u001b[39m │ \u001b[90mmissing\u001b[39m  │ 39.0    │\n",
      "│ 8      │ \u001b[90mmissing\u001b[39m  │ \u001b[90mmissing\u001b[39m │ 9      │ \u001b[90mmissing\u001b[39m │ \u001b[90mmissing\u001b[39m  │ 50.0    │\n",
      "│ 9      │ \u001b[90mmissing\u001b[39m  │ \u001b[90mmissing\u001b[39m │ 9      │ \u001b[90mmissing\u001b[39m │ \u001b[90mmissing\u001b[39m  │ 58.0    │\n",
      "│ 10     │ \u001b[90mmissing\u001b[39m  │ \u001b[90mmissing\u001b[39m │ 9      │ \u001b[90mmissing\u001b[39m │ \u001b[90mmissing\u001b[39m  │ 75.0    │\n",
      "⋮\n",
      "│ 864853 │ \u001b[90mmissing\u001b[39m  │ \u001b[90mmissing\u001b[39m │ 9      │ \u001b[90mmissing\u001b[39m │ \u001b[90mmissing\u001b[39m  │ 321.0   │\n",
      "│ 864854 │ \u001b[90mmissing\u001b[39m  │ \u001b[90mmissing\u001b[39m │ 9      │ \u001b[90mmissing\u001b[39m │ \u001b[90mmissing\u001b[39m  │ 381.0   │\n",
      "│ 864855 │ \u001b[90mmissing\u001b[39m  │ \u001b[90mmissing\u001b[39m │ 9      │ \u001b[90mmissing\u001b[39m │ \u001b[90mmissing\u001b[39m  │ 400.0   │\n",
      "│ 864856 │ \u001b[90mmissing\u001b[39m  │ \u001b[90mmissing\u001b[39m │ 9      │ \u001b[90mmissing\u001b[39m │ \u001b[90mmissing\u001b[39m  │ 440.0   │\n",
      "│ 864857 │ \u001b[90mmissing\u001b[39m  │ \u001b[90mmissing\u001b[39m │ 9      │ \u001b[90mmissing\u001b[39m │ \u001b[90mmissing\u001b[39m  │ 500.0   │\n",
      "│ 864858 │ \u001b[90mmissing\u001b[39m  │ \u001b[90mmissing\u001b[39m │ 9      │ \u001b[90mmissing\u001b[39m │ \u001b[90mmissing\u001b[39m  │ 521.0   │\n",
      "│ 864859 │ \u001b[90mmissing\u001b[39m  │ \u001b[90mmissing\u001b[39m │ 9      │ \u001b[90mmissing\u001b[39m │ \u001b[90mmissing\u001b[39m  │ 0.0     │\n",
      "│ 864860 │ \u001b[90mmissing\u001b[39m  │ \u001b[90mmissing\u001b[39m │ 9      │ \u001b[90mmissing\u001b[39m │ \u001b[90mmissing\u001b[39m  │ 2.0     │\n",
      "│ 864861 │ \u001b[90mmissing\u001b[39m  │ \u001b[90mmissing\u001b[39m │ 9      │ \u001b[90mmissing\u001b[39m │ \u001b[90mmissing\u001b[39m  │ 5.0     │\n",
      "│ 864862 │ \u001b[90mmissing\u001b[39m  │ \u001b[90mmissing\u001b[39m │ 9      │ \u001b[90mmissing\u001b[39m │ \u001b[90mmissing\u001b[39m  │ 10.0    │\n",
      "│ 864863 │ \u001b[90mmissing\u001b[39m  │ \u001b[90mmissing\u001b[39m │ 9      │ \u001b[90mmissing\u001b[39m │ \u001b[90mmissing\u001b[39m  │ 15.0    │\n",
      "\n",
      "│ Row    │ R_TEMP   │ R_POTEMP │ R_SALINITY │ R_SIGMA  │ R_SVA    │ R_DYNHT  │\n",
      "│        │ \u001b[90mFloat64⍰\u001b[39m │ \u001b[90mFloat64⍰\u001b[39m │ \u001b[90mFloat64⍰\u001b[39m   │ \u001b[90mFloat64⍰\u001b[39m │ \u001b[90mFloat64⍰\u001b[39m │ \u001b[90mFloat64⍰\u001b[39m │\n",
      "├────────┼──────────┼──────────┼────────────┼──────────┼──────────┼──────────┤\n",
      "│ 1      │ 10.5     │ 10.5     │ 33.44      │ 25.64    │ 233.0    │ 0.0      │\n",
      "│ 2      │ 10.46    │ 10.46    │ 33.44      │ 25.65    │ 232.5    │ 0.01     │\n",
      "│ 3      │ 10.46    │ 10.46    │ 33.437     │ 25.65    │ 232.8    │ 0.02     │\n",
      "│ 4      │ 10.45    │ 10.45    │ 33.42      │ 25.64    │ 234.1    │ 0.04     │\n",
      "│ 5      │ 10.45    │ 10.45    │ 33.421     │ 25.64    │ 234.0    │ 0.04     │\n",
      "│ 6      │ 10.45    │ 10.45    │ 33.431     │ 25.65    │ 233.5    │ 0.07     │\n",
      "│ 7      │ 10.45    │ 10.45    │ 33.44      │ 25.65    │ 233.0    │ 0.09     │\n",
      "│ 8      │ 10.24    │ 10.23    │ 33.424     │ 25.68    │ 231.0    │ 0.11     │\n",
      "│ 9      │ 10.06    │ 10.05    │ 33.42      │ 25.71    │ 228.5    │ 0.13     │\n",
      "│ 10     │ 9.86     │ 9.85     │ 33.494     │ 25.8     │ 220.1    │ 0.17     │\n",
      "⋮\n",
      "│ 864853 │ 7.54     │ 7.51     │ 34.042     │ 26.598   │ 148.9    │ 0.864    │\n",
      "│ 864854 │ 6.94     │ 6.91     │ 34.11      │ 26.736   │ 136.4    │ 0.949    │\n",
      "│ 864855 │ 6.69     │ 6.66     │ 34.11      │ 26.769   │ 133.3    │ 0.981    │\n",
      "│ 864856 │ 6.31     │ 6.27     │ 34.156     │ 26.856   │ 125.3    │ 1.026    │\n",
      "│ 864857 │ 5.99     │ 5.95     │ 34.216     │ 26.945   │ 117.5    │ 1.107    │\n",
      "│ 864858 │ 5.82     │ 5.77     │ 34.238     │ 26.985   │ 113.9    │ 1.123    │\n",
      "│ 864859 │ 18.74    │ 18.74    │ 33.408     │ 23.871   │ 402.4    │ 0.0      │\n",
      "│ 864860 │ 18.74    │ 18.74    │ 33.408     │ 23.871   │ 402.5    │ 0.008    │\n",
      "│ 864861 │ 18.69    │ 18.69    │ 33.415     │ 23.889   │ 400.8    │ 0.02     │\n",
      "│ 864862 │ 18.16    │ 18.16    │ 33.406     │ 24.014   │ 389.1    │ 0.04     │\n"
     ]
    },
    {
     "name": "stdout",
     "output_type": "stream",
     "text": [
      "│ 864863 │ 17.53    │ 17.53    │ 33.388     │ 24.153   │ 376.0    │ 0.059    │\n",
      "\n",
      "│ Row    │ R_O2     │ R_O2Sat  │ R_SIO3   │ R_PO4    │ R_NO3    │ R_NO2    │\n",
      "│        │ \u001b[90mFloat64⍰\u001b[39m │ \u001b[90mFloat64⍰\u001b[39m │ \u001b[90mFloat64⍰\u001b[39m │ \u001b[90mFloat64⍰\u001b[39m │ \u001b[90mFloat64⍰\u001b[39m │ \u001b[90mFloat64⍰\u001b[39m │\n",
      "├────────┼──────────┼──────────┼──────────┼──────────┼──────────┼──────────┤\n",
      "│ 1      │ \u001b[90mmissing\u001b[39m  │ \u001b[90mmissing\u001b[39m  │ \u001b[90mmissing\u001b[39m  │ \u001b[90mmissing\u001b[39m  │ \u001b[90mmissing\u001b[39m  │ \u001b[90mmissing\u001b[39m  │\n",
      "│ 2      │ \u001b[90mmissing\u001b[39m  │ \u001b[90mmissing\u001b[39m  │ \u001b[90mmissing\u001b[39m  │ \u001b[90mmissing\u001b[39m  │ \u001b[90mmissing\u001b[39m  │ \u001b[90mmissing\u001b[39m  │\n",
      "│ 3      │ \u001b[90mmissing\u001b[39m  │ \u001b[90mmissing\u001b[39m  │ \u001b[90mmissing\u001b[39m  │ \u001b[90mmissing\u001b[39m  │ \u001b[90mmissing\u001b[39m  │ \u001b[90mmissing\u001b[39m  │\n",
      "│ 4      │ \u001b[90mmissing\u001b[39m  │ \u001b[90mmissing\u001b[39m  │ \u001b[90mmissing\u001b[39m  │ \u001b[90mmissing\u001b[39m  │ \u001b[90mmissing\u001b[39m  │ \u001b[90mmissing\u001b[39m  │\n",
      "│ 5      │ \u001b[90mmissing\u001b[39m  │ \u001b[90mmissing\u001b[39m  │ \u001b[90mmissing\u001b[39m  │ \u001b[90mmissing\u001b[39m  │ \u001b[90mmissing\u001b[39m  │ \u001b[90mmissing\u001b[39m  │\n",
      "│ 6      │ \u001b[90mmissing\u001b[39m  │ \u001b[90mmissing\u001b[39m  │ \u001b[90mmissing\u001b[39m  │ \u001b[90mmissing\u001b[39m  │ \u001b[90mmissing\u001b[39m  │ \u001b[90mmissing\u001b[39m  │\n",
      "│ 7      │ \u001b[90mmissing\u001b[39m  │ \u001b[90mmissing\u001b[39m  │ \u001b[90mmissing\u001b[39m  │ \u001b[90mmissing\u001b[39m  │ \u001b[90mmissing\u001b[39m  │ \u001b[90mmissing\u001b[39m  │\n",
      "│ 8      │ \u001b[90mmissing\u001b[39m  │ \u001b[90mmissing\u001b[39m  │ \u001b[90mmissing\u001b[39m  │ \u001b[90mmissing\u001b[39m  │ \u001b[90mmissing\u001b[39m  │ \u001b[90mmissing\u001b[39m  │\n",
      "│ 9      │ \u001b[90mmissing\u001b[39m  │ \u001b[90mmissing\u001b[39m  │ \u001b[90mmissing\u001b[39m  │ \u001b[90mmissing\u001b[39m  │ \u001b[90mmissing\u001b[39m  │ \u001b[90mmissing\u001b[39m  │\n",
      "│ 10     │ \u001b[90mmissing\u001b[39m  │ \u001b[90mmissing\u001b[39m  │ \u001b[90mmissing\u001b[39m  │ \u001b[90mmissing\u001b[39m  │ \u001b[90mmissing\u001b[39m  │ \u001b[90mmissing\u001b[39m  │\n",
      "⋮\n",
      "│ 864853 │ 1.98     │ 29.5     │ 43.4     │ 2.31     │ 31.9     │ 0.0      │\n",
      "│ 864854 │ 1.11     │ 16.3     │ 55.8     │ 2.67     │ 36.1     │ 0.0      │\n",
      "│ 864855 │ 1.1      │ 16.0     │ 59.0     │ 2.74     │ 36.9     │ 0.01     │\n",
      "│ 864856 │ 0.72     │ 10.4     │ 65.8     │ 2.88     │ 38.7     │ 0.0      │\n",
      "│ 864857 │ 0.46     │ 6.6      │ 74.5     │ 3.04     │ 40.4     │ 0.01     │\n",
      "│ 864858 │ 0.37     │ 5.2      │ 77.6     │ 3.09     │ 41.0     │ 0.0      │\n",
      "│ 864859 │ 5.81     │ 108.7    │ 1.8      │ 0.22     │ 0.1      │ 0.03     │\n",
      "│ 864860 │ 5.81     │ 108.7    │ 1.8      │ 0.22     │ 0.1      │ 0.03     │\n",
      "│ 864861 │ 5.8      │ 108.5    │ 1.8      │ 0.2      │ 0.1      │ 0.03     │\n",
      "│ 864862 │ 5.82     │ 107.7    │ 2.0      │ 0.25     │ 0.1      │ 0.03     │\n",
      "│ 864863 │ 5.77     │ 105.7    │ 2.6      │ 0.31     │ 0.1      │ 0.05     │\n",
      "\n",
      "│ Row    │ R_NH4    │ R_CHLA   │ R_PHAEO  │ R_PRES │ R_SAMP  │ DIC1     │\n",
      "│        │ \u001b[90mFloat64⍰\u001b[39m │ \u001b[90mFloat64⍰\u001b[39m │ \u001b[90mFloat64⍰\u001b[39m │ \u001b[90mInt64\u001b[39m  │ \u001b[90mInt64⍰\u001b[39m  │ \u001b[90mFloat64⍰\u001b[39m │\n",
      "├────────┼──────────┼──────────┼──────────┼────────┼─────────┼──────────┤\n",
      "│ 1      │ \u001b[90mmissing\u001b[39m  │ \u001b[90mmissing\u001b[39m  │ \u001b[90mmissing\u001b[39m  │ 0      │ \u001b[90mmissing\u001b[39m │ \u001b[90mmissing\u001b[39m  │\n",
      "│ 2      │ \u001b[90mmissing\u001b[39m  │ \u001b[90mmissing\u001b[39m  │ \u001b[90mmissing\u001b[39m  │ 8      │ \u001b[90mmissing\u001b[39m │ \u001b[90mmissing\u001b[39m  │\n",
      "│ 3      │ \u001b[90mmissing\u001b[39m  │ \u001b[90mmissing\u001b[39m  │ \u001b[90mmissing\u001b[39m  │ 10     │ \u001b[90mmissing\u001b[39m │ \u001b[90mmissing\u001b[39m  │\n",
      "│ 4      │ \u001b[90mmissing\u001b[39m  │ \u001b[90mmissing\u001b[39m  │ \u001b[90mmissing\u001b[39m  │ 19     │ \u001b[90mmissing\u001b[39m │ \u001b[90mmissing\u001b[39m  │\n",
      "│ 5      │ \u001b[90mmissing\u001b[39m  │ \u001b[90mmissing\u001b[39m  │ \u001b[90mmissing\u001b[39m  │ 20     │ \u001b[90mmissing\u001b[39m │ \u001b[90mmissing\u001b[39m  │\n",
      "│ 6      │ \u001b[90mmissing\u001b[39m  │ \u001b[90mmissing\u001b[39m  │ \u001b[90mmissing\u001b[39m  │ 30     │ \u001b[90mmissing\u001b[39m │ \u001b[90mmissing\u001b[39m  │\n",
      "│ 7      │ \u001b[90mmissing\u001b[39m  │ \u001b[90mmissing\u001b[39m  │ \u001b[90mmissing\u001b[39m  │ 39     │ \u001b[90mmissing\u001b[39m │ \u001b[90mmissing\u001b[39m  │\n",
      "│ 8      │ \u001b[90mmissing\u001b[39m  │ \u001b[90mmissing\u001b[39m  │ \u001b[90mmissing\u001b[39m  │ 50     │ \u001b[90mmissing\u001b[39m │ \u001b[90mmissing\u001b[39m  │\n",
      "│ 9      │ \u001b[90mmissing\u001b[39m  │ \u001b[90mmissing\u001b[39m  │ \u001b[90mmissing\u001b[39m  │ 58     │ \u001b[90mmissing\u001b[39m │ \u001b[90mmissing\u001b[39m  │\n",
      "│ 10     │ \u001b[90mmissing\u001b[39m  │ \u001b[90mmissing\u001b[39m  │ \u001b[90mmissing\u001b[39m  │ 75     │ \u001b[90mmissing\u001b[39m │ \u001b[90mmissing\u001b[39m  │\n",
      "⋮\n",
      "│ 864853 │ 0.0      │ \u001b[90mmissing\u001b[39m  │ \u001b[90mmissing\u001b[39m  │ 323    │ 4       │ \u001b[90mmissing\u001b[39m  │\n",
      "│ 864854 │ 0.0      │ \u001b[90mmissing\u001b[39m  │ \u001b[90mmissing\u001b[39m  │ 384    │ 3       │ \u001b[90mmissing\u001b[39m  │\n",
      "│ 864855 │ 0.0      │ \u001b[90mmissing\u001b[39m  │ \u001b[90mmissing\u001b[39m  │ 403    │ \u001b[90mmissing\u001b[39m │ \u001b[90mmissing\u001b[39m  │\n",
      "│ 864856 │ 0.0      │ \u001b[90mmissing\u001b[39m  │ \u001b[90mmissing\u001b[39m  │ 444    │ 2       │ \u001b[90mmissing\u001b[39m  │\n",
      "│ 864857 │ 0.0      │ \u001b[90mmissing\u001b[39m  │ \u001b[90mmissing\u001b[39m  │ 504    │ \u001b[90mmissing\u001b[39m │ \u001b[90mmissing\u001b[39m  │\n",
      "│ 864858 │ 0.0      │ \u001b[90mmissing\u001b[39m  │ \u001b[90mmissing\u001b[39m  │ 525    │ 1       │ \u001b[90mmissing\u001b[39m  │\n",
      "│ 864859 │ 0.02     │ 0.91     │ 0.18     │ 0      │ \u001b[90mmissing\u001b[39m │ \u001b[90mmissing\u001b[39m  │\n",
      "│ 864860 │ 0.0      │ 0.91     │ 0.18     │ 2      │ 4       │ \u001b[90mmissing\u001b[39m  │\n",
      "│ 864861 │ 0.0      │ 0.92     │ 0.18     │ 5      │ 3       │ \u001b[90mmissing\u001b[39m  │\n",
      "│ 864862 │ 0.12     │ 1.08     │ 0.31     │ 10     │ 2       │ \u001b[90mmissing\u001b[39m  │\n",
      "│ 864863 │ 0.07     │ 2.12     │ 0.61     │ 15     │ 1       │ \u001b[90mmissing\u001b[39m  │\n",
      "\n",
      "│ Row    │ DIC2     │ TA1      │ TA2      │ pH2      │ pH1      │\n",
      "│        │ \u001b[90mFloat64⍰\u001b[39m │ \u001b[90mFloat64⍰\u001b[39m │ \u001b[90mFloat64⍰\u001b[39m │ \u001b[90mFloat64⍰\u001b[39m │ \u001b[90mFloat64⍰\u001b[39m │\n",
      "├────────┼──────────┼──────────┼──────────┼──────────┼──────────┤\n",
      "│ 1      │ \u001b[90mmissing\u001b[39m  │ \u001b[90mmissing\u001b[39m  │ \u001b[90mmissing\u001b[39m  │ \u001b[90mmissing\u001b[39m  │ \u001b[90mmissing\u001b[39m  │\n",
      "│ 2      │ \u001b[90mmissing\u001b[39m  │ \u001b[90mmissing\u001b[39m  │ \u001b[90mmissing\u001b[39m  │ \u001b[90mmissing\u001b[39m  │ \u001b[90mmissing\u001b[39m  │\n",
      "│ 3      │ \u001b[90mmissing\u001b[39m  │ \u001b[90mmissing\u001b[39m  │ \u001b[90mmissing\u001b[39m  │ \u001b[90mmissing\u001b[39m  │ \u001b[90mmissing\u001b[39m  │\n",
      "│ 4      │ \u001b[90mmissing\u001b[39m  │ \u001b[90mmissing\u001b[39m  │ \u001b[90mmissing\u001b[39m  │ \u001b[90mmissing\u001b[39m  │ \u001b[90mmissing\u001b[39m  │\n",
      "│ 5      │ \u001b[90mmissing\u001b[39m  │ \u001b[90mmissing\u001b[39m  │ \u001b[90mmissing\u001b[39m  │ \u001b[90mmissing\u001b[39m  │ \u001b[90mmissing\u001b[39m  │\n",
      "│ 6      │ \u001b[90mmissing\u001b[39m  │ \u001b[90mmissing\u001b[39m  │ \u001b[90mmissing\u001b[39m  │ \u001b[90mmissing\u001b[39m  │ \u001b[90mmissing\u001b[39m  │\n",
      "│ 7      │ \u001b[90mmissing\u001b[39m  │ \u001b[90mmissing\u001b[39m  │ \u001b[90mmissing\u001b[39m  │ \u001b[90mmissing\u001b[39m  │ \u001b[90mmissing\u001b[39m  │\n",
      "│ 8      │ \u001b[90mmissing\u001b[39m  │ \u001b[90mmissing\u001b[39m  │ \u001b[90mmissing\u001b[39m  │ \u001b[90mmissing\u001b[39m  │ \u001b[90mmissing\u001b[39m  │\n",
      "│ 9      │ \u001b[90mmissing\u001b[39m  │ \u001b[90mmissing\u001b[39m  │ \u001b[90mmissing\u001b[39m  │ \u001b[90mmissing\u001b[39m  │ \u001b[90mmissing\u001b[39m  │\n",
      "│ 10     │ \u001b[90mmissing\u001b[39m  │ \u001b[90mmissing\u001b[39m  │ \u001b[90mmissing\u001b[39m  │ \u001b[90mmissing\u001b[39m  │ \u001b[90mmissing\u001b[39m  │\n",
      "⋮\n",
      "│ 864853 │ \u001b[90mmissing\u001b[39m  │ \u001b[90mmissing\u001b[39m  │ \u001b[90mmissing\u001b[39m  │ \u001b[90mmissing\u001b[39m  │ \u001b[90mmissing\u001b[39m  │\n",
      "│ 864854 │ \u001b[90mmissing\u001b[39m  │ \u001b[90mmissing\u001b[39m  │ \u001b[90mmissing\u001b[39m  │ \u001b[90mmissing\u001b[39m  │ \u001b[90mmissing\u001b[39m  │\n",
      "│ 864855 │ \u001b[90mmissing\u001b[39m  │ \u001b[90mmissing\u001b[39m  │ \u001b[90mmissing\u001b[39m  │ \u001b[90mmissing\u001b[39m  │ \u001b[90mmissing\u001b[39m  │\n",
      "│ 864856 │ \u001b[90mmissing\u001b[39m  │ \u001b[90mmissing\u001b[39m  │ \u001b[90mmissing\u001b[39m  │ \u001b[90mmissing\u001b[39m  │ \u001b[90mmissing\u001b[39m  │\n",
      "│ 864857 │ \u001b[90mmissing\u001b[39m  │ \u001b[90mmissing\u001b[39m  │ \u001b[90mmissing\u001b[39m  │ \u001b[90mmissing\u001b[39m  │ \u001b[90mmissing\u001b[39m  │\n",
      "│ 864858 │ \u001b[90mmissing\u001b[39m  │ \u001b[90mmissing\u001b[39m  │ \u001b[90mmissing\u001b[39m  │ \u001b[90mmissing\u001b[39m  │ \u001b[90mmissing\u001b[39m  │\n",
      "│ 864859 │ \u001b[90mmissing\u001b[39m  │ \u001b[90mmissing\u001b[39m  │ \u001b[90mmissing\u001b[39m  │ \u001b[90mmissing\u001b[39m  │ \u001b[90mmissing\u001b[39m  │\n",
      "│ 864860 │ \u001b[90mmissing\u001b[39m  │ \u001b[90mmissing\u001b[39m  │ \u001b[90mmissing\u001b[39m  │ \u001b[90mmissing\u001b[39m  │ \u001b[90mmissing\u001b[39m  │\n",
      "│ 864861 │ \u001b[90mmissing\u001b[39m  │ \u001b[90mmissing\u001b[39m  │ \u001b[90mmissing\u001b[39m  │ \u001b[90mmissing\u001b[39m  │ \u001b[90mmissing\u001b[39m  │\n",
      "│ 864862 │ \u001b[90mmissing\u001b[39m  │ \u001b[90mmissing\u001b[39m  │ \u001b[90mmissing\u001b[39m  │ \u001b[90mmissing\u001b[39m  │ \u001b[90mmissing\u001b[39m  │\n",
      "│ 864863 │ \u001b[90mmissing\u001b[39m  │ \u001b[90mmissing\u001b[39m  │ \u001b[90mmissing\u001b[39m  │ \u001b[90mmissing\u001b[39m  │ \u001b[90mmissing\u001b[39m  │\n",
      "\n",
      "│ Row    │ DIC Quality Comment │\n",
      "│        │ \u001b[90mString⍰\u001b[39m             │\n",
      "├────────┼─────────────────────┤\n",
      "│ 1      │ \u001b[90mmissing\u001b[39m             │\n",
      "│ 2      │ \u001b[90mmissing\u001b[39m             │\n",
      "│ 3      │ \u001b[90mmissing\u001b[39m             │\n",
      "│ 4      │ \u001b[90mmissing\u001b[39m             │\n",
      "│ 5      │ \u001b[90mmissing\u001b[39m             │\n",
      "│ 6      │ \u001b[90mmissing\u001b[39m             │\n",
      "│ 7      │ \u001b[90mmissing\u001b[39m             │\n",
      "│ 8      │ \u001b[90mmissing\u001b[39m             │\n",
      "│ 9      │ \u001b[90mmissing\u001b[39m             │\n",
      "│ 10     │ \u001b[90mmissing\u001b[39m             │\n",
      "⋮\n",
      "│ 864853 │ \u001b[90mmissing\u001b[39m             │\n",
      "│ 864854 │ \u001b[90mmissing\u001b[39m             │\n",
      "│ 864855 │ \u001b[90mmissing\u001b[39m             │\n",
      "│ 864856 │ \u001b[90mmissing\u001b[39m             │\n"
     ]
    },
    {
     "name": "stdout",
     "output_type": "stream",
     "text": [
      "│ 864857 │ \u001b[90mmissing\u001b[39m             │\n",
      "│ 864858 │ \u001b[90mmissing\u001b[39m             │\n",
      "│ 864859 │ \u001b[90mmissing\u001b[39m             │\n",
      "│ 864860 │ \u001b[90mmissing\u001b[39m             │\n",
      "│ 864861 │ \u001b[90mmissing\u001b[39m             │\n",
      "│ 864862 │ \u001b[90mmissing\u001b[39m             │\n",
      "│ 864863 │ \u001b[90mmissing\u001b[39m             │"
     ]
    }
   ],
   "source": [
    "show(df,allcols=true)"
   ]
  },
  {
   "cell_type": "markdown",
   "metadata": {},
   "source": [
    "### After looking at this data:\n",
    "I thought it might be interesting to see what kind of effect Salinity will have on the water temperature. My hypothesis is that it will, because the more salt in the water, the more heat is blocked out of the water. The adverse effect of this is that the water is less likely to hold heat, because it is thicker."
   ]
  },
  {
   "cell_type": "code",
   "execution_count": 3,
   "metadata": {},
   "outputs": [
    {
     "data": {
      "text/html": [
       "<table class=\"data-frame\"><thead><tr><th></th><th>TempC</th><th>Salinity</th><th>Depth</th></tr><tr><th></th><th>Float64</th><th>Float64</th><th>Int64</th></tr></thead><tbody><p>814,247 rows × 3 columns</p><tr><th>1</th><td>10.5</td><td>33.44</td><td>0</td></tr><tr><th>2</th><td>10.46</td><td>33.44</td><td>8</td></tr><tr><th>3</th><td>10.46</td><td>33.437</td><td>10</td></tr><tr><th>4</th><td>10.45</td><td>33.42</td><td>19</td></tr><tr><th>5</th><td>10.45</td><td>33.421</td><td>20</td></tr><tr><th>6</th><td>10.45</td><td>33.431</td><td>30</td></tr><tr><th>7</th><td>10.45</td><td>33.44</td><td>39</td></tr><tr><th>8</th><td>10.24</td><td>33.424</td><td>50</td></tr><tr><th>9</th><td>10.06</td><td>33.42</td><td>58</td></tr><tr><th>10</th><td>9.86</td><td>33.494</td><td>75</td></tr><tr><th>11</th><td>9.83</td><td>33.51</td><td>78</td></tr><tr><th>12</th><td>9.67</td><td>33.58</td><td>100</td></tr><tr><th>13</th><td>9.5</td><td>33.64</td><td>117</td></tr><tr><th>14</th><td>9.32</td><td>33.689</td><td>125</td></tr><tr><th>15</th><td>8.76</td><td>33.847</td><td>150</td></tr><tr><th>16</th><td>8.71</td><td>33.86</td><td>152</td></tr><tr><th>17</th><td>8.53</td><td>33.876</td><td>200</td></tr><tr><th>18</th><td>8.26</td><td>33.926</td><td>250</td></tr><tr><th>19</th><td>7.96</td><td>33.98</td><td>285</td></tr><tr><th>20</th><td>7.77</td><td>33.99</td><td>300</td></tr><tr><th>21</th><td>6.8</td><td>34.04</td><td>373</td></tr><tr><th>22</th><td>6.55</td><td>34.056</td><td>400</td></tr><tr><th>23</th><td>5.78</td><td>34.113</td><td>500</td></tr><tr><th>24</th><td>5.3</td><td>34.16</td><td>598</td></tr><tr><th>25</th><td>5.29</td><td>34.161</td><td>600</td></tr><tr><th>26</th><td>5.01</td><td>34.21</td><td>700</td></tr><tr><th>27</th><td>4.72</td><td>34.261</td><td>800</td></tr><tr><th>28</th><td>4.44</td><td>34.31</td><td>896</td></tr><tr><th>29</th><td>10.1</td><td>32.95</td><td>0</td></tr><tr><th>30</th><td>9.89</td><td>32.94</td><td>10</td></tr><tr><th>&vellip;</th><td>&vellip;</td><td>&vellip;</td><td>&vellip;</td></tr></tbody></table>"
      ],
      "text/latex": [
       "\\begin{tabular}{r|ccc}\n",
       "\t& TempC & Salinity & Depth\\\\\n",
       "\t\\hline\n",
       "\t& Float64 & Float64 & Int64\\\\\n",
       "\t\\hline\n",
       "\t1 & 10.5 & 33.44 & 0 \\\\\n",
       "\t2 & 10.46 & 33.44 & 8 \\\\\n",
       "\t3 & 10.46 & 33.437 & 10 \\\\\n",
       "\t4 & 10.45 & 33.42 & 19 \\\\\n",
       "\t5 & 10.45 & 33.421 & 20 \\\\\n",
       "\t6 & 10.45 & 33.431 & 30 \\\\\n",
       "\t7 & 10.45 & 33.44 & 39 \\\\\n",
       "\t8 & 10.24 & 33.424 & 50 \\\\\n",
       "\t9 & 10.06 & 33.42 & 58 \\\\\n",
       "\t10 & 9.86 & 33.494 & 75 \\\\\n",
       "\t11 & 9.83 & 33.51 & 78 \\\\\n",
       "\t12 & 9.67 & 33.58 & 100 \\\\\n",
       "\t13 & 9.5 & 33.64 & 117 \\\\\n",
       "\t14 & 9.32 & 33.689 & 125 \\\\\n",
       "\t15 & 8.76 & 33.847 & 150 \\\\\n",
       "\t16 & 8.71 & 33.86 & 152 \\\\\n",
       "\t17 & 8.53 & 33.876 & 200 \\\\\n",
       "\t18 & 8.26 & 33.926 & 250 \\\\\n",
       "\t19 & 7.96 & 33.98 & 285 \\\\\n",
       "\t20 & 7.77 & 33.99 & 300 \\\\\n",
       "\t21 & 6.8 & 34.04 & 373 \\\\\n",
       "\t22 & 6.55 & 34.056 & 400 \\\\\n",
       "\t23 & 5.78 & 34.113 & 500 \\\\\n",
       "\t24 & 5.3 & 34.16 & 598 \\\\\n",
       "\t25 & 5.29 & 34.161 & 600 \\\\\n",
       "\t26 & 5.01 & 34.21 & 700 \\\\\n",
       "\t27 & 4.72 & 34.261 & 800 \\\\\n",
       "\t28 & 4.44 & 34.31 & 896 \\\\\n",
       "\t29 & 10.1 & 32.95 & 0 \\\\\n",
       "\t30 & 9.89 & 32.94 & 10 \\\\\n",
       "\t$\\dots$ & $\\dots$ & $\\dots$ & $\\dots$ \\\\\n",
       "\\end{tabular}\n"
      ],
      "text/plain": [
       "814247×3 DataFrame\n",
       "│ Row    │ TempC   │ Salinity │ Depth │\n",
       "│        │ \u001b[90mFloat64\u001b[39m │ \u001b[90mFloat64\u001b[39m  │ \u001b[90mInt64\u001b[39m │\n",
       "├────────┼─────────┼──────────┼───────┤\n",
       "│ 1      │ 10.5    │ 33.44    │ 0     │\n",
       "│ 2      │ 10.46   │ 33.44    │ 8     │\n",
       "│ 3      │ 10.46   │ 33.437   │ 10    │\n",
       "│ 4      │ 10.45   │ 33.42    │ 19    │\n",
       "│ 5      │ 10.45   │ 33.421   │ 20    │\n",
       "│ 6      │ 10.45   │ 33.431   │ 30    │\n",
       "│ 7      │ 10.45   │ 33.44    │ 39    │\n",
       "│ 8      │ 10.24   │ 33.424   │ 50    │\n",
       "│ 9      │ 10.06   │ 33.42    │ 58    │\n",
       "│ 10     │ 9.86    │ 33.494   │ 75    │\n",
       "⋮\n",
       "│ 814237 │ 7.538   │ 34.042   │ 321   │\n",
       "│ 814238 │ 6.943   │ 34.11    │ 381   │\n",
       "│ 814239 │ 6.694   │ 34.11    │ 400   │\n",
       "│ 814240 │ 6.312   │ 34.156   │ 440   │\n",
       "│ 814241 │ 5.993   │ 34.216   │ 500   │\n",
       "│ 814242 │ 5.818   │ 34.238   │ 521   │\n",
       "│ 814243 │ 18.744  │ 33.408   │ 0     │\n",
       "│ 814244 │ 18.744  │ 33.408   │ 2     │\n",
       "│ 814245 │ 18.692  │ 33.415   │ 5     │\n",
       "│ 814246 │ 18.161  │ 33.406   │ 10    │\n",
       "│ 814247 │ 17.533  │ 33.388   │ 15    │"
      ]
     },
     "execution_count": 3,
     "metadata": {},
     "output_type": "execute_result"
    }
   ],
   "source": [
    "using DataFrames\n",
    "df = DataFrame(:TempC => df.T_degC, :Salinity => df.R_SALINITY, :Depth => df.Depthm)\n",
    "# We're going to drop the missing values now, if we did that prior, we would\n",
    "#    have likely dropped a-lot more data.\n",
    "df = dropmissing(df)"
   ]
  },
  {
   "cell_type": "markdown",
   "metadata": {},
   "source": [
    "# Exploration\n",
    "Let's get started exploring this data! We will be exploring the data with visualizations and statistics."
   ]
  },
  {
   "cell_type": "code",
   "execution_count": 4,
   "metadata": {},
   "outputs": [
    {
     "data": {
      "text/plain": [
       "molecular_weight (generic function with 1 method)"
      ]
     },
     "execution_count": 4,
     "metadata": {},
     "output_type": "execute_result"
    }
   ],
   "source": [
    "function molecular_weight(atomm1,n1,atomm2,n2)\n",
    "    res = (atomm1 * n1) + (atomm2 * n2)\n",
    "    return(res)\n",
    "end"
   ]
  },
  {
   "cell_type": "code",
   "execution_count": 5,
   "metadata": {},
   "outputs": [
    {
     "name": "stdout",
     "output_type": "stream",
     "text": [
      "Hydrogen: 18.0152\n",
      "Sodium Chloride: 58.4427\n"
     ]
    }
   ],
   "source": [
    "println(\"Hydrogen: \",molecular_weight(1.0079,2,15.9994,1))\n",
    "println(\"Sodium Chloride: \",molecular_weight(22.9897,1,35.453,1))"
   ]
  },
  {
   "cell_type": "code",
   "execution_count": 37,
   "metadata": {},
   "outputs": [
    {
     "name": "stdout",
     "output_type": "stream",
     "text": [
      "4.57 : 37.034\n"
     ]
    }
   ],
   "source": [
    "println(minimum(df.Salinity),\" : \",maximum(df.Salinity))"
   ]
  },
  {
   "cell_type": "code",
   "execution_count": 67,
   "metadata": {},
   "outputs": [
    {
     "name": "stderr",
     "output_type": "stream",
     "text": [
      "┌ Info: Precompiling Interact [c601a237-2ae4-5e1e-952c-7a85b0c7eef1]\n",
      "└ @ Base loading.jl:1192\n"
     ]
    },
    {
     "data": {
      "text/html": [
       "<script>\n",
       "// Immediately-invoked-function-expression to avoid global variables.\n",
       "(function() {\n",
       "    var warning_div = document.getElementById(\"webio-warning-7012146514065526649\");\n",
       "    var hide = function () {\n",
       "        var script = document.getElementById(\"webio-setup-9894113098919468229\");\n",
       "        var parent = script && script.parentElement;\n",
       "        var grandparent = parent && parent.parentElement;\n",
       "        if (grandparent) {\n",
       "            grandparent.style.display = \"none\";\n",
       "        }\n",
       "        warning_div.style.display = \"none\";\n",
       "    };\n",
       "    if (typeof Jupyter !== \"undefined\") {\n",
       "        console.log(\"WebIO detected Jupyter notebook environment.\");\n",
       "        // Jupyter notebook.\n",
       "        var extensions = (\n",
       "            Jupyter\n",
       "            && Jupyter.notebook.config.data\n",
       "            && Jupyter.notebook.config.data.load_extensions\n",
       "        );\n",
       "        if (extensions && extensions[\"webio-jupyter-notebook\"]) {\n",
       "            // Extension already loaded.\n",
       "            console.log(\"Jupyter WebIO nbextension detected; not loading ad-hoc.\");\n",
       "            hide();\n",
       "            return;\n",
       "        }\n",
       "    } else if (window.location.pathname.includes(\"/lab\")) {\n",
       "        // Guessing JupyterLa\n",
       "        console.log(\"Jupyter Lab detected; make sure the @webio/jupyter-lab-provider labextension is installed.\");\n",
       "        hide();\n",
       "        return;\n",
       "    }\n",
       "})();\n",
       "\n",
       "</script>\n",
       "<p\n",
       "    id=\"webio-warning-7012146514065526649\"\n",
       "    class=\"output_text output_stderr\"\n",
       "    style=\"padding: 1em; font-weight: bold;\"\n",
       ">\n",
       "    Unable to load WebIO. Please make sure WebIO works for your Jupyter client.\n",
       "    For troubleshooting, please see <a href=\"https://juliagizmos.github.io/WebIO.jl/latest/providers/ijulia/\">\n",
       "    the WebIO/IJulia documentation</a>.\n",
       "    <!-- TODO: link to installation docs. -->\n",
       "</p>\n"
      ],
      "text/plain": [
       "HTML{String}(\"<script>\\n// Immediately-invoked-function-expression to avoid global variables.\\n(function() {\\n    var warning_div = document.getElementById(\\\"webio-warning-7012146514065526649\\\");\\n    var hide = function () {\\n        var script = document.getElementById(\\\"webio-setup-9894113098919468229\\\");\\n        var parent = script && script.parentElement;\\n        var grandparent = parent && parent.parentElement;\\n        if (grandparent) {\\n            grandparent.style.display = \\\"none\\\";\\n        }\\n        warning_div.style.display = \\\"none\\\";\\n    };\\n    if (typeof Jupyter !== \\\"undefined\\\") {\\n        console.log(\\\"WebIO detected Jupyter notebook environment.\\\");\\n        // Jupyter notebook.\\n        var extensions = (\\n            Jupyter\\n            && Jupyter.notebook.config.data\\n            && Jupyter.notebook.config.data.load_extensions\\n        );\\n        if (extensions && extensions[\\\"webio-jupyter-notebook\\\"]) {\\n            // Extension already loaded.\\n            console.log(\\\"Jupyter WebIO nbextension detected; not loading ad-hoc.\\\");\\n            hide();\\n            return;\\n        }\\n    } else if (window.location.pathname.includes(\\\"/lab\\\")) {\\n        // Guessing JupyterLa\\n        console.log(\\\"Jupyter Lab detected; make sure the @webio/jupyter-lab-provider labextension is installed.\\\");\\n        hide();\\n        return;\\n    }\\n})();\\n\\n</script>\\n<p\\n    id=\\\"webio-warning-7012146514065526649\\\"\\n    class=\\\"output_text output_stderr\\\"\\n    style=\\\"padding: 1em; font-weight: bold;\\\"\\n>\\n    Unable to load WebIO. Please make sure WebIO works for your Jupyter client.\\n    For troubleshooting, please see <a href=\\\"https://juliagizmos.github.io/WebIO.jl/latest/providers/ijulia/\\\">\\n    the WebIO/IJulia documentation</a>.\\n    <!-- TODO: link to installation docs. -->\\n</p>\\n\")"
      ]
     },
     "metadata": {},
     "output_type": "display_data"
    },
    {
     "name": "stderr",
     "output_type": "stream",
     "text": [
      "┌ Info: Precompiling Blink [ad839575-38b3-5650-b840-f874b8c74a25]\n",
      "└ @ Base loading.jl:1192\n",
      "WARNING: using HTTP.stack in module Mux conflicts with an existing identifier.\n"
     ]
    },
    {
     "ename": "ErrorException",
     "evalue": "Cannot find Electron. Try `Blink.AtomShell.install()`.",
     "output_type": "error",
     "traceback": [
      "Cannot find Electron. Try `Blink.AtomShell.install()`.",
      "",
      "Stacktrace:",
      " [1] error(::String) at ./error.jl:33",
      " [2] electron at /home/emmett/.julia/packages/Blink/AO8uN/src/AtomShell/process.jl:70 [inlined]",
      " [3] #init#10(::Bool, ::Function) at /home/emmett/.julia/packages/Blink/AO8uN/src/AtomShell/process.jl:88",
      " [4] #init at /home/emmett/.julia/packages/Blink/AO8uN/src/AtomShell/process.jl:0 [inlined]",
      " [5] #shell#13(::Bool, ::Function) at /home/emmett/.julia/packages/Blink/AO8uN/src/AtomShell/process.jl:129",
      " [6] shell at /home/emmett/.julia/packages/Blink/AO8uN/src/AtomShell/process.jl:127 [inlined]",
      " [7] #Window#18(::Base.Iterators.Pairs{Union{},Union{},Tuple{},NamedTuple{(),Tuple{}}}, ::Type) at /home/emmett/.julia/packages/Blink/AO8uN/src/AtomShell/window.jl:89",
      " [8] Window() at /home/emmett/.julia/packages/Blink/AO8uN/src/AtomShell/window.jl:89",
      " [9] top-level scope at In[67]:3"
     ]
    }
   ],
   "source": [
    "using StatsPlots, Interact\n",
    "using Blink\n",
    "w = Window()\n",
    "body!(w, dataviewer(df))"
   ]
  },
  {
   "cell_type": "markdown",
   "metadata": {},
   "source": [
    "# Preprocessing\n",
    "Firstly, we are going to of course need to train, test split our data."
   ]
  },
  {
   "cell_type": "code",
   "execution_count": 6,
   "metadata": {},
   "outputs": [
    {
     "name": "stderr",
     "output_type": "stream",
     "text": [
      "┌ Info: Recompiling stale cache file /home/emmett/.julia/compiled/v1.0/Lathe/6rMNJ.ji for Lathe [38d8eb38-e7b1-11e9-0012-376b6c802672]\n",
      "└ @ Base loading.jl:1190\n"
     ]
    }
   ],
   "source": [
    "# Bring Test Train Split from the Lathe.preprocess module.\n",
    "using Lathe.preprocess: TrainTestSplit, StandardScalar"
   ]
  },
  {
   "cell_type": "code",
   "execution_count": 7,
   "metadata": {},
   "outputs": [
    {
     "data": {
      "text/plain": [
       "(773765×3 DataFrame\n",
       "│ Row    │ TempC   │ Salinity │ Depth │\n",
       "│        │ \u001b[90mFloat64\u001b[39m │ \u001b[90mFloat64\u001b[39m  │ \u001b[90mInt64\u001b[39m │\n",
       "├────────┼─────────┼──────────┼───────┤\n",
       "│ 1      │ 10.5    │ 33.44    │ 0     │\n",
       "│ 2      │ 10.46   │ 33.44    │ 8     │\n",
       "│ 3      │ 10.46   │ 33.437   │ 10    │\n",
       "│ 4      │ 10.45   │ 33.42    │ 19    │\n",
       "│ 5      │ 10.45   │ 33.421   │ 20    │\n",
       "│ 6      │ 10.45   │ 33.431   │ 30    │\n",
       "│ 7      │ 10.45   │ 33.44    │ 39    │\n",
       "│ 8      │ 10.24   │ 33.424   │ 50    │\n",
       "│ 9      │ 10.06   │ 33.42    │ 58    │\n",
       "│ 10     │ 9.86    │ 33.494   │ 75    │\n",
       "⋮\n",
       "│ 773755 │ 7.538   │ 34.042   │ 321   │\n",
       "│ 773756 │ 6.943   │ 34.11    │ 381   │\n",
       "│ 773757 │ 6.694   │ 34.11    │ 400   │\n",
       "│ 773758 │ 6.312   │ 34.156   │ 440   │\n",
       "│ 773759 │ 5.993   │ 34.216   │ 500   │\n",
       "│ 773760 │ 5.818   │ 34.238   │ 521   │\n",
       "│ 773761 │ 18.744  │ 33.408   │ 0     │\n",
       "│ 773762 │ 18.744  │ 33.408   │ 2     │\n",
       "│ 773763 │ 18.692  │ 33.415   │ 5     │\n",
       "│ 773764 │ 18.161  │ 33.406   │ 10    │\n",
       "│ 773765 │ 17.533  │ 33.388   │ 15    │, 40482×3 DataFrame\n",
       "│ Row   │ TempC   │ Salinity │ Depth │\n",
       "│       │ \u001b[90mFloat64\u001b[39m │ \u001b[90mFloat64\u001b[39m  │ \u001b[90mInt64\u001b[39m │\n",
       "├───────┼─────────┼──────────┼───────┤\n",
       "│ 1     │ 8.71    │ 33.86    │ 152   │\n",
       "│ 2     │ 10.14   │ 32.66    │ 19    │\n",
       "│ 3     │ 3.83    │ 34.34    │ 900   │\n",
       "│ 4     │ 9.85    │ 32.738   │ 50    │\n",
       "│ 5     │ 4.1     │ 34.25    │ 755   │\n",
       "│ 6     │ 5.78    │ 33.996   │ 400   │\n",
       "│ 7     │ 12.64   │ 33.068   │ 30    │\n",
       "│ 8     │ 4.38    │ 34.086   │ 700   │\n",
       "│ 9     │ 4.67    │ 33.993   │ 600   │\n",
       "│ 10    │ 12.0    │ 32.97    │ 0     │\n",
       "⋮\n",
       "│ 40472 │ 7.592   │ 34.109   │ 271   │\n",
       "│ 40473 │ 6.062   │ 34.194   │ 441   │\n",
       "│ 40474 │ 10.707  │ 33.321   │ 126   │\n",
       "│ 40475 │ 10.653  │ 33.519   │ 142   │\n",
       "│ 40476 │ 8.786   │ 33.905   │ 232   │\n",
       "│ 40477 │ 6.12    │ 34.232   │ 514   │\n",
       "│ 40478 │ 19.39   │ 33.301   │ 0     │\n",
       "│ 40479 │ 19.419  │ 33.317   │ 50    │\n",
       "│ 40480 │ 17.272  │ 33.409   │ 75    │\n",
       "│ 40481 │ 6.026   │ 34.206   │ 500   │\n",
       "│ 40482 │ 12.096  │ 33.459   │ 141   │)"
      ]
     },
     "execution_count": 7,
     "metadata": {},
     "output_type": "execute_result"
    }
   ],
   "source": [
    "train,test = TrainTestSplit(df,.95)"
   ]
  },
  {
   "cell_type": "code",
   "execution_count": 8,
   "metadata": {},
   "outputs": [
    {
     "data": {
      "text/plain": [
       "40482-element Array{Int64,1}:\n",
       " 152\n",
       "  19\n",
       " 900\n",
       "  50\n",
       " 755\n",
       " 400\n",
       "  30\n",
       " 700\n",
       " 600\n",
       "   0\n",
       "  10\n",
       " 300\n",
       " 479\n",
       "   ⋮\n",
       " 516\n",
       " 271\n",
       " 441\n",
       " 126\n",
       " 142\n",
       " 232\n",
       " 514\n",
       "   0\n",
       "  50\n",
       "  75\n",
       " 500\n",
       " 141"
      ]
     },
     "execution_count": 8,
     "metadata": {},
     "output_type": "execute_result"
    }
   ],
   "source": [
    "trainX = StandardScalar(train.TempC)\n",
    "trainy = train.Depth\n",
    "testX = StandardScalar(test.TempC)\n",
    "testy = test.Depth"
   ]
  },
  {
   "cell_type": "markdown",
   "metadata": {},
   "source": [
    "## Baseline"
   ]
  },
  {
   "cell_type": "code",
   "execution_count": 9,
   "metadata": {},
   "outputs": [
    {
     "data": {
      "text/plain": [
       "meanBaseline(Int64[0, 8, 10, 19, 20, 30, 39, 50, 58, 75  …  381, 400, 440, 500, 521, 0, 2, 5, 10, 15])"
      ]
     },
     "execution_count": 9,
     "metadata": {},
     "output_type": "execute_result"
    }
   ],
   "source": [
    "using Lathe.models: meanBaseline\n",
    "bs = meanBaseline(trainy)"
   ]
  },
  {
   "cell_type": "markdown",
   "metadata": {},
   "source": [
    "# Fitting some models!\n",
    "I'll be honest, I'm about 10 minutes into this notebook, and i'm really happy with just how easily Lathe is handling this."
   ]
  },
  {
   "cell_type": "code",
   "execution_count": 10,
   "metadata": {},
   "outputs": [],
   "source": [
    "using Lathe.models: predict, LinearRegression,FourSquare"
   ]
  },
  {
   "cell_type": "code",
   "execution_count": 11,
   "metadata": {},
   "outputs": [
    {
     "name": "stdout",
     "output_type": "stream",
     "text": [
      "-Lathe.models Mean Baseline-mean: 222.05242935516597"
     ]
    },
    {
     "data": {
      "text/plain": [
       "40482-element Array{Any,1}:\n",
       " 222.05242935516597\n",
       " 222.05242935516597\n",
       " 222.05242935516597\n",
       " 222.05242935516597\n",
       " 222.05242935516597\n",
       " 222.05242935516597\n",
       " 222.05242935516597\n",
       " 222.05242935516597\n",
       " 222.05242935516597\n",
       " 222.05242935516597\n",
       " 222.05242935516597\n",
       " 222.05242935516597\n",
       " 222.05242935516597\n",
       "   ⋮               \n",
       " 222.05242935516597\n",
       " 222.05242935516597\n",
       " 222.05242935516597\n",
       " 222.05242935516597\n",
       " 222.05242935516597\n",
       " 222.05242935516597\n",
       " 222.05242935516597\n",
       " 222.05242935516597\n",
       " 222.05242935516597\n",
       " 222.05242935516597\n",
       " 222.05242935516597\n",
       " 222.05242935516597"
      ]
     },
     "execution_count": 11,
     "metadata": {},
     "output_type": "execute_result"
    }
   ],
   "source": [
    "baser = predict(bs,testX)"
   ]
  },
  {
   "cell_type": "code",
   "execution_count": 12,
   "metadata": {},
   "outputs": [
    {
     "data": {
      "text/plain": [
       "2.3249702375335035"
      ]
     },
     "execution_count": 12,
     "metadata": {},
     "output_type": "execute_result"
    }
   ],
   "source": [
    "using Lathe.validate: mae,r2\n",
    "mae(testy,baser)"
   ]
  },
  {
   "cell_type": "code",
   "execution_count": 13,
   "metadata": {},
   "outputs": [
    {
     "name": "stdout",
     "output_type": "stream",
     "text": [
      "219.72745911763252\n",
      "222.05242935516597\n"
     ]
    }
   ],
   "source": [
    "using Lathe.stats: mean\n",
    "println(mean(testy))\n",
    "println(mean(trainy))"
   ]
  },
  {
   "cell_type": "code",
   "execution_count": 14,
   "metadata": {},
   "outputs": [],
   "source": [
    "# Set our target and feature"
   ]
  },
  {
   "cell_type": "code",
   "execution_count": 15,
   "metadata": {},
   "outputs": [
    {
     "data": {
      "text/plain": [
       "40482-element Array{Float64,1}:\n",
       "  8.71 \n",
       " 10.14 \n",
       "  3.83 \n",
       "  9.85 \n",
       "  4.1  \n",
       "  5.78 \n",
       " 12.64 \n",
       "  4.38 \n",
       "  4.67 \n",
       " 12.0  \n",
       " 12.0  \n",
       "  6.86 \n",
       "  5.34 \n",
       "  ⋮    \n",
       "  5.829\n",
       "  7.592\n",
       "  6.062\n",
       " 10.707\n",
       " 10.653\n",
       "  8.786\n",
       "  6.12 \n",
       " 19.39 \n",
       " 19.419\n",
       " 17.272\n",
       "  6.026\n",
       " 12.096"
      ]
     },
     "execution_count": 15,
     "metadata": {},
     "output_type": "execute_result"
    }
   ],
   "source": [
    "trainX = StandardScalar(train.Depth)\n",
    "trainy = train.TempC\n",
    "testX = StandardScalar(test.Depth)\n",
    "testy = test.TempC"
   ]
  },
  {
   "cell_type": "code",
   "execution_count": 16,
   "metadata": {},
   "outputs": [
    {
     "data": {
      "text/plain": [
       "LinearRegression(Any[-14.9014, -14.3646, -14.2303, -13.6264, -13.5593, -12.8882, -12.2842, -11.546, -11.0092, -9.86835  …  10.6666, 11.9416, 14.626, 18.6524, 20.0617, -14.9014, -14.7672, -14.5659, -14.2303, -13.8948], [10.5, 10.46, 10.46, 10.45, 10.45, 10.45, 10.45, 10.24, 10.06, 9.86  …  6.943, 6.694, 6.312, 5.993, 5.818, 18.744, 18.744, 18.692, 18.161, 17.533])"
      ]
     },
     "execution_count": 16,
     "metadata": {},
     "output_type": "execute_result"
    }
   ],
   "source": [
    "linrmod = LinearRegression(trainX,trainy)"
   ]
  },
  {
   "cell_type": "code",
   "execution_count": 17,
   "metadata": {},
   "outputs": [
    {
     "data": {
      "text/html": [
       "<table class=\"data-frame\"><thead><tr><th></th></tr><tr><th></th></tr></thead><tbody><p>0 rows × 0 columns</p></tbody></table>"
      ],
      "text/latex": [
       "\\begin{tabular}{r|}\n",
       "\t& \\\\\n",
       "\t\\hline\n",
       "\t& \\\\\n",
       "\t\\hline\n",
       "\\end{tabular}\n"
      ],
      "text/plain": [
       "0×0 DataFrame\n"
      ]
     },
     "execution_count": 17,
     "metadata": {},
     "output_type": "execute_result"
    }
   ],
   "source": [
    "preds = DataFrame()"
   ]
  },
  {
   "cell_type": "code",
   "execution_count": 18,
   "metadata": {},
   "outputs": [
    {
     "data": {
      "text/plain": [
       "40482-element Array{Any,1}:\n",
       " 11.488671388023496 \n",
       " 12.726855350986204 \n",
       "  4.5250503030903655\n",
       " 12.438256081423468 \n",
       "  5.874950112335425 \n",
       "  9.179877231521601 \n",
       " 12.624449158560717 \n",
       "  6.3869810744628595\n",
       "  7.317946460149107 \n",
       " 12.903738774266591 \n",
       " 12.810642235697966 \n",
       " 10.11084261720785  \n",
       "  8.444414576829466 \n",
       "  ⋮                 \n",
       "  8.099957384125556 \n",
       " 10.380822579056861 \n",
       "  8.79818142339024  \n",
       " 11.73072238830192  \n",
       " 11.58176792659212  \n",
       " 10.743899079474497 \n",
       "  8.11857669183928  \n",
       " 12.903738774266591 \n",
       " 12.438256081423468 \n",
       " 12.205514735001906 \n",
       "  8.248911845835355 \n",
       " 11.591077580448982 "
      ]
     },
     "execution_count": 18,
     "metadata": {},
     "output_type": "execute_result"
    }
   ],
   "source": [
    "preds.LinearRegression = predict(linrmod,testX)"
   ]
  },
  {
   "cell_type": "code",
   "execution_count": 19,
   "metadata": {},
   "outputs": [
    {
     "data": {
      "text/plain": [
       "0.0429449672572638"
      ]
     },
     "execution_count": 19,
     "metadata": {},
     "output_type": "execute_result"
    }
   ],
   "source": [
    "using Lathe.validate: mae,r2\n",
    "linregacc = mae(testy,preds.LinearRegression)"
   ]
  },
  {
   "cell_type": "code",
   "execution_count": 20,
   "metadata": {},
   "outputs": [
    {
     "data": {
      "text/plain": [
       "4551.537796370661"
      ]
     },
     "execution_count": 20,
     "metadata": {},
     "output_type": "execute_result"
    }
   ],
   "source": [
    "r2(testy,preds.LinearRegression) * 100"
   ]
  },
  {
   "cell_type": "code",
   "execution_count": 21,
   "metadata": {},
   "outputs": [
    {
     "data": {
      "text/plain": [
       "10.901097154290795"
      ]
     },
     "execution_count": 21,
     "metadata": {},
     "output_type": "execute_result"
    }
   ],
   "source": [
    "using Lathe.stats: mean\n",
    "mean(testy)"
   ]
  },
  {
   "cell_type": "code",
   "execution_count": 22,
   "metadata": {},
   "outputs": [],
   "source": [
    "#using Plots\n",
    "#plot(test.Depth,testy,linecolor=:pink,linewidth=.2,grid=false,fontfamily = :Palatino,\n",
    "#title=\"Depth and Temperatures\",label=\"Depth\",ylabel=\"Temperature (°C)\",\n",
    "#xlabel=\"Depth (meters)\")"
   ]
  },
  {
   "cell_type": "code",
   "execution_count": 23,
   "metadata": {},
   "outputs": [],
   "source": [
    "#plot(test.Depth,preds.LinearRegression,linecolor = :lightblue,linewidth = 7, grid = false,\n",
    "#fontfamily = :Palatino, title = \"Depth/Temps Linear Regression\",label = \"Temperature(°C)\",\n",
    "#arrow = true)"
   ]
  },
  {
   "cell_type": "code",
   "execution_count": 24,
   "metadata": {},
   "outputs": [
    {
     "data": {
      "text/plain": [
       "FourSquare(Any[-14.9014, -14.3646, -14.2303, -13.6264, -13.5593, -12.8882, -12.2842, -11.546, -11.0092, -9.86835  …  10.6666, 11.9416, 14.626, 18.6524, 20.0617, -14.9014, -14.7672, -14.5659, -14.2303, -13.8948], [10.5, 10.46, 10.46, 10.45, 10.45, 10.45, 10.45, 10.24, 10.06, 9.86  …  6.943, 6.694, 6.312, 5.993, 5.818, 18.744, 18.744, 18.692, 18.161, 17.533])"
      ]
     },
     "execution_count": 24,
     "metadata": {},
     "output_type": "execute_result"
    }
   ],
   "source": [
    "using Lathe.models: FourSquare\n",
    "m = FourSquare(trainX,trainy)"
   ]
  },
  {
   "cell_type": "code",
   "execution_count": 25,
   "metadata": {},
   "outputs": [
    {
     "data": {
      "text/plain": [
       "40482-element Array{Any,1}:\n",
       "   4.393676685540079\n",
       "   4.393676685540079\n",
       "   4.393676685540079\n",
       "   4.393676685540079\n",
       "   4.393676685540079\n",
       "   4.393676685540079\n",
       "   4.393676685540079\n",
       "   4.393676685540079\n",
       "   4.393676685540079\n",
       "   4.393676685540079\n",
       "   4.393676685540079\n",
       "   4.393676685540079\n",
       "   4.393676685540079\n",
       "   ⋮                \n",
       " 255.02393632248095 \n",
       " 266.29005454683346 \n",
       " 268.51629347739413 \n",
       " 268.51629347739413 \n",
       " 282.00865063230736 \n",
       " 283.4253481335732  \n",
       " 289.9016795679316  \n",
       " 293.0723834993362  \n",
       " 295.50100778722054 \n",
       " 295.50100778722054 \n",
       " 297.0526288600356  \n",
       " 308.9933649421338  "
      ]
     },
     "execution_count": 25,
     "metadata": {},
     "output_type": "execute_result"
    }
   ],
   "source": [
    "preds.FSQ = predict(m,testX)"
   ]
  },
  {
   "cell_type": "code",
   "execution_count": 33,
   "metadata": {},
   "outputs": [],
   "source": [
    "#using Plots\n",
    "#scatter(test.Depth,preds.FSQ,markercolor = :orange,markerstrokewidth = 0,markersize = 2,fontfamily = :Palatino, title = \"Depth/Temps Linear Regression\",label = \"Temperature(°C)\",\n",
    "#arrow = true,xlabel = \"Depth\",ylabel = \"Temperature(°C)\")"
   ]
  }
 ],
 "metadata": {
  "kernelspec": {
   "display_name": "Julia 1.0.4",
   "language": "julia",
   "name": "julia-1.0"
  },
  "language_info": {
   "file_extension": ".jl",
   "mimetype": "application/julia",
   "name": "julia",
   "version": "1.0.4"
  }
 },
 "nbformat": 4,
 "nbformat_minor": 2
}
