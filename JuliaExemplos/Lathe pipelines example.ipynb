{
 "cells": [
  {
   "cell_type": "code",
   "execution_count": 1,
   "metadata": {},
   "outputs": [
    {
     "data": {
      "text/html": [
       "<table class=\"data-frame\"><thead><tr><th></th><th>Cst_Cnt</th><th>Btl_Cnt</th><th>Sta_ID</th><th>Depth_ID</th><th>Depthm</th><th>T_degC</th></tr><tr><th></th><th>Int64</th><th>Int64</th><th>String</th><th>String</th><th>Int64</th><th>Float64⍰</th></tr></thead><tbody><p>864,863 rows × 74 columns (omitted printing of 68 columns)</p><tr><th>1</th><td>1</td><td>1</td><td>054.0 056.0</td><td>19-4903CR-HY-060-0930-05400560-0000A-3</td><td>0</td><td>10.5</td></tr><tr><th>2</th><td>1</td><td>2</td><td>054.0 056.0</td><td>19-4903CR-HY-060-0930-05400560-0008A-3</td><td>8</td><td>10.46</td></tr><tr><th>3</th><td>1</td><td>3</td><td>054.0 056.0</td><td>19-4903CR-HY-060-0930-05400560-0010A-7</td><td>10</td><td>10.46</td></tr><tr><th>4</th><td>1</td><td>4</td><td>054.0 056.0</td><td>19-4903CR-HY-060-0930-05400560-0019A-3</td><td>19</td><td>10.45</td></tr><tr><th>5</th><td>1</td><td>5</td><td>054.0 056.0</td><td>19-4903CR-HY-060-0930-05400560-0020A-7</td><td>20</td><td>10.45</td></tr><tr><th>6</th><td>1</td><td>6</td><td>054.0 056.0</td><td>19-4903CR-HY-060-0930-05400560-0030A-7</td><td>30</td><td>10.45</td></tr><tr><th>7</th><td>1</td><td>7</td><td>054.0 056.0</td><td>19-4903CR-HY-060-0930-05400560-0039A-3</td><td>39</td><td>10.45</td></tr><tr><th>8</th><td>1</td><td>8</td><td>054.0 056.0</td><td>19-4903CR-HY-060-0930-05400560-0050A-7</td><td>50</td><td>10.24</td></tr><tr><th>9</th><td>1</td><td>9</td><td>054.0 056.0</td><td>19-4903CR-HY-060-0930-05400560-0058A-3</td><td>58</td><td>10.06</td></tr><tr><th>10</th><td>1</td><td>10</td><td>054.0 056.0</td><td>19-4903CR-HY-060-0930-05400560-0075A-7</td><td>75</td><td>9.86</td></tr><tr><th>11</th><td>1</td><td>11</td><td>054.0 056.0</td><td>19-4903CR-HY-060-0930-05400560-0078A-3</td><td>78</td><td>9.83</td></tr><tr><th>12</th><td>1</td><td>12</td><td>054.0 056.0</td><td>19-4903CR-HY-060-0930-05400560-0100A-7</td><td>100</td><td>9.67</td></tr><tr><th>13</th><td>1</td><td>13</td><td>054.0 056.0</td><td>19-4903CR-HY-060-0930-05400560-0117A-3</td><td>117</td><td>9.5</td></tr><tr><th>14</th><td>1</td><td>14</td><td>054.0 056.0</td><td>19-4903CR-HY-060-0930-05400560-0125A-7</td><td>125</td><td>9.32</td></tr><tr><th>15</th><td>1</td><td>15</td><td>054.0 056.0</td><td>19-4903CR-HY-060-0930-05400560-0150A-7</td><td>150</td><td>8.76</td></tr><tr><th>16</th><td>1</td><td>16</td><td>054.0 056.0</td><td>19-4903CR-HY-060-0930-05400560-0152A-3</td><td>152</td><td>8.71</td></tr><tr><th>17</th><td>1</td><td>17</td><td>054.0 056.0</td><td>19-4903CR-HY-060-0930-05400560-0200A-7</td><td>200</td><td>8.53</td></tr><tr><th>18</th><td>1</td><td>18</td><td>054.0 056.0</td><td>19-4903CR-HY-060-0930-05400560-0221A-3</td><td>221</td><td>8.45</td></tr><tr><th>19</th><td>1</td><td>19</td><td>054.0 056.0</td><td>19-4903CR-HY-060-0930-05400560-0250A-7</td><td>250</td><td>8.26</td></tr><tr><th>20</th><td>1</td><td>20</td><td>054.0 056.0</td><td>19-4903CR-HY-060-0930-05400560-0285A-3</td><td>285</td><td>7.96</td></tr><tr><th>21</th><td>1</td><td>21</td><td>054.0 056.0</td><td>19-4903CR-HY-060-0930-05400560-0300A-7</td><td>300</td><td>7.77</td></tr><tr><th>22</th><td>1</td><td>22</td><td>054.0 056.0</td><td>19-4903CR-HY-060-0930-05400560-0373A-3</td><td>373</td><td>6.8</td></tr><tr><th>23</th><td>1</td><td>23</td><td>054.0 056.0</td><td>19-4903CR-HY-060-0930-05400560-0400A-7</td><td>400</td><td>6.55</td></tr><tr><th>24</th><td>1</td><td>24</td><td>054.0 056.0</td><td>19-4903CR-HY-060-0930-05400560-0500A-7</td><td>500</td><td>5.78</td></tr><tr><th>25</th><td>1</td><td>25</td><td>054.0 056.0</td><td>19-4903CR-HY-060-0930-05400560-0598A-3</td><td>598</td><td>5.3</td></tr><tr><th>26</th><td>1</td><td>26</td><td>054.0 056.0</td><td>19-4903CR-HY-060-0930-05400560-0600A-7</td><td>600</td><td>5.29</td></tr><tr><th>27</th><td>1</td><td>27</td><td>054.0 056.0</td><td>19-4903CR-HY-060-0930-05400560-0700A-7</td><td>700</td><td>5.01</td></tr><tr><th>28</th><td>1</td><td>28</td><td>054.0 056.0</td><td>19-4903CR-HY-060-0930-05400560-0800A-7</td><td>800</td><td>4.72</td></tr><tr><th>29</th><td>1</td><td>29</td><td>054.0 056.0</td><td>19-4903CR-HY-060-0930-05400560-0896A-3</td><td>896</td><td>4.44</td></tr><tr><th>30</th><td>2</td><td>30</td><td>052.0 075.0</td><td>19-4903CR-HY-060-2112-05200750-0000B-3</td><td>0</td><td>10.1</td></tr><tr><th>&vellip;</th><td>&vellip;</td><td>&vellip;</td><td>&vellip;</td><td>&vellip;</td><td>&vellip;</td><td>&vellip;</td></tr></tbody></table>"
      ],
      "text/latex": [
       "\\begin{tabular}{r|ccccccc}\n",
       "\t& Cst\\_Cnt & Btl\\_Cnt & Sta\\_ID & Depth\\_ID & Depthm & T\\_degC & \\\\\n",
       "\t\\hline\n",
       "\t& Int64 & Int64 & String & String & Int64 & Float64⍰ & \\\\\n",
       "\t\\hline\n",
       "\t1 & 1 & 1 & 054.0 056.0 & 19-4903CR-HY-060-0930-05400560-0000A-3 & 0 & 10.5 & $\\dots$ \\\\\n",
       "\t2 & 1 & 2 & 054.0 056.0 & 19-4903CR-HY-060-0930-05400560-0008A-3 & 8 & 10.46 & $\\dots$ \\\\\n",
       "\t3 & 1 & 3 & 054.0 056.0 & 19-4903CR-HY-060-0930-05400560-0010A-7 & 10 & 10.46 & $\\dots$ \\\\\n",
       "\t4 & 1 & 4 & 054.0 056.0 & 19-4903CR-HY-060-0930-05400560-0019A-3 & 19 & 10.45 & $\\dots$ \\\\\n",
       "\t5 & 1 & 5 & 054.0 056.0 & 19-4903CR-HY-060-0930-05400560-0020A-7 & 20 & 10.45 & $\\dots$ \\\\\n",
       "\t6 & 1 & 6 & 054.0 056.0 & 19-4903CR-HY-060-0930-05400560-0030A-7 & 30 & 10.45 & $\\dots$ \\\\\n",
       "\t7 & 1 & 7 & 054.0 056.0 & 19-4903CR-HY-060-0930-05400560-0039A-3 & 39 & 10.45 & $\\dots$ \\\\\n",
       "\t8 & 1 & 8 & 054.0 056.0 & 19-4903CR-HY-060-0930-05400560-0050A-7 & 50 & 10.24 & $\\dots$ \\\\\n",
       "\t9 & 1 & 9 & 054.0 056.0 & 19-4903CR-HY-060-0930-05400560-0058A-3 & 58 & 10.06 & $\\dots$ \\\\\n",
       "\t10 & 1 & 10 & 054.0 056.0 & 19-4903CR-HY-060-0930-05400560-0075A-7 & 75 & 9.86 & $\\dots$ \\\\\n",
       "\t11 & 1 & 11 & 054.0 056.0 & 19-4903CR-HY-060-0930-05400560-0078A-3 & 78 & 9.83 & $\\dots$ \\\\\n",
       "\t12 & 1 & 12 & 054.0 056.0 & 19-4903CR-HY-060-0930-05400560-0100A-7 & 100 & 9.67 & $\\dots$ \\\\\n",
       "\t13 & 1 & 13 & 054.0 056.0 & 19-4903CR-HY-060-0930-05400560-0117A-3 & 117 & 9.5 & $\\dots$ \\\\\n",
       "\t14 & 1 & 14 & 054.0 056.0 & 19-4903CR-HY-060-0930-05400560-0125A-7 & 125 & 9.32 & $\\dots$ \\\\\n",
       "\t15 & 1 & 15 & 054.0 056.0 & 19-4903CR-HY-060-0930-05400560-0150A-7 & 150 & 8.76 & $\\dots$ \\\\\n",
       "\t16 & 1 & 16 & 054.0 056.0 & 19-4903CR-HY-060-0930-05400560-0152A-3 & 152 & 8.71 & $\\dots$ \\\\\n",
       "\t17 & 1 & 17 & 054.0 056.0 & 19-4903CR-HY-060-0930-05400560-0200A-7 & 200 & 8.53 & $\\dots$ \\\\\n",
       "\t18 & 1 & 18 & 054.0 056.0 & 19-4903CR-HY-060-0930-05400560-0221A-3 & 221 & 8.45 & $\\dots$ \\\\\n",
       "\t19 & 1 & 19 & 054.0 056.0 & 19-4903CR-HY-060-0930-05400560-0250A-7 & 250 & 8.26 & $\\dots$ \\\\\n",
       "\t20 & 1 & 20 & 054.0 056.0 & 19-4903CR-HY-060-0930-05400560-0285A-3 & 285 & 7.96 & $\\dots$ \\\\\n",
       "\t21 & 1 & 21 & 054.0 056.0 & 19-4903CR-HY-060-0930-05400560-0300A-7 & 300 & 7.77 & $\\dots$ \\\\\n",
       "\t22 & 1 & 22 & 054.0 056.0 & 19-4903CR-HY-060-0930-05400560-0373A-3 & 373 & 6.8 & $\\dots$ \\\\\n",
       "\t23 & 1 & 23 & 054.0 056.0 & 19-4903CR-HY-060-0930-05400560-0400A-7 & 400 & 6.55 & $\\dots$ \\\\\n",
       "\t24 & 1 & 24 & 054.0 056.0 & 19-4903CR-HY-060-0930-05400560-0500A-7 & 500 & 5.78 & $\\dots$ \\\\\n",
       "\t25 & 1 & 25 & 054.0 056.0 & 19-4903CR-HY-060-0930-05400560-0598A-3 & 598 & 5.3 & $\\dots$ \\\\\n",
       "\t26 & 1 & 26 & 054.0 056.0 & 19-4903CR-HY-060-0930-05400560-0600A-7 & 600 & 5.29 & $\\dots$ \\\\\n",
       "\t27 & 1 & 27 & 054.0 056.0 & 19-4903CR-HY-060-0930-05400560-0700A-7 & 700 & 5.01 & $\\dots$ \\\\\n",
       "\t28 & 1 & 28 & 054.0 056.0 & 19-4903CR-HY-060-0930-05400560-0800A-7 & 800 & 4.72 & $\\dots$ \\\\\n",
       "\t29 & 1 & 29 & 054.0 056.0 & 19-4903CR-HY-060-0930-05400560-0896A-3 & 896 & 4.44 & $\\dots$ \\\\\n",
       "\t30 & 2 & 30 & 052.0 075.0 & 19-4903CR-HY-060-2112-05200750-0000B-3 & 0 & 10.1 & $\\dots$ \\\\\n",
       "\t$\\dots$ & $\\dots$ & $\\dots$ & $\\dots$ & $\\dots$ & $\\dots$ & $\\dots$ &  \\\\\n",
       "\\end{tabular}\n"
      ],
      "text/plain": [
       "864863×74 DataFrames.DataFrame. Omitted printing of 71 columns\n",
       "│ Row    │ Cst_Cnt │ Btl_Cnt │ Sta_ID      │\n",
       "│        │ \u001b[90mInt64\u001b[39m   │ \u001b[90mInt64\u001b[39m   │ \u001b[90mString\u001b[39m      │\n",
       "├────────┼─────────┼─────────┼─────────────┤\n",
       "│ 1      │ 1       │ 1       │ 054.0 056.0 │\n",
       "│ 2      │ 1       │ 2       │ 054.0 056.0 │\n",
       "│ 3      │ 1       │ 3       │ 054.0 056.0 │\n",
       "│ 4      │ 1       │ 4       │ 054.0 056.0 │\n",
       "│ 5      │ 1       │ 5       │ 054.0 056.0 │\n",
       "│ 6      │ 1       │ 6       │ 054.0 056.0 │\n",
       "│ 7      │ 1       │ 7       │ 054.0 056.0 │\n",
       "│ 8      │ 1       │ 8       │ 054.0 056.0 │\n",
       "│ 9      │ 1       │ 9       │ 054.0 056.0 │\n",
       "│ 10     │ 1       │ 10      │ 054.0 056.0 │\n",
       "⋮\n",
       "│ 864853 │ 34403   │ 864853  │ 093.3 120.0 │\n",
       "│ 864854 │ 34403   │ 864854  │ 093.3 120.0 │\n",
       "│ 864855 │ 34403   │ 864855  │ 093.3 120.0 │\n",
       "│ 864856 │ 34403   │ 864856  │ 093.3 120.0 │\n",
       "│ 864857 │ 34403   │ 864857  │ 093.3 120.0 │\n",
       "│ 864858 │ 34403   │ 864858  │ 093.3 120.0 │\n",
       "│ 864859 │ 34404   │ 864859  │ 093.4 026.4 │\n",
       "│ 864860 │ 34404   │ 864860  │ 093.4 026.4 │\n",
       "│ 864861 │ 34404   │ 864861  │ 093.4 026.4 │\n",
       "│ 864862 │ 34404   │ 864862  │ 093.4 026.4 │\n",
       "│ 864863 │ 34404   │ 864863  │ 093.4 026.4 │"
      ]
     },
     "execution_count": 1,
     "metadata": {},
     "output_type": "execute_result"
    }
   ],
   "source": [
    "using CSV\n",
    "df = CSV.read(\"bottle.csv\")"
   ]
  },
  {
   "cell_type": "code",
   "execution_count": 2,
   "metadata": {},
   "outputs": [
    {
     "data": {
      "text/html": [
       "<table class=\"data-frame\"><thead><tr><th></th><th>TempC</th><th>Salinity</th><th>Depth</th></tr><tr><th></th><th>Float64</th><th>Float64</th><th>Int64</th></tr></thead><tbody><p>814,247 rows × 3 columns</p><tr><th>1</th><td>10.5</td><td>33.44</td><td>0</td></tr><tr><th>2</th><td>10.46</td><td>33.44</td><td>8</td></tr><tr><th>3</th><td>10.46</td><td>33.437</td><td>10</td></tr><tr><th>4</th><td>10.45</td><td>33.42</td><td>19</td></tr><tr><th>5</th><td>10.45</td><td>33.421</td><td>20</td></tr><tr><th>6</th><td>10.45</td><td>33.431</td><td>30</td></tr><tr><th>7</th><td>10.45</td><td>33.44</td><td>39</td></tr><tr><th>8</th><td>10.24</td><td>33.424</td><td>50</td></tr><tr><th>9</th><td>10.06</td><td>33.42</td><td>58</td></tr><tr><th>10</th><td>9.86</td><td>33.494</td><td>75</td></tr><tr><th>11</th><td>9.83</td><td>33.51</td><td>78</td></tr><tr><th>12</th><td>9.67</td><td>33.58</td><td>100</td></tr><tr><th>13</th><td>9.5</td><td>33.64</td><td>117</td></tr><tr><th>14</th><td>9.32</td><td>33.689</td><td>125</td></tr><tr><th>15</th><td>8.76</td><td>33.847</td><td>150</td></tr><tr><th>16</th><td>8.71</td><td>33.86</td><td>152</td></tr><tr><th>17</th><td>8.53</td><td>33.876</td><td>200</td></tr><tr><th>18</th><td>8.26</td><td>33.926</td><td>250</td></tr><tr><th>19</th><td>7.96</td><td>33.98</td><td>285</td></tr><tr><th>20</th><td>7.77</td><td>33.99</td><td>300</td></tr><tr><th>21</th><td>6.8</td><td>34.04</td><td>373</td></tr><tr><th>22</th><td>6.55</td><td>34.056</td><td>400</td></tr><tr><th>23</th><td>5.78</td><td>34.113</td><td>500</td></tr><tr><th>24</th><td>5.3</td><td>34.16</td><td>598</td></tr><tr><th>25</th><td>5.29</td><td>34.161</td><td>600</td></tr><tr><th>26</th><td>5.01</td><td>34.21</td><td>700</td></tr><tr><th>27</th><td>4.72</td><td>34.261</td><td>800</td></tr><tr><th>28</th><td>4.44</td><td>34.31</td><td>896</td></tr><tr><th>29</th><td>10.1</td><td>32.95</td><td>0</td></tr><tr><th>30</th><td>9.89</td><td>32.94</td><td>10</td></tr><tr><th>&vellip;</th><td>&vellip;</td><td>&vellip;</td><td>&vellip;</td></tr></tbody></table>"
      ],
      "text/latex": [
       "\\begin{tabular}{r|ccc}\n",
       "\t& TempC & Salinity & Depth\\\\\n",
       "\t\\hline\n",
       "\t& Float64 & Float64 & Int64\\\\\n",
       "\t\\hline\n",
       "\t1 & 10.5 & 33.44 & 0 \\\\\n",
       "\t2 & 10.46 & 33.44 & 8 \\\\\n",
       "\t3 & 10.46 & 33.437 & 10 \\\\\n",
       "\t4 & 10.45 & 33.42 & 19 \\\\\n",
       "\t5 & 10.45 & 33.421 & 20 \\\\\n",
       "\t6 & 10.45 & 33.431 & 30 \\\\\n",
       "\t7 & 10.45 & 33.44 & 39 \\\\\n",
       "\t8 & 10.24 & 33.424 & 50 \\\\\n",
       "\t9 & 10.06 & 33.42 & 58 \\\\\n",
       "\t10 & 9.86 & 33.494 & 75 \\\\\n",
       "\t11 & 9.83 & 33.51 & 78 \\\\\n",
       "\t12 & 9.67 & 33.58 & 100 \\\\\n",
       "\t13 & 9.5 & 33.64 & 117 \\\\\n",
       "\t14 & 9.32 & 33.689 & 125 \\\\\n",
       "\t15 & 8.76 & 33.847 & 150 \\\\\n",
       "\t16 & 8.71 & 33.86 & 152 \\\\\n",
       "\t17 & 8.53 & 33.876 & 200 \\\\\n",
       "\t18 & 8.26 & 33.926 & 250 \\\\\n",
       "\t19 & 7.96 & 33.98 & 285 \\\\\n",
       "\t20 & 7.77 & 33.99 & 300 \\\\\n",
       "\t21 & 6.8 & 34.04 & 373 \\\\\n",
       "\t22 & 6.55 & 34.056 & 400 \\\\\n",
       "\t23 & 5.78 & 34.113 & 500 \\\\\n",
       "\t24 & 5.3 & 34.16 & 598 \\\\\n",
       "\t25 & 5.29 & 34.161 & 600 \\\\\n",
       "\t26 & 5.01 & 34.21 & 700 \\\\\n",
       "\t27 & 4.72 & 34.261 & 800 \\\\\n",
       "\t28 & 4.44 & 34.31 & 896 \\\\\n",
       "\t29 & 10.1 & 32.95 & 0 \\\\\n",
       "\t30 & 9.89 & 32.94 & 10 \\\\\n",
       "\t$\\dots$ & $\\dots$ & $\\dots$ & $\\dots$ \\\\\n",
       "\\end{tabular}\n"
      ],
      "text/plain": [
       "814247×3 DataFrame\n",
       "│ Row    │ TempC   │ Salinity │ Depth │\n",
       "│        │ \u001b[90mFloat64\u001b[39m │ \u001b[90mFloat64\u001b[39m  │ \u001b[90mInt64\u001b[39m │\n",
       "├────────┼─────────┼──────────┼───────┤\n",
       "│ 1      │ 10.5    │ 33.44    │ 0     │\n",
       "│ 2      │ 10.46   │ 33.44    │ 8     │\n",
       "│ 3      │ 10.46   │ 33.437   │ 10    │\n",
       "│ 4      │ 10.45   │ 33.42    │ 19    │\n",
       "│ 5      │ 10.45   │ 33.421   │ 20    │\n",
       "│ 6      │ 10.45   │ 33.431   │ 30    │\n",
       "│ 7      │ 10.45   │ 33.44    │ 39    │\n",
       "│ 8      │ 10.24   │ 33.424   │ 50    │\n",
       "│ 9      │ 10.06   │ 33.42    │ 58    │\n",
       "│ 10     │ 9.86    │ 33.494   │ 75    │\n",
       "⋮\n",
       "│ 814237 │ 7.538   │ 34.042   │ 321   │\n",
       "│ 814238 │ 6.943   │ 34.11    │ 381   │\n",
       "│ 814239 │ 6.694   │ 34.11    │ 400   │\n",
       "│ 814240 │ 6.312   │ 34.156   │ 440   │\n",
       "│ 814241 │ 5.993   │ 34.216   │ 500   │\n",
       "│ 814242 │ 5.818   │ 34.238   │ 521   │\n",
       "│ 814243 │ 18.744  │ 33.408   │ 0     │\n",
       "│ 814244 │ 18.744  │ 33.408   │ 2     │\n",
       "│ 814245 │ 18.692  │ 33.415   │ 5     │\n",
       "│ 814246 │ 18.161  │ 33.406   │ 10    │\n",
       "│ 814247 │ 17.533  │ 33.388   │ 15    │"
      ]
     },
     "execution_count": 2,
     "metadata": {},
     "output_type": "execute_result"
    }
   ],
   "source": [
    "using DataFrames\n",
    "df = DataFrame(:TempC => df.T_degC, :Salinity => df.R_SALINITY, :Depth => df.Depthm)\n",
    "# We're going to drop the missing values now, if we did that prior, we would\n",
    "#    have likely dropped a-lot more data.\n",
    "df = dropmissing(df)"
   ]
  },
  {
   "cell_type": "code",
   "execution_count": 3,
   "metadata": {},
   "outputs": [
    {
     "name": "stderr",
     "output_type": "stream",
     "text": [
      "┌ Info: Precompiling Lathe [38d8eb38-e7b1-11e9-0012-376b6c802672]\n",
      "└ @ Base loading.jl:1192\n"
     ]
    },
    {
     "data": {
      "text/plain": [
       "(610790×3 DataFrame\n",
       "│ Row    │ TempC   │ Salinity │ Depth │\n",
       "│        │ \u001b[90mFloat64\u001b[39m │ \u001b[90mFloat64\u001b[39m  │ \u001b[90mInt64\u001b[39m │\n",
       "├────────┼─────────┼──────────┼───────┤\n",
       "│ 1      │ 10.5    │ 33.44    │ 0     │\n",
       "│ 2      │ 10.46   │ 33.44    │ 8     │\n",
       "│ 3      │ 10.46   │ 33.437   │ 10    │\n",
       "│ 4      │ 10.45   │ 33.421   │ 20    │\n",
       "│ 5      │ 10.45   │ 33.431   │ 30    │\n",
       "│ 6      │ 10.45   │ 33.44    │ 39    │\n",
       "│ 7      │ 10.24   │ 33.424   │ 50    │\n",
       "│ 8      │ 9.86    │ 33.494   │ 75    │\n",
       "│ 9      │ 9.67    │ 33.58    │ 100   │\n",
       "│ 10     │ 9.5     │ 33.64    │ 117   │\n",
       "⋮\n",
       "│ 610780 │ 7.831   │ 34.023   │ 300   │\n",
       "│ 610781 │ 6.943   │ 34.11    │ 381   │\n",
       "│ 610782 │ 6.694   │ 34.11    │ 400   │\n",
       "│ 610783 │ 6.312   │ 34.156   │ 440   │\n",
       "│ 610784 │ 5.993   │ 34.216   │ 500   │\n",
       "│ 610785 │ 5.818   │ 34.238   │ 521   │\n",
       "│ 610786 │ 18.744  │ 33.408   │ 0     │\n",
       "│ 610787 │ 18.744  │ 33.408   │ 2     │\n",
       "│ 610788 │ 18.692  │ 33.415   │ 5     │\n",
       "│ 610789 │ 18.161  │ 33.406   │ 10    │\n",
       "│ 610790 │ 17.533  │ 33.388   │ 15    │, 203457×3 DataFrame\n",
       "│ Row    │ TempC   │ Salinity │ Depth │\n",
       "│        │ \u001b[90mFloat64\u001b[39m │ \u001b[90mFloat64\u001b[39m  │ \u001b[90mInt64\u001b[39m │\n",
       "├────────┼─────────┼──────────┼───────┤\n",
       "│ 1      │ 10.45   │ 33.42    │ 19    │\n",
       "│ 2      │ 10.06   │ 33.42    │ 58    │\n",
       "│ 3      │ 9.83    │ 33.51    │ 78    │\n",
       "│ 4      │ 8.76    │ 33.847   │ 150   │\n",
       "│ 5      │ 8.71    │ 33.86    │ 152   │\n",
       "│ 6      │ 7.96    │ 33.98    │ 285   │\n",
       "│ 7      │ 7.77    │ 33.99    │ 300   │\n",
       "│ 8      │ 5.3     │ 34.16    │ 598   │\n",
       "│ 9      │ 9.52    │ 33.013   │ 30    │\n",
       "│ 10     │ 8.83    │ 33.488   │ 75    │\n",
       "⋮\n",
       "│ 203447 │ 6.94    │ 34.126   │ 380   │\n",
       "│ 203448 │ 6.84    │ 34.153   │ 400   │\n",
       "│ 203449 │ 5.912   │ 34.218   │ 517   │\n",
       "│ 203450 │ 19.561  │ 33.288   │ 11    │\n",
       "│ 203451 │ 19.569  │ 33.291   │ 20    │\n",
       "│ 203452 │ 19.572  │ 33.304   │ 40    │\n",
       "│ 203453 │ 19.12   │ 33.463   │ 50    │\n",
       "│ 203454 │ 16.877  │ 33.358   │ 75    │\n",
       "│ 203455 │ 14.747  │ 33.489   │ 112   │\n",
       "│ 203456 │ 9.288   │ 33.631   │ 200   │\n",
       "│ 203457 │ 7.538   │ 34.042   │ 321   │)"
      ]
     },
     "execution_count": 3,
     "metadata": {},
     "output_type": "execute_result"
    }
   ],
   "source": [
    "using Lathe.preprocess: TrainTestSplit\n",
    "train,test = TrainTestSplit(df)"
   ]
  },
  {
   "cell_type": "code",
   "execution_count": 4,
   "metadata": {},
   "outputs": [
    {
     "data": {
      "text/plain": [
       "610790-element Array{Float64,1}:\n",
       " 10.5  \n",
       " 10.46 \n",
       " 10.46 \n",
       " 10.45 \n",
       " 10.45 \n",
       " 10.45 \n",
       " 10.24 \n",
       "  9.86 \n",
       "  9.67 \n",
       "  9.5  \n",
       "  9.32 \n",
       "  8.53 \n",
       "  8.26 \n",
       "  ⋮    \n",
       "  8.325\n",
       "  7.831\n",
       "  6.943\n",
       "  6.694\n",
       "  6.312\n",
       "  5.993\n",
       "  5.818\n",
       " 18.744\n",
       " 18.744\n",
       " 18.692\n",
       " 18.161\n",
       " 17.533"
      ]
     },
     "execution_count": 4,
     "metadata": {},
     "output_type": "execute_result"
    }
   ],
   "source": [
    "trainX = train.Salinity\n",
    "trainy = train.TempC\n",
    "testX = test.Salinity\n",
    "testy = train.TempC"
   ]
  },
  {
   "cell_type": "code",
   "execution_count": 7,
   "metadata": {},
   "outputs": [],
   "source": [
    "using Lathe.preprocess: StandardScalar\n",
    "using Lathe.models: LinearRegression\n",
    "using Lathe: pipelines"
   ]
  },
  {
   "cell_type": "code",
   "execution_count": 11,
   "metadata": {},
   "outputs": [
    {
     "data": {
      "text/plain": [
       "Lathe.pipelines.Pipeline(LinearRegression([33.44, 33.44, 33.437, 33.421, 33.431, 33.44, 33.424, 33.494, 33.58, 33.64  …  34.11, 34.11, 34.156, 34.216, 34.238, 33.408, 33.408, 33.415, 33.406, 33.388], [10.5, 10.46, 10.46, 10.45, 10.45, 10.45, 10.24, 9.86, 9.67, 9.5  …  6.943, 6.694, 6.312, 5.993, 5.818, 18.744, 18.744, 18.692, 18.161, 17.533]), Lathe.preprocess.StandardScalar, :CON)"
      ]
     },
     "execution_count": 11,
     "metadata": {},
     "output_type": "execute_result"
    }
   ],
   "source": [
    "pipl = pipelines.Pipeline(LinearRegression(trainX,trainy),StandardScalar,:CON)"
   ]
  },
  {
   "cell_type": "code",
   "execution_count": 12,
   "metadata": {},
   "outputs": [
    {
     "name": "stdout",
     "output_type": "stream",
     "text": [
      "  2.421695 seconds (14.95 M allocations: 434.814 MiB, 36.39% gc time)\n"
     ]
    },
    {
     "data": {
      "text/plain": [
       "203457-element Array{Float64,1}:\n",
       " 33.42 \n",
       " 33.42 \n",
       " 33.51 \n",
       " 33.847\n",
       " 33.86 \n",
       " 33.98 \n",
       " 33.99 \n",
       " 34.16 \n",
       " 33.013\n",
       " 33.488\n",
       " 33.6  \n",
       " 33.833\n",
       " 33.939\n",
       "  ⋮    \n",
       " 33.338\n",
       " 34.126\n",
       " 34.153\n",
       " 34.218\n",
       " 33.288\n",
       " 33.291\n",
       " 33.304\n",
       " 33.463\n",
       " 33.358\n",
       " 33.489\n",
       " 33.631\n",
       " 34.042"
      ]
     },
     "execution_count": 12,
     "metadata": {},
     "output_type": "execute_result"
    }
   ],
   "source": [
    "@time pipelines.pipe_predict(pipl,testX)"
   ]
  },
  {
   "cell_type": "code",
   "execution_count": 13,
   "metadata": {},
   "outputs": [
    {
     "ename": "UndefVarError",
     "evalue": "UndefVarError: LinearRegression not defined",
     "output_type": "error",
     "traceback": [
      "UndefVarError: LinearRegression not defined",
      "",
      "Stacktrace:",
      " [1] save(::Lathe.pipelines.Pipeline, ::String) at /home/emmett/.julia/packages/Lathe/Akwun/src/Lathe.jl:1004",
      " [2] top-level scope at In[13]:1"
     ]
    }
   ],
   "source": []
  },
  {
   "cell_type": "code",
   "execution_count": null,
   "metadata": {},
   "outputs": [],
   "source": []
  }
 ],
 "metadata": {
  "kernelspec": {
   "display_name": "Julia 1.0.4",
   "language": "julia",
   "name": "julia-1.0"
  },
  "language_info": {
   "file_extension": ".jl",
   "mimetype": "application/julia",
   "name": "julia",
   "version": "1.0.4"
  }
 },
 "nbformat": 4,
 "nbformat_minor": 2
}
