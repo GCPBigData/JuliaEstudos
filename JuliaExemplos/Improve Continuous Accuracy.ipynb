{
 "cells": [
  {
   "cell_type": "code",
   "execution_count": 1,
   "metadata": {},
   "outputs": [
    {
     "name": "stderr",
     "output_type": "stream",
     "text": [
      "┌ Info: Recompiling stale cache file /home/emmett/.julia/compiled/v1.0/Lathe/6rMNJ.ji for Lathe [38d8eb38-e7b1-11e9-0012-376b6c802672]\n",
      "└ @ Base loading.jl:1190\n"
     ]
    }
   ],
   "source": [
    "using Lathe.stats: mean"
   ]
  },
  {
   "cell_type": "code",
   "execution_count": 2,
   "metadata": {},
   "outputs": [
    {
     "data": {
      "text/plain": [
       "5-element Array{Int64,1}:\n",
       " 5\n",
       " 4\n",
       " 5\n",
       " 6\n",
       " 4"
      ]
     },
     "execution_count": 2,
     "metadata": {},
     "output_type": "execute_result"
    }
   ],
   "source": [
    "y = [6,7,6,4,3]\n",
    "ŷ = [5,4,5,6,4]"
   ]
  },
  {
   "cell_type": "code",
   "execution_count": 3,
   "metadata": {},
   "outputs": [
    {
     "data": {
      "text/plain": [
       "mae (generic function with 1 method)"
      ]
     },
     "execution_count": 3,
     "metadata": {},
     "output_type": "execute_result"
    }
   ],
   "source": [
    "function mae(y,ŷ)\n",
    "    diff = y .- ŷ\n",
    "    Σdiff = sum(diff)\n",
    "    return(Σdiff)\n",
    "end"
   ]
  },
  {
   "cell_type": "code",
   "execution_count": 4,
   "metadata": {},
   "outputs": [
    {
     "name": "stdout",
     "output_type": "stream",
     "text": [
      "2\n"
     ]
    }
   ],
   "source": [
    "println(mae(y,ŷ))"
   ]
  },
  {
   "cell_type": "code",
   "execution_count": 5,
   "metadata": {},
   "outputs": [
    {
     "data": {
      "text/plain": [
       "mse (generic function with 1 method)"
      ]
     },
     "execution_count": 5,
     "metadata": {},
     "output_type": "execute_result"
    }
   ],
   "source": [
    "function mse(y,ŷ)\n",
    "    diff = y .- ŷ\n",
    "    diff = diff .^ 2\n",
    "    Σdiff = sum(diff)\n",
    "    return(Σdiff)\n",
    "end"
   ]
  },
  {
   "cell_type": "code",
   "execution_count": 6,
   "metadata": {},
   "outputs": [
    {
     "name": "stdout",
     "output_type": "stream",
     "text": [
      "16\n"
     ]
    }
   ],
   "source": [
    "println(mse(y,ŷ))"
   ]
  },
  {
   "cell_type": "code",
   "execution_count": 7,
   "metadata": {},
   "outputs": [
    {
     "data": {
      "text/plain": [
       "correlationcoeff (generic function with 1 method)"
      ]
     },
     "execution_count": 7,
     "metadata": {},
     "output_type": "execute_result"
    }
   ],
   "source": [
    "function correlationcoeff(x,y)\n",
    "    n = length(x)\n",
    "    yl = length(y)\n",
    "    if n != yl\n",
    "        throw(ArgumentError(\"The array shape does not match!\"))\n",
    "    end\n",
    "    xy = x .* y\n",
    "    sx = sum(x)\n",
    "    sy = sum(y)\n",
    "    sxy = sum(xy)\n",
    "    x2 = x .^ 2\n",
    "    y2 = y .^ 2\n",
    "    sx2 = sum(x2)\n",
    "    sy2 = sum(y2)\n",
    "    r = ((n*sxy) - (sx * sy)) / (sqrt((((n*sx2)-(sx^2)) * ((n*sy2)-(sy^2)))))\n",
    "    return(r)\n",
    "end"
   ]
  },
  {
   "cell_type": "code",
   "execution_count": 8,
   "metadata": {},
   "outputs": [
    {
     "data": {
      "text/plain": [
       "r2 (generic function with 1 method)"
      ]
     },
     "execution_count": 8,
     "metadata": {},
     "output_type": "execute_result"
    }
   ],
   "source": [
    "function r2(y,ŷ)\n",
    "   r = correlationcoeff(y,ŷ)\n",
    "    r2 = r ^ 2\n",
    "    return(r2)\n",
    "end"
   ]
  },
  {
   "cell_type": "code",
   "execution_count": 9,
   "metadata": {},
   "outputs": [],
   "source": [
    "using Lathe.models: meanBaseline"
   ]
  },
  {
   "cell_type": "code",
   "execution_count": 10,
   "metadata": {},
   "outputs": [
    {
     "name": "stdout",
     "output_type": "stream",
     "text": [
      "search:\n",
      "\n"
     ]
    },
    {
     "data": {
      "text/latex": [
       "A mean baseline is great for getting a basic accuracy score in order     to make a valid direction for your model.\n",
       "\n",
       "\\rule{\\textwidth}{1pt}\n",
       "x = [7,6,5,6,5]\n",
       "\n",
       "y  = [3.4.5.6.3]\n",
       "\n",
       "xtrain = [7,5,4,5,3,5,7,8]\n",
       "\n",
       "model = Lathe.models.meanBaseline(y) y\\_pred = Lathe.models.predict(model,xtrain)\n",
       "\n",
       "\\begin{verbatim}\n",
       "\n",
       "\\end{verbatim}\n"
      ],
      "text/markdown": [
       "A mean baseline is great for getting a basic accuracy score in order     to make a valid direction for your model.\n",
       "\n",
       "---\n",
       "\n",
       "x = [7,6,5,6,5]\n",
       "\n",
       "y  = [3.4.5.6.3]\n",
       "\n",
       "xtrain = [7,5,4,5,3,5,7,8]\n",
       "\n",
       "model = Lathe.models.meanBaseline(y) y_pred = Lathe.models.predict(model,xtrain)\n",
       "\n",
       "```\n",
       "\n",
       "```\n"
      ],
      "text/plain": [
       "  A mean baseline is great for getting a basic accuracy score in order to make\n",
       "  a valid direction for your model.\n",
       "\n",
       "  ────────────────────────────────────────────────────────────────────────────\n",
       "\n",
       "  x = [7,6,5,6,5]\n",
       "\n",
       "  y = [3.4.5.6.3]\n",
       "\n",
       "  xtrain = [7,5,4,5,3,5,7,8]\n",
       "\n",
       "  model = Lathe.models.meanBaseline(y) y_pred =\n",
       "  Lathe.models.predict(model,xtrain)\n",
       "\n",
       "\u001b[36m  \u001b[39m"
      ]
     },
     "execution_count": 10,
     "metadata": {},
     "output_type": "execute_result"
    }
   ],
   "source": [
    "?(meanBaseline)"
   ]
  },
  {
   "cell_type": "code",
   "execution_count": 11,
   "metadata": {},
   "outputs": [
    {
     "data": {
      "text/plain": [
       "13-element Array{Int64,1}:\n",
       " 6\n",
       " 4\n",
       " 5\n",
       " 8\n",
       " 6\n",
       " 5\n",
       " 5\n",
       " 7\n",
       " 8\n",
       " 3\n",
       " 5\n",
       " 7\n",
       " 8"
      ]
     },
     "execution_count": 11,
     "metadata": {},
     "output_type": "execute_result"
    }
   ],
   "source": [
    "x = [7,6,7,5,6,7,8,8,4]\n",
    "y = [3,5,6,4,6,8,9,0,6]\n",
    "xtest = [6,4,5,8,6,5,5,7,8,3,5,7,8]"
   ]
  },
  {
   "cell_type": "code",
   "execution_count": 12,
   "metadata": {},
   "outputs": [
    {
     "data": {
      "text/plain": [
       "meanBaseline([3, 5, 6, 4, 6, 8, 9, 0, 6])"
      ]
     },
     "execution_count": 12,
     "metadata": {},
     "output_type": "execute_result"
    }
   ],
   "source": [
    "model = meanBaseline(y)"
   ]
  },
  {
   "cell_type": "code",
   "execution_count": 13,
   "metadata": {},
   "outputs": [],
   "source": [
    "import Lathe.models: predict"
   ]
  },
  {
   "cell_type": "code",
   "execution_count": 14,
   "metadata": {},
   "outputs": [
    {
     "name": "stdout",
     "output_type": "stream",
     "text": [
      "-Lathe.models Mean Baseline-mean: 5.222222222222222"
     ]
    },
    {
     "data": {
      "text/plain": [
       "13-element Array{Any,1}:\n",
       " 5.222222222222222\n",
       " 5.222222222222222\n",
       " 5.222222222222222\n",
       " 5.222222222222222\n",
       " 5.222222222222222\n",
       " 5.222222222222222\n",
       " 5.222222222222222\n",
       " 5.222222222222222\n",
       " 5.222222222222222\n",
       " 5.222222222222222\n",
       " 5.222222222222222\n",
       " 5.222222222222222\n",
       " 5.222222222222222"
      ]
     },
     "execution_count": 14,
     "metadata": {},
     "output_type": "execute_result"
    }
   ],
   "source": [
    "ŷ = predict(model,xtest)"
   ]
  },
  {
   "cell_type": "code",
   "execution_count": 15,
   "metadata": {},
   "outputs": [
    {
     "data": {
      "text/plain": [
       "13-element Array{Int64,1}:\n",
       " 8\n",
       " 7\n",
       " 5\n",
       " 6\n",
       " 7\n",
       " 4\n",
       " 5\n",
       " 6\n",
       " 7\n",
       " 4\n",
       " 5\n",
       " 6\n",
       " 5"
      ]
     },
     "execution_count": 15,
     "metadata": {},
     "output_type": "execute_result"
    }
   ],
   "source": [
    "ytest = [8,7,5,6,7,4,5,6,7,4,5,6,5]"
   ]
  },
  {
   "cell_type": "code",
   "execution_count": 16,
   "metadata": {},
   "outputs": [
    {
     "data": {
      "text/plain": [
       "7.11111111111111"
      ]
     },
     "execution_count": 16,
     "metadata": {},
     "output_type": "execute_result"
    }
   ],
   "source": [
    "mae(ytest,ŷ)"
   ]
  },
  {
   "cell_type": "code",
   "execution_count": 17,
   "metadata": {},
   "outputs": [],
   "source": [
    "using CSV\n",
    "using DataFrames"
   ]
  },
  {
   "cell_type": "code",
   "execution_count": 18,
   "metadata": {},
   "outputs": [
    {
     "data": {
      "text/html": [
       "<table class=\"data-frame\"><thead><tr><th></th><th>id</th><th>name</th><th>host_id</th><th>host_name</th></tr><tr><th></th><th>Int64</th><th>String⍰</th><th>Int64</th><th>String⍰</th></tr></thead><tbody><p>48,895 rows × 16 columns (omitted printing of 12 columns)</p><tr><th>1</th><td>2539</td><td>Clean &amp; quiet apt home by the park</td><td>2787</td><td>John</td></tr><tr><th>2</th><td>2595</td><td>Skylit Midtown Castle</td><td>2845</td><td>Jennifer</td></tr><tr><th>3</th><td>3647</td><td>THE VILLAGE OF HARLEM....NEW YORK !</td><td>4632</td><td>Elisabeth</td></tr><tr><th>4</th><td>3831</td><td>Cozy Entire Floor of Brownstone</td><td>4869</td><td>LisaRoxanne</td></tr><tr><th>5</th><td>5022</td><td>Entire Apt: Spacious Studio/Loft by central park</td><td>7192</td><td>Laura</td></tr><tr><th>6</th><td>5099</td><td>Large Cozy 1 BR Apartment In Midtown East</td><td>7322</td><td>Chris</td></tr><tr><th>7</th><td>5121</td><td>BlissArtsSpace!</td><td>7356</td><td>Garon</td></tr><tr><th>8</th><td>5178</td><td>Large Furnished Room Near B'way </td><td>8967</td><td>Shunichi</td></tr><tr><th>9</th><td>5203</td><td>Cozy Clean Guest Room - Family Apt</td><td>7490</td><td>MaryEllen</td></tr><tr><th>10</th><td>5238</td><td>Cute &amp; Cozy Lower East Side 1 bdrm</td><td>7549</td><td>Ben</td></tr><tr><th>11</th><td>5295</td><td>Beautiful 1br on Upper West Side</td><td>7702</td><td>Lena</td></tr><tr><th>12</th><td>5441</td><td>Central Manhattan/near Broadway</td><td>7989</td><td>Kate</td></tr><tr><th>13</th><td>5803</td><td>Lovely Room 1, Garden, Best Area, Legal rental</td><td>9744</td><td>Laurie</td></tr><tr><th>14</th><td>6021</td><td>Wonderful Guest Bedroom in Manhattan for SINGLES</td><td>11528</td><td>Claudio</td></tr><tr><th>15</th><td>6090</td><td>West Village Nest - Superhost</td><td>11975</td><td>Alina</td></tr><tr><th>16</th><td>6848</td><td>Only 2 stops to Manhattan studio</td><td>15991</td><td>Allen &amp; Irina</td></tr><tr><th>17</th><td>7097</td><td>Perfect for Your Parents + Garden</td><td>17571</td><td>Jane</td></tr><tr><th>18</th><td>7322</td><td>Chelsea Perfect</td><td>18946</td><td>Doti</td></tr><tr><th>19</th><td>7726</td><td>Hip Historic Brownstone Apartment with Backyard</td><td>20950</td><td>Adam And Charity</td></tr><tr><th>20</th><td>7750</td><td>Huge 2 BR Upper East  Cental Park</td><td>17985</td><td>Sing</td></tr><tr><th>21</th><td>7801</td><td>Sweet and Spacious Brooklyn Loft</td><td>21207</td><td>Chaya</td></tr><tr><th>22</th><td>8024</td><td>CBG CtyBGd HelpsHaiti rm#1:1-4</td><td>22486</td><td>Lisel</td></tr><tr><th>23</th><td>8025</td><td>CBG Helps Haiti Room#2.5</td><td>22486</td><td>Lisel</td></tr><tr><th>24</th><td>8110</td><td>CBG Helps Haiti Rm #2</td><td>22486</td><td>Lisel</td></tr><tr><th>25</th><td>8490</td><td>MAISON DES SIRENES1,bohemian apartment</td><td>25183</td><td>Nathalie</td></tr><tr><th>26</th><td>8505</td><td>Sunny Bedroom Across Prospect Park</td><td>25326</td><td>Gregory</td></tr><tr><th>27</th><td>8700</td><td>Magnifique Suite au N de Manhattan - vue Cloitres</td><td>26394</td><td>Claude &amp; Sophie</td></tr><tr><th>28</th><td>9357</td><td>Midtown Pied-a-terre</td><td>30193</td><td>Tommi</td></tr><tr><th>29</th><td>9518</td><td>SPACIOUS, LOVELY FURNISHED MANHATTAN BEDROOM</td><td>31374</td><td>Shon</td></tr><tr><th>30</th><td>9657</td><td>Modern 1 BR / NYC / EAST VILLAGE</td><td>21904</td><td>Dana</td></tr><tr><th>&vellip;</th><td>&vellip;</td><td>&vellip;</td><td>&vellip;</td><td>&vellip;</td></tr></tbody></table>"
      ],
      "text/latex": [
       "\\begin{tabular}{r|ccccc}\n",
       "\t& id & name & host\\_id & host\\_name & \\\\\n",
       "\t\\hline\n",
       "\t& Int64 & String⍰ & Int64 & String⍰ & \\\\\n",
       "\t\\hline\n",
       "\t1 & 2539 & Clean \\& quiet apt home by the park & 2787 & John & $\\dots$ \\\\\n",
       "\t2 & 2595 & Skylit Midtown Castle & 2845 & Jennifer & $\\dots$ \\\\\n",
       "\t3 & 3647 & THE VILLAGE OF HARLEM....NEW YORK ! & 4632 & Elisabeth & $\\dots$ \\\\\n",
       "\t4 & 3831 & Cozy Entire Floor of Brownstone & 4869 & LisaRoxanne & $\\dots$ \\\\\n",
       "\t5 & 5022 & Entire Apt: Spacious Studio/Loft by central park & 7192 & Laura & $\\dots$ \\\\\n",
       "\t6 & 5099 & Large Cozy 1 BR Apartment In Midtown East & 7322 & Chris & $\\dots$ \\\\\n",
       "\t7 & 5121 & BlissArtsSpace! & 7356 & Garon & $\\dots$ \\\\\n",
       "\t8 & 5178 & Large Furnished Room Near B'way  & 8967 & Shunichi & $\\dots$ \\\\\n",
       "\t9 & 5203 & Cozy Clean Guest Room - Family Apt & 7490 & MaryEllen & $\\dots$ \\\\\n",
       "\t10 & 5238 & Cute \\& Cozy Lower East Side 1 bdrm & 7549 & Ben & $\\dots$ \\\\\n",
       "\t11 & 5295 & Beautiful 1br on Upper West Side & 7702 & Lena & $\\dots$ \\\\\n",
       "\t12 & 5441 & Central Manhattan/near Broadway & 7989 & Kate & $\\dots$ \\\\\n",
       "\t13 & 5803 & Lovely Room 1, Garden, Best Area, Legal rental & 9744 & Laurie & $\\dots$ \\\\\n",
       "\t14 & 6021 & Wonderful Guest Bedroom in Manhattan for SINGLES & 11528 & Claudio & $\\dots$ \\\\\n",
       "\t15 & 6090 & West Village Nest - Superhost & 11975 & Alina & $\\dots$ \\\\\n",
       "\t16 & 6848 & Only 2 stops to Manhattan studio & 15991 & Allen \\& Irina & $\\dots$ \\\\\n",
       "\t17 & 7097 & Perfect for Your Parents + Garden & 17571 & Jane & $\\dots$ \\\\\n",
       "\t18 & 7322 & Chelsea Perfect & 18946 & Doti & $\\dots$ \\\\\n",
       "\t19 & 7726 & Hip Historic Brownstone Apartment with Backyard & 20950 & Adam And Charity & $\\dots$ \\\\\n",
       "\t20 & 7750 & Huge 2 BR Upper East  Cental Park & 17985 & Sing & $\\dots$ \\\\\n",
       "\t21 & 7801 & Sweet and Spacious Brooklyn Loft & 21207 & Chaya & $\\dots$ \\\\\n",
       "\t22 & 8024 & CBG CtyBGd HelpsHaiti rm\\#1:1-4 & 22486 & Lisel & $\\dots$ \\\\\n",
       "\t23 & 8025 & CBG Helps Haiti Room\\#2.5 & 22486 & Lisel & $\\dots$ \\\\\n",
       "\t24 & 8110 & CBG Helps Haiti Rm \\#2 & 22486 & Lisel & $\\dots$ \\\\\n",
       "\t25 & 8490 & MAISON DES SIRENES1,bohemian apartment & 25183 & Nathalie & $\\dots$ \\\\\n",
       "\t26 & 8505 & Sunny Bedroom Across Prospect Park & 25326 & Gregory & $\\dots$ \\\\\n",
       "\t27 & 8700 & Magnifique Suite au N de Manhattan - vue Cloitres & 26394 & Claude \\& Sophie & $\\dots$ \\\\\n",
       "\t28 & 9357 & Midtown Pied-a-terre & 30193 & Tommi & $\\dots$ \\\\\n",
       "\t29 & 9518 & SPACIOUS, LOVELY FURNISHED MANHATTAN BEDROOM & 31374 & Shon & $\\dots$ \\\\\n",
       "\t30 & 9657 & Modern 1 BR / NYC / EAST VILLAGE & 21904 & Dana & $\\dots$ \\\\\n",
       "\t$\\dots$ & $\\dots$ & $\\dots$ & $\\dots$ & $\\dots$ &  \\\\\n",
       "\\end{tabular}\n"
      ],
      "text/plain": [
       "48895×16 DataFrame. Omitted printing of 14 columns\n",
       "│ Row   │ id       │ name                                               │\n",
       "│       │ \u001b[90mInt64\u001b[39m    │ \u001b[90mUnion{Missing, String}\u001b[39m                             │\n",
       "├───────┼──────────┼────────────────────────────────────────────────────┤\n",
       "│ 1     │ 2539     │ Clean & quiet apt home by the park                 │\n",
       "│ 2     │ 2595     │ Skylit Midtown Castle                              │\n",
       "│ 3     │ 3647     │ THE VILLAGE OF HARLEM....NEW YORK !                │\n",
       "│ 4     │ 3831     │ Cozy Entire Floor of Brownstone                    │\n",
       "│ 5     │ 5022     │ Entire Apt: Spacious Studio/Loft by central park   │\n",
       "│ 6     │ 5099     │ Large Cozy 1 BR Apartment In Midtown East          │\n",
       "│ 7     │ 5121     │ BlissArtsSpace!                                    │\n",
       "│ 8     │ 5178     │ Large Furnished Room Near B'way                    │\n",
       "│ 9     │ 5203     │ Cozy Clean Guest Room - Family Apt                 │\n",
       "│ 10    │ 5238     │ Cute & Cozy Lower East Side 1 bdrm                 │\n",
       "⋮\n",
       "│ 48885 │ 36482783 │ Brooklyn Oasis in the heart of Williamsburg        │\n",
       "│ 48886 │ 36482809 │ Stunning Bedroom NYC! Walking to Central Park!!    │\n",
       "│ 48887 │ 36483010 │ Comfy 1 Bedroom in Midtown East                    │\n",
       "│ 48888 │ 36483152 │ Garden Jewel Apartment in Williamsburg New York    │\n",
       "│ 48889 │ 36484087 │ Spacious Room w/ Private Rooftop, Central location │\n",
       "│ 48890 │ 36484363 │ QUIT PRIVATE HOUSE                                 │\n",
       "│ 48891 │ 36484665 │ Charming one bedroom - newly renovated rowhouse    │\n",
       "│ 48892 │ 36485057 │ Affordable room in Bushwick/East Williamsburg      │\n",
       "│ 48893 │ 36485431 │ Sunny Studio at Historical Neighborhood            │\n",
       "│ 48894 │ 36485609 │ 43rd St. Time Square-cozy single bed               │\n",
       "│ 48895 │ 36487245 │ Trendy duplex in the very heart of Hell's Kitchen  │"
      ]
     },
     "execution_count": 18,
     "metadata": {},
     "output_type": "execute_result"
    }
   ],
   "source": [
    "df = CSV.read(\"Data/AB_NYC_2019.csv\")"
   ]
  },
  {
   "cell_type": "code",
   "execution_count": 19,
   "metadata": {},
   "outputs": [
    {
     "name": "stdout",
     "output_type": "stream",
     "text": [
      "48895×16 DataFrame\n",
      "│ Row   │ id       │ name                                               │\n",
      "│       │ \u001b[90mInt64\u001b[39m    │ \u001b[90mUnion{Missing, String}\u001b[39m                             │\n",
      "├───────┼──────────┼────────────────────────────────────────────────────┤\n",
      "│ 1     │ 2539     │ Clean & quiet apt home by the park                 │\n",
      "│ 2     │ 2595     │ Skylit Midtown Castle                              │\n",
      "│ 3     │ 3647     │ THE VILLAGE OF HARLEM....NEW YORK !                │\n",
      "│ 4     │ 3831     │ Cozy Entire Floor of Brownstone                    │\n",
      "│ 5     │ 5022     │ Entire Apt: Spacious Studio/Loft by central park   │\n",
      "│ 6     │ 5099     │ Large Cozy 1 BR Apartment In Midtown East          │\n",
      "│ 7     │ 5121     │ BlissArtsSpace!                                    │\n",
      "│ 8     │ 5178     │ Large Furnished Room Near B'way                    │\n",
      "│ 9     │ 5203     │ Cozy Clean Guest Room - Family Apt                 │\n",
      "│ 10    │ 5238     │ Cute & Cozy Lower East Side 1 bdrm                 │\n",
      "⋮\n",
      "│ 48885 │ 36482783 │ Brooklyn Oasis in the heart of Williamsburg        │\n",
      "│ 48886 │ 36482809 │ Stunning Bedroom NYC! Walking to Central Park!!    │\n",
      "│ 48887 │ 36483010 │ Comfy 1 Bedroom in Midtown East                    │\n",
      "│ 48888 │ 36483152 │ Garden Jewel Apartment in Williamsburg New York    │\n",
      "│ 48889 │ 36484087 │ Spacious Room w/ Private Rooftop, Central location │\n",
      "│ 48890 │ 36484363 │ QUIT PRIVATE HOUSE                                 │\n",
      "│ 48891 │ 36484665 │ Charming one bedroom - newly renovated rowhouse    │\n",
      "│ 48892 │ 36485057 │ Affordable room in Bushwick/East Williamsburg      │\n",
      "│ 48893 │ 36485431 │ Sunny Studio at Historical Neighborhood            │\n",
      "│ 48894 │ 36485609 │ 43rd St. Time Square-cozy single bed               │\n",
      "│ 48895 │ 36487245 │ Trendy duplex in the very heart of Hell's Kitchen  │\n",
      "\n",
      "│ Row   │ host_id   │ host_name     │ neighbourhood_group │ neighbourhood      │\n",
      "│       │ \u001b[90mInt64\u001b[39m     │ \u001b[90mString⍰\u001b[39m       │ \u001b[90mString\u001b[39m              │ \u001b[90mString\u001b[39m             │\n",
      "├───────┼───────────┼───────────────┼─────────────────────┼────────────────────┤\n",
      "│ 1     │ 2787      │ John          │ Brooklyn            │ Kensington         │\n",
      "│ 2     │ 2845      │ Jennifer      │ Manhattan           │ Midtown            │\n",
      "│ 3     │ 4632      │ Elisabeth     │ Manhattan           │ Harlem             │\n",
      "│ 4     │ 4869      │ LisaRoxanne   │ Brooklyn            │ Clinton Hill       │\n",
      "│ 5     │ 7192      │ Laura         │ Manhattan           │ East Harlem        │\n",
      "│ 6     │ 7322      │ Chris         │ Manhattan           │ Murray Hill        │\n",
      "│ 7     │ 7356      │ Garon         │ Brooklyn            │ Bedford-Stuyvesant │\n",
      "│ 8     │ 8967      │ Shunichi      │ Manhattan           │ Hell's Kitchen     │\n",
      "│ 9     │ 7490      │ MaryEllen     │ Manhattan           │ Upper West Side    │\n",
      "│ 10    │ 7549      │ Ben           │ Manhattan           │ Chinatown          │\n",
      "⋮\n",
      "│ 48885 │ 274307600 │ Jonathan      │ Brooklyn            │ Williamsburg       │\n",
      "│ 48886 │ 131529729 │ Kendall       │ Manhattan           │ East Harlem        │\n",
      "│ 48887 │ 274311461 │ Scott         │ Manhattan           │ Midtown            │\n",
      "│ 48888 │ 208514239 │ Melki         │ Brooklyn            │ Williamsburg       │\n",
      "│ 48889 │ 274321313 │ Kat           │ Manhattan           │ Hell's Kitchen     │\n",
      "│ 48890 │ 107716952 │ Michael       │ Queens              │ Jamaica            │\n",
      "│ 48891 │ 8232441   │ Sabrina       │ Brooklyn            │ Bedford-Stuyvesant │\n",
      "│ 48892 │ 6570630   │ Marisol       │ Brooklyn            │ Bushwick           │\n",
      "│ 48893 │ 23492952  │ Ilgar & Aysel │ Manhattan           │ Harlem             │\n",
      "│ 48894 │ 30985759  │ Taz           │ Manhattan           │ Hell's Kitchen     │\n",
      "│ 48895 │ 68119814  │ Christophe    │ Manhattan           │ Hell's Kitchen     │\n",
      "\n",
      "│ Row   │ latitude │ longitude │ room_type       │ price │ minimum_nights │\n",
      "│       │ \u001b[90mFloat64\u001b[39m  │ \u001b[90mFloat64\u001b[39m   │ \u001b[90mString\u001b[39m          │ \u001b[90mInt64\u001b[39m │ \u001b[90mInt64\u001b[39m          │\n",
      "├───────┼──────────┼───────────┼─────────────────┼───────┼────────────────┤\n",
      "│ 1     │ 40.6475  │ -73.9724  │ Private room    │ 149   │ 1              │\n",
      "│ 2     │ 40.7536  │ -73.9838  │ Entire home/apt │ 225   │ 1              │\n",
      "│ 3     │ 40.809   │ -73.9419  │ Private room    │ 150   │ 3              │\n",
      "│ 4     │ 40.6851  │ -73.9598  │ Entire home/apt │ 89    │ 1              │\n",
      "│ 5     │ 40.7985  │ -73.944   │ Entire home/apt │ 80    │ 10             │\n",
      "│ 6     │ 40.7477  │ -73.975   │ Entire home/apt │ 200   │ 3              │\n",
      "│ 7     │ 40.6869  │ -73.956   │ Private room    │ 60    │ 45             │\n",
      "│ 8     │ 40.7649  │ -73.9849  │ Private room    │ 79    │ 2              │\n",
      "│ 9     │ 40.8018  │ -73.9672  │ Private room    │ 79    │ 2              │\n",
      "│ 10    │ 40.7134  │ -73.9904  │ Entire home/apt │ 150   │ 1              │\n",
      "⋮\n",
      "│ 48885 │ 40.7179  │ -73.9624  │ Private room    │ 190   │ 7              │\n",
      "│ 48886 │ 40.7963  │ -73.936   │ Private room    │ 75    │ 2              │\n",
      "│ 48887 │ 40.7556  │ -73.9672  │ Entire home/apt │ 200   │ 6              │\n",
      "│ 48888 │ 40.7123  │ -73.9422  │ Entire home/apt │ 170   │ 1              │\n",
      "│ 48889 │ 40.7639  │ -73.9918  │ Private room    │ 125   │ 4              │\n",
      "│ 48890 │ 40.6914  │ -73.8084  │ Private room    │ 65    │ 1              │\n",
      "│ 48891 │ 40.6785  │ -73.95    │ Private room    │ 70    │ 2              │\n",
      "│ 48892 │ 40.7018  │ -73.9332  │ Private room    │ 40    │ 4              │\n",
      "│ 48893 │ 40.8147  │ -73.9487  │ Entire home/apt │ 115   │ 10             │\n",
      "│ 48894 │ 40.7575  │ -73.9911  │ Shared room     │ 55    │ 1              │\n",
      "│ 48895 │ 40.764   │ -73.9893  │ Private room    │ 90    │ 7              │\n",
      "\n",
      "│ Row   │ number_of_reviews │ last_review │ reviews_per_month │\n",
      "│       │ \u001b[90mInt64\u001b[39m             │ \u001b[90mDates…⍰\u001b[39m     │ \u001b[90mFloat64⍰\u001b[39m          │\n",
      "├───────┼───────────────────┼─────────────┼───────────────────┤\n",
      "│ 1     │ 9                 │ 2018-10-19  │ 0.21              │\n",
      "│ 2     │ 45                │ 2019-05-21  │ 0.38              │\n",
      "│ 3     │ 0                 │ \u001b[90mmissing\u001b[39m     │ \u001b[90mmissing\u001b[39m           │\n",
      "│ 4     │ 270               │ 2019-07-05  │ 4.64              │\n",
      "│ 5     │ 9                 │ 2018-11-19  │ 0.1               │\n",
      "│ 6     │ 74                │ 2019-06-22  │ 0.59              │\n",
      "│ 7     │ 49                │ 2017-10-05  │ 0.4               │\n",
      "│ 8     │ 430               │ 2019-06-24  │ 3.47              │\n",
      "│ 9     │ 118               │ 2017-07-21  │ 0.99              │\n",
      "│ 10    │ 160               │ 2019-06-09  │ 1.33              │\n",
      "⋮\n",
      "│ 48885 │ 0                 │ \u001b[90mmissing\u001b[39m     │ \u001b[90mmissing\u001b[39m           │\n",
      "│ 48886 │ 0                 │ \u001b[90mmissing\u001b[39m     │ \u001b[90mmissing\u001b[39m           │\n",
      "│ 48887 │ 0                 │ \u001b[90mmissing\u001b[39m     │ \u001b[90mmissing\u001b[39m           │\n",
      "│ 48888 │ 0                 │ \u001b[90mmissing\u001b[39m     │ \u001b[90mmissing\u001b[39m           │\n",
      "│ 48889 │ 0                 │ \u001b[90mmissing\u001b[39m     │ \u001b[90mmissing\u001b[39m           │\n",
      "│ 48890 │ 0                 │ \u001b[90mmissing\u001b[39m     │ \u001b[90mmissing\u001b[39m           │\n",
      "│ 48891 │ 0                 │ \u001b[90mmissing\u001b[39m     │ \u001b[90mmissing\u001b[39m           │\n",
      "│ 48892 │ 0                 │ \u001b[90mmissing\u001b[39m     │ \u001b[90mmissing\u001b[39m           │\n",
      "│ 48893 │ 0                 │ \u001b[90mmissing\u001b[39m     │ \u001b[90mmissing\u001b[39m           │\n",
      "│ 48894 │ 0                 │ \u001b[90mmissing\u001b[39m     │ \u001b[90mmissing\u001b[39m           │\n",
      "│ 48895 │ 0                 │ \u001b[90mmissing\u001b[39m     │ \u001b[90mmissing\u001b[39m           │\n",
      "\n",
      "│ Row   │ calculated_host_listings_count │ availability_365 │\n",
      "│       │ \u001b[90mInt64\u001b[39m                          │ \u001b[90mInt64\u001b[39m            │\n",
      "├───────┼────────────────────────────────┼──────────────────┤\n",
      "│ 1     │ 6                              │ 365              │\n",
      "│ 2     │ 2                              │ 355              │\n",
      "│ 3     │ 1                              │ 365              │\n",
      "│ 4     │ 1                              │ 194              │\n",
      "│ 5     │ 1                              │ 0                │\n",
      "│ 6     │ 1                              │ 129              │\n",
      "│ 7     │ 1                              │ 0                │\n",
      "│ 8     │ 1                              │ 220              │\n",
      "│ 9     │ 1                              │ 0                │\n",
      "│ 10    │ 4                              │ 188              │\n",
      "⋮\n",
      "│ 48885 │ 1                              │ 341              │\n",
      "│ 48886 │ 2                              │ 353              │\n",
      "│ 48887 │ 1                              │ 176              │\n",
      "│ 48888 │ 3                              │ 365              │\n",
      "│ 48889 │ 1                              │ 31               │\n",
      "│ 48890 │ 2                              │ 163              │\n",
      "│ 48891 │ 2                              │ 9                │\n",
      "│ 48892 │ 2                              │ 36               │\n",
      "│ 48893 │ 1                              │ 27               │\n",
      "│ 48894 │ 6                              │ 2                │\n",
      "│ 48895 │ 1                              │ 23               │"
     ]
    },
    {
     "data": {
      "text/html": [
       "<table class=\"data-frame\"><thead><tr><th></th><th>id</th><th>name</th><th>host_id</th><th>host_name</th></tr><tr><th></th><th>Int64</th><th>String</th><th>Int64</th><th>String</th></tr></thead><tbody><p>38,821 rows × 16 columns (omitted printing of 12 columns)</p><tr><th>1</th><td>2539</td><td>Clean &amp; quiet apt home by the park</td><td>2787</td><td>John</td></tr><tr><th>2</th><td>2595</td><td>Skylit Midtown Castle</td><td>2845</td><td>Jennifer</td></tr><tr><th>3</th><td>3831</td><td>Cozy Entire Floor of Brownstone</td><td>4869</td><td>LisaRoxanne</td></tr><tr><th>4</th><td>5022</td><td>Entire Apt: Spacious Studio/Loft by central park</td><td>7192</td><td>Laura</td></tr><tr><th>5</th><td>5099</td><td>Large Cozy 1 BR Apartment In Midtown East</td><td>7322</td><td>Chris</td></tr><tr><th>6</th><td>5121</td><td>BlissArtsSpace!</td><td>7356</td><td>Garon</td></tr><tr><th>7</th><td>5178</td><td>Large Furnished Room Near B'way </td><td>8967</td><td>Shunichi</td></tr><tr><th>8</th><td>5203</td><td>Cozy Clean Guest Room - Family Apt</td><td>7490</td><td>MaryEllen</td></tr><tr><th>9</th><td>5238</td><td>Cute &amp; Cozy Lower East Side 1 bdrm</td><td>7549</td><td>Ben</td></tr><tr><th>10</th><td>5295</td><td>Beautiful 1br on Upper West Side</td><td>7702</td><td>Lena</td></tr><tr><th>11</th><td>5441</td><td>Central Manhattan/near Broadway</td><td>7989</td><td>Kate</td></tr><tr><th>12</th><td>5803</td><td>Lovely Room 1, Garden, Best Area, Legal rental</td><td>9744</td><td>Laurie</td></tr><tr><th>13</th><td>6021</td><td>Wonderful Guest Bedroom in Manhattan for SINGLES</td><td>11528</td><td>Claudio</td></tr><tr><th>14</th><td>6090</td><td>West Village Nest - Superhost</td><td>11975</td><td>Alina</td></tr><tr><th>15</th><td>6848</td><td>Only 2 stops to Manhattan studio</td><td>15991</td><td>Allen &amp; Irina</td></tr><tr><th>16</th><td>7097</td><td>Perfect for Your Parents + Garden</td><td>17571</td><td>Jane</td></tr><tr><th>17</th><td>7322</td><td>Chelsea Perfect</td><td>18946</td><td>Doti</td></tr><tr><th>18</th><td>7726</td><td>Hip Historic Brownstone Apartment with Backyard</td><td>20950</td><td>Adam And Charity</td></tr><tr><th>19</th><td>7801</td><td>Sweet and Spacious Brooklyn Loft</td><td>21207</td><td>Chaya</td></tr><tr><th>20</th><td>8024</td><td>CBG CtyBGd HelpsHaiti rm#1:1-4</td><td>22486</td><td>Lisel</td></tr><tr><th>21</th><td>8025</td><td>CBG Helps Haiti Room#2.5</td><td>22486</td><td>Lisel</td></tr><tr><th>22</th><td>8110</td><td>CBG Helps Haiti Rm #2</td><td>22486</td><td>Lisel</td></tr><tr><th>23</th><td>8490</td><td>MAISON DES SIRENES1,bohemian apartment</td><td>25183</td><td>Nathalie</td></tr><tr><th>24</th><td>8505</td><td>Sunny Bedroom Across Prospect Park</td><td>25326</td><td>Gregory</td></tr><tr><th>25</th><td>9357</td><td>Midtown Pied-a-terre</td><td>30193</td><td>Tommi</td></tr><tr><th>26</th><td>9518</td><td>SPACIOUS, LOVELY FURNISHED MANHATTAN BEDROOM</td><td>31374</td><td>Shon</td></tr><tr><th>27</th><td>9657</td><td>Modern 1 BR / NYC / EAST VILLAGE</td><td>21904</td><td>Dana</td></tr><tr><th>28</th><td>9668</td><td>front room/double bed</td><td>32294</td><td>Ssameer Or Trip</td></tr><tr><th>29</th><td>9704</td><td>Spacious 1 bedroom in luxe building</td><td>32045</td><td>Teri</td></tr><tr><th>30</th><td>9782</td><td>Loft in Williamsburg Area w/ Roof</td><td>32169</td><td>Andrea</td></tr><tr><th>&vellip;</th><td>&vellip;</td><td>&vellip;</td><td>&vellip;</td><td>&vellip;</td></tr></tbody></table>"
      ],
      "text/latex": [
       "\\begin{tabular}{r|ccccc}\n",
       "\t& id & name & host\\_id & host\\_name & \\\\\n",
       "\t\\hline\n",
       "\t& Int64 & String & Int64 & String & \\\\\n",
       "\t\\hline\n",
       "\t1 & 2539 & Clean \\& quiet apt home by the park & 2787 & John & $\\dots$ \\\\\n",
       "\t2 & 2595 & Skylit Midtown Castle & 2845 & Jennifer & $\\dots$ \\\\\n",
       "\t3 & 3831 & Cozy Entire Floor of Brownstone & 4869 & LisaRoxanne & $\\dots$ \\\\\n",
       "\t4 & 5022 & Entire Apt: Spacious Studio/Loft by central park & 7192 & Laura & $\\dots$ \\\\\n",
       "\t5 & 5099 & Large Cozy 1 BR Apartment In Midtown East & 7322 & Chris & $\\dots$ \\\\\n",
       "\t6 & 5121 & BlissArtsSpace! & 7356 & Garon & $\\dots$ \\\\\n",
       "\t7 & 5178 & Large Furnished Room Near B'way  & 8967 & Shunichi & $\\dots$ \\\\\n",
       "\t8 & 5203 & Cozy Clean Guest Room - Family Apt & 7490 & MaryEllen & $\\dots$ \\\\\n",
       "\t9 & 5238 & Cute \\& Cozy Lower East Side 1 bdrm & 7549 & Ben & $\\dots$ \\\\\n",
       "\t10 & 5295 & Beautiful 1br on Upper West Side & 7702 & Lena & $\\dots$ \\\\\n",
       "\t11 & 5441 & Central Manhattan/near Broadway & 7989 & Kate & $\\dots$ \\\\\n",
       "\t12 & 5803 & Lovely Room 1, Garden, Best Area, Legal rental & 9744 & Laurie & $\\dots$ \\\\\n",
       "\t13 & 6021 & Wonderful Guest Bedroom in Manhattan for SINGLES & 11528 & Claudio & $\\dots$ \\\\\n",
       "\t14 & 6090 & West Village Nest - Superhost & 11975 & Alina & $\\dots$ \\\\\n",
       "\t15 & 6848 & Only 2 stops to Manhattan studio & 15991 & Allen \\& Irina & $\\dots$ \\\\\n",
       "\t16 & 7097 & Perfect for Your Parents + Garden & 17571 & Jane & $\\dots$ \\\\\n",
       "\t17 & 7322 & Chelsea Perfect & 18946 & Doti & $\\dots$ \\\\\n",
       "\t18 & 7726 & Hip Historic Brownstone Apartment with Backyard & 20950 & Adam And Charity & $\\dots$ \\\\\n",
       "\t19 & 7801 & Sweet and Spacious Brooklyn Loft & 21207 & Chaya & $\\dots$ \\\\\n",
       "\t20 & 8024 & CBG CtyBGd HelpsHaiti rm\\#1:1-4 & 22486 & Lisel & $\\dots$ \\\\\n",
       "\t21 & 8025 & CBG Helps Haiti Room\\#2.5 & 22486 & Lisel & $\\dots$ \\\\\n",
       "\t22 & 8110 & CBG Helps Haiti Rm \\#2 & 22486 & Lisel & $\\dots$ \\\\\n",
       "\t23 & 8490 & MAISON DES SIRENES1,bohemian apartment & 25183 & Nathalie & $\\dots$ \\\\\n",
       "\t24 & 8505 & Sunny Bedroom Across Prospect Park & 25326 & Gregory & $\\dots$ \\\\\n",
       "\t25 & 9357 & Midtown Pied-a-terre & 30193 & Tommi & $\\dots$ \\\\\n",
       "\t26 & 9518 & SPACIOUS, LOVELY FURNISHED MANHATTAN BEDROOM & 31374 & Shon & $\\dots$ \\\\\n",
       "\t27 & 9657 & Modern 1 BR / NYC / EAST VILLAGE & 21904 & Dana & $\\dots$ \\\\\n",
       "\t28 & 9668 & front room/double bed & 32294 & Ssameer Or Trip & $\\dots$ \\\\\n",
       "\t29 & 9704 & Spacious 1 bedroom in luxe building & 32045 & Teri & $\\dots$ \\\\\n",
       "\t30 & 9782 & Loft in Williamsburg Area w/ Roof & 32169 & Andrea & $\\dots$ \\\\\n",
       "\t$\\dots$ & $\\dots$ & $\\dots$ & $\\dots$ & $\\dots$ &  \\\\\n",
       "\\end{tabular}\n"
      ],
      "text/plain": [
       "38821×16 DataFrame. Omitted printing of 14 columns\n",
       "│ Row   │ id       │ name                                             │\n",
       "│       │ \u001b[90mInt64\u001b[39m    │ \u001b[90mString\u001b[39m                                           │\n",
       "├───────┼──────────┼──────────────────────────────────────────────────┤\n",
       "│ 1     │ 2539     │ Clean & quiet apt home by the park               │\n",
       "│ 2     │ 2595     │ Skylit Midtown Castle                            │\n",
       "│ 3     │ 3831     │ Cozy Entire Floor of Brownstone                  │\n",
       "│ 4     │ 5022     │ Entire Apt: Spacious Studio/Loft by central park │\n",
       "│ 5     │ 5099     │ Large Cozy 1 BR Apartment In Midtown East        │\n",
       "│ 6     │ 5121     │ BlissArtsSpace!                                  │\n",
       "│ 7     │ 5178     │ Large Furnished Room Near B'way                  │\n",
       "│ 8     │ 5203     │ Cozy Clean Guest Room - Family Apt               │\n",
       "│ 9     │ 5238     │ Cute & Cozy Lower East Side 1 bdrm               │\n",
       "│ 10    │ 5295     │ Beautiful 1br on Upper West Side                 │\n",
       "⋮\n",
       "│ 38811 │ 36344079 │ The Little Castle in Astoria                     │\n",
       "│ 38812 │ 36351128 │ One bedroom without roomies, close to everything │\n",
       "│ 38813 │ 36351543 │ 2-MONTH SUBLEASE (WITH EARLY MOVE-IN)            │\n",
       "│ 38814 │ 36390226 │ Comfortable clean Bedstuy private room           │\n",
       "│ 38815 │ 36411407 │ Brand new 1 bedroom steps from Soho!             │\n",
       "│ 38816 │ 36413632 │ Spacious 2BR in Beautiful Brooklyn Heights       │\n",
       "│ 38817 │ 36425863 │ Lovely Privet Bedroom with Privet Restroom       │\n",
       "│ 38818 │ 36427429 │ No.2 with queen size bed                         │\n",
       "│ 38819 │ 36438336 │ Seas The Moment                                  │\n",
       "│ 38820 │ 36442252 │ 1B-1B apartment near by Metro                    │\n",
       "│ 38821 │ 36455809 │ Cozy Private Room in Bushwick, Brooklyn          │"
      ]
     },
     "execution_count": 19,
     "metadata": {},
     "output_type": "execute_result"
    }
   ],
   "source": [
    "show(df, allcols = true)\n",
    "df = dropmissing(df)"
   ]
  },
  {
   "cell_type": "code",
   "execution_count": 20,
   "metadata": {},
   "outputs": [
    {
     "name": "stderr",
     "output_type": "stream",
     "text": [
      "┌ Warning: `getindex(df::DataFrame, col_ind::ColumnIndex)` is deprecated, use `df[!, col_ind]` instead.\n",
      "│   caller = top-level scope at In[20]:1\n",
      "└ @ Core In[20]:1\n",
      "┌ Warning: `getindex(df::DataFrame, col_ind::ColumnIndex)` is deprecated, use `df[!, col_ind]` instead.\n",
      "│   caller = top-level scope at In[20]:1\n",
      "└ @ Core In[20]:1\n"
     ]
    },
    {
     "data": {
      "text/html": [
       "<table class=\"data-frame\"><thead><tr><th></th><th>Price</th><th>Availability</th></tr><tr><th></th><th>Int64</th><th>Int64</th></tr></thead><tbody><p>38,821 rows × 2 columns</p><tr><th>1</th><td>149</td><td>365</td></tr><tr><th>2</th><td>225</td><td>355</td></tr><tr><th>3</th><td>89</td><td>194</td></tr><tr><th>4</th><td>80</td><td>0</td></tr><tr><th>5</th><td>200</td><td>129</td></tr><tr><th>6</th><td>60</td><td>0</td></tr><tr><th>7</th><td>79</td><td>220</td></tr><tr><th>8</th><td>79</td><td>0</td></tr><tr><th>9</th><td>150</td><td>188</td></tr><tr><th>10</th><td>135</td><td>6</td></tr><tr><th>11</th><td>85</td><td>39</td></tr><tr><th>12</th><td>89</td><td>314</td></tr><tr><th>13</th><td>85</td><td>333</td></tr><tr><th>14</th><td>120</td><td>0</td></tr><tr><th>15</th><td>140</td><td>46</td></tr><tr><th>16</th><td>215</td><td>321</td></tr><tr><th>17</th><td>140</td><td>12</td></tr><tr><th>18</th><td>99</td><td>21</td></tr><tr><th>19</th><td>299</td><td>0</td></tr><tr><th>20</th><td>130</td><td>347</td></tr><tr><th>21</th><td>80</td><td>364</td></tr><tr><th>22</th><td>110</td><td>304</td></tr><tr><th>23</th><td>120</td><td>233</td></tr><tr><th>24</th><td>60</td><td>85</td></tr><tr><th>25</th><td>150</td><td>75</td></tr><tr><th>26</th><td>44</td><td>311</td></tr><tr><th>27</th><td>180</td><td>67</td></tr><tr><th>28</th><td>50</td><td>355</td></tr><tr><th>29</th><td>52</td><td>255</td></tr><tr><th>30</th><td>55</td><td>284</td></tr><tr><th>&vellip;</th><td>&vellip;</td><td>&vellip;</td></tr></tbody></table>"
      ],
      "text/latex": [
       "\\begin{tabular}{r|cc}\n",
       "\t& Price & Availability\\\\\n",
       "\t\\hline\n",
       "\t& Int64 & Int64\\\\\n",
       "\t\\hline\n",
       "\t1 & 149 & 365 \\\\\n",
       "\t2 & 225 & 355 \\\\\n",
       "\t3 & 89 & 194 \\\\\n",
       "\t4 & 80 & 0 \\\\\n",
       "\t5 & 200 & 129 \\\\\n",
       "\t6 & 60 & 0 \\\\\n",
       "\t7 & 79 & 220 \\\\\n",
       "\t8 & 79 & 0 \\\\\n",
       "\t9 & 150 & 188 \\\\\n",
       "\t10 & 135 & 6 \\\\\n",
       "\t11 & 85 & 39 \\\\\n",
       "\t12 & 89 & 314 \\\\\n",
       "\t13 & 85 & 333 \\\\\n",
       "\t14 & 120 & 0 \\\\\n",
       "\t15 & 140 & 46 \\\\\n",
       "\t16 & 215 & 321 \\\\\n",
       "\t17 & 140 & 12 \\\\\n",
       "\t18 & 99 & 21 \\\\\n",
       "\t19 & 299 & 0 \\\\\n",
       "\t20 & 130 & 347 \\\\\n",
       "\t21 & 80 & 364 \\\\\n",
       "\t22 & 110 & 304 \\\\\n",
       "\t23 & 120 & 233 \\\\\n",
       "\t24 & 60 & 85 \\\\\n",
       "\t25 & 150 & 75 \\\\\n",
       "\t26 & 44 & 311 \\\\\n",
       "\t27 & 180 & 67 \\\\\n",
       "\t28 & 50 & 355 \\\\\n",
       "\t29 & 52 & 255 \\\\\n",
       "\t30 & 55 & 284 \\\\\n",
       "\t$\\dots$ & $\\dots$ & $\\dots$ \\\\\n",
       "\\end{tabular}\n"
      ],
      "text/plain": [
       "38821×2 DataFrame\n",
       "│ Row   │ Price │ Availability │\n",
       "│       │ \u001b[90mInt64\u001b[39m │ \u001b[90mInt64\u001b[39m        │\n",
       "├───────┼───────┼──────────────┤\n",
       "│ 1     │ 149   │ 365          │\n",
       "│ 2     │ 225   │ 355          │\n",
       "│ 3     │ 89    │ 194          │\n",
       "│ 4     │ 80    │ 0            │\n",
       "│ 5     │ 200   │ 129          │\n",
       "│ 6     │ 60    │ 0            │\n",
       "│ 7     │ 79    │ 220          │\n",
       "│ 8     │ 79    │ 0            │\n",
       "│ 9     │ 150   │ 188          │\n",
       "│ 10    │ 135   │ 6            │\n",
       "⋮\n",
       "│ 38811 │ 150   │ 165          │\n",
       "│ 38812 │ 110   │ 15           │\n",
       "│ 38813 │ 33    │ 87           │\n",
       "│ 38814 │ 45    │ 14           │\n",
       "│ 38815 │ 150   │ 13           │\n",
       "│ 38816 │ 550   │ 230          │\n",
       "│ 38817 │ 129   │ 147          │\n",
       "│ 38818 │ 45    │ 339          │\n",
       "│ 38819 │ 235   │ 87           │\n",
       "│ 38820 │ 100   │ 40           │\n",
       "│ 38821 │ 30    │ 1            │"
      ]
     },
     "execution_count": 20,
     "metadata": {},
     "output_type": "execute_result"
    }
   ],
   "source": [
    "df = DataFrame(:Price => df[:price],:Availability => df[:availability_365])"
   ]
  },
  {
   "cell_type": "code",
   "execution_count": 21,
   "metadata": {},
   "outputs": [],
   "source": [
    "using Lathe"
   ]
  },
  {
   "cell_type": "code",
   "execution_count": 22,
   "metadata": {},
   "outputs": [
    {
     "name": "stdout",
     "output_type": "stream",
     "text": [
      "search: \u001b[0m\u001b[1mL\u001b[22m\u001b[0m\u001b[1ma\u001b[22m\u001b[0m\u001b[1mt\u001b[22m\u001b[0m\u001b[1mh\u001b[22m\u001b[0m\u001b[1me\u001b[22m re\u001b[0m\u001b[1ml\u001b[22mp\u001b[0m\u001b[1ma\u001b[22m\u001b[0m\u001b[1mt\u001b[22m\u001b[0m\u001b[1mh\u001b[22m rea\u001b[0m\u001b[1ml\u001b[22mp\u001b[0m\u001b[1ma\u001b[22m\u001b[0m\u001b[1mt\u001b[22m\u001b[0m\u001b[1mh\u001b[22m \u001b[0m\u001b[1mL\u001b[22mO\u001b[0m\u001b[1mA\u001b[22mD_PA\u001b[0m\u001b[1mT\u001b[22m\u001b[0m\u001b[1mH\u001b[22m\n",
      "\n"
     ]
    },
    {
     "data": {
      "text/latex": [
       "|====== Lathe - Easily ML =====\n",
       "\n",
       "|= = = = = v. 0.0.8 = = = = = |\n",
       "\n",
       "|==============================\n",
       "\n",
       "|\\_\\_\\_\\_\\_\\_\\_\\_\\_\\_Lathe.stats\n",
       "\n",
       "|\\_\\_\\_\\_\\_\\_\\_\\_\\_\\_Lathe.validate\n",
       "\n",
       "|\\_\\_\\_\\_\\_\\_\\_\\_\\_\\_Lathe.preprocess\n",
       "\n",
       "|\\_\\_\\_\\_\\_\\_\\_\\_\\_\\_Lathe.models\n",
       "\n",
       "|\\_\\_\\_\\_\\_\\_\\_\\_\\_\\_\\_\\_\\_\\_\\_\\_\\_\\_\\_\\_\\_\\_\\_\\_\\_\\_\\_\\_\\_\\_\n",
       "\n",
       "Use ?(Lathe.package) for information!\n",
       "\n",
       "[uuid]\n",
       "\n",
       "38d8eb38-e7b1-11e9-0012-376b6c802672\n",
       "\n",
       "[deps]\n",
       "\n",
       "DataFrames.jl\n",
       "\n",
       "Random.jl\n",
       "\n",
       "\\begin{verbatim}\n",
       "\n",
       "\\end{verbatim}\n"
      ],
      "text/markdown": [
       "|====== Lathe - Easily ML =====\n",
       "\n",
       "|= = = = = v. 0.0.8 = = = = = |\n",
       "\n",
       "|==============================\n",
       "\n",
       "|__________Lathe.stats\n",
       "\n",
       "|__________Lathe.validate\n",
       "\n",
       "|__________Lathe.preprocess\n",
       "\n",
       "|__________Lathe.models\n",
       "\n",
       "|______________________________\n",
       "\n",
       "Use ?(Lathe.package) for information!\n",
       "\n",
       "[uuid]\n",
       "\n",
       "38d8eb38-e7b1-11e9-0012-376b6c802672\n",
       "\n",
       "[deps]\n",
       "\n",
       "DataFrames.jl\n",
       "\n",
       "Random.jl\n",
       "\n",
       "```\n",
       "\n",
       "```\n"
      ],
      "text/plain": [
       "  |====== Lathe - Easily ML =====\n",
       "\n",
       "  |= = = = = v. 0.0.8 = = = = = |\n",
       "\n",
       "  |==============================\n",
       "\n",
       "  |__________Lathe.stats\n",
       "\n",
       "  |__________Lathe.validate\n",
       "\n",
       "  |__________Lathe.preprocess\n",
       "\n",
       "  |__________Lathe.models\n",
       "\n",
       "  |______________________________\n",
       "\n",
       "  Use ?(Lathe.package) for information!\n",
       "\n",
       "  [uuid]\n",
       "\n",
       "  38d8eb38-e7b1-11e9-0012-376b6c802672\n",
       "\n",
       "  [deps]\n",
       "\n",
       "  DataFrames.jl\n",
       "\n",
       "  Random.jl\n",
       "\n",
       "\u001b[36m  \u001b[39m"
      ]
     },
     "execution_count": 22,
     "metadata": {},
     "output_type": "execute_result"
    }
   ],
   "source": [
    "?(Lathe)"
   ]
  },
  {
   "cell_type": "code",
   "execution_count": 23,
   "metadata": {},
   "outputs": [
    {
     "data": {
      "text/latex": [
       "|====== Lathe.preprocess =====\n",
       "\n",
       "|\\_\\_\\_\\_\\_\\_\\_\\_\\_\\_\\_\\_/ Generalized Processing \\_\\_\\_\\_\\_\\_\\_\\_\\_\\_\\_\n",
       "\n",
       "|\\_\\_\\_\\_\\_preprocess.TrainTestSplit(array)\n",
       "\n",
       "|\\_\\_\\_\\_\\_preprocess.ArraySplit(array)\n",
       "\n",
       "|\\_\\_\\_\\_\\_preprocess.SortSplit(array)\n",
       "\n",
       "|\\_\\_\\_\\_\\_preprocess.UniformSplit(array)\n",
       "\n",
       "|\\_\\_\\_\\_\\_\\_\\_\\_\\_\\_\\_\\_/ Feature Scaling \\_\\_\\_\\_\\_\\_\\_\\_\\_\\_\\_\n",
       "\n",
       "|\\_\\_\\_\\_\\_preprocess.Rescalar(array)\n",
       "\n",
       "|\\_\\_\\_\\_\\_preprocess.ArbitraryRescale(array)\n",
       "\n",
       "|\\_\\_\\_\\_\\_preprocess.MeanNormalization(array)\n",
       "\n",
       "|\\_\\_\\_\\_\\_preprocess.StandardScalar(array)\n",
       "\n",
       "|\\_\\_\\_\\_\\_preprocess.UnitLScale(array)\n",
       "\n",
       "|\\_\\_\\_\\_\\_\\_\\_\\_\\_\\_\\_\\_/ Categorical Encoding \\_\\_\\_\\_\\_\\_\\_\\_\\_\\_\\_\n",
       "\n",
       "|\\_\\_\\_\\_\\_preprocess.OneHotEncode(array)\n",
       "\n",
       "|\\_\\_\\_\\_\\_preprocess.InvertEncode(array)\n",
       "\n",
       "\\begin{verbatim}\n",
       "\n",
       "\\end{verbatim}\n"
      ],
      "text/markdown": [
       "|====== Lathe.preprocess =====\n",
       "\n",
       "|____________/ Generalized Processing ___________\n",
       "\n",
       "|_____preprocess.TrainTestSplit(array)\n",
       "\n",
       "|_____preprocess.ArraySplit(array)\n",
       "\n",
       "|_____preprocess.SortSplit(array)\n",
       "\n",
       "|_____preprocess.UniformSplit(array)\n",
       "\n",
       "|____________/ Feature Scaling ___________\n",
       "\n",
       "|_____preprocess.Rescalar(array)\n",
       "\n",
       "|_____preprocess.ArbitraryRescale(array)\n",
       "\n",
       "|_____preprocess.MeanNormalization(array)\n",
       "\n",
       "|_____preprocess.StandardScalar(array)\n",
       "\n",
       "|_____preprocess.UnitLScale(array)\n",
       "\n",
       "|____________/ Categorical Encoding ___________\n",
       "\n",
       "|_____preprocess.OneHotEncode(array)\n",
       "\n",
       "|_____preprocess.InvertEncode(array)\n",
       "\n",
       "```\n",
       "\n",
       "```\n"
      ],
      "text/plain": [
       "  |====== Lathe.preprocess =====\n",
       "\n",
       "  |____________/ Generalized Processing ___________\n",
       "\n",
       "  |_____preprocess.TrainTestSplit(array)\n",
       "\n",
       "  |_____preprocess.ArraySplit(array)\n",
       "\n",
       "  |_____preprocess.SortSplit(array)\n",
       "\n",
       "  |_____preprocess.UniformSplit(array)\n",
       "\n",
       "  |____________/ Feature Scaling ___________\n",
       "\n",
       "  |_____preprocess.Rescalar(array)\n",
       "\n",
       "  |_____preprocess.ArbitraryRescale(array)\n",
       "\n",
       "  |_____preprocess.MeanNormalization(array)\n",
       "\n",
       "  |_____preprocess.StandardScalar(array)\n",
       "\n",
       "  |_____preprocess.UnitLScale(array)\n",
       "\n",
       "  |____________/ Categorical Encoding ___________\n",
       "\n",
       "  |_____preprocess.OneHotEncode(array)\n",
       "\n",
       "  |_____preprocess.InvertEncode(array)\n",
       "\n",
       "\u001b[36m  \u001b[39m"
      ]
     },
     "execution_count": 23,
     "metadata": {},
     "output_type": "execute_result"
    }
   ],
   "source": [
    "?(Lathe.preprocess)"
   ]
  },
  {
   "cell_type": "code",
   "execution_count": 24,
   "metadata": {},
   "outputs": [
    {
     "data": {
      "text/latex": [
       "Train Test split is used to create a validation set to toy accuracy with. TrainTestSplit() takes a DataFrame and splits it at a certain percentage of the data.\n",
       "\n",
       "\\rule{\\textwidth}{1pt}\n",
       "df = DataFrame(:A => [1,2,3],:B => [4,5,6])\n",
       "\n",
       "test,train = Lathe.preprocess.TrainTestSplit(df,at = 0.75)\n",
       "\n",
       "\\rule{\\textwidth}{1pt}\n",
       "PARAMETERS:\n",
       "\n",
       "at:: Percentage value used to determine a point to split the data.\n",
       "\n"
      ],
      "text/markdown": [
       "Train Test split is used to create a validation set to toy accuracy with. TrainTestSplit() takes a DataFrame and splits it at a certain percentage of the data.\n",
       "\n",
       "---\n",
       "\n",
       "df = DataFrame(:A => [1,2,3],:B => [4,5,6])\n",
       "\n",
       "test,train = Lathe.preprocess.TrainTestSplit(df,at = 0.75)\n",
       "\n",
       "---\n",
       "\n",
       "PARAMETERS:\n",
       "\n",
       "at:: Percentage value used to determine a point to split the data.\n"
      ],
      "text/plain": [
       "  Train Test split is used to create a validation set to toy accuracy with.\n",
       "  TrainTestSplit() takes a DataFrame and splits it at a certain percentage of\n",
       "  the data.\n",
       "\n",
       "  ────────────────────────────────────────────────────────────────────────────\n",
       "\n",
       "  df = DataFrame(:A => [1,2,3],:B => [4,5,6])\n",
       "\n",
       "  test,train = Lathe.preprocess.TrainTestSplit(df,at = 0.75)\n",
       "\n",
       "  ────────────────────────────────────────────────────────────────────────────\n",
       "\n",
       "  PARAMETERS:\n",
       "\n",
       "  at:: Percentage value used to determine a point to split the data."
      ]
     },
     "execution_count": 24,
     "metadata": {},
     "output_type": "execute_result"
    }
   ],
   "source": [
    "?(Lathe.preprocess.TrainTestSplit)"
   ]
  },
  {
   "cell_type": "code",
   "execution_count": 25,
   "metadata": {},
   "outputs": [
    {
     "data": {
      "text/latex": [
       "|====== Lathe.stats ======\n",
       "\n",
       "| {\\sim}{\\sim}{\\sim}{\\sim}{\\sim}{\\sim}{\\sim}{\\sim}{\\sim}{\\sim} Base {\\sim}{\\sim}{\\sim}{\\sim}{\\sim}{\\sim}{\\sim}{\\sim}{\\sim}{\\sim}{\\sim}\n",
       "\n",
       "|\\_\\_\\_\\_\\_stats.mean(array)\n",
       "\n",
       "|\\_\\_\\_\\_\\_stats.mode(array)\n",
       "\n",
       "|\\_\\_\\_\\_\\_stats.variance(array)\n",
       "\n",
       "|\\_\\_\\_\\_\\_stats.confiints(data,confidence = .95)\n",
       "\n",
       "|\\_\\_\\_\\_\\_stats.standarderror(array)\n",
       "\n",
       "|\\_\\_\\_\\_\\_stats.std(data)\n",
       "\n",
       "|\\_\\_\\_\\_\\_stats.correlationcoeff(x,y)\n",
       "\n",
       "|\\_\\_\\_\\_\\_stats.z(array)\n",
       "\n",
       "|\\_\\_\\_\\_\\_stats.firstquar(array)\n",
       "\n",
       "|\\_\\_\\_\\_\\_stats.secondquar(array)\n",
       "\n",
       "|\\_\\_\\_\\_\\_stats.thirdquar(array)\n",
       "\n",
       "|\\_\\_\\_\\_\\_stats.getranks(array,rev = false)\n",
       "\n",
       "| {\\sim}{\\sim}{\\sim}{\\sim}{\\sim}{\\sim}{\\sim}{\\sim}{\\sim}{\\sim} Inferential {\\sim}{\\sim}{\\sim}{\\sim}{\\sim}{\\sim}{\\sim}{\\sim}{\\sim}{\\sim}{\\sim}\n",
       "\n",
       "|\\_\\_\\_\\_\\_stats.independent\\_t(sample,general)\n",
       "\n",
       "|\\_\\_\\_\\_\\_stats.paired\\_t(array)\n",
       "\n",
       "|\\_\\_\\_\\_\\_stats.spearman(var1,var2)\n",
       "\n",
       "|\\_\\_\\_\\_\\_stats.pearson(x,y)\n",
       "\n",
       "|\\_\\_\\_\\_\\_stats.chisqu(array)\n",
       "\n",
       "|\\_\\_\\_\\_\\_stats.sign(array)\n",
       "\n",
       "|\\_\\_\\_\\_\\_stats.f\\_test(sample,general)\n",
       "\n",
       "|\\_\\_\\_\\_\\_stats.anova(arra)\n",
       "\n",
       "| {\\sim}{\\sim}{\\sim}{\\sim}{\\sim}{\\sim}{\\sim}{\\sim}{\\sim}{\\sim} Bayesian {\\sim}{\\sim}{\\sim}{\\sim}{\\sim}{\\sim}{\\sim}{\\sim}{\\sim}{\\sim}{\\sim}\n",
       "\n",
       "|\\_\\_\\_\\_\\_stats.bay\\_ther(p,a,b)\n",
       "\n",
       "|\\_\\_\\_\\_\\_stats.cond\\_prob(p,a,b)\n",
       "\n",
       "| {\\sim}{\\sim}{\\sim}{\\sim}{\\sim}{\\sim}{\\sim}{\\sim}{\\sim}{\\sim} Distributions {\\sim}{\\sim}{\\sim}{\\sim}{\\sim}{\\sim}{\\sim}{\\sim}{\\sim}{\\sim}{\\sim}\n",
       "\n",
       "|\\_\\_\\_\\_\\_stats.bournelli\\_dist(array)\n",
       "\n",
       "|\\_\\_\\_\\_\\_stats.binomial\\_dist(positives,size)\n",
       "\n",
       "\\begin{verbatim}\n",
       "\n",
       "\\end{verbatim}\n"
      ],
      "text/markdown": [
       "|====== Lathe.stats ======\n",
       "\n",
       "| ~~~~~~~~~~ Base ~~~~~~~~~~~\n",
       "\n",
       "|_____stats.mean(array)\n",
       "\n",
       "|_____stats.mode(array)\n",
       "\n",
       "|_____stats.variance(array)\n",
       "\n",
       "|_____stats.confiints(data,confidence = .95)\n",
       "\n",
       "|_____stats.standarderror(array)\n",
       "\n",
       "|_____stats.std(data)\n",
       "\n",
       "|_____stats.correlationcoeff(x,y)\n",
       "\n",
       "|_____stats.z(array)\n",
       "\n",
       "|_____stats.firstquar(array)\n",
       "\n",
       "|_____stats.secondquar(array)\n",
       "\n",
       "|_____stats.thirdquar(array)\n",
       "\n",
       "|_____stats.getranks(array,rev = false)\n",
       "\n",
       "| ~~~~~~~~~~ Inferential ~~~~~~~~~~~\n",
       "\n",
       "|_____stats.independent_t(sample,general)\n",
       "\n",
       "|_____stats.paired_t(array)\n",
       "\n",
       "|_____stats.spearman(var1,var2)\n",
       "\n",
       "|_____stats.pearson(x,y)\n",
       "\n",
       "|_____stats.chisqu(array)\n",
       "\n",
       "|_____stats.sign(array)\n",
       "\n",
       "|_____stats.f_test(sample,general)\n",
       "\n",
       "|_____stats.anova(arra)\n",
       "\n",
       "| ~~~~~~~~~~ Bayesian ~~~~~~~~~~~\n",
       "\n",
       "|_____stats.bay_ther(p,a,b)\n",
       "\n",
       "|_____stats.cond_prob(p,a,b)\n",
       "\n",
       "| ~~~~~~~~~~ Distributions ~~~~~~~~~~~\n",
       "\n",
       "|_____stats.bournelli_dist(array)\n",
       "\n",
       "|_____stats.binomial_dist(positives,size)\n",
       "\n",
       "```\n",
       "\n",
       "```\n"
      ],
      "text/plain": [
       "  |====== Lathe.stats ======\n",
       "\n",
       "  | ~~~~~~~~~~ Base ~~~~~~~~~~~\n",
       "\n",
       "  |_____stats.mean(array)\n",
       "\n",
       "  |_____stats.mode(array)\n",
       "\n",
       "  |_____stats.variance(array)\n",
       "\n",
       "  |_____stats.confiints(data,confidence = .95)\n",
       "\n",
       "  |_____stats.standarderror(array)\n",
       "\n",
       "  |_____stats.std(data)\n",
       "\n",
       "  |_____stats.correlationcoeff(x,y)\n",
       "\n",
       "  |_____stats.z(array)\n",
       "\n",
       "  |_____stats.firstquar(array)\n",
       "\n",
       "  |_____stats.secondquar(array)\n",
       "\n",
       "  |_____stats.thirdquar(array)\n",
       "\n",
       "  |_____stats.getranks(array,rev = false)\n",
       "\n",
       "  | ~~~~~~~~~~ Inferential ~~~~~~~~~~~\n",
       "\n",
       "  |_____stats.independent_t(sample,general)\n",
       "\n",
       "  |_____stats.paired_t(array)\n",
       "\n",
       "  |_____stats.spearman(var1,var2)\n",
       "\n",
       "  |_____stats.pearson(x,y)\n",
       "\n",
       "  |_____stats.chisqu(array)\n",
       "\n",
       "  |_____stats.sign(array)\n",
       "\n",
       "  |_____stats.f_test(sample,general)\n",
       "\n",
       "  |_____stats.anova(arra)\n",
       "\n",
       "  | ~~~~~~~~~~ Bayesian ~~~~~~~~~~~\n",
       "\n",
       "  |_____stats.bay_ther(p,a,b)\n",
       "\n",
       "  |_____stats.cond_prob(p,a,b)\n",
       "\n",
       "  | ~~~~~~~~~~ Distributions ~~~~~~~~~~~\n",
       "\n",
       "  |_____stats.bournelli_dist(array)\n",
       "\n",
       "  |_____stats.binomial_dist(positives,size)\n",
       "\n",
       "\u001b[36m  \u001b[39m"
      ]
     },
     "execution_count": 25,
     "metadata": {},
     "output_type": "execute_result"
    }
   ],
   "source": [
    "?(Lathe.stats)"
   ]
  },
  {
   "cell_type": "code",
   "execution_count": 26,
   "metadata": {},
   "outputs": [
    {
     "name": "stderr",
     "output_type": "stream",
     "text": [
      "┌ Warning: `getindex(df::DataFrame, col_ind::ColumnIndex)` is deprecated, use `df[!, col_ind]` instead.\n",
      "│   caller = top-level scope at In[26]:2\n",
      "└ @ Core In[26]:2\n",
      "┌ Warning: `getindex(df::DataFrame, col_ind::ColumnIndex)` is deprecated, use `df[!, col_ind]` instead.\n",
      "│   caller = top-level scope at In[26]:3\n",
      "└ @ Core In[26]:3\n"
     ]
    },
    {
     "ename": "UndefVarError",
     "evalue": "UndefVarError: train not defined",
     "output_type": "error",
     "traceback": [
      "UndefVarError: train not defined",
      "",
      "Stacktrace:",
      " [1] top-level scope at In[26]:4"
     ]
    }
   ],
   "source": []
  },
  {
   "cell_type": "code",
   "execution_count": 27,
   "metadata": {},
   "outputs": [
    {
     "data": {
      "text/plain": [
       "(29158×2 DataFrame\n",
       "│ Row   │ Price │ Availability │\n",
       "│       │ \u001b[90mInt64\u001b[39m │ \u001b[90mInt64\u001b[39m        │\n",
       "├───────┼───────┼──────────────┤\n",
       "│ 1     │ 149   │ 0            │\n",
       "│ 2     │ 225   │ 0            │\n",
       "│ 3     │ 80    │ 0            │\n",
       "│ 4     │ 200   │ 0            │\n",
       "│ 5     │ 79    │ 0            │\n",
       "│ 6     │ 79    │ 0            │\n",
       "│ 7     │ 150   │ 0            │\n",
       "│ 8     │ 85    │ 0            │\n",
       "│ 9     │ 120   │ 0            │\n",
       "│ 10    │ 140   │ 0            │\n",
       "⋮\n",
       "│ 29148 │ 68    │ 365          │\n",
       "│ 29149 │ 120   │ 365          │\n",
       "│ 29150 │ 75    │ 365          │\n",
       "│ 29151 │ 150   │ 365          │\n",
       "│ 29152 │ 110   │ 365          │\n",
       "│ 29153 │ 45    │ 365          │\n",
       "│ 29154 │ 550   │ 365          │\n",
       "│ 29155 │ 129   │ 365          │\n",
       "│ 29156 │ 45    │ 365          │\n",
       "│ 29157 │ 235   │ 365          │\n",
       "│ 29158 │ 30    │ 365          │, 9663×2 DataFrame\n",
       "│ Row  │ Price │ Availability │\n",
       "│      │ \u001b[90mInt64\u001b[39m │ \u001b[90mInt64\u001b[39m        │\n",
       "├──────┼───────┼──────────────┤\n",
       "│ 1    │ 89    │ 0            │\n",
       "│ 2    │ 60    │ 0            │\n",
       "│ 3    │ 135   │ 0            │\n",
       "│ 4    │ 85    │ 0            │\n",
       "│ 5    │ 89    │ 0            │\n",
       "│ 6    │ 80    │ 0            │\n",
       "│ 7    │ 55    │ 0            │\n",
       "│ 8    │ 70    │ 0            │\n",
       "│ 9    │ 85    │ 0            │\n",
       "│ 10   │ 68    │ 0            │\n",
       "⋮\n",
       "│ 9653 │ 65    │ 365          │\n",
       "│ 9654 │ 200   │ 365          │\n",
       "│ 9655 │ 75    │ 365          │\n",
       "│ 9656 │ 199   │ 365          │\n",
       "│ 9657 │ 99    │ 365          │\n",
       "│ 9658 │ 40    │ 365          │\n",
       "│ 9659 │ 65    │ 365          │\n",
       "│ 9660 │ 120   │ 365          │\n",
       "│ 9661 │ 33    │ 365          │\n",
       "│ 9662 │ 150   │ 365          │\n",
       "│ 9663 │ 100   │ 365          │)"
      ]
     },
     "execution_count": 27,
     "metadata": {},
     "output_type": "execute_result"
    }
   ],
   "source": [
    "using Lathe.preprocess: TrainTestSplit\n",
    "train, test = TrainTestSplit(df)"
   ]
  },
  {
   "cell_type": "code",
   "execution_count": 45,
   "metadata": {},
   "outputs": [
    {
     "name": "stdout",
     "output_type": "stream",
     "text": [
      "9663\n",
      "29158\n"
     ]
    },
    {
     "name": "stderr",
     "output_type": "stream",
     "text": [
      "┌ Warning: `getindex(df::DataFrame, col_ind::ColumnIndex)` is deprecated, use `df[!, col_ind]` instead.\n",
      "│   caller = top-level scope at In[45]:4\n",
      "└ @ Core In[45]:4\n",
      "┌ Warning: `getindex(df::DataFrame, col_ind::ColumnIndex)` is deprecated, use `df[!, col_ind]` instead.\n",
      "│   caller = top-level scope at In[45]:5\n",
      "└ @ Core In[45]:5\n",
      "┌ Warning: `getindex(df::DataFrame, col_ind::ColumnIndex)` is deprecated, use `df[!, col_ind]` instead.\n",
      "│   caller = top-level scope at In[45]:6\n",
      "└ @ Core In[45]:6\n"
     ]
    },
    {
     "ename": "DimensionMismatch",
     "evalue": "DimensionMismatch(\"arrays could not be broadcast to a common size\")",
     "output_type": "error",
     "traceback": [
      "DimensionMismatch(\"arrays could not be broadcast to a common size\")",
      "",
      "Stacktrace:",
      " [1] _bcs1 at ./broadcast.jl:439 [inlined]",
      " [2] _bcs at ./broadcast.jl:433 [inlined]",
      " [3] broadcast_shape at ./broadcast.jl:427 [inlined]",
      " [4] combine_axes at ./broadcast.jl:422 [inlined]",
      " [5] instantiate at ./broadcast.jl:266 [inlined]",
      " [6] materialize(::Base.Broadcast.Broadcasted{Base.Broadcast.DefaultArrayStyle{1},Nothing,typeof(>=),Tuple{Array{Int64,1},Array{Float64,1}}}) at ./broadcast.jl:756",
      " [7] top-level scope at In[45]:6"
     ]
    }
   ],
   "source": [
    "println(nrow(test))\n",
    "println(nrow(train))\n",
    "using Lathe.stats: firstquar, thirdquar\n",
    "q1 = firstquar(df[:Availability])\n",
    "q3 = thirdquar(df[:Availability])\n",
    "train = train[(train[:Availability].>=q1),:]\n",
    "train = train[(train[:Availability].>=q3),:]"
   ]
  },
  {
   "cell_type": "code",
   "execution_count": 29,
   "metadata": {},
   "outputs": [
    {
     "name": "stderr",
     "output_type": "stream",
     "text": [
      "┌ Warning: `getindex(df::DataFrame, col_ind::ColumnIndex)` is deprecated, use `df[!, col_ind]` instead.\n",
      "│   caller = top-level scope at In[29]:9\n",
      "└ @ Core In[29]:9\n",
      "┌ Warning: `getindex(df::DataFrame, col_ind::ColumnIndex)` is deprecated, use `df[!, col_ind]` instead.\n",
      "│   caller = top-level scope at In[29]:10\n",
      "└ @ Core In[29]:10\n",
      "┌ Warning: `getindex(df::DataFrame, col_ind::ColumnIndex)` is deprecated, use `df[!, col_ind]` instead.\n",
      "│   caller = top-level scope at In[29]:11\n",
      "└ @ Core In[29]:11\n",
      "┌ Warning: `getindex(df::DataFrame, col_ind::ColumnIndex)` is deprecated, use `df[!, col_ind]` instead.\n",
      "│   caller = top-level scope at In[29]:12\n",
      "└ @ Core In[29]:12\n"
     ]
    },
    {
     "data": {
      "text/plain": [
       "9663-element Array{Int64,1}:\n",
       "  89\n",
       "  60\n",
       " 135\n",
       "  85\n",
       "  89\n",
       "  80\n",
       "  55\n",
       "  70\n",
       "  85\n",
       "  68\n",
       " 120\n",
       " 150\n",
       " 130\n",
       "   ⋮\n",
       " 157\n",
       "  65\n",
       " 200\n",
       "  75\n",
       " 199\n",
       "  99\n",
       "  40\n",
       "  65\n",
       " 120\n",
       "  33\n",
       " 150\n",
       " 100"
      ]
     },
     "execution_count": 29,
     "metadata": {},
     "output_type": "execute_result"
    }
   ],
   "source": [
    "function StandardScalar(array)\n",
    "    q = Lathe.stats.std(array)\n",
    "    avg = Lathe.stats.mean(array)\n",
    "    v = [i = (i-avg) / q for i in array]\n",
    "    return(v)\n",
    "end\n",
    "feature = :Availability\n",
    "target = :Price\n",
    "xtrain = StandardScalar(train[feature])\n",
    "ytrain = train[target]\n",
    "xtest = StandardScalar(test[feature])\n",
    "ytest = test[target]"
   ]
  },
  {
   "cell_type": "code",
   "execution_count": 30,
   "metadata": {},
   "outputs": [
    {
     "data": {
      "text/plain": [
       "meanBaseline([149, 225, 80, 200, 79, 79, 150, 85, 120, 140  …  120, 75, 150, 110, 45, 550, 129, 45, 235, 30])"
      ]
     },
     "execution_count": 30,
     "metadata": {},
     "output_type": "execute_result"
    }
   ],
   "source": [
    "model = meanBaseline(ytrain)"
   ]
  },
  {
   "cell_type": "code",
   "execution_count": 31,
   "metadata": {},
   "outputs": [
    {
     "data": {
      "text/plain": [
       "meanbaseline (generic function with 1 method)"
      ]
     },
     "execution_count": 31,
     "metadata": {},
     "output_type": "execute_result"
    }
   ],
   "source": [
    "function meanbaseline(m,xt)\n",
    "    xi = mean(m.y)\n",
    "    ŷ = [y = xi for y in xt]\n",
    "    return(ŷ)\n",
    "end"
   ]
  },
  {
   "cell_type": "code",
   "execution_count": 32,
   "metadata": {},
   "outputs": [
    {
     "data": {
      "text/plain": [
       "predict (generic function with 9 methods)"
      ]
     },
     "execution_count": 32,
     "metadata": {},
     "output_type": "execute_result"
    }
   ],
   "source": [
    "predict(m::Lathe.models.meanBaseline,x) = meanbaseline(m,x)"
   ]
  },
  {
   "cell_type": "code",
   "execution_count": 33,
   "metadata": {},
   "outputs": [
    {
     "data": {
      "text/plain": [
       "141.30389601481582"
      ]
     },
     "execution_count": 33,
     "metadata": {},
     "output_type": "execute_result"
    }
   ],
   "source": [
    "mean(ytrain)"
   ]
  },
  {
   "cell_type": "code",
   "execution_count": 34,
   "metadata": {},
   "outputs": [
    {
     "ename": "DimensionMismatch",
     "evalue": "DimensionMismatch(\"arrays could not be broadcast to a common size\")",
     "output_type": "error",
     "traceback": [
      "DimensionMismatch(\"arrays could not be broadcast to a common size\")",
      "",
      "Stacktrace:",
      " [1] _bcs1 at ./broadcast.jl:439 [inlined]",
      " [2] _bcs at ./broadcast.jl:433 [inlined]",
      " [3] broadcast_shape at ./broadcast.jl:427 [inlined]",
      " [4] combine_axes at ./broadcast.jl:422 [inlined]",
      " [5] instantiate at ./broadcast.jl:266 [inlined]",
      " [6] materialize at ./broadcast.jl:756 [inlined]",
      " [7] mae(::Array{Int64,1}, ::Array{Any,1}) at ./In[3]:2",
      " [8] top-level scope at In[34]:1"
     ]
    }
   ],
   "source": [
    "mae(ytest,ŷ)"
   ]
  },
  {
   "cell_type": "code",
   "execution_count": 35,
   "metadata": {},
   "outputs": [
    {
     "data": {
      "text/plain": [
       "LinearRegression(Complex{Float64}[-10.7104+0.0im, -10.7104+0.0im, -10.7104+0.0im, -10.7104+0.0im, -10.7104+0.0im, -10.7104+0.0im, -10.7104+0.0im, -10.7104+0.0im, -10.7104+0.0im, -10.7104+0.0im  …  23.3686-0.0im, 23.3686-0.0im, 23.3686-0.0im, 23.3686-0.0im, 23.3686-0.0im, 23.3686-0.0im, 23.3686-0.0im, 23.3686-0.0im, 23.3686-0.0im, 23.3686-0.0im], [149, 225, 80, 200, 79, 79, 150, 85, 120, 140  …  120, 75, 150, 110, 45, 550, 129, 45, 235, 30])"
      ]
     },
     "execution_count": 35,
     "metadata": {},
     "output_type": "execute_result"
    }
   ],
   "source": [
    "using Lathe.models: LinearRegression\n",
    "m = LinearRegression(xtrain,ytrain)"
   ]
  },
  {
   "cell_type": "code",
   "execution_count": 36,
   "metadata": {},
   "outputs": [
    {
     "data": {
      "text/plain": [
       "9663-element Array{Complex{Float64},1}:\n",
       " 139.84149316670198 + 0.0im\n",
       " 139.84149316670198 + 0.0im\n",
       " 139.84149316670198 + 0.0im\n",
       " 139.84149316670198 + 0.0im\n",
       " 139.84149316670198 + 0.0im\n",
       " 139.84149316670198 + 0.0im\n",
       " 139.84149316670198 + 0.0im\n",
       " 139.84149316670198 + 0.0im\n",
       " 139.84149316670198 + 0.0im\n",
       " 139.84149316670198 + 0.0im\n",
       " 139.84149316670198 + 0.0im\n",
       " 139.84149316670198 + 0.0im\n",
       " 139.84149316670198 + 0.0im\n",
       "                    ⋮      \n",
       " 144.46652189064272 + 0.0im\n",
       " 144.46652189064272 + 0.0im\n",
       " 144.46652189064272 + 0.0im\n",
       " 144.46652189064272 + 0.0im\n",
       " 144.46652189064272 + 0.0im\n",
       " 144.46652189064272 + 0.0im\n",
       " 144.46652189064272 + 0.0im\n",
       " 144.46652189064272 + 0.0im\n",
       " 144.46652189064272 + 0.0im\n",
       " 144.46652189064272 + 0.0im\n",
       " 144.46652189064272 + 0.0im\n",
       " 144.46652189064272 + 0.0im"
      ]
     },
     "execution_count": 36,
     "metadata": {},
     "output_type": "execute_result"
    }
   ],
   "source": [
    "ŷ = predict(m,xtest)"
   ]
  },
  {
   "cell_type": "code",
   "execution_count": 37,
   "metadata": {},
   "outputs": [
    {
     "data": {
      "text/plain": [
       "39932.4528088346 - 0.0im"
      ]
     },
     "execution_count": 37,
     "metadata": {},
     "output_type": "execute_result"
    }
   ],
   "source": [
    "mae(ytest,ŷ)"
   ]
  },
  {
   "cell_type": "code",
   "execution_count": 38,
   "metadata": {},
   "outputs": [],
   "source": [
    "using Plots"
   ]
  },
  {
   "cell_type": "markdown",
   "metadata": {},
   "source": [
    "## These are commented out because they are GPU taxing (I have integrated graphics), feel free to uncomment and run if you have the data!"
   ]
  },
  {
   "cell_type": "code",
   "execution_count": 39,
   "metadata": {},
   "outputs": [],
   "source": [
    "#scatter(xtest,ytest,\n",
    "# title:\n",
    "#    title = \"Original airBnB Data\",\n",
    "#    # X label:\n",
    "#    xlabel = \"Number of Reviews\",\n",
    "    # Y label\n",
    "#    ylabel = \"Price\",\n",
    "    # Grid:\n",
    "#    grid = false,\n",
    "#    # Legend position\n",
    "#    legend=:bottomright,\n",
    "#    # Color of the marker\n",
    "#    color = :lightblue,\n",
    "    # Marker stroke width and opacity\n",
    "#    markerstrokewidth = 4,\n",
    "#    markerstrokealpha = .75,\n",
    "    # Marker stroke color\n",
    "#    markerstrokecolor = :lightblue,\n",
    "    # Adjust out y ticks\n",
    "#    yticks = [500,1500,3500],\n",
    "#    xticks = [200,400,600],\n",
    "#    label = \"AirBnB's\",\n",
    "    # Our font options\n",
    "#    fontfamily = :Courier,xtickfontsize=7,ytickfontsize=9,\n",
    "#    ytickfont=:Courier,xtickfont = :Courier,titlefontsize=13,)"
   ]
  },
  {
   "cell_type": "code",
   "execution_count": 40,
   "metadata": {},
   "outputs": [],
   "source": [
    "#scatter(xtest,ŷ,title = \"FourSquare Prediction\",\n",
    "#xlabel = \"Number of Reviews\", ylabel = \"Price\", markerstrokewidth = 0,\n",
    "#color = :orange, label = \"AirBnB's\")"
   ]
  },
  {
   "cell_type": "code",
   "execution_count": 41,
   "metadata": {},
   "outputs": [],
   "source": [
    "#scatter(xtest,ytest,title = \"Original Data\",\n",
    "#xlabel = \"Open Days (365)\", ylabel = \"Price\", markerstrokewidth = 0,\n",
    "#color = :pink, label = \"AirBnB's\")"
   ]
  },
  {
   "cell_type": "code",
   "execution_count": 42,
   "metadata": {},
   "outputs": [
    {
     "name": "stderr",
     "output_type": "stream",
     "text": [
      "┌ Warning: `getindex(df::DataFrame, col_ind::ColumnIndex)` is deprecated, use `df[!, col_ind]` instead.\n",
      "│   caller = top-level scope at In[42]:1\n",
      "└ @ Core In[42]:1\n"
     ]
    },
    {
     "data": {
      "text/html": [
       "<table class=\"data-frame\"><thead><tr><th></th><th>Price</th><th>Availability</th></tr><tr><th></th><th>Int64</th><th>Int64</th></tr></thead><tbody><p>6,175 rows × 2 columns</p><tr><th>1</th><td>125</td><td>300</td></tr><tr><th>2</th><td>72</td><td>300</td></tr><tr><th>3</th><td>19</td><td>300</td></tr><tr><th>4</th><td>125</td><td>300</td></tr><tr><th>5</th><td>243</td><td>300</td></tr><tr><th>6</th><td>65</td><td>300</td></tr><tr><th>7</th><td>70</td><td>300</td></tr><tr><th>8</th><td>200</td><td>300</td></tr><tr><th>9</th><td>65</td><td>300</td></tr><tr><th>10</th><td>100</td><td>300</td></tr><tr><th>11</th><td>97</td><td>300</td></tr><tr><th>12</th><td>275</td><td>300</td></tr><tr><th>13</th><td>95</td><td>300</td></tr><tr><th>14</th><td>595</td><td>300</td></tr><tr><th>15</th><td>55</td><td>300</td></tr><tr><th>16</th><td>101</td><td>300</td></tr><tr><th>17</th><td>180</td><td>300</td></tr><tr><th>18</th><td>99</td><td>300</td></tr><tr><th>19</th><td>65</td><td>300</td></tr><tr><th>20</th><td>95</td><td>300</td></tr><tr><th>21</th><td>300</td><td>300</td></tr><tr><th>22</th><td>200</td><td>300</td></tr><tr><th>23</th><td>100</td><td>300</td></tr><tr><th>24</th><td>165</td><td>300</td></tr><tr><th>25</th><td>120</td><td>300</td></tr><tr><th>26</th><td>125</td><td>300</td></tr><tr><th>27</th><td>200</td><td>300</td></tr><tr><th>28</th><td>45</td><td>300</td></tr><tr><th>29</th><td>260</td><td>300</td></tr><tr><th>30</th><td>40</td><td>300</td></tr><tr><th>&vellip;</th><td>&vellip;</td><td>&vellip;</td></tr></tbody></table>"
      ],
      "text/latex": [
       "\\begin{tabular}{r|cc}\n",
       "\t& Price & Availability\\\\\n",
       "\t\\hline\n",
       "\t& Int64 & Int64\\\\\n",
       "\t\\hline\n",
       "\t1 & 125 & 300 \\\\\n",
       "\t2 & 72 & 300 \\\\\n",
       "\t3 & 19 & 300 \\\\\n",
       "\t4 & 125 & 300 \\\\\n",
       "\t5 & 243 & 300 \\\\\n",
       "\t6 & 65 & 300 \\\\\n",
       "\t7 & 70 & 300 \\\\\n",
       "\t8 & 200 & 300 \\\\\n",
       "\t9 & 65 & 300 \\\\\n",
       "\t10 & 100 & 300 \\\\\n",
       "\t11 & 97 & 300 \\\\\n",
       "\t12 & 275 & 300 \\\\\n",
       "\t13 & 95 & 300 \\\\\n",
       "\t14 & 595 & 300 \\\\\n",
       "\t15 & 55 & 300 \\\\\n",
       "\t16 & 101 & 300 \\\\\n",
       "\t17 & 180 & 300 \\\\\n",
       "\t18 & 99 & 300 \\\\\n",
       "\t19 & 65 & 300 \\\\\n",
       "\t20 & 95 & 300 \\\\\n",
       "\t21 & 300 & 300 \\\\\n",
       "\t22 & 200 & 300 \\\\\n",
       "\t23 & 100 & 300 \\\\\n",
       "\t24 & 165 & 300 \\\\\n",
       "\t25 & 120 & 300 \\\\\n",
       "\t26 & 125 & 300 \\\\\n",
       "\t27 & 200 & 300 \\\\\n",
       "\t28 & 45 & 300 \\\\\n",
       "\t29 & 260 & 300 \\\\\n",
       "\t30 & 40 & 300 \\\\\n",
       "\t$\\dots$ & $\\dots$ & $\\dots$ \\\\\n",
       "\\end{tabular}\n"
      ],
      "text/plain": [
       "6175×2 DataFrame\n",
       "│ Row  │ Price │ Availability │\n",
       "│      │ \u001b[90mInt64\u001b[39m │ \u001b[90mInt64\u001b[39m        │\n",
       "├──────┼───────┼──────────────┤\n",
       "│ 1    │ 125   │ 300          │\n",
       "│ 2    │ 72    │ 300          │\n",
       "│ 3    │ 19    │ 300          │\n",
       "│ 4    │ 125   │ 300          │\n",
       "│ 5    │ 243   │ 300          │\n",
       "│ 6    │ 65    │ 300          │\n",
       "│ 7    │ 70    │ 300          │\n",
       "│ 8    │ 200   │ 300          │\n",
       "│ 9    │ 65    │ 300          │\n",
       "│ 10   │ 100   │ 300          │\n",
       "⋮\n",
       "│ 6165 │ 150   │ 365          │\n",
       "│ 6166 │ 110   │ 365          │\n",
       "│ 6167 │ 33    │ 365          │\n",
       "│ 6168 │ 45    │ 365          │\n",
       "│ 6169 │ 150   │ 365          │\n",
       "│ 6170 │ 550   │ 365          │\n",
       "│ 6171 │ 129   │ 365          │\n",
       "│ 6172 │ 45    │ 365          │\n",
       "│ 6173 │ 235   │ 365          │\n",
       "│ 6174 │ 100   │ 365          │\n",
       "│ 6175 │ 30    │ 365          │"
      ]
     },
     "execution_count": 42,
     "metadata": {},
     "output_type": "execute_result"
    }
   ],
   "source": [
    "high_df = df[(df[:Availability].>=300),:]"
   ]
  },
  {
   "cell_type": "code",
   "execution_count": 43,
   "metadata": {},
   "outputs": [],
   "source": [
    "using Lathe.stats: f_test"
   ]
  },
  {
   "cell_type": "code",
   "execution_count": 44,
   "metadata": {},
   "outputs": [
    {
     "name": "stdout",
     "output_type": "stream",
     "text": [
      "0.030037906664599767\n"
     ]
    }
   ],
   "source": [
    "println(f_test(high_df.Price,df.Price))"
   ]
  },
  {
   "cell_type": "code",
   "execution_count": null,
   "metadata": {},
   "outputs": [],
   "source": []
  }
 ],
 "metadata": {
  "kernelspec": {
   "display_name": "Julia 1.0.3",
   "language": "julia",
   "name": "julia-1.0"
  },
  "language_info": {
   "file_extension": ".jl",
   "mimetype": "application/julia",
   "name": "julia",
   "version": "1.0.4"
  }
 },
 "nbformat": 4,
 "nbformat_minor": 2
}
