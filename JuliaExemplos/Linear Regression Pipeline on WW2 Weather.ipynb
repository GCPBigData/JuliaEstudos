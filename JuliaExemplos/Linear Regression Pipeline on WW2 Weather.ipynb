{
 "cells": [
  {
   "cell_type": "code",
   "execution_count": 1,
   "metadata": {},
   "outputs": [
    {
     "data": {
      "text/html": [
       "<table class=\"data-frame\"><thead><tr><th></th><th>STA</th><th>Date</th><th>Precip</th><th>WindGustSpd</th><th>MaxTemp</th><th>MinTemp</th><th>MeanTemp</th><th>Snowfall</th><th>PoorWeather</th></tr><tr><th></th><th>Int64</th><th>Dates…</th><th>String</th><th>Float64⍰</th><th>Float64</th><th>Float64</th><th>Float64</th><th>String⍰</th><th>String⍰</th></tr></thead><tbody><p>119,040 rows × 31 columns (omitted printing of 22 columns)</p><tr><th>1</th><td>10001</td><td>1942-07-01</td><td>1.016</td><td>missing</td><td>25.5556</td><td>22.2222</td><td>23.8889</td><td>0</td><td>missing</td></tr><tr><th>2</th><td>10001</td><td>1942-07-02</td><td>0</td><td>missing</td><td>28.8889</td><td>21.6667</td><td>25.5556</td><td>0</td><td>missing</td></tr><tr><th>3</th><td>10001</td><td>1942-07-03</td><td>2.54</td><td>missing</td><td>26.1111</td><td>22.2222</td><td>24.4444</td><td>0</td><td>missing</td></tr><tr><th>4</th><td>10001</td><td>1942-07-04</td><td>2.54</td><td>missing</td><td>26.6667</td><td>22.2222</td><td>24.4444</td><td>0</td><td>missing</td></tr><tr><th>5</th><td>10001</td><td>1942-07-05</td><td>0</td><td>missing</td><td>26.6667</td><td>21.6667</td><td>24.4444</td><td>0</td><td>missing</td></tr><tr><th>6</th><td>10001</td><td>1942-07-06</td><td>0</td><td>missing</td><td>26.6667</td><td>21.6667</td><td>24.4444</td><td>0</td><td>missing</td></tr><tr><th>7</th><td>10001</td><td>1942-07-07</td><td>T</td><td>missing</td><td>28.3333</td><td>22.7778</td><td>25.5556</td><td>0</td><td>missing</td></tr><tr><th>8</th><td>10001</td><td>1942-07-08</td><td>3.556</td><td>missing</td><td>26.6667</td><td>22.2222</td><td>24.4444</td><td>0</td><td>missing</td></tr><tr><th>9</th><td>10001</td><td>1942-07-09</td><td>T</td><td>missing</td><td>27.2222</td><td>22.7778</td><td>25.0</td><td>0</td><td>missing</td></tr><tr><th>10</th><td>10001</td><td>1942-07-10</td><td>3.556</td><td>missing</td><td>25.5556</td><td>21.6667</td><td>23.3333</td><td>0</td><td>missing</td></tr><tr><th>11</th><td>10001</td><td>1942-07-11</td><td>0</td><td>missing</td><td>25.5556</td><td>21.6667</td><td>23.3333</td><td>0</td><td>missing</td></tr><tr><th>12</th><td>10001</td><td>1942-07-12</td><td>0.508</td><td>missing</td><td>24.4444</td><td>22.2222</td><td>23.3333</td><td>0</td><td>missing</td></tr><tr><th>13</th><td>10001</td><td>1942-07-13</td><td>0</td><td>missing</td><td>26.1111</td><td>21.6667</td><td>23.8889</td><td>0</td><td>missing</td></tr><tr><th>14</th><td>10001</td><td>1942-07-14</td><td>0</td><td>missing</td><td>26.1111</td><td>22.2222</td><td>24.4444</td><td>0</td><td>missing</td></tr><tr><th>15</th><td>10001</td><td>1942-07-15</td><td>0</td><td>missing</td><td>25.5556</td><td>22.7778</td><td>24.4444</td><td>0</td><td>missing</td></tr><tr><th>16</th><td>10001</td><td>1942-07-16</td><td>T</td><td>missing</td><td>26.1111</td><td>21.1111</td><td>23.3333</td><td>0</td><td>missing</td></tr><tr><th>17</th><td>10001</td><td>1942-07-17</td><td>T</td><td>missing</td><td>28.3333</td><td>22.2222</td><td>25.5556</td><td>0</td><td>missing</td></tr><tr><th>18</th><td>10001</td><td>1942-07-18</td><td>T</td><td>missing</td><td>26.6667</td><td>21.1111</td><td>23.8889</td><td>0</td><td>missing</td></tr><tr><th>19</th><td>10001</td><td>1942-07-19</td><td>0</td><td>missing</td><td>27.7778</td><td>21.6667</td><td>24.4444</td><td>0</td><td>missing</td></tr><tr><th>20</th><td>10001</td><td>1942-07-20</td><td>0</td><td>missing</td><td>26.1111</td><td>20.0</td><td>23.3333</td><td>0</td><td>missing</td></tr><tr><th>21</th><td>10001</td><td>1942-07-21</td><td>T</td><td>missing</td><td>24.4444</td><td>21.6667</td><td>23.3333</td><td>0</td><td>missing</td></tr><tr><th>22</th><td>10001</td><td>1942-07-22</td><td>T</td><td>missing</td><td>24.4444</td><td>21.1111</td><td>22.7778</td><td>0</td><td>missing</td></tr><tr><th>23</th><td>10001</td><td>1942-07-23</td><td>0</td><td>missing</td><td>26.6667</td><td>20.5556</td><td>23.3333</td><td>0</td><td>missing</td></tr><tr><th>24</th><td>10001</td><td>1942-07-24</td><td>0</td><td>missing</td><td>27.2222</td><td>18.8889</td><td>23.3333</td><td>0</td><td>missing</td></tr><tr><th>25</th><td>10001</td><td>1942-07-25</td><td>0</td><td>missing</td><td>27.2222</td><td>19.4444</td><td>23.3333</td><td>0</td><td>missing</td></tr><tr><th>26</th><td>10001</td><td>1942-07-26</td><td>0</td><td>missing</td><td>25.5556</td><td>19.4444</td><td>22.2222</td><td>0</td><td>missing</td></tr><tr><th>27</th><td>10001</td><td>1942-07-27</td><td>0</td><td>missing</td><td>25.5556</td><td>19.4444</td><td>22.7778</td><td>0</td><td>missing</td></tr><tr><th>28</th><td>10001</td><td>1942-07-28</td><td>0</td><td>missing</td><td>26.6667</td><td>19.4444</td><td>23.3333</td><td>0</td><td>missing</td></tr><tr><th>29</th><td>10001</td><td>1942-07-29</td><td>0</td><td>missing</td><td>26.6667</td><td>19.4444</td><td>23.3333</td><td>0</td><td>missing</td></tr><tr><th>30</th><td>10001</td><td>1942-07-30</td><td>0</td><td>missing</td><td>27.2222</td><td>19.4444</td><td>23.3333</td><td>0</td><td>missing</td></tr><tr><th>&vellip;</th><td>&vellip;</td><td>&vellip;</td><td>&vellip;</td><td>&vellip;</td><td>&vellip;</td><td>&vellip;</td><td>&vellip;</td><td>&vellip;</td><td>&vellip;</td></tr></tbody></table>"
      ],
      "text/latex": [
       "\\begin{tabular}{r|cccccccccc}\n",
       "\t& STA & Date & Precip & WindGustSpd & MaxTemp & MinTemp & MeanTemp & Snowfall & PoorWeather & \\\\\n",
       "\t\\hline\n",
       "\t& Int64 & Dates… & String & Float64⍰ & Float64 & Float64 & Float64 & String⍰ & String⍰ & \\\\\n",
       "\t\\hline\n",
       "\t1 & 10001 & 1942-07-01 & 1.016 &  & 25.5556 & 22.2222 & 23.8889 & 0 &  & $\\dots$ \\\\\n",
       "\t2 & 10001 & 1942-07-02 & 0 &  & 28.8889 & 21.6667 & 25.5556 & 0 &  & $\\dots$ \\\\\n",
       "\t3 & 10001 & 1942-07-03 & 2.54 &  & 26.1111 & 22.2222 & 24.4444 & 0 &  & $\\dots$ \\\\\n",
       "\t4 & 10001 & 1942-07-04 & 2.54 &  & 26.6667 & 22.2222 & 24.4444 & 0 &  & $\\dots$ \\\\\n",
       "\t5 & 10001 & 1942-07-05 & 0 &  & 26.6667 & 21.6667 & 24.4444 & 0 &  & $\\dots$ \\\\\n",
       "\t6 & 10001 & 1942-07-06 & 0 &  & 26.6667 & 21.6667 & 24.4444 & 0 &  & $\\dots$ \\\\\n",
       "\t7 & 10001 & 1942-07-07 & T &  & 28.3333 & 22.7778 & 25.5556 & 0 &  & $\\dots$ \\\\\n",
       "\t8 & 10001 & 1942-07-08 & 3.556 &  & 26.6667 & 22.2222 & 24.4444 & 0 &  & $\\dots$ \\\\\n",
       "\t9 & 10001 & 1942-07-09 & T &  & 27.2222 & 22.7778 & 25.0 & 0 &  & $\\dots$ \\\\\n",
       "\t10 & 10001 & 1942-07-10 & 3.556 &  & 25.5556 & 21.6667 & 23.3333 & 0 &  & $\\dots$ \\\\\n",
       "\t11 & 10001 & 1942-07-11 & 0 &  & 25.5556 & 21.6667 & 23.3333 & 0 &  & $\\dots$ \\\\\n",
       "\t12 & 10001 & 1942-07-12 & 0.508 &  & 24.4444 & 22.2222 & 23.3333 & 0 &  & $\\dots$ \\\\\n",
       "\t13 & 10001 & 1942-07-13 & 0 &  & 26.1111 & 21.6667 & 23.8889 & 0 &  & $\\dots$ \\\\\n",
       "\t14 & 10001 & 1942-07-14 & 0 &  & 26.1111 & 22.2222 & 24.4444 & 0 &  & $\\dots$ \\\\\n",
       "\t15 & 10001 & 1942-07-15 & 0 &  & 25.5556 & 22.7778 & 24.4444 & 0 &  & $\\dots$ \\\\\n",
       "\t16 & 10001 & 1942-07-16 & T &  & 26.1111 & 21.1111 & 23.3333 & 0 &  & $\\dots$ \\\\\n",
       "\t17 & 10001 & 1942-07-17 & T &  & 28.3333 & 22.2222 & 25.5556 & 0 &  & $\\dots$ \\\\\n",
       "\t18 & 10001 & 1942-07-18 & T &  & 26.6667 & 21.1111 & 23.8889 & 0 &  & $\\dots$ \\\\\n",
       "\t19 & 10001 & 1942-07-19 & 0 &  & 27.7778 & 21.6667 & 24.4444 & 0 &  & $\\dots$ \\\\\n",
       "\t20 & 10001 & 1942-07-20 & 0 &  & 26.1111 & 20.0 & 23.3333 & 0 &  & $\\dots$ \\\\\n",
       "\t21 & 10001 & 1942-07-21 & T &  & 24.4444 & 21.6667 & 23.3333 & 0 &  & $\\dots$ \\\\\n",
       "\t22 & 10001 & 1942-07-22 & T &  & 24.4444 & 21.1111 & 22.7778 & 0 &  & $\\dots$ \\\\\n",
       "\t23 & 10001 & 1942-07-23 & 0 &  & 26.6667 & 20.5556 & 23.3333 & 0 &  & $\\dots$ \\\\\n",
       "\t24 & 10001 & 1942-07-24 & 0 &  & 27.2222 & 18.8889 & 23.3333 & 0 &  & $\\dots$ \\\\\n",
       "\t25 & 10001 & 1942-07-25 & 0 &  & 27.2222 & 19.4444 & 23.3333 & 0 &  & $\\dots$ \\\\\n",
       "\t26 & 10001 & 1942-07-26 & 0 &  & 25.5556 & 19.4444 & 22.2222 & 0 &  & $\\dots$ \\\\\n",
       "\t27 & 10001 & 1942-07-27 & 0 &  & 25.5556 & 19.4444 & 22.7778 & 0 &  & $\\dots$ \\\\\n",
       "\t28 & 10001 & 1942-07-28 & 0 &  & 26.6667 & 19.4444 & 23.3333 & 0 &  & $\\dots$ \\\\\n",
       "\t29 & 10001 & 1942-07-29 & 0 &  & 26.6667 & 19.4444 & 23.3333 & 0 &  & $\\dots$ \\\\\n",
       "\t30 & 10001 & 1942-07-30 & 0 &  & 27.2222 & 19.4444 & 23.3333 & 0 &  & $\\dots$ \\\\\n",
       "\t$\\dots$ & $\\dots$ & $\\dots$ & $\\dots$ & $\\dots$ & $\\dots$ & $\\dots$ & $\\dots$ & $\\dots$ & $\\dots$ &  \\\\\n",
       "\\end{tabular}\n"
      ],
      "text/plain": [
       "119040×31 DataFrames.DataFrame. Omitted printing of 25 columns\n",
       "│ Row    │ STA   │ Date       │ Precip │ WindGustSpd │ MaxTemp │ MinTemp │\n",
       "│        │ \u001b[90mInt64\u001b[39m │ \u001b[90mDates.Date\u001b[39m │ \u001b[90mString\u001b[39m │ \u001b[90mFloat64⍰\u001b[39m    │ \u001b[90mFloat64\u001b[39m │ \u001b[90mFloat64\u001b[39m │\n",
       "├────────┼───────┼────────────┼────────┼─────────────┼─────────┼─────────┤\n",
       "│ 1      │ 10001 │ 1942-07-01 │ 1.016  │ \u001b[90mmissing\u001b[39m     │ 25.5556 │ 22.2222 │\n",
       "│ 2      │ 10001 │ 1942-07-02 │ 0      │ \u001b[90mmissing\u001b[39m     │ 28.8889 │ 21.6667 │\n",
       "│ 3      │ 10001 │ 1942-07-03 │ 2.54   │ \u001b[90mmissing\u001b[39m     │ 26.1111 │ 22.2222 │\n",
       "│ 4      │ 10001 │ 1942-07-04 │ 2.54   │ \u001b[90mmissing\u001b[39m     │ 26.6667 │ 22.2222 │\n",
       "│ 5      │ 10001 │ 1942-07-05 │ 0      │ \u001b[90mmissing\u001b[39m     │ 26.6667 │ 21.6667 │\n",
       "│ 6      │ 10001 │ 1942-07-06 │ 0      │ \u001b[90mmissing\u001b[39m     │ 26.6667 │ 21.6667 │\n",
       "│ 7      │ 10001 │ 1942-07-07 │ T      │ \u001b[90mmissing\u001b[39m     │ 28.3333 │ 22.7778 │\n",
       "│ 8      │ 10001 │ 1942-07-08 │ 3.556  │ \u001b[90mmissing\u001b[39m     │ 26.6667 │ 22.2222 │\n",
       "│ 9      │ 10001 │ 1942-07-09 │ T      │ \u001b[90mmissing\u001b[39m     │ 27.2222 │ 22.7778 │\n",
       "│ 10     │ 10001 │ 1942-07-10 │ 3.556  │ \u001b[90mmissing\u001b[39m     │ 25.5556 │ 21.6667 │\n",
       "⋮\n",
       "│ 119030 │ 82506 │ 1945-12-21 │ 0      │ \u001b[90mmissing\u001b[39m     │ 28.8889 │ 18.8889 │\n",
       "│ 119031 │ 82506 │ 1945-12-22 │ 0      │ \u001b[90mmissing\u001b[39m     │ 28.8889 │ 17.2222 │\n",
       "│ 119032 │ 82506 │ 1945-12-23 │ T      │ \u001b[90mmissing\u001b[39m     │ 28.3333 │ 18.3333 │\n",
       "│ 119033 │ 82506 │ 1945-12-24 │ 0      │ \u001b[90mmissing\u001b[39m     │ 28.3333 │ 20.0    │\n",
       "│ 119034 │ 82506 │ 1945-12-25 │ 0.508  │ \u001b[90mmissing\u001b[39m     │ 28.8889 │ 18.8889 │\n",
       "│ 119035 │ 82506 │ 1945-12-26 │ 0      │ \u001b[90mmissing\u001b[39m     │ 29.4444 │ 18.8889 │\n",
       "│ 119036 │ 82506 │ 1945-12-27 │ 0      │ \u001b[90mmissing\u001b[39m     │ 28.3333 │ 18.3333 │\n",
       "│ 119037 │ 82506 │ 1945-12-28 │ 9.906  │ \u001b[90mmissing\u001b[39m     │ 29.4444 │ 18.3333 │\n",
       "│ 119038 │ 82506 │ 1945-12-29 │ 0      │ \u001b[90mmissing\u001b[39m     │ 28.3333 │ 18.3333 │\n",
       "│ 119039 │ 82506 │ 1945-12-30 │ 0      │ \u001b[90mmissing\u001b[39m     │ 28.3333 │ 18.3333 │\n",
       "│ 119040 │ 82506 │ 1945-12-31 │ 0      │ \u001b[90mmissing\u001b[39m     │ 29.4444 │ 17.2222 │"
      ]
     },
     "execution_count": 1,
     "metadata": {},
     "output_type": "execute_result"
    }
   ],
   "source": [
    "using CSV\n",
    "df = CSV.read(\"Summary of Weather.csv\")"
   ]
  },
  {
   "cell_type": "code",
   "execution_count": 2,
   "metadata": {},
   "outputs": [],
   "source": [
    "using DataFrames\n",
    "using Dates"
   ]
  },
  {
   "cell_type": "code",
   "execution_count": 3,
   "metadata": {},
   "outputs": [
    {
     "data": {
      "text/plain": [
       "119040-element Array{DateTime,1}:\n",
       " 1942-07-01T00:00:00\n",
       " 1942-07-02T00:00:00\n",
       " 1942-07-03T00:00:00\n",
       " 1942-07-04T00:00:00\n",
       " 1942-07-05T00:00:00\n",
       " 1942-07-06T00:00:00\n",
       " 1942-07-07T00:00:00\n",
       " 1942-07-08T00:00:00\n",
       " 1942-07-09T00:00:00\n",
       " 1942-07-10T00:00:00\n",
       " 1942-07-11T00:00:00\n",
       " 1942-07-12T00:00:00\n",
       " 1942-07-13T00:00:00\n",
       " ⋮                  \n",
       " 1945-12-20T00:00:00\n",
       " 1945-12-21T00:00:00\n",
       " 1945-12-22T00:00:00\n",
       " 1945-12-23T00:00:00\n",
       " 1945-12-24T00:00:00\n",
       " 1945-12-25T00:00:00\n",
       " 1945-12-26T00:00:00\n",
       " 1945-12-27T00:00:00\n",
       " 1945-12-28T00:00:00\n",
       " 1945-12-29T00:00:00\n",
       " 1945-12-30T00:00:00\n",
       " 1945-12-31T00:00:00"
      ]
     },
     "execution_count": 3,
     "metadata": {},
     "output_type": "execute_result"
    }
   ],
   "source": [
    "df.Date = [i = DateTime(i) for i in df.Date]"
   ]
  },
  {
   "cell_type": "code",
   "execution_count": 4,
   "metadata": {},
   "outputs": [
    {
     "data": {
      "text/plain": [
       "119040-element Array{Int64,1}:\n",
       " 1942\n",
       " 1942\n",
       " 1942\n",
       " 1942\n",
       " 1942\n",
       " 1942\n",
       " 1942\n",
       " 1942\n",
       " 1942\n",
       " 1942\n",
       " 1942\n",
       " 1942\n",
       " 1942\n",
       "    ⋮\n",
       " 1945\n",
       " 1945\n",
       " 1945\n",
       " 1945\n",
       " 1945\n",
       " 1945\n",
       " 1945\n",
       " 1945\n",
       " 1945\n",
       " 1945\n",
       " 1945\n",
       " 1945"
      ]
     },
     "execution_count": 4,
     "metadata": {},
     "output_type": "execute_result"
    }
   ],
   "source": [
    "df.Date = [i = year(i) for i in df.Date]"
   ]
  },
  {
   "cell_type": "code",
   "execution_count": 5,
   "metadata": {},
   "outputs": [
    {
     "data": {
      "text/html": [
       "<table class=\"data-frame\"><thead><tr><th></th><th>Date</th><th>Precipitation</th><th>Temp</th></tr><tr><th></th><th>Int64</th><th>String</th><th>Float64</th></tr></thead><tbody><p>119,040 rows × 3 columns</p><tr><th>1</th><td>1942</td><td>1.016</td><td>23.8889</td></tr><tr><th>2</th><td>1942</td><td>0</td><td>25.5556</td></tr><tr><th>3</th><td>1942</td><td>2.54</td><td>24.4444</td></tr><tr><th>4</th><td>1942</td><td>2.54</td><td>24.4444</td></tr><tr><th>5</th><td>1942</td><td>0</td><td>24.4444</td></tr><tr><th>6</th><td>1942</td><td>0</td><td>24.4444</td></tr><tr><th>7</th><td>1942</td><td>T</td><td>25.5556</td></tr><tr><th>8</th><td>1942</td><td>3.556</td><td>24.4444</td></tr><tr><th>9</th><td>1942</td><td>T</td><td>25.0</td></tr><tr><th>10</th><td>1942</td><td>3.556</td><td>23.3333</td></tr><tr><th>11</th><td>1942</td><td>0</td><td>23.3333</td></tr><tr><th>12</th><td>1942</td><td>0.508</td><td>23.3333</td></tr><tr><th>13</th><td>1942</td><td>0</td><td>23.8889</td></tr><tr><th>14</th><td>1942</td><td>0</td><td>24.4444</td></tr><tr><th>15</th><td>1942</td><td>0</td><td>24.4444</td></tr><tr><th>16</th><td>1942</td><td>T</td><td>23.3333</td></tr><tr><th>17</th><td>1942</td><td>T</td><td>25.5556</td></tr><tr><th>18</th><td>1942</td><td>T</td><td>23.8889</td></tr><tr><th>19</th><td>1942</td><td>0</td><td>24.4444</td></tr><tr><th>20</th><td>1942</td><td>0</td><td>23.3333</td></tr><tr><th>21</th><td>1942</td><td>T</td><td>23.3333</td></tr><tr><th>22</th><td>1942</td><td>T</td><td>22.7778</td></tr><tr><th>23</th><td>1942</td><td>0</td><td>23.3333</td></tr><tr><th>24</th><td>1942</td><td>0</td><td>23.3333</td></tr><tr><th>25</th><td>1942</td><td>0</td><td>23.3333</td></tr><tr><th>26</th><td>1942</td><td>0</td><td>22.2222</td></tr><tr><th>27</th><td>1942</td><td>0</td><td>22.7778</td></tr><tr><th>28</th><td>1942</td><td>0</td><td>23.3333</td></tr><tr><th>29</th><td>1942</td><td>0</td><td>23.3333</td></tr><tr><th>30</th><td>1942</td><td>0</td><td>23.3333</td></tr><tr><th>&vellip;</th><td>&vellip;</td><td>&vellip;</td><td>&vellip;</td></tr></tbody></table>"
      ],
      "text/latex": [
       "\\begin{tabular}{r|ccc}\n",
       "\t& Date & Precipitation & Temp\\\\\n",
       "\t\\hline\n",
       "\t& Int64 & String & Float64\\\\\n",
       "\t\\hline\n",
       "\t1 & 1942 & 1.016 & 23.8889 \\\\\n",
       "\t2 & 1942 & 0 & 25.5556 \\\\\n",
       "\t3 & 1942 & 2.54 & 24.4444 \\\\\n",
       "\t4 & 1942 & 2.54 & 24.4444 \\\\\n",
       "\t5 & 1942 & 0 & 24.4444 \\\\\n",
       "\t6 & 1942 & 0 & 24.4444 \\\\\n",
       "\t7 & 1942 & T & 25.5556 \\\\\n",
       "\t8 & 1942 & 3.556 & 24.4444 \\\\\n",
       "\t9 & 1942 & T & 25.0 \\\\\n",
       "\t10 & 1942 & 3.556 & 23.3333 \\\\\n",
       "\t11 & 1942 & 0 & 23.3333 \\\\\n",
       "\t12 & 1942 & 0.508 & 23.3333 \\\\\n",
       "\t13 & 1942 & 0 & 23.8889 \\\\\n",
       "\t14 & 1942 & 0 & 24.4444 \\\\\n",
       "\t15 & 1942 & 0 & 24.4444 \\\\\n",
       "\t16 & 1942 & T & 23.3333 \\\\\n",
       "\t17 & 1942 & T & 25.5556 \\\\\n",
       "\t18 & 1942 & T & 23.8889 \\\\\n",
       "\t19 & 1942 & 0 & 24.4444 \\\\\n",
       "\t20 & 1942 & 0 & 23.3333 \\\\\n",
       "\t21 & 1942 & T & 23.3333 \\\\\n",
       "\t22 & 1942 & T & 22.7778 \\\\\n",
       "\t23 & 1942 & 0 & 23.3333 \\\\\n",
       "\t24 & 1942 & 0 & 23.3333 \\\\\n",
       "\t25 & 1942 & 0 & 23.3333 \\\\\n",
       "\t26 & 1942 & 0 & 22.2222 \\\\\n",
       "\t27 & 1942 & 0 & 22.7778 \\\\\n",
       "\t28 & 1942 & 0 & 23.3333 \\\\\n",
       "\t29 & 1942 & 0 & 23.3333 \\\\\n",
       "\t30 & 1942 & 0 & 23.3333 \\\\\n",
       "\t$\\dots$ & $\\dots$ & $\\dots$ & $\\dots$ \\\\\n",
       "\\end{tabular}\n"
      ],
      "text/plain": [
       "119040×3 DataFrame\n",
       "│ Row    │ Date  │ Precipitation │ Temp    │\n",
       "│        │ \u001b[90mInt64\u001b[39m │ \u001b[90mString\u001b[39m        │ \u001b[90mFloat64\u001b[39m │\n",
       "├────────┼───────┼───────────────┼─────────┤\n",
       "│ 1      │ 1942  │ 1.016         │ 23.8889 │\n",
       "│ 2      │ 1942  │ 0             │ 25.5556 │\n",
       "│ 3      │ 1942  │ 2.54          │ 24.4444 │\n",
       "│ 4      │ 1942  │ 2.54          │ 24.4444 │\n",
       "│ 5      │ 1942  │ 0             │ 24.4444 │\n",
       "│ 6      │ 1942  │ 0             │ 24.4444 │\n",
       "│ 7      │ 1942  │ T             │ 25.5556 │\n",
       "│ 8      │ 1942  │ 3.556         │ 24.4444 │\n",
       "│ 9      │ 1942  │ T             │ 25.0    │\n",
       "│ 10     │ 1942  │ 3.556         │ 23.3333 │\n",
       "⋮\n",
       "│ 119030 │ 1945  │ 0             │ 23.8889 │\n",
       "│ 119031 │ 1945  │ 0             │ 23.3333 │\n",
       "│ 119032 │ 1945  │ T             │ 23.3333 │\n",
       "│ 119033 │ 1945  │ 0             │ 24.4444 │\n",
       "│ 119034 │ 1945  │ 0.508         │ 23.8889 │\n",
       "│ 119035 │ 1945  │ 0             │ 24.4444 │\n",
       "│ 119036 │ 1945  │ 0             │ 23.3333 │\n",
       "│ 119037 │ 1945  │ 9.906         │ 23.8889 │\n",
       "│ 119038 │ 1945  │ 0             │ 23.3333 │\n",
       "│ 119039 │ 1945  │ 0             │ 23.3333 │\n",
       "│ 119040 │ 1945  │ 0             │ 23.3333 │"
      ]
     },
     "execution_count": 5,
     "metadata": {},
     "output_type": "execute_result"
    }
   ],
   "source": [
    "df = DataFrame(:Date => df.Date,:Precipitation => df.Precip,:Temp => df.MeanTemp)"
   ]
  },
  {
   "cell_type": "code",
   "execution_count": 6,
   "metadata": {},
   "outputs": [
    {
     "name": "stdout",
     "output_type": "stream",
     "text": [
      "1940\n",
      "1945\n"
     ]
    }
   ],
   "source": [
    "println(minimum(df.Date))\n",
    "println(maximum(df.Date))"
   ]
  },
  {
   "cell_type": "code",
   "execution_count": 7,
   "metadata": {},
   "outputs": [
    {
     "name": "stderr",
     "output_type": "stream",
     "text": [
      "┌ Warning: `getindex(df::DataFrame, col_ind::ColumnIndex)` is deprecated, use `df[!, col_ind]` instead.\n",
      "│   caller = top-level scope at In[7]:1\n",
      "└ @ Core In[7]:1\n"
     ]
    },
    {
     "data": {
      "text/html": [
       "<table class=\"data-frame\"><thead><tr><th></th><th>Date</th><th>Precipitation</th><th>Temp</th></tr><tr><th></th><th>Int64</th><th>String</th><th>Float64</th></tr></thead><tbody><p>78,737 rows × 3 columns</p><tr><th>1</th><td>1944</td><td>0</td><td>27.7778</td></tr><tr><th>2</th><td>1944</td><td>0</td><td>27.7778</td></tr><tr><th>3</th><td>1944</td><td>5.334</td><td>27.2222</td></tr><tr><th>4</th><td>1944</td><td>0</td><td>27.2222</td></tr><tr><th>5</th><td>1944</td><td>0</td><td>27.2222</td></tr><tr><th>6</th><td>1944</td><td>1.778</td><td>25.0</td></tr><tr><th>7</th><td>1944</td><td>0</td><td>26.6667</td></tr><tr><th>8</th><td>1944</td><td>0</td><td>27.7778</td></tr><tr><th>9</th><td>1944</td><td>0</td><td>27.7778</td></tr><tr><th>10</th><td>1944</td><td>0</td><td>27.7778</td></tr><tr><th>11</th><td>1944</td><td>0</td><td>27.7778</td></tr><tr><th>12</th><td>1944</td><td>0</td><td>27.7778</td></tr><tr><th>13</th><td>1944</td><td>0.762</td><td>26.6667</td></tr><tr><th>14</th><td>1944</td><td>0</td><td>25.5556</td></tr><tr><th>15</th><td>1944</td><td>0</td><td>26.6667</td></tr><tr><th>16</th><td>1944</td><td>0</td><td>27.2222</td></tr><tr><th>17</th><td>1944</td><td>0</td><td>27.7778</td></tr><tr><th>18</th><td>1944</td><td>0</td><td>27.7778</td></tr><tr><th>19</th><td>1944</td><td>0</td><td>27.7778</td></tr><tr><th>20</th><td>1944</td><td>0</td><td>27.7778</td></tr><tr><th>21</th><td>1944</td><td>0</td><td>28.3333</td></tr><tr><th>22</th><td>1944</td><td>0</td><td>28.3333</td></tr><tr><th>23</th><td>1944</td><td>0</td><td>28.3333</td></tr><tr><th>24</th><td>1944</td><td>0</td><td>27.7778</td></tr><tr><th>25</th><td>1944</td><td>0</td><td>27.7778</td></tr><tr><th>26</th><td>1944</td><td>0</td><td>26.6667</td></tr><tr><th>27</th><td>1944</td><td>0</td><td>27.7778</td></tr><tr><th>28</th><td>1944</td><td>0</td><td>27.2222</td></tr><tr><th>29</th><td>1944</td><td>0</td><td>27.7778</td></tr><tr><th>30</th><td>1944</td><td>0</td><td>27.7778</td></tr><tr><th>&vellip;</th><td>&vellip;</td><td>&vellip;</td><td>&vellip;</td></tr></tbody></table>"
      ],
      "text/latex": [
       "\\begin{tabular}{r|ccc}\n",
       "\t& Date & Precipitation & Temp\\\\\n",
       "\t\\hline\n",
       "\t& Int64 & String & Float64\\\\\n",
       "\t\\hline\n",
       "\t1 & 1944 & 0 & 27.7778 \\\\\n",
       "\t2 & 1944 & 0 & 27.7778 \\\\\n",
       "\t3 & 1944 & 5.334 & 27.2222 \\\\\n",
       "\t4 & 1944 & 0 & 27.2222 \\\\\n",
       "\t5 & 1944 & 0 & 27.2222 \\\\\n",
       "\t6 & 1944 & 1.778 & 25.0 \\\\\n",
       "\t7 & 1944 & 0 & 26.6667 \\\\\n",
       "\t8 & 1944 & 0 & 27.7778 \\\\\n",
       "\t9 & 1944 & 0 & 27.7778 \\\\\n",
       "\t10 & 1944 & 0 & 27.7778 \\\\\n",
       "\t11 & 1944 & 0 & 27.7778 \\\\\n",
       "\t12 & 1944 & 0 & 27.7778 \\\\\n",
       "\t13 & 1944 & 0.762 & 26.6667 \\\\\n",
       "\t14 & 1944 & 0 & 25.5556 \\\\\n",
       "\t15 & 1944 & 0 & 26.6667 \\\\\n",
       "\t16 & 1944 & 0 & 27.2222 \\\\\n",
       "\t17 & 1944 & 0 & 27.7778 \\\\\n",
       "\t18 & 1944 & 0 & 27.7778 \\\\\n",
       "\t19 & 1944 & 0 & 27.7778 \\\\\n",
       "\t20 & 1944 & 0 & 27.7778 \\\\\n",
       "\t21 & 1944 & 0 & 28.3333 \\\\\n",
       "\t22 & 1944 & 0 & 28.3333 \\\\\n",
       "\t23 & 1944 & 0 & 28.3333 \\\\\n",
       "\t24 & 1944 & 0 & 27.7778 \\\\\n",
       "\t25 & 1944 & 0 & 27.7778 \\\\\n",
       "\t26 & 1944 & 0 & 26.6667 \\\\\n",
       "\t27 & 1944 & 0 & 27.7778 \\\\\n",
       "\t28 & 1944 & 0 & 27.2222 \\\\\n",
       "\t29 & 1944 & 0 & 27.7778 \\\\\n",
       "\t30 & 1944 & 0 & 27.7778 \\\\\n",
       "\t$\\dots$ & $\\dots$ & $\\dots$ & $\\dots$ \\\\\n",
       "\\end{tabular}\n"
      ],
      "text/plain": [
       "78737×3 DataFrame\n",
       "│ Row   │ Date  │ Precipitation │ Temp    │\n",
       "│       │ \u001b[90mInt64\u001b[39m │ \u001b[90mString\u001b[39m        │ \u001b[90mFloat64\u001b[39m │\n",
       "├───────┼───────┼───────────────┼─────────┤\n",
       "│ 1     │ 1944  │ 0             │ 27.7778 │\n",
       "│ 2     │ 1944  │ 0             │ 27.7778 │\n",
       "│ 3     │ 1944  │ 5.334         │ 27.2222 │\n",
       "│ 4     │ 1944  │ 0             │ 27.2222 │\n",
       "│ 5     │ 1944  │ 0             │ 27.2222 │\n",
       "│ 6     │ 1944  │ 1.778         │ 25.0    │\n",
       "│ 7     │ 1944  │ 0             │ 26.6667 │\n",
       "│ 8     │ 1944  │ 0             │ 27.7778 │\n",
       "│ 9     │ 1944  │ 0             │ 27.7778 │\n",
       "│ 10    │ 1944  │ 0             │ 27.7778 │\n",
       "⋮\n",
       "│ 78727 │ 1945  │ 0             │ 23.8889 │\n",
       "│ 78728 │ 1945  │ 0             │ 23.3333 │\n",
       "│ 78729 │ 1945  │ T             │ 23.3333 │\n",
       "│ 78730 │ 1945  │ 0             │ 24.4444 │\n",
       "│ 78731 │ 1945  │ 0.508         │ 23.8889 │\n",
       "│ 78732 │ 1945  │ 0             │ 24.4444 │\n",
       "│ 78733 │ 1945  │ 0             │ 23.3333 │\n",
       "│ 78734 │ 1945  │ 9.906         │ 23.8889 │\n",
       "│ 78735 │ 1945  │ 0             │ 23.3333 │\n",
       "│ 78736 │ 1945  │ 0             │ 23.3333 │\n",
       "│ 78737 │ 1945  │ 0             │ 23.3333 │"
      ]
     },
     "execution_count": 7,
     "metadata": {},
     "output_type": "execute_result"
    }
   ],
   "source": [
    "high_dfy = df[(df[:Date].>=1944),:]"
   ]
  },
  {
   "cell_type": "code",
   "execution_count": 8,
   "metadata": {},
   "outputs": [],
   "source": [
    "using Lathe.stats: f_test"
   ]
  },
  {
   "cell_type": "code",
   "execution_count": 9,
   "metadata": {},
   "outputs": [
    {
     "ename": "UndefVarError",
     "evalue": "UndefVarError: independent_t not defined",
     "output_type": "error",
     "traceback": [
      "UndefVarError: independent_t not defined",
      "",
      "Stacktrace:",
      " [1] top-level scope at In[9]:1"
     ]
    }
   ],
   "source": [
    "independent_t(high_dfy.Temp,df.Temp)"
   ]
  },
  {
   "cell_type": "code",
   "execution_count": 10,
   "metadata": {},
   "outputs": [],
   "source": [
    "using Lathe.preprocess: TrainTestSplit"
   ]
  },
  {
   "cell_type": "code",
   "execution_count": 11,
   "metadata": {},
   "outputs": [
    {
     "data": {
      "text/plain": [
       "(89200×3 DataFrame\n",
       "│ Row   │ Date  │ Precipitation │ Temp    │\n",
       "│       │ \u001b[90mInt64\u001b[39m │ \u001b[90mString\u001b[39m        │ \u001b[90mFloat64\u001b[39m │\n",
       "├───────┼───────┼───────────────┼─────────┤\n",
       "│ 1     │ 1942  │ 1.016         │ 23.8889 │\n",
       "│ 2     │ 1942  │ 2.54          │ 24.4444 │\n",
       "│ 3     │ 1942  │ 0             │ 24.4444 │\n",
       "│ 4     │ 1942  │ 0             │ 24.4444 │\n",
       "│ 5     │ 1942  │ T             │ 25.5556 │\n",
       "│ 6     │ 1942  │ 3.556         │ 24.4444 │\n",
       "│ 7     │ 1942  │ T             │ 25.0    │\n",
       "│ 8     │ 1942  │ 3.556         │ 23.3333 │\n",
       "│ 9     │ 1942  │ 0             │ 23.8889 │\n",
       "│ 10    │ 1942  │ 0             │ 24.4444 │\n",
       "⋮\n",
       "│ 89190 │ 1945  │ 0             │ 25.5556 │\n",
       "│ 89191 │ 1945  │ 0             │ 25.5556 │\n",
       "│ 89192 │ 1945  │ 19.812        │ 25.0    │\n",
       "│ 89193 │ 1945  │ 0             │ 23.8889 │\n",
       "│ 89194 │ 1945  │ 0             │ 23.3333 │\n",
       "│ 89195 │ 1945  │ T             │ 23.3333 │\n",
       "│ 89196 │ 1945  │ 0             │ 24.4444 │\n",
       "│ 89197 │ 1945  │ 0             │ 23.3333 │\n",
       "│ 89198 │ 1945  │ 9.906         │ 23.8889 │\n",
       "│ 89199 │ 1945  │ 0             │ 23.3333 │\n",
       "│ 89200 │ 1945  │ 0             │ 23.3333 │, 29840×3 DataFrame\n",
       "│ Row   │ Date  │ Precipitation │ Temp    │\n",
       "│       │ \u001b[90mInt64\u001b[39m │ \u001b[90mString\u001b[39m        │ \u001b[90mFloat64\u001b[39m │\n",
       "├───────┼───────┼───────────────┼─────────┤\n",
       "│ 1     │ 1942  │ 0             │ 25.5556 │\n",
       "│ 2     │ 1942  │ 2.54          │ 24.4444 │\n",
       "│ 3     │ 1942  │ 0             │ 23.3333 │\n",
       "│ 4     │ 1942  │ 0.508         │ 23.3333 │\n",
       "│ 5     │ 1942  │ 0             │ 24.4444 │\n",
       "│ 6     │ 1942  │ T             │ 23.3333 │\n",
       "│ 7     │ 1942  │ 0             │ 23.3333 │\n",
       "│ 8     │ 1942  │ 0             │ 22.2222 │\n",
       "│ 9     │ 1942  │ 0             │ 22.7778 │\n",
       "│ 10    │ 1942  │ T             │ 23.8889 │\n",
       "⋮\n",
       "│ 29830 │ 1945  │ 24.384        │ 23.3333 │\n",
       "│ 29831 │ 1945  │ 0.762         │ 23.3333 │\n",
       "│ 29832 │ 1945  │ 0.762         │ 22.7778 │\n",
       "│ 29833 │ 1945  │ 0.254         │ 25.5556 │\n",
       "│ 29834 │ 1945  │ 0.762         │ 25.5556 │\n",
       "│ 29835 │ 1945  │ 0             │ 25.0    │\n",
       "│ 29836 │ 1945  │ 10.16         │ 22.2222 │\n",
       "│ 29837 │ 1945  │ 0             │ 22.2222 │\n",
       "│ 29838 │ 1945  │ 0.508         │ 23.8889 │\n",
       "│ 29839 │ 1945  │ 0             │ 24.4444 │\n",
       "│ 29840 │ 1945  │ 0             │ 23.3333 │)"
      ]
     },
     "execution_count": 11,
     "metadata": {},
     "output_type": "execute_result"
    }
   ],
   "source": [
    "train,test = TrainTestSplit(df)"
   ]
  },
  {
   "cell_type": "code",
   "execution_count": 19,
   "metadata": {},
   "outputs": [
    {
     "name": "stderr",
     "output_type": "stream",
     "text": [
      "┌ Warning: `getindex(df::DataFrame, col_ind::ColumnIndex)` is deprecated, use `df[!, col_ind]` instead.\n",
      "│   caller = top-level scope at In[19]:3\n",
      "└ @ Core In[19]:3\n",
      "┌ Warning: `getindex(df::DataFrame, col_ind::ColumnIndex)` is deprecated, use `df[!, col_ind]` instead.\n",
      "│   caller = top-level scope at In[19]:4\n",
      "└ @ Core In[19]:4\n",
      "┌ Warning: `getindex(df::DataFrame, col_ind::ColumnIndex)` is deprecated, use `df[!, col_ind]` instead.\n",
      "│   caller = top-level scope at In[19]:5\n",
      "└ @ Core In[19]:5\n",
      "┌ Warning: `getindex(df::DataFrame, col_ind::ColumnIndex)` is deprecated, use `df[!, col_ind]` instead.\n",
      "│   caller = top-level scope at In[19]:6\n",
      "└ @ Core In[19]:6\n"
     ]
    },
    {
     "data": {
      "text/plain": [
       "29840-element Array{Float64,1}:\n",
       " 25.55555556\n",
       " 24.44444444\n",
       " 23.33333333\n",
       " 23.33333333\n",
       " 24.44444444\n",
       " 23.33333333\n",
       " 23.33333333\n",
       " 22.22222222\n",
       " 22.77777778\n",
       " 23.88888889\n",
       " 23.33333333\n",
       " 23.33333333\n",
       " 22.22222222\n",
       "  ⋮         \n",
       " 22.22222222\n",
       " 23.33333333\n",
       " 23.33333333\n",
       " 22.77777778\n",
       " 25.55555556\n",
       " 25.55555556\n",
       " 25.0       \n",
       " 22.22222222\n",
       " 22.22222222\n",
       " 23.88888889\n",
       " 24.44444444\n",
       " 23.33333333"
      ]
     },
     "execution_count": 19,
     "metadata": {},
     "output_type": "execute_result"
    }
   ],
   "source": [
    "target = :Temp\n",
    "feature = :Date\n",
    "trainX = train[feature]\n",
    "trainy = train[target]\n",
    "testX = test[feature]\n",
    "testy = test[target]"
   ]
  },
  {
   "cell_type": "code",
   "execution_count": 27,
   "metadata": {},
   "outputs": [],
   "source": [
    "using Lathe.models: LinearLeastSquare\n",
    "using Lathe.preprocess: StandardScalar"
   ]
  },
  {
   "cell_type": "code",
   "execution_count": 29,
   "metadata": {},
   "outputs": [
    {
     "data": {
      "text/plain": [
       "LinearLeastSquare(Any[-0.0409926, -0.0409926, -0.0409926, -0.0409926, -0.0409926, -0.0409926, -0.0409926, -0.0409926, -0.0409926, -0.0409926  …  0.0270521, 0.0270521, 0.0270521, 0.0270521, 0.0270521, 0.0270521, 0.0270521, 0.0270521, 0.0270521, 0.0270521], [23.8889, 24.4444, 24.4444, 24.4444, 25.5556, 24.4444, 25.0, 23.3333, 23.8889, 24.4444  …  25.5556, 25.0, 23.8889, 23.3333, 23.3333, 24.4444, 23.3333, 23.8889, 23.3333, 23.3333], :REG)"
      ]
     },
     "execution_count": 29,
     "metadata": {},
     "output_type": "execute_result"
    }
   ],
   "source": [
    "model = LinearLeastSquare(StandardScalar(trainX),trainy,:REG)"
   ]
  },
  {
   "cell_type": "code",
   "execution_count": 30,
   "metadata": {},
   "outputs": [
    {
     "data": {
      "text/plain": [
       "29840-element Array{Any,1}:\n",
       " 22.232087513675584\n",
       " 22.232087513675584\n",
       " 22.232087513675584\n",
       " 22.232087513675584\n",
       " 22.232087513675584\n",
       " 22.232087513675584\n",
       " 22.232087513675584\n",
       " 22.232087513675584\n",
       " 22.232087513675584\n",
       " 22.232087513675584\n",
       " 22.232087513675584\n",
       " 22.232087513675584\n",
       " 22.232087513675584\n",
       "  ⋮                \n",
       " 22.48916310084232 \n",
       " 22.48916310084232 \n",
       " 22.48916310084232 \n",
       " 22.48916310084232 \n",
       " 22.48916310084232 \n",
       " 22.48916310084232 \n",
       " 22.48916310084232 \n",
       " 22.48916310084232 \n",
       " 22.48916310084232 \n",
       " 22.48916310084232 \n",
       " 22.48916310084232 \n",
       " 22.48916310084232 "
      ]
     },
     "execution_count": 30,
     "metadata": {},
     "output_type": "execute_result"
    }
   ],
   "source": [
    "using Lathe.models: predict\n",
    "y_pred = predict(model,StandardScalar(testX))"
   ]
  },
  {
   "cell_type": "code",
   "execution_count": 35,
   "metadata": {},
   "outputs": [],
   "source": [
    "using Lathe.validate: mae,r2"
   ]
  },
  {
   "cell_type": "code",
   "execution_count": 38,
   "metadata": {},
   "outputs": [
    {
     "data": {
      "text/plain": [
       "0.10118477752343485"
      ]
     },
     "execution_count": 38,
     "metadata": {},
     "output_type": "execute_result"
    }
   ],
   "source": [
    "mae(y_pred,testy)"
   ]
  },
  {
   "cell_type": "code",
   "execution_count": 39,
   "metadata": {},
   "outputs": [
    {
     "data": {
      "text/plain": [
       "Pipeline(typeof(StandardScalar)[StandardScalar], LinearLeastSquare(Any[-0.0409926, -0.0409926, -0.0409926, -0.0409926, -0.0409926, -0.0409926, -0.0409926, -0.0409926, -0.0409926, -0.0409926  …  0.0270521, 0.0270521, 0.0270521, 0.0270521, 0.0270521, 0.0270521, 0.0270521, 0.0270521, 0.0270521, 0.0270521], [23.8889, 24.4444, 24.4444, 24.4444, 25.5556, 24.4444, 25.0, 23.3333, 23.8889, 24.4444  …  25.5556, 25.0, 23.8889, 23.3333, 23.3333, 24.4444, 23.3333, 23.8889, 23.3333, 23.3333], :REG))"
      ]
     },
     "execution_count": 39,
     "metadata": {},
     "output_type": "execute_result"
    }
   ],
   "source": [
    "using Lathe.pipelines: Pipeline,pippredict\n",
    "pipe = Pipeline([StandardScalar],model)"
   ]
  },
  {
   "cell_type": "code",
   "execution_count": 40,
   "metadata": {},
   "outputs": [
    {
     "data": {
      "text/plain": [
       "29840-element Array{Any,1}:\n",
       " 24.830627196822824\n",
       " 23.945404261108845\n",
       " 23.060181333361864\n",
       " 23.060181333361864\n",
       " 23.945404261108845\n",
       " 23.060181333361864\n",
       " 23.060181333361864\n",
       " 22.174958405614884\n",
       " 22.61756987347188 \n",
       " 23.502792801218856\n",
       " 23.060181333361864\n",
       " 23.060181333361864\n",
       " 22.174958405614884\n",
       "  ⋮                \n",
       " 22.174958405614884\n",
       " 23.060181333361864\n",
       " 23.060181333361864\n",
       " 22.61756987347188 \n",
       " 24.830627196822824\n",
       " 24.830627196822824\n",
       " 24.388015728965836\n",
       " 22.174958405614884\n",
       " 22.174958405614884\n",
       " 23.502792801218856\n",
       " 23.945404261108845\n",
       " 23.060181333361864"
      ]
     },
     "execution_count": 40,
     "metadata": {},
     "output_type": "execute_result"
    }
   ],
   "source": [
    "pippredict(pipe,testy)"
   ]
  },
  {
   "cell_type": "code",
   "execution_count": 43,
   "metadata": {},
   "outputs": [],
   "source": [
    "using JLD2\n",
    "@save \"algorithm.jld2\" pipe"
   ]
  },
  {
   "cell_type": "code",
   "execution_count": 44,
   "metadata": {},
   "outputs": [
    {
     "data": {
      "text/plain": [
       "1-element Array{Symbol,1}:\n",
       " :pipe"
      ]
     },
     "execution_count": 44,
     "metadata": {},
     "output_type": "execute_result"
    }
   ],
   "source": [
    "@load \"algorithm.jld2\""
   ]
  },
  {
   "cell_type": "code",
   "execution_count": 45,
   "metadata": {},
   "outputs": [
    {
     "data": {
      "text/plain": [
       "29840-element Array{Any,1}:\n",
       " 24.830627196822824\n",
       " 23.945404261108845\n",
       " 23.060181333361864\n",
       " 23.060181333361864\n",
       " 23.945404261108845\n",
       " 23.060181333361864\n",
       " 23.060181333361864\n",
       " 22.174958405614884\n",
       " 22.61756987347188 \n",
       " 23.502792801218856\n",
       " 23.060181333361864\n",
       " 23.060181333361864\n",
       " 22.174958405614884\n",
       "  ⋮                \n",
       " 22.174958405614884\n",
       " 23.060181333361864\n",
       " 23.060181333361864\n",
       " 22.61756987347188 \n",
       " 24.830627196822824\n",
       " 24.830627196822824\n",
       " 24.388015728965836\n",
       " 22.174958405614884\n",
       " 22.174958405614884\n",
       " 23.502792801218856\n",
       " 23.945404261108845\n",
       " 23.060181333361864"
      ]
     },
     "execution_count": 45,
     "metadata": {},
     "output_type": "execute_result"
    }
   ],
   "source": [
    "pippredict(pipe,testy)"
   ]
  },
  {
   "cell_type": "code",
   "execution_count": null,
   "metadata": {},
   "outputs": [],
   "source": []
  }
 ],
 "metadata": {
  "kernelspec": {
   "display_name": "Julia 1.0.3",
   "language": "julia",
   "name": "julia-1.0"
  },
  "language_info": {
   "file_extension": ".jl",
   "mimetype": "application/julia",
   "name": "julia",
   "version": "1.0.4"
  }
 },
 "nbformat": 4,
 "nbformat_minor": 2
}
