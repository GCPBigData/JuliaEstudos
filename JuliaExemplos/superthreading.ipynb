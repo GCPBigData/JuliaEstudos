{
 "cells": [
  {
   "cell_type": "code",
   "execution_count": 1,
   "metadata": {},
   "outputs": [],
   "source": [
    "using Base.Threads: @spawn\n",
    "using Base.Threads: nthreads"
   ]
  },
  {
   "cell_type": "code",
   "execution_count": 2,
   "metadata": {},
   "outputs": [
    {
     "data": {
      "text/plain": [
       "1"
      ]
     },
     "execution_count": 2,
     "metadata": {},
     "output_type": "execute_result"
    }
   ],
   "source": [
    "nthreads()"
   ]
  },
  {
   "cell_type": "code",
   "execution_count": 19,
   "metadata": {},
   "outputs": [
    {
     "data": {
      "text/plain": [
       "hanging (generic function with 1 method)"
      ]
     },
     "execution_count": 19,
     "metadata": {},
     "output_type": "execute_result"
    }
   ],
   "source": [
    "function hanging()\n",
    "    println(\"I'm hanging on thread:\", threadid())\n",
    "    while true\n",
    "        sleep(1)\n",
    "        print(\"h\")\n",
    "    end\n",
    "end"
   ]
  },
  {
   "cell_type": "code",
   "execution_count": 22,
   "metadata": {},
   "outputs": [
    {
     "name": "stdout",
     "output_type": "stream",
     "text": [
      "I'm hanging on thread:1\n",
      "hhhhhhhhhhhhhhhhhhhhhhhhhhhhhhhhhhhhhhhhhhhhhhhhhhhhhhhhhhhhhhhh"
     ]
    }
   ],
   "source": [
    "hang = @spawn hanging();"
   ]
  },
  {
   "cell_type": "code",
   "execution_count": 23,
   "metadata": {},
   "outputs": [
    {
     "name": "stdout",
     "output_type": "stream",
     "text": [
      "I'm hanging on thread:1\n",
      "hhhhhhhhhhhhhhhhhhhhhhhhhhhhhhhhhhhhhhhhhhhhhhhhhhhhhhhhhhhhhhhhhhhhhhhhhhhhhhhhh"
     ]
    }
   ],
   "source": [
    "hang2 = @spawn hanging();"
   ]
  },
  {
   "cell_type": "code",
   "execution_count": 27,
   "metadata": {},
   "outputs": [
    {
     "ename": "ErrorException",
     "evalue": "schedule: Task not runnable",
     "output_type": "error",
     "traceback": [
      "schedule: Task not runnable",
      "",
      "Stacktrace:",
      " [1] error(::String) at ./error.jl:33",
      " [2] schedule(::Task, ::Any; error::Bool) at ./task.jl:588",
      " [3] top-level scope at In[27]:1"
     ]
    },
    {
     "name": "stdout",
     "output_type": "stream",
     "text": [
      "hhhhhhh"
     ]
    }
   ],
   "source": [
    "schedule(hang2, ErrorException(\"stop\"), error=false)\n",
    "schedule(hang, ErrorException(\"stop\"), error=false)"
   ]
  },
  {
   "cell_type": "code",
   "execution_count": 28,
   "metadata": {},
   "outputs": [
    {
     "data": {
      "text/plain": [
       "Task (failed) @0x00007f4c787ddfc0\n",
       "\u001b[91mstop\u001b[39m\n",
       "try_yieldto(::typeof(Base.ensure_rescheduled), ::Base.RefValue{Task}) at ./task.jl:654\n",
       "wait at ./task.jl:710 [inlined]\n",
       "wait(::Base.GenericCondition{SpinLock}) at ./condition.jl:106\n",
       "_trywait(::Timer) at ./asyncevent.jl:110\n",
       "wait at ./asyncevent.jl:128 [inlined]\n",
       "sleep at ./asyncevent.jl:213 [inlined]\n",
       "hanging() at ./In[19]:4\n",
       "(::var\"#12#13\")() at ./threadingconstructs.jl:126"
      ]
     },
     "execution_count": 28,
     "metadata": {},
     "output_type": "execute_result"
    },
    {
     "name": "stdout",
     "output_type": "stream",
     "text": [
      "hhhhhhhhhhhhhhh"
     ]
    }
   ],
   "source": [
    "hang"
   ]
  },
  {
   "cell_type": "code",
   "execution_count": 29,
   "metadata": {},
   "outputs": [
    {
     "data": {
      "text/plain": [
       "Task (failed) @0x00007f4c787de4a0\n",
       "\u001b[91mstop\u001b[39m\n",
       "try_yieldto(::typeof(Base.ensure_rescheduled), ::Base.RefValue{Task}) at ./task.jl:654\n",
       "wait at ./task.jl:710 [inlined]\n",
       "wait(::Base.GenericCondition{SpinLock}) at ./condition.jl:106\n",
       "_trywait(::Timer) at ./asyncevent.jl:110\n",
       "wait at ./asyncevent.jl:128 [inlined]\n",
       "sleep at ./asyncevent.jl:213 [inlined]\n",
       "hanging() at ./In[19]:4\n",
       "(::var\"#14#15\")() at ./threadingconstructs.jl:126"
      ]
     },
     "execution_count": 29,
     "metadata": {},
     "output_type": "execute_result"
    },
    {
     "name": "stdout",
     "output_type": "stream",
     "text": [
      "hhhhhhhhhhhhhhhhhhhhhhhhhh"
     ]
    }
   ],
   "source": [
    "hang2"
   ]
  },
  {
   "cell_type": "code",
   "execution_count": 16,
   "metadata": {},
   "outputs": [
    {
     "data": {
      "text/plain": [
       "1"
      ]
     },
     "execution_count": 16,
     "metadata": {},
     "output_type": "execute_result"
    }
   ],
   "source": [
    "Threads.nthreads()"
   ]
  },
  {
   "cell_type": "code",
   "execution_count": 7,
   "metadata": {},
   "outputs": [],
   "source": [
    "a = []\n",
    "Threads.@threads for i = 1:10\n",
    "           push!(a,Threads.threadid())\n",
    "end"
   ]
  },
  {
   "cell_type": "code",
   "execution_count": 8,
   "metadata": {},
   "outputs": [
    {
     "data": {
      "text/plain": [
       "10-element Array{Any,1}:\n",
       " 1\n",
       " 1\n",
       " 1\n",
       " 1\n",
       " 1\n",
       " 1\n",
       " 1\n",
       " 1\n",
       " 1\n",
       " 1"
      ]
     },
     "execution_count": 8,
     "metadata": {},
     "output_type": "execute_result"
    }
   ],
   "source": [
    "a"
   ]
  },
  {
   "cell_type": "code",
   "execution_count": 9,
   "metadata": {},
   "outputs": [
    {
     "ename": "UndefVarError",
     "evalue": "UndefVarError: nprocs not defined",
     "output_type": "error",
     "traceback": [
      "UndefVarError: nprocs not defined",
      "",
      "Stacktrace:",
      " [1] top-level scope at In[9]:1"
     ]
    }
   ],
   "source": [
    "nprocs()"
   ]
  },
  {
   "cell_type": "code",
   "execution_count": 19,
   "metadata": {},
   "outputs": [
    {
     "data": {
      "text/plain": [
       "process (generic function with 1 method)"
      ]
     },
     "execution_count": 19,
     "metadata": {},
     "output_type": "execute_result"
    }
   ],
   "source": [
    "function process()\n",
    "    delta = 0\n",
    "    advance_process() = delta += .1\n",
    "    (var)->(delta;advance_process)\n",
    "end"
   ]
  },
  {
   "cell_type": "code",
   "execution_count": 20,
   "metadata": {},
   "outputs": [
    {
     "data": {
      "text/plain": [
       "proc (generic function with 1 method)"
      ]
     },
     "execution_count": 20,
     "metadata": {},
     "output_type": "execute_result"
    }
   ],
   "source": [
    "function proc(p)\n",
    "   while true\n",
    "        p.advance_process()\n",
    "    end\n",
    "end"
   ]
  },
  {
   "cell_type": "code",
   "execution_count": 38,
   "metadata": {},
   "outputs": [
    {
     "data": {
      "text/plain": [
       "instance (generic function with 1 method)"
      ]
     },
     "execution_count": 38,
     "metadata": {},
     "output_type": "execute_result"
    }
   ],
   "source": [
    "using Base.Threads: @spawn\n",
    "function instance()\n",
    "    p = process()\n",
    "    dltapc = @spawn proc(p)\n",
    "    get_delta() = p.delta\n",
    "    kill_dlta() = schedule(dltapc, ErrorException(\"stop\"), error=false)\n",
    "    (var)->(p;dltapc;get_delta;kill_dlta)\n",
    "end"
   ]
  },
  {
   "cell_type": "code",
   "execution_count": 42,
   "metadata": {},
   "outputs": [],
   "source": [
    "macro bash_str(s) open(`bash`,\"w\",stdout) do io; print(io, s); end; end\n",
    "bash\"\"\"\n",
    "export JULIA_NUM_THREADS=8\n",
    "\"\"\""
   ]
  },
  {
   "cell_type": "code",
   "execution_count": 44,
   "metadata": {},
   "outputs": [
    {
     "data": {
      "text/plain": [
       "1"
      ]
     },
     "execution_count": 44,
     "metadata": {},
     "output_type": "execute_result"
    }
   ],
   "source": [
    "using Base.Threads: nthreads\n",
    "nthreads()"
   ]
  },
  {
   "cell_type": "code",
   "execution_count": 43,
   "metadata": {},
   "outputs": [
    {
     "data": {
      "text/plain": [
       "#31 (generic function with 1 method)"
      ]
     },
     "execution_count": 43,
     "metadata": {},
     "output_type": "execute_result"
    }
   ],
   "source": [
    "inst = instance()"
   ]
  },
  {
   "cell_type": "code",
   "execution_count": 41,
   "metadata": {},
   "outputs": [
    {
     "data": {
      "text/plain": [
       "Core.Box(4.487251701666038e6)"
      ]
     },
     "execution_count": 41,
     "metadata": {},
     "output_type": "execute_result"
    }
   ],
   "source": [
    "dl = inst.get_delta()"
   ]
  },
  {
   "cell_type": "code",
   "execution_count": 37,
   "metadata": {},
   "outputs": [
    {
     "ename": "ErrorException",
     "evalue": "type Box has no field dltapc",
     "output_type": "error",
     "traceback": [
      "type Box has no field dltapc",
      "",
      "Stacktrace:",
      " [1] getproperty(::Core.Box, ::Symbol) at ./Base.jl:33",
      " [2] top-level scope at In[37]:1"
     ]
    }
   ],
   "source": [
    "dl.dltapc"
   ]
  },
  {
   "cell_type": "code",
   "execution_count": null,
   "metadata": {},
   "outputs": [],
   "source": []
  }
 ],
 "metadata": {
  "@webio": {
   "lastCommId": null,
   "lastKernelId": null
  },
  "kernelspec": {
   "display_name": "Julia 1.2.0",
   "language": "julia",
   "name": "julia-1.2"
  },
  "language_info": {
   "file_extension": ".jl",
   "mimetype": "application/julia",
   "name": "julia",
   "version": "1.4.1"
  }
 },
 "nbformat": 4,
 "nbformat_minor": 2
}
