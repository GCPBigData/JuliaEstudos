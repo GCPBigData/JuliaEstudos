{
 "cells": [
  {
   "cell_type": "code",
   "execution_count": 1,
   "metadata": {},
   "outputs": [
    {
     "data": {
      "text/plain": [
       "VultaInstance (generic function with 1 method)"
      ]
     },
     "execution_count": 1,
     "metadata": {},
     "output_type": "execute_result"
    }
   ],
   "source": [
    "function VultaInstance(w::Int64,h::Int64,title::String,fs)\n",
    "  #   vk = VKInstance()\n",
    "    #  ^^ Temporary until I can figure out this out-dated documentation issue.\n",
    "    vk = 5\n",
    "    process = Window(w, h, title, fs)\n",
    "    terminate() = process.terminate()\n",
    "    () -> (process;vk;terminate)\n",
    "end\n"
   ]
  },
  {
   "cell_type": "code",
   "execution_count": 2,
   "metadata": {},
   "outputs": [
    {
     "name": "stderr",
     "output_type": "stream",
     "text": [
      "┌ Info: Recompiling stale cache file /home/emmett/.julia/compiled/v1.2/VulkanCore/TOtol.ji for VulkanCore [16167f82-ea26-5cba-b1de-ed6fd5e30a11]\n",
      "└ @ Base loading.jl:1240\n",
      "┌ Warning: Package VulkanCore does not have Libdl in its dependencies:\n",
      "│ - If you have VulkanCore checked out for development and have\n",
      "│   added Libdl as a dependency but haven't updated your primary\n",
      "│   environment's manifest file, try `Pkg.resolve()`.\n",
      "│ - Otherwise you may need to report an issue with VulkanCore\n",
      "└ Loading Libdl into VulkanCore from project dependency, future warnings for VulkanCore are suppressed.\n"
     ]
    },
    {
     "data": {
      "text/plain": [
       "VKInstance (generic function with 1 method)"
      ]
     },
     "execution_count": 2,
     "metadata": {},
     "output_type": "execute_result"
    }
   ],
   "source": [
    "using VulkanCore\n",
    "using VulkanCore.LibVulkan\n",
    "using CSyntax\n",
    "using GLFW\n",
    "function VKInstance()\n",
    "    sType = VK_STRUCTURE_TYPE_APPLICATION_INFO\n",
    "    pApplicationName = pointer(b\"Vulkan Instance\")\n",
    "    applicationVersion = VK_MAKE_VERSION(1, 1, 0)\n",
    "    pEngineName = pointer(b\"Vulta\")\n",
    "    engineVersion = VK_MAKE_VERSION(1, 1, 0)\n",
    "    apiVersion = VK_MAKE_VERSION(1, 1, 0)\n",
    "    appInfo = VK_APPLICATION_INFO(sType, C_NULL, pApplicationName, applicationVersion, pEngineName, engineVersion, apiVersion)\n",
    "    GLFW.VulkanSupported()\n",
    "        # fill create info\n",
    "    Type = VK_STRUCTURE_TYPE_INSTANCE_CREATE_INFO\n",
    "    flags = UInt32(0)\n",
    "    pApplicationInfo = @c Base.unsafe_convert(Ptr{VkApplicationInfo}, &appInfo)\n",
    "    enabledExtensionCount = Cuint(0)\n",
    "    ppEnabledExtensionNames = @c GLFW.GetRequiredInstanceExtensions(&enabledExtensionCount)\n",
    "    enabledLayerCount = Cuint(0)\n",
    "    ppEnabledLayerNames = C_NULL\n",
    "    createInfo = @c VkInstanceCreateInfo(sType, C_NULL, flags, pApplicationInfo, enabledLayerCount, ppEnabledLayerNames, enabledExtensionCount, ppEnabledExtensionNames)\n",
    "    # create instance\n",
    "    instance = VkInstance(C_NULL)\n",
    "    result = @c vkCreateInstance(&createInfo, C_NULL, &instance)\n",
    "    result != VK_SUCCESS && error(\"failed to create instance!\")\n",
    "    () -> (applicationVersion)\n",
    "end\n"
   ]
  },
  {
   "cell_type": "code",
   "execution_count": 3,
   "metadata": {},
   "outputs": [
    {
     "data": {
      "text/plain": [
       "kill (generic function with 1 method)"
      ]
     },
     "execution_count": 3,
     "metadata": {},
     "output_type": "execute_result"
    }
   ],
   "source": [
    "\n",
    "function Window(WIDTH, HEIGHT, title,fullscreen=false)\n",
    "    GLFW.WindowHint(GLFW.CLIENT_API, GLFW.NO_API)    # NO_API well prevent\n",
    "    GLFW.WindowHint(GLFW.RESIZABLE, 0)                # Open GL context\n",
    "    if fullscreen == false\n",
    "        window = GLFW.CreateWindow(WIDTH, HEIGHT, title)\n",
    "    else\n",
    "        window = GLFW.CreateWindow(WIDTH, HEIGHT, title,\n",
    "        GLFW.glfwGetPrimaryMonitor())\n",
    "    end\n",
    "    dead = false\n",
    "    loop = event_loop()\n",
    "    terminate() = kill(window,loop);dead=true\n",
    "    ()->(window;terminate;delta;instance;dead;loop)\n",
    "end\n",
    "function kill(window,loop)\n",
    "    GLFW.DestroyWindow(window)\n",
    "    loop.terminate()\n",
    "end\n"
   ]
  },
  {
   "cell_type": "code",
   "execution_count": 4,
   "metadata": {},
   "outputs": [
    {
     "data": {
      "text/plain": [
       "event_loop (generic function with 1 method)"
      ]
     },
     "execution_count": 4,
     "metadata": {},
     "output_type": "execute_result"
    }
   ],
   "source": [
    "function event_loop()\n",
    "    dead = false\n",
    "    dlta = 0\n",
    "    @threadit while dead == false\n",
    "        dlta = dlta + .1\n",
    "    end\n",
    "    terminate() = dead = true\n",
    "    (var)->(dlta;terminate)\n",
    "end"
   ]
  },
  {
   "cell_type": "code",
   "execution_count": 5,
   "metadata": {},
   "outputs": [
    {
     "ename": "UndefVarError",
     "evalue": "UndefVarError: dead not defined",
     "output_type": "error",
     "traceback": [
      "UndefVarError: dead not defined",
      "",
      "Stacktrace:",
      " [1] macro expansion at ./threadingconstructs.jl:75 [inlined]",
      " [2] macro expansion at ./In[3]:3 [inlined]",
      " [3] event_loop at ./In[4]:4 [inlined]",
      " [4] Window(::Int64, ::Int64, ::String, ::Bool) at ./In[3]:18",
      " [5] VultaInstance(::Int64, ::Int64, ::String, ::Bool) at ./In[1]:5",
      " [6] top-level scope at In[5]:1"
     ]
    }
   ],
   "source": [
    "d = VultaInstance(1280,720,\"instant\",false)"
   ]
  },
  {
   "cell_type": "code",
   "execution_count": 6,
   "metadata": {},
   "outputs": [
    {
     "ename": "UndefVarError",
     "evalue": "UndefVarError: d not defined",
     "output_type": "error",
     "traceback": [
      "UndefVarError: d not defined",
      "",
      "Stacktrace:",
      " [1] top-level scope at In[6]:1"
     ]
    }
   ],
   "source": [
    "d.terminate()"
   ]
  },
  {
   "cell_type": "code",
   "execution_count": 1,
   "metadata": {},
   "outputs": [
    {
     "data": {
      "text/plain": [
       "@threadit (macro with 1 method)"
      ]
     },
     "execution_count": 1,
     "metadata": {},
     "output_type": "execute_result"
    }
   ],
   "source": [
    "macro threadit(b)\n",
    "    quote\n",
    "       Threads.@threads for _ in Base.OneTo(Threads.nthreads())\n",
    "            $b\n",
    "        end\n",
    "    end\n",
    "end"
   ]
  },
  {
   "cell_type": "code",
   "execution_count": null,
   "metadata": {},
   "outputs": [],
   "source": [
    "using Base.Threads"
   ]
  },
  {
   "cell_type": "code",
   "execution_count": 2,
   "metadata": {},
   "outputs": [
    {
     "data": {
      "text/plain": [
       "0"
      ]
     },
     "execution_count": 2,
     "metadata": {},
     "output_type": "execute_result"
    }
   ],
   "source": [
    "delta = 0"
   ]
  },
  {
   "cell_type": "code",
   "execution_count": null,
   "metadata": {},
   "outputs": [],
   "source": [
    "loop = Threads.@spawn VULTA_LOOP();"
   ]
  },
  {
   "cell_type": "code",
   "execution_count": null,
   "metadata": {},
   "outputs": [],
   "source": [
    "loop"
   ]
  },
  {
   "cell_type": "code",
   "execution_count": 15,
   "metadata": {},
   "outputs": [
    {
     "name": "stdout",
     "output_type": "stream",
     "text": [
      "0\n"
     ]
    }
   ],
   "source": [
    "println(delta)"
   ]
  },
  {
   "cell_type": "code",
   "execution_count": null,
   "metadata": {},
   "outputs": [],
   "source": [
    "schedule(loop, ErrorException(\"stop\"), error=false)"
   ]
  },
  {
   "cell_type": "code",
   "execution_count": 17,
   "metadata": {},
   "outputs": [
    {
     "data": {
      "text/plain": [
       "hanging (generic function with 1 method)"
      ]
     },
     "execution_count": 17,
     "metadata": {},
     "output_type": "execute_result"
    }
   ],
   "source": [
    "function hanging()\n",
    "    println(\"I'm hanging on thread:\", threadid())\n",
    "    delta = 0\n",
    "    while true\n",
    "        delta += 1\n",
    "        \n",
    "    end\n",
    "    return(delta)\n",
    "end"
   ]
  },
  {
   "cell_type": "code",
   "execution_count": null,
   "metadata": {},
   "outputs": [],
   "source": [
    "h = hanging()"
   ]
  },
  {
   "cell_type": "code",
   "execution_count": null,
   "metadata": {},
   "outputs": [],
   "source": [
    "h = loop"
   ]
  },
  {
   "cell_type": "code",
   "execution_count": 3,
   "metadata": {},
   "outputs": [
    {
     "data": {
      "text/plain": [
       "VULTA_LOOP (generic function with 1 method)"
      ]
     },
     "execution_count": 3,
     "metadata": {},
     "output_type": "execute_result"
    }
   ],
   "source": [
    "function VULTA_LOOP()\n",
    "    delta = 0\n",
    "    while true\n",
    "        delta += 1\n",
    "    end\n",
    "end"
   ]
  },
  {
   "cell_type": "code",
   "execution_count": null,
   "metadata": {},
   "outputs": [],
   "source": [
    "Threads.@spawn while 5 ==5\n",
    "    continue\n",
    "end"
   ]
  },
  {
   "cell_type": "code",
   "execution_count": null,
   "metadata": {},
   "outputs": [],
   "source": []
  },
  {
   "cell_type": "code",
   "execution_count": null,
   "metadata": {},
   "outputs": [],
   "source": []
  }
 ],
 "metadata": {
  "@webio": {
   "lastCommId": null,
   "lastKernelId": null
  },
  "kernelspec": {
   "display_name": "Julia 1.2.0",
   "language": "julia",
   "name": "julia-1.2"
  },
  "language_info": {
   "file_extension": ".jl",
   "mimetype": "application/julia",
   "name": "julia",
   "version": "1.4.1"
  }
 },
 "nbformat": 4,
 "nbformat_minor": 2
}
