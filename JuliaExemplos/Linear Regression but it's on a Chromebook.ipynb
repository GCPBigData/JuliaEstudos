{
 "cells": [
  {
   "cell_type": "markdown",
   "metadata": {},
   "source": [
    "# Linear Regression on a Chromebook\n",
    "Let the truth be told, I have obtained a new toy, that being a Chromebook. As with anything else, of course I'm tinkering it to death, but focusing more on high-level tinkering, rather than typical bios flashing and things of that nature. I genuinely like ChromeOS, and the latest implementations allow for this:\\\n",
    "**Doing DS on a Chromebook** And don't think I mean remotely, this server is running locally, along with the packages and dependencies needed to make this happen. If you have a Chromebook, it's a simple as either using multiarch, or the arm packages in Debian buster. You can edit the sources.list file under /etc/apt/sources.list and modify the source directories, effectively making the image that ChromeOS uses a Debian 10 image rather than a Debian 9 image."
   ]
  },
  {
   "cell_type": "code",
   "execution_count": 16,
   "metadata": {},
   "outputs": [
    {
     "data": {
      "text/plain": [
       "gen_data (generic function with 1 method)"
      ]
     },
     "execution_count": 16,
     "metadata": {},
     "output_type": "execute_result"
    }
   ],
   "source": [
    "using DataFrames\n",
    "using Random"
   ]
  },
  {
   "cell_type": "code",
   "execution_count": 24,
   "metadata": {},
   "outputs": [
    {
     "data": {
      "text/html": [
       "<table class=\"data-frame\"><thead><tr><th></th><th>a</th><th>b</th></tr><tr><th></th><th>Int64</th><th>Int64</th></tr></thead><tbody><p>45 rows × 2 columns</p><tr><th>1</th><td>1</td><td>15</td></tr><tr><th>2</th><td>5</td><td>75</td></tr><tr><th>3</th><td>6</td><td>90</td></tr><tr><th>4</th><td>7</td><td>105</td></tr><tr><th>5</th><td>4</td><td>60</td></tr><tr><th>6</th><td>6</td><td>90</td></tr><tr><th>7</th><td>7</td><td>105</td></tr><tr><th>8</th><td>3</td><td>45</td></tr><tr><th>9</th><td>5</td><td>75</td></tr><tr><th>10</th><td>7</td><td>105</td></tr><tr><th>11</th><td>4</td><td>60</td></tr><tr><th>12</th><td>6</td><td>90</td></tr><tr><th>13</th><td>7</td><td>105</td></tr><tr><th>14</th><td>8</td><td>120</td></tr><tr><th>15</th><td>4</td><td>60</td></tr><tr><th>16</th><td>6</td><td>90</td></tr><tr><th>17</th><td>8</td><td>120</td></tr><tr><th>18</th><td>5</td><td>75</td></tr><tr><th>19</th><td>10</td><td>150</td></tr><tr><th>20</th><td>9</td><td>135</td></tr><tr><th>21</th><td>5</td><td>75</td></tr><tr><th>22</th><td>6</td><td>90</td></tr><tr><th>23</th><td>7</td><td>105</td></tr><tr><th>24</th><td>1</td><td>15</td></tr><tr><th>25</th><td>14</td><td>210</td></tr><tr><th>26</th><td>12</td><td>180</td></tr><tr><th>27</th><td>16</td><td>240</td></tr><tr><th>28</th><td>65</td><td>975</td></tr><tr><th>29</th><td>44</td><td>660</td></tr><tr><th>30</th><td>23</td><td>345</td></tr><tr><th>&vellip;</th><td>&vellip;</td><td>&vellip;</td></tr></tbody></table>"
      ],
      "text/latex": [
       "\\begin{tabular}{r|cc}\n",
       "\t& a & b\\\\\n",
       "\t\\hline\n",
       "\t& Int64 & Int64\\\\\n",
       "\t\\hline\n",
       "\t1 & 1 & 15 \\\\\n",
       "\t2 & 5 & 75 \\\\\n",
       "\t3 & 6 & 90 \\\\\n",
       "\t4 & 7 & 105 \\\\\n",
       "\t5 & 4 & 60 \\\\\n",
       "\t6 & 6 & 90 \\\\\n",
       "\t7 & 7 & 105 \\\\\n",
       "\t8 & 3 & 45 \\\\\n",
       "\t9 & 5 & 75 \\\\\n",
       "\t10 & 7 & 105 \\\\\n",
       "\t11 & 4 & 60 \\\\\n",
       "\t12 & 6 & 90 \\\\\n",
       "\t13 & 7 & 105 \\\\\n",
       "\t14 & 8 & 120 \\\\\n",
       "\t15 & 4 & 60 \\\\\n",
       "\t16 & 6 & 90 \\\\\n",
       "\t17 & 8 & 120 \\\\\n",
       "\t18 & 5 & 75 \\\\\n",
       "\t19 & 10 & 150 \\\\\n",
       "\t20 & 9 & 135 \\\\\n",
       "\t21 & 5 & 75 \\\\\n",
       "\t22 & 6 & 90 \\\\\n",
       "\t23 & 7 & 105 \\\\\n",
       "\t24 & 1 & 15 \\\\\n",
       "\t25 & 14 & 210 \\\\\n",
       "\t26 & 12 & 180 \\\\\n",
       "\t27 & 16 & 240 \\\\\n",
       "\t28 & 65 & 975 \\\\\n",
       "\t29 & 44 & 660 \\\\\n",
       "\t30 & 23 & 345 \\\\\n",
       "\t$\\dots$ & $\\dots$ & $\\dots$ \\\\\n",
       "\\end{tabular}\n"
      ],
      "text/plain": [
       "45×2 DataFrame\n",
       "│ Row │ a     │ b     │\n",
       "│     │ \u001b[90mInt64\u001b[39m │ \u001b[90mInt64\u001b[39m │\n",
       "├─────┼───────┼───────┤\n",
       "│ 1   │ 1     │ 15    │\n",
       "│ 2   │ 5     │ 75    │\n",
       "│ 3   │ 6     │ 90    │\n",
       "│ 4   │ 7     │ 105   │\n",
       "│ 5   │ 4     │ 60    │\n",
       "│ 6   │ 6     │ 90    │\n",
       "│ 7   │ 7     │ 105   │\n",
       "│ 8   │ 3     │ 45    │\n",
       "│ 9   │ 5     │ 75    │\n",
       "│ 10  │ 7     │ 105   │\n",
       "⋮\n",
       "│ 35  │ 8     │ 120   │\n",
       "│ 36  │ 9     │ 135   │\n",
       "│ 37  │ 5     │ 75    │\n",
       "│ 38  │ 6     │ 90    │\n",
       "│ 39  │ 7     │ 105   │\n",
       "│ 40  │ 8     │ 120   │\n",
       "│ 41  │ 9     │ 135   │\n",
       "│ 42  │ 4     │ 60    │\n",
       "│ 43  │ 5     │ 75    │\n",
       "│ 44  │ 6     │ 90    │\n",
       "│ 45  │ 7     │ 105   │"
      ]
     },
     "execution_count": 24,
     "metadata": {},
     "output_type": "execute_result"
    }
   ],
   "source": [
    "a = [1,5,6,7,4,6,7,3,5,7,4,6,7,8,4,6,8,5,10,9,5,6,7,1,14,12,16,65,44,23,1,7,6,7,8,9,5,6,7,8,9,4,5,6,7]\n",
    "df = DataFrame(:a => a, :b => [b = b * 15 for b in a])"
   ]
  },
  {
   "cell_type": "code",
   "execution_count": 25,
   "metadata": {},
   "outputs": [
    {
     "name": "stderr",
     "output_type": "stream",
     "text": [
      "┌ Warning: `getindex(df::DataFrame, col_ind::ColumnIndex)` is deprecated, use `df[!, col_ind]` instead.\n",
      "│   caller = top-level scope at In[25]:3\n",
      "└ @ Core In[25]:3\n",
      "┌ Warning: `getindex(df::DataFrame, col_ind::ColumnIndex)` is deprecated, use `df[!, col_ind]` instead.\n",
      "│   caller = top-level scope at In[25]:4\n",
      "└ @ Core In[25]:4\n",
      "┌ Warning: `getindex(df::DataFrame, col_ind::ColumnIndex)` is deprecated, use `df[!, col_ind]` instead.\n",
      "│   caller = top-level scope at In[25]:5\n",
      "└ @ Core In[25]:5\n",
      "┌ Warning: `getindex(df::DataFrame, col_ind::ColumnIndex)` is deprecated, use `df[!, col_ind]` instead.\n",
      "│   caller = top-level scope at In[25]:6\n",
      "└ @ Core In[25]:6\n"
     ]
    },
    {
     "data": {
      "text/plain": [
       "15-element Array{Int64,1}:\n",
       "  1\n",
       "  7\n",
       "  8\n",
       "  4\n",
       "  5\n",
       "  5\n",
       "  7\n",
       "  1\n",
       " 12\n",
       " 44\n",
       " 23\n",
       "  1\n",
       "  8\n",
       "  7\n",
       "  7"
      ]
     },
     "execution_count": 25,
     "metadata": {},
     "output_type": "execute_result"
    }
   ],
   "source": []
  },
  {
   "cell_type": "code",
   "execution_count": 30,
   "metadata": {},
   "outputs": [],
   "source": [
    "using Lathe.models: LinearRegression, predict"
   ]
  },
  {
   "cell_type": "code",
   "execution_count": 31,
   "metadata": {},
   "outputs": [
    {
     "name": "stderr",
     "output_type": "stream",
     "text": [
      "┌ Warning: `getindex(df::DataFrame, col_ind::ColumnIndex)` is deprecated, use `df[!, col_ind]` instead.\n",
      "│   caller = top-level scope at In[31]:3\n",
      "└ @ Core In[31]:3\n",
      "┌ Warning: `getindex(df::DataFrame, col_ind::ColumnIndex)` is deprecated, use `df[!, col_ind]` instead.\n",
      "│   caller = top-level scope at In[31]:4\n",
      "└ @ Core In[31]:4\n",
      "┌ Warning: `getindex(df::DataFrame, col_ind::ColumnIndex)` is deprecated, use `df[!, col_ind]` instead.\n",
      "│   caller = top-level scope at In[31]:5\n",
      "└ @ Core In[31]:5\n",
      "┌ Warning: `getindex(df::DataFrame, col_ind::ColumnIndex)` is deprecated, use `df[!, col_ind]` instead.\n",
      "│   caller = top-level scope at In[31]:6\n",
      "└ @ Core In[31]:6\n"
     ]
    },
    {
     "name": "stdout",
     "output_type": "stream",
     "text": [
      "Correlation Coefficient of Regression: 100.00000000000027\n",
      "Mean Absolute Error: 3.222222222222221\n"
     ]
    }
   ],
   "source": [
    "using Lathe.preprocess: TrainTestSplit, StandardScalar\n",
    "train, test = TrainTestSplit(df)\n",
    "target = train[:a]\n",
    "feature = StandardScalar(train[:b])\n",
    "testx = StandardScalar(test[:b])\n",
    "validation = test[:a]\n",
    "model = LinearRegression(feature, target)\n",
    "yhat = predict(model, testx)\n",
    "using Lathe.validate: mae, r2\n",
    "println(\"Correlation Coefficient of Regression: \", r2(validation,yhat))\n",
    "println(\"Mean Absolute Error: \", mae(validation, yhat))"
   ]
  },
  {
   "cell_type": "code",
   "execution_count": null,
   "metadata": {},
   "outputs": [],
   "source": []
  }
 ],
 "metadata": {
  "kernelspec": {
   "display_name": "Julia 1.0.3",
   "language": "julia",
   "name": "julia-1.0"
  },
  "language_info": {
   "file_extension": ".jl",
   "mimetype": "application/julia",
   "name": "julia",
   "version": "1.0.3"
  }
 },
 "nbformat": 4,
 "nbformat_minor": 2
}
